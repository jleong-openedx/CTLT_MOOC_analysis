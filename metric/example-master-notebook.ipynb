{
 "cells": [
  {
   "cell_type": "markdown",
   "metadata": {},
   "source": [
    "# Master Notebook\n",
    "\n",
    "<p class=lead>This notebook executes the [template notebook](example-template-notebook.ipynb) passing different arguments.\n",
    "<p>\n",
    "\n",
    "## Boilerplate\n",
    "\n",
    "The module `nbrun.py` needs to be in the current folder (or otherwise importable):"
   ]
  },
  {
   "cell_type": "code",
   "execution_count": 19,
   "metadata": {
    "collapsed": false
   },
   "outputs": [],
   "source": [
    "from nbrun import run_notebook"
   ]
  },
  {
   "cell_type": "markdown",
   "metadata": {
    "collapsed": true
   },
   "source": [
    "## Execute notebooks"
   ]
  },
  {
   "cell_type": "code",
   "execution_count": 20,
   "metadata": {
    "collapsed": true
   },
   "outputs": [],
   "source": [
    "nb_name = 'testauto'"
   ]
  },
  {
   "cell_type": "code",
   "execution_count": 21,
   "metadata": {
    "collapsed": false
   },
   "outputs": [
    {
     "data": {
      "text/html": [
       "<a href='testauto.ipynb' target='_blank'>testauto.ipynb</a><br>"
      ],
      "text/plain": [
       "/home/justinleong/Desktop/CTLT_MOOC_analysis/metric/testauto.ipynb"
      ]
     },
     "metadata": {},
     "output_type": "display_data"
    },
    {
     "data": {
      "text/html": [
       "<a href='./assets/testauto-out_UBCx__China300_1x__1T2016.ipynb' target='_blank'>./assets/testauto-out_UBCx__China300_1x__1T2016.ipynb</a><br>"
      ],
      "text/plain": [
       "/home/justinleong/Desktop/CTLT_MOOC_analysis/metric/assets/testauto-out_UBCx__China300_1x__1T2016.ipynb"
      ]
     },
     "metadata": {},
     "output_type": "display_data"
    },
    {
     "data": {
      "text/html": [
       "<a href='testauto.ipynb' target='_blank'>testauto.ipynb</a><br>"
      ],
      "text/plain": [
       "/home/justinleong/Desktop/CTLT_MOOC_analysis/metric/testauto.ipynb"
      ]
     },
     "metadata": {},
     "output_type": "display_data"
    },
    {
     "data": {
      "text/html": [
       "<a href='./assets/testauto-out_UBCx__IndEdu200x__3T2015.ipynb' target='_blank'>./assets/testauto-out_UBCx__IndEdu200x__3T2015.ipynb</a><br>"
      ],
      "text/plain": [
       "/home/justinleong/Desktop/CTLT_MOOC_analysis/metric/assets/testauto-out_UBCx__IndEdu200x__3T2015.ipynb"
      ]
     },
     "metadata": {},
     "output_type": "display_data"
    },
    {
     "data": {
      "text/html": [
       "<a href='testauto.ipynb' target='_blank'>testauto.ipynb</a><br>"
      ],
      "text/plain": [
       "/home/justinleong/Desktop/CTLT_MOOC_analysis/metric/testauto.ipynb"
      ]
     },
     "metadata": {},
     "output_type": "display_data"
    },
    {
     "name": "stdout",
     "output_type": "stream",
     "text": [
      "Error executing the notebook \"testauto\".\n",
      "\n",
      "See notebook \"./assets/testauto-out_UBC__CIVL200__2015WA.ipynb\" for the traceback.\n"
     ]
    },
    {
     "data": {
      "text/html": [
       "<a href='./assets/testauto-out_UBC__CIVL200__2015WA.ipynb' target='_blank'>./assets/testauto-out_UBC__CIVL200__2015WA.ipynb</a><br>"
      ],
      "text/plain": [
       "/home/justinleong/Desktop/CTLT_MOOC_analysis/metric/assets/testauto-out_UBC__CIVL200__2015WA.ipynb"
      ]
     },
     "metadata": {},
     "output_type": "display_data"
    },
    {
     "name": "stdout",
     "output_type": "stream",
     "text": [
      "ayy\n"
     ]
    },
    {
     "data": {
      "text/html": [
       "<a href='testauto.ipynb' target='_blank'>testauto.ipynb</a><br>"
      ],
      "text/plain": [
       "/home/justinleong/Desktop/CTLT_MOOC_analysis/metric/testauto.ipynb"
      ]
     },
     "metadata": {},
     "output_type": "display_data"
    },
    {
     "name": "stdout",
     "output_type": "stream",
     "text": [
      "Error executing the notebook \"testauto\".\n",
      "\n",
      "See notebook \"./assets/testauto-out_UBC__CPEN211__1T2015.ipynb\" for the traceback.\n"
     ]
    },
    {
     "data": {
      "text/html": [
       "<a href='./assets/testauto-out_UBC__CPEN211__1T2015.ipynb' target='_blank'>./assets/testauto-out_UBC__CPEN211__1T2015.ipynb</a><br>"
      ],
      "text/plain": [
       "/home/justinleong/Desktop/CTLT_MOOC_analysis/metric/assets/testauto-out_UBC__CPEN211__1T2015.ipynb"
      ]
     },
     "metadata": {},
     "output_type": "display_data"
    },
    {
     "name": "stdout",
     "output_type": "stream",
     "text": [
      "ayy\n"
     ]
    },
    {
     "data": {
      "text/html": [
       "<a href='testauto.ipynb' target='_blank'>testauto.ipynb</a><br>"
      ],
      "text/plain": [
       "/home/justinleong/Desktop/CTLT_MOOC_analysis/metric/testauto.ipynb"
      ]
     },
     "metadata": {},
     "output_type": "display_data"
    },
    {
     "name": "stdout",
     "output_type": "stream",
     "text": [
      "Error executing the notebook \"testauto\".\n",
      "\n",
      "See notebook \"./assets/testauto-out_UBC__CPEN411__2015W1.ipynb\" for the traceback.\n"
     ]
    },
    {
     "data": {
      "text/html": [
       "<a href='./assets/testauto-out_UBC__CPEN411__2015W1.ipynb' target='_blank'>./assets/testauto-out_UBC__CPEN411__2015W1.ipynb</a><br>"
      ],
      "text/plain": [
       "/home/justinleong/Desktop/CTLT_MOOC_analysis/metric/assets/testauto-out_UBC__CPEN411__2015W1.ipynb"
      ]
     },
     "metadata": {},
     "output_type": "display_data"
    },
    {
     "name": "stdout",
     "output_type": "stream",
     "text": [
      "ayy\n"
     ]
    },
    {
     "data": {
      "text/html": [
       "<a href='testauto.ipynb' target='_blank'>testauto.ipynb</a><br>"
      ],
      "text/plain": [
       "/home/justinleong/Desktop/CTLT_MOOC_analysis/metric/testauto.ipynb"
      ]
     },
     "metadata": {},
     "output_type": "display_data"
    },
    {
     "data": {
      "text/html": [
       "<a href='./assets/testauto-out_UBC__CPSC110__2015W1.ipynb' target='_blank'>./assets/testauto-out_UBC__CPSC110__2015W1.ipynb</a><br>"
      ],
      "text/plain": [
       "/home/justinleong/Desktop/CTLT_MOOC_analysis/metric/assets/testauto-out_UBC__CPSC110__2015W1.ipynb"
      ]
     },
     "metadata": {},
     "output_type": "display_data"
    },
    {
     "data": {
      "text/html": [
       "<a href='testauto.ipynb' target='_blank'>testauto.ipynb</a><br>"
      ],
      "text/plain": [
       "/home/justinleong/Desktop/CTLT_MOOC_analysis/metric/testauto.ipynb"
      ]
     },
     "metadata": {},
     "output_type": "display_data"
    },
    {
     "data": {
      "text/html": [
       "<a href='./assets/testauto-out_UBC__IndEduSI1__2015_S1.ipynb' target='_blank'>./assets/testauto-out_UBC__IndEduSI1__2015_S1.ipynb</a><br>"
      ],
      "text/plain": [
       "/home/justinleong/Desktop/CTLT_MOOC_analysis/metric/assets/testauto-out_UBC__IndEduSI1__2015_S1.ipynb"
      ]
     },
     "metadata": {},
     "output_type": "display_data"
    },
    {
     "data": {
      "text/html": [
       "<a href='testauto.ipynb' target='_blank'>testauto.ipynb</a><br>"
      ],
      "text/plain": [
       "/home/justinleong/Desktop/CTLT_MOOC_analysis/metric/testauto.ipynb"
      ]
     },
     "metadata": {},
     "output_type": "display_data"
    },
    {
     "name": "stdout",
     "output_type": "stream",
     "text": [
      "Error executing the notebook \"testauto\".\n",
      "\n",
      "See notebook \"./assets/testauto-out_UBC__LAW281__2015W1.ipynb\" for the traceback.\n"
     ]
    },
    {
     "data": {
      "text/html": [
       "<a href='./assets/testauto-out_UBC__LAW281__2015W1.ipynb' target='_blank'>./assets/testauto-out_UBC__LAW281__2015W1.ipynb</a><br>"
      ],
      "text/plain": [
       "/home/justinleong/Desktop/CTLT_MOOC_analysis/metric/assets/testauto-out_UBC__LAW281__2015W1.ipynb"
      ]
     },
     "metadata": {},
     "output_type": "display_data"
    },
    {
     "name": "stdout",
     "output_type": "stream",
     "text": [
      "ayy\n"
     ]
    },
    {
     "data": {
      "text/html": [
       "<a href='testauto.ipynb' target='_blank'>testauto.ipynb</a><br>"
      ],
      "text/plain": [
       "/home/justinleong/Desktop/CTLT_MOOC_analysis/metric/testauto.ipynb"
      ]
     },
     "metadata": {},
     "output_type": "display_data"
    },
    {
     "name": "stdout",
     "output_type": "stream",
     "text": [
      "Error executing the notebook \"testauto\".\n",
      "\n",
      "See notebook \"./assets/testauto-out_UBC__PHYS546__2015W1.ipynb\" for the traceback.\n"
     ]
    },
    {
     "data": {
      "text/html": [
       "<a href='./assets/testauto-out_UBC__PHYS546__2015W1.ipynb' target='_blank'>./assets/testauto-out_UBC__PHYS546__2015W1.ipynb</a><br>"
      ],
      "text/plain": [
       "/home/justinleong/Desktop/CTLT_MOOC_analysis/metric/assets/testauto-out_UBC__PHYS546__2015W1.ipynb"
      ]
     },
     "metadata": {},
     "output_type": "display_data"
    },
    {
     "name": "stdout",
     "output_type": "stream",
     "text": [
      "ayy\n"
     ]
    },
    {
     "data": {
      "text/html": [
       "<a href='testauto.ipynb' target='_blank'>testauto.ipynb</a><br>"
      ],
      "text/plain": [
       "/home/justinleong/Desktop/CTLT_MOOC_analysis/metric/testauto.ipynb"
      ]
     },
     "metadata": {},
     "output_type": "display_data"
    },
    {
     "name": "stdout",
     "output_type": "stream",
     "text": [
      "Error executing the notebook \"testauto\".\n",
      "\n",
      "See notebook \"./assets/testauto-out_UBCx__BlendedLearning101__2015.ipynb\" for the traceback.\n"
     ]
    },
    {
     "data": {
      "text/html": [
       "<a href='./assets/testauto-out_UBCx__BlendedLearning101__2015.ipynb' target='_blank'>./assets/testauto-out_UBCx__BlendedLearning101__2015.ipynb</a><br>"
      ],
      "text/plain": [
       "/home/justinleong/Desktop/CTLT_MOOC_analysis/metric/assets/testauto-out_UBCx__BlendedLearning101__2015.ipynb"
      ]
     },
     "metadata": {},
     "output_type": "display_data"
    },
    {
     "name": "stdout",
     "output_type": "stream",
     "text": [
      "ayy\n"
     ]
    },
    {
     "data": {
      "text/html": [
       "<a href='testauto.ipynb' target='_blank'>testauto.ipynb</a><br>"
      ],
      "text/plain": [
       "/home/justinleong/Desktop/CTLT_MOOC_analysis/metric/testauto.ipynb"
      ]
     },
     "metadata": {},
     "output_type": "display_data"
    },
    {
     "name": "stdout",
     "output_type": "stream",
     "text": [
      "Error executing the notebook \"testauto\".\n",
      "\n",
      "See notebook \"./assets/testauto-out_UBCx__CIVL498A__2015W1.ipynb\" for the traceback.\n"
     ]
    },
    {
     "data": {
      "text/html": [
       "<a href='./assets/testauto-out_UBCx__CIVL498A__2015W1.ipynb' target='_blank'>./assets/testauto-out_UBCx__CIVL498A__2015W1.ipynb</a><br>"
      ],
      "text/plain": [
       "/home/justinleong/Desktop/CTLT_MOOC_analysis/metric/assets/testauto-out_UBCx__CIVL498A__2015W1.ipynb"
      ]
     },
     "metadata": {},
     "output_type": "display_data"
    },
    {
     "name": "stdout",
     "output_type": "stream",
     "text": [
      "ayy\n"
     ]
    },
    {
     "data": {
      "text/html": [
       "<a href='testauto.ipynb' target='_blank'>testauto.ipynb</a><br>"
      ],
      "text/plain": [
       "/home/justinleong/Desktop/CTLT_MOOC_analysis/metric/testauto.ipynb"
      ]
     },
     "metadata": {},
     "output_type": "display_data"
    },
    {
     "name": "stdout",
     "output_type": "stream",
     "text": [
      "Error executing the notebook \"testauto\".\n",
      "\n",
      "See notebook \"./assets/testauto-out_UBCx__CLSx__2015.ipynb\" for the traceback.\n"
     ]
    },
    {
     "data": {
      "text/html": [
       "<a href='./assets/testauto-out_UBCx__CLSx__2015.ipynb' target='_blank'>./assets/testauto-out_UBCx__CLSx__2015.ipynb</a><br>"
      ],
      "text/plain": [
       "/home/justinleong/Desktop/CTLT_MOOC_analysis/metric/assets/testauto-out_UBCx__CLSx__2015.ipynb"
      ]
     },
     "metadata": {},
     "output_type": "display_data"
    },
    {
     "name": "stdout",
     "output_type": "stream",
     "text": [
      "ayy\n"
     ]
    },
    {
     "data": {
      "text/html": [
       "<a href='testauto.ipynb' target='_blank'>testauto.ipynb</a><br>"
      ],
      "text/plain": [
       "/home/justinleong/Desktop/CTLT_MOOC_analysis/metric/testauto.ipynb"
      ]
     },
     "metadata": {},
     "output_type": "display_data"
    },
    {
     "name": "stdout",
     "output_type": "stream",
     "text": [
      "Error executing the notebook \"testauto\".\n",
      "\n",
      "See notebook \"./assets/testauto-out_UBCx__EECE259__2015.ipynb\" for the traceback.\n"
     ]
    },
    {
     "data": {
      "text/html": [
       "<a href='./assets/testauto-out_UBCx__EECE259__2015.ipynb' target='_blank'>./assets/testauto-out_UBCx__EECE259__2015.ipynb</a><br>"
      ],
      "text/plain": [
       "/home/justinleong/Desktop/CTLT_MOOC_analysis/metric/assets/testauto-out_UBCx__EECE259__2015.ipynb"
      ]
     },
     "metadata": {},
     "output_type": "display_data"
    },
    {
     "name": "stdout",
     "output_type": "stream",
     "text": [
      "ayy\n"
     ]
    },
    {
     "data": {
      "text/html": [
       "<a href='testauto.ipynb' target='_blank'>testauto.ipynb</a><br>"
      ],
      "text/plain": [
       "/home/justinleong/Desktop/CTLT_MOOC_analysis/metric/testauto.ipynb"
      ]
     },
     "metadata": {},
     "output_type": "display_data"
    },
    {
     "name": "stdout",
     "output_type": "stream",
     "text": [
      "Error executing the notebook \"testauto\".\n",
      "\n",
      "See notebook \"./assets/testauto-out_UBCx__EECE311Sec001__2015W1.ipynb\" for the traceback.\n"
     ]
    },
    {
     "data": {
      "text/html": [
       "<a href='./assets/testauto-out_UBCx__EECE311Sec001__2015W1.ipynb' target='_blank'>./assets/testauto-out_UBCx__EECE311Sec001__2015W1.ipynb</a><br>"
      ],
      "text/plain": [
       "/home/justinleong/Desktop/CTLT_MOOC_analysis/metric/assets/testauto-out_UBCx__EECE311Sec001__2015W1.ipynb"
      ]
     },
     "metadata": {},
     "output_type": "display_data"
    },
    {
     "name": "stdout",
     "output_type": "stream",
     "text": [
      "ayy\n"
     ]
    },
    {
     "data": {
      "text/html": [
       "<a href='testauto.ipynb' target='_blank'>testauto.ipynb</a><br>"
      ],
      "text/plain": [
       "/home/justinleong/Desktop/CTLT_MOOC_analysis/metric/testauto.ipynb"
      ]
     },
     "metadata": {},
     "output_type": "display_data"
    },
    {
     "name": "stdout",
     "output_type": "stream",
     "text": [
      "Error executing the notebook \"testauto\".\n",
      "\n",
      "See notebook \"./assets/testauto-out_UBCx__ETEC565a_b__2015.ipynb\" for the traceback.\n"
     ]
    },
    {
     "data": {
      "text/html": [
       "<a href='./assets/testauto-out_UBCx__ETEC565a_b__2015.ipynb' target='_blank'>./assets/testauto-out_UBCx__ETEC565a_b__2015.ipynb</a><br>"
      ],
      "text/plain": [
       "/home/justinleong/Desktop/CTLT_MOOC_analysis/metric/assets/testauto-out_UBCx__ETEC565a_b__2015.ipynb"
      ]
     },
     "metadata": {},
     "output_type": "display_data"
    },
    {
     "name": "stdout",
     "output_type": "stream",
     "text": [
      "ayy\n"
     ]
    },
    {
     "data": {
      "text/html": [
       "<a href='testauto.ipynb' target='_blank'>testauto.ipynb</a><br>"
      ],
      "text/plain": [
       "/home/justinleong/Desktop/CTLT_MOOC_analysis/metric/testauto.ipynb"
      ]
     },
     "metadata": {},
     "output_type": "display_data"
    },
    {
     "name": "stdout",
     "output_type": "stream",
     "text": [
      "Error executing the notebook \"testauto\".\n",
      "\n",
      "See notebook \"./assets/testauto-out_UBCx__ISB1__2015.ipynb\" for the traceback.\n"
     ]
    },
    {
     "data": {
      "text/html": [
       "<a href='./assets/testauto-out_UBCx__ISB1__2015.ipynb' target='_blank'>./assets/testauto-out_UBCx__ISB1__2015.ipynb</a><br>"
      ],
      "text/plain": [
       "/home/justinleong/Desktop/CTLT_MOOC_analysis/metric/assets/testauto-out_UBCx__ISB1__2015.ipynb"
      ]
     },
     "metadata": {},
     "output_type": "display_data"
    },
    {
     "name": "stdout",
     "output_type": "stream",
     "text": [
      "ayy\n"
     ]
    },
    {
     "data": {
      "text/html": [
       "<a href='testauto.ipynb' target='_blank'>testauto.ipynb</a><br>"
      ],
      "text/plain": [
       "/home/justinleong/Desktop/CTLT_MOOC_analysis/metric/testauto.ipynb"
      ]
     },
     "metadata": {},
     "output_type": "display_data"
    },
    {
     "name": "stdout",
     "output_type": "stream",
     "text": [
      "Error executing the notebook \"testauto\".\n",
      "\n",
      "See notebook \"./assets/testauto-out_UBCx__ITSx__2015.ipynb\" for the traceback.\n"
     ]
    },
    {
     "data": {
      "text/html": [
       "<a href='./assets/testauto-out_UBCx__ITSx__2015.ipynb' target='_blank'>./assets/testauto-out_UBCx__ITSx__2015.ipynb</a><br>"
      ],
      "text/plain": [
       "/home/justinleong/Desktop/CTLT_MOOC_analysis/metric/assets/testauto-out_UBCx__ITSx__2015.ipynb"
      ]
     },
     "metadata": {},
     "output_type": "display_data"
    },
    {
     "name": "stdout",
     "output_type": "stream",
     "text": [
      "ayy\n"
     ]
    },
    {
     "data": {
      "text/html": [
       "<a href='testauto.ipynb' target='_blank'>testauto.ipynb</a><br>"
      ],
      "text/plain": [
       "/home/justinleong/Desktop/CTLT_MOOC_analysis/metric/testauto.ipynb"
      ]
     },
     "metadata": {},
     "output_type": "display_data"
    },
    {
     "name": "stdout",
     "output_type": "stream",
     "text": [
      "Error executing the notebook \"testauto\".\n",
      "\n",
      "See notebook \"./assets/testauto-out_UBCx__LIBR_ITL__2015.ipynb\" for the traceback.\n"
     ]
    },
    {
     "data": {
      "text/html": [
       "<a href='./assets/testauto-out_UBCx__LIBR_ITL__2015.ipynb' target='_blank'>./assets/testauto-out_UBCx__LIBR_ITL__2015.ipynb</a><br>"
      ],
      "text/plain": [
       "/home/justinleong/Desktop/CTLT_MOOC_analysis/metric/assets/testauto-out_UBCx__LIBR_ITL__2015.ipynb"
      ]
     },
     "metadata": {},
     "output_type": "display_data"
    },
    {
     "name": "stdout",
     "output_type": "stream",
     "text": [
      "ayy\n"
     ]
    },
    {
     "data": {
      "text/html": [
       "<a href='testauto.ipynb' target='_blank'>testauto.ipynb</a><br>"
      ],
      "text/plain": [
       "/home/justinleong/Desktop/CTLT_MOOC_analysis/metric/testauto.ipynb"
      ]
     },
     "metadata": {},
     "output_type": "display_data"
    },
    {
     "name": "stdout",
     "output_type": "stream",
     "text": [
      "Error executing the notebook \"testauto\".\n",
      "\n",
      "See notebook \"./assets/testauto-out_UBCx__MS101__2015_T1.ipynb\" for the traceback.\n"
     ]
    },
    {
     "data": {
      "text/html": [
       "<a href='./assets/testauto-out_UBCx__MS101__2015_T1.ipynb' target='_blank'>./assets/testauto-out_UBCx__MS101__2015_T1.ipynb</a><br>"
      ],
      "text/plain": [
       "/home/justinleong/Desktop/CTLT_MOOC_analysis/metric/assets/testauto-out_UBCx__MS101__2015_T1.ipynb"
      ]
     },
     "metadata": {},
     "output_type": "display_data"
    },
    {
     "name": "stdout",
     "output_type": "stream",
     "text": [
      "ayy\n"
     ]
    },
    {
     "data": {
      "text/html": [
       "<a href='testauto.ipynb' target='_blank'>testauto.ipynb</a><br>"
      ],
      "text/plain": [
       "/home/justinleong/Desktop/CTLT_MOOC_analysis/metric/testauto.ipynb"
      ]
     },
     "metadata": {},
     "output_type": "display_data"
    },
    {
     "name": "stdout",
     "output_type": "stream",
     "text": [
      "Error executing the notebook \"testauto\".\n",
      "\n",
      "See notebook \"./assets/testauto-out_UBCx__NJR101__2015W2.ipynb\" for the traceback.\n"
     ]
    },
    {
     "data": {
      "text/html": [
       "<a href='./assets/testauto-out_UBCx__NJR101__2015W2.ipynb' target='_blank'>./assets/testauto-out_UBCx__NJR101__2015W2.ipynb</a><br>"
      ],
      "text/plain": [
       "/home/justinleong/Desktop/CTLT_MOOC_analysis/metric/assets/testauto-out_UBCx__NJR101__2015W2.ipynb"
      ]
     },
     "metadata": {},
     "output_type": "display_data"
    },
    {
     "name": "stdout",
     "output_type": "stream",
     "text": [
      "ayy\n"
     ]
    },
    {
     "data": {
      "text/html": [
       "<a href='testauto.ipynb' target='_blank'>testauto.ipynb</a><br>"
      ],
      "text/plain": [
       "/home/justinleong/Desktop/CTLT_MOOC_analysis/metric/testauto.ipynb"
      ]
     },
     "metadata": {},
     "output_type": "display_data"
    },
    {
     "data": {
      "text/html": [
       "<a href='./assets/testauto-out_UBCx__PHYS100__2015W1.ipynb' target='_blank'>./assets/testauto-out_UBCx__PHYS100__2015W1.ipynb</a><br>"
      ],
      "text/plain": [
       "/home/justinleong/Desktop/CTLT_MOOC_analysis/metric/assets/testauto-out_UBCx__PHYS100__2015W1.ipynb"
      ]
     },
     "metadata": {},
     "output_type": "display_data"
    },
    {
     "data": {
      "text/html": [
       "<a href='testauto.ipynb' target='_blank'>testauto.ipynb</a><br>"
      ],
      "text/plain": [
       "/home/justinleong/Desktop/CTLT_MOOC_analysis/metric/testauto.ipynb"
      ]
     },
     "metadata": {},
     "output_type": "display_data"
    },
    {
     "name": "stdout",
     "output_type": "stream",
     "text": [
      "Error executing the notebook \"testauto\".\n",
      "\n",
      "See notebook \"./assets/testauto-out_UBCx__POLI360A_003__2015W1.ipynb\" for the traceback.\n"
     ]
    },
    {
     "data": {
      "text/html": [
       "<a href='./assets/testauto-out_UBCx__POLI360A_003__2015W1.ipynb' target='_blank'>./assets/testauto-out_UBCx__POLI360A_003__2015W1.ipynb</a><br>"
      ],
      "text/plain": [
       "/home/justinleong/Desktop/CTLT_MOOC_analysis/metric/assets/testauto-out_UBCx__POLI360A_003__2015W1.ipynb"
      ]
     },
     "metadata": {},
     "output_type": "display_data"
    },
    {
     "name": "stdout",
     "output_type": "stream",
     "text": [
      "ayy\n"
     ]
    },
    {
     "data": {
      "text/html": [
       "<a href='testauto.ipynb' target='_blank'>testauto.ipynb</a><br>"
      ],
      "text/plain": [
       "/home/justinleong/Desktop/CTLT_MOOC_analysis/metric/testauto.ipynb"
      ]
     },
     "metadata": {},
     "output_type": "display_data"
    },
    {
     "name": "stdout",
     "output_type": "stream",
     "text": [
      "Error executing the notebook \"testauto\".\n",
      "\n",
      "See notebook \"./assets/testauto-out_UBCx__POLI369T__2015W1.ipynb\" for the traceback.\n"
     ]
    },
    {
     "data": {
      "text/html": [
       "<a href='./assets/testauto-out_UBCx__POLI369T__2015W1.ipynb' target='_blank'>./assets/testauto-out_UBCx__POLI369T__2015W1.ipynb</a><br>"
      ],
      "text/plain": [
       "/home/justinleong/Desktop/CTLT_MOOC_analysis/metric/assets/testauto-out_UBCx__POLI369T__2015W1.ipynb"
      ]
     },
     "metadata": {},
     "output_type": "display_data"
    },
    {
     "name": "stdout",
     "output_type": "stream",
     "text": [
      "ayy\n"
     ]
    },
    {
     "data": {
      "text/html": [
       "<a href='testauto.ipynb' target='_blank'>testauto.ipynb</a><br>"
      ],
      "text/plain": [
       "/home/justinleong/Desktop/CTLT_MOOC_analysis/metric/testauto.ipynb"
      ]
     },
     "metadata": {},
     "output_type": "display_data"
    },
    {
     "name": "stdout",
     "output_type": "stream",
     "text": [
      "Error executing the notebook \"testauto\".\n",
      "\n",
      "See notebook \"./assets/testauto-out_UBCx__POLI377APSC377__2015W1.ipynb\" for the traceback.\n"
     ]
    },
    {
     "data": {
      "text/html": [
       "<a href='./assets/testauto-out_UBCx__POLI377APSC377__2015W1.ipynb' target='_blank'>./assets/testauto-out_UBCx__POLI377APSC377__2015W1.ipynb</a><br>"
      ],
      "text/plain": [
       "/home/justinleong/Desktop/CTLT_MOOC_analysis/metric/assets/testauto-out_UBCx__POLI377APSC377__2015W1.ipynb"
      ]
     },
     "metadata": {},
     "output_type": "display_data"
    },
    {
     "name": "stdout",
     "output_type": "stream",
     "text": [
      "ayy\n"
     ]
    },
    {
     "data": {
      "text/html": [
       "<a href='testauto.ipynb' target='_blank'>testauto.ipynb</a><br>"
      ],
      "text/plain": [
       "/home/justinleong/Desktop/CTLT_MOOC_analysis/metric/testauto.ipynb"
      ]
     },
     "metadata": {},
     "output_type": "display_data"
    },
    {
     "name": "stdout",
     "output_type": "stream",
     "text": [
      "Error executing the notebook \"testauto\".\n",
      "\n",
      "See notebook \"./assets/testauto-out_UBCx__PSYC101__2015W1.ipynb\" for the traceback.\n"
     ]
    },
    {
     "data": {
      "text/html": [
       "<a href='./assets/testauto-out_UBCx__PSYC101__2015W1.ipynb' target='_blank'>./assets/testauto-out_UBCx__PSYC101__2015W1.ipynb</a><br>"
      ],
      "text/plain": [
       "/home/justinleong/Desktop/CTLT_MOOC_analysis/metric/assets/testauto-out_UBCx__PSYC101__2015W1.ipynb"
      ]
     },
     "metadata": {},
     "output_type": "display_data"
    },
    {
     "name": "stdout",
     "output_type": "stream",
     "text": [
      "ayy\n"
     ]
    },
    {
     "data": {
      "text/html": [
       "<a href='testauto.ipynb' target='_blank'>testauto.ipynb</a><br>"
      ],
      "text/plain": [
       "/home/justinleong/Desktop/CTLT_MOOC_analysis/metric/testauto.ipynb"
      ]
     },
     "metadata": {},
     "output_type": "display_data"
    },
    {
     "name": "stdout",
     "output_type": "stream",
     "text": [
      "Error executing the notebook \"testauto\".\n",
      "\n",
      "See notebook \"./assets/testauto-out_UBCx__PSYCx__2015.ipynb\" for the traceback.\n"
     ]
    },
    {
     "data": {
      "text/html": [
       "<a href='./assets/testauto-out_UBCx__PSYCx__2015.ipynb' target='_blank'>./assets/testauto-out_UBCx__PSYCx__2015.ipynb</a><br>"
      ],
      "text/plain": [
       "/home/justinleong/Desktop/CTLT_MOOC_analysis/metric/assets/testauto-out_UBCx__PSYCx__2015.ipynb"
      ]
     },
     "metadata": {},
     "output_type": "display_data"
    },
    {
     "name": "stdout",
     "output_type": "stream",
     "text": [
      "ayy\n"
     ]
    },
    {
     "data": {
      "text/html": [
       "<a href='testauto.ipynb' target='_blank'>testauto.ipynb</a><br>"
      ],
      "text/plain": [
       "/home/justinleong/Desktop/CTLT_MOOC_analysis/metric/testauto.ipynb"
      ]
     },
     "metadata": {},
     "output_type": "display_data"
    },
    {
     "name": "stdout",
     "output_type": "stream",
     "text": [
      "Error executing the notebook \"testauto\".\n",
      "\n",
      "See notebook \"./assets/testauto-out_UBCx__URO__2015.ipynb\" for the traceback.\n"
     ]
    },
    {
     "data": {
      "text/html": [
       "<a href='./assets/testauto-out_UBCx__URO__2015.ipynb' target='_blank'>./assets/testauto-out_UBCx__URO__2015.ipynb</a><br>"
      ],
      "text/plain": [
       "/home/justinleong/Desktop/CTLT_MOOC_analysis/metric/assets/testauto-out_UBCx__URO__2015.ipynb"
      ]
     },
     "metadata": {},
     "output_type": "display_data"
    },
    {
     "name": "stdout",
     "output_type": "stream",
     "text": [
      "ayy\n"
     ]
    },
    {
     "data": {
      "text/html": [
       "<a href='testauto.ipynb' target='_blank'>testauto.ipynb</a><br>"
      ],
      "text/plain": [
       "/home/justinleong/Desktop/CTLT_MOOC_analysis/metric/testauto.ipynb"
      ]
     },
     "metadata": {},
     "output_type": "display_data"
    },
    {
     "name": "stdout",
     "output_type": "stream",
     "text": [
      "Error executing the notebook \"testauto\".\n",
      "\n",
      "See notebook \"./assets/testauto-out_UBCx__UsefulGeneticsx__2015W1.ipynb\" for the traceback.\n"
     ]
    },
    {
     "data": {
      "text/html": [
       "<a href='./assets/testauto-out_UBCx__UsefulGeneticsx__2015W1.ipynb' target='_blank'>./assets/testauto-out_UBCx__UsefulGeneticsx__2015W1.ipynb</a><br>"
      ],
      "text/plain": [
       "/home/justinleong/Desktop/CTLT_MOOC_analysis/metric/assets/testauto-out_UBCx__UsefulGeneticsx__2015W1.ipynb"
      ]
     },
     "metadata": {},
     "output_type": "display_data"
    },
    {
     "name": "stdout",
     "output_type": "stream",
     "text": [
      "ayy\n"
     ]
    },
    {
     "data": {
      "text/html": [
       "<a href='testauto.ipynb' target='_blank'>testauto.ipynb</a><br>"
      ],
      "text/plain": [
       "/home/justinleong/Desktop/CTLT_MOOC_analysis/metric/testauto.ipynb"
      ]
     },
     "metadata": {},
     "output_type": "display_data"
    },
    {
     "name": "stdout",
     "output_type": "stream",
     "text": [
      "Error executing the notebook \"testauto\".\n",
      "\n",
      "See notebook \"./assets/testauto-out_UBCx__CPEN221__2015W1.ipynb\" for the traceback.\n"
     ]
    },
    {
     "data": {
      "text/html": [
       "<a href='./assets/testauto-out_UBCx__CPEN221__2015W1.ipynb' target='_blank'>./assets/testauto-out_UBCx__CPEN221__2015W1.ipynb</a><br>"
      ],
      "text/plain": [
       "/home/justinleong/Desktop/CTLT_MOOC_analysis/metric/assets/testauto-out_UBCx__CPEN221__2015W1.ipynb"
      ]
     },
     "metadata": {},
     "output_type": "display_data"
    },
    {
     "name": "stdout",
     "output_type": "stream",
     "text": [
      "ayy\n"
     ]
    },
    {
     "data": {
      "text/html": [
       "<a href='testauto.ipynb' target='_blank'>testauto.ipynb</a><br>"
      ],
      "text/plain": [
       "/home/justinleong/Desktop/CTLT_MOOC_analysis/metric/testauto.ipynb"
      ]
     },
     "metadata": {},
     "output_type": "display_data"
    },
    {
     "name": "stdout",
     "output_type": "stream",
     "text": [
      "Error executing the notebook \"testauto\".\n",
      "\n",
      "See notebook \"./assets/testauto-out_UBC__CPSC210__2015W2.ipynb\" for the traceback.\n"
     ]
    },
    {
     "data": {
      "text/html": [
       "<a href='./assets/testauto-out_UBC__CPSC210__2015W2.ipynb' target='_blank'>./assets/testauto-out_UBC__CPSC210__2015W2.ipynb</a><br>"
      ],
      "text/plain": [
       "/home/justinleong/Desktop/CTLT_MOOC_analysis/metric/assets/testauto-out_UBC__CPSC210__2015W2.ipynb"
      ]
     },
     "metadata": {},
     "output_type": "display_data"
    },
    {
     "name": "stdout",
     "output_type": "stream",
     "text": [
      "ayy\n"
     ]
    },
    {
     "data": {
      "text/html": [
       "<a href='testauto.ipynb' target='_blank'>testauto.ipynb</a><br>"
      ],
      "text/plain": [
       "/home/justinleong/Desktop/CTLT_MOOC_analysis/metric/testauto.ipynb"
      ]
     },
     "metadata": {},
     "output_type": "display_data"
    },
    {
     "name": "stdout",
     "output_type": "stream",
     "text": [
      "Error executing the notebook \"testauto\".\n",
      "\n",
      "See notebook \"./assets/testauto-out_UBCx__TOC01__2015W2.ipynb\" for the traceback.\n"
     ]
    },
    {
     "data": {
      "text/html": [
       "<a href='./assets/testauto-out_UBCx__TOC01__2015W2.ipynb' target='_blank'>./assets/testauto-out_UBCx__TOC01__2015W2.ipynb</a><br>"
      ],
      "text/plain": [
       "/home/justinleong/Desktop/CTLT_MOOC_analysis/metric/assets/testauto-out_UBCx__TOC01__2015W2.ipynb"
      ]
     },
     "metadata": {},
     "output_type": "display_data"
    },
    {
     "name": "stdout",
     "output_type": "stream",
     "text": [
      "ayy\n"
     ]
    },
    {
     "data": {
      "text/html": [
       "<a href='testauto.ipynb' target='_blank'>testauto.ipynb</a><br>"
      ],
      "text/plain": [
       "/home/justinleong/Desktop/CTLT_MOOC_analysis/metric/testauto.ipynb"
      ]
     },
     "metadata": {},
     "output_type": "display_data"
    },
    {
     "name": "stdout",
     "output_type": "stream",
     "text": [
      "Error executing the notebook \"testauto\".\n",
      "\n",
      "See notebook \"./assets/testauto-out_UBC__ELEC413__201__2015W2.ipynb\" for the traceback.\n"
     ]
    },
    {
     "data": {
      "text/html": [
       "<a href='./assets/testauto-out_UBC__ELEC413__201__2015W2.ipynb' target='_blank'>./assets/testauto-out_UBC__ELEC413__201__2015W2.ipynb</a><br>"
      ],
      "text/plain": [
       "/home/justinleong/Desktop/CTLT_MOOC_analysis/metric/assets/testauto-out_UBC__ELEC413__201__2015W2.ipynb"
      ]
     },
     "metadata": {},
     "output_type": "display_data"
    },
    {
     "name": "stdout",
     "output_type": "stream",
     "text": [
      "ayy\n"
     ]
    },
    {
     "data": {
      "text/html": [
       "<a href='testauto.ipynb' target='_blank'>testauto.ipynb</a><br>"
      ],
      "text/plain": [
       "/home/justinleong/Desktop/CTLT_MOOC_analysis/metric/testauto.ipynb"
      ]
     },
     "metadata": {},
     "output_type": "display_data"
    },
    {
     "name": "stdout",
     "output_type": "stream",
     "text": [
      "Error executing the notebook \"testauto\".\n",
      "\n",
      "See notebook \"./assets/testauto-out_UBC__ELEC463__201__2015W2.ipynb\" for the traceback.\n"
     ]
    },
    {
     "data": {
      "text/html": [
       "<a href='./assets/testauto-out_UBC__ELEC463__201__2015W2.ipynb' target='_blank'>./assets/testauto-out_UBC__ELEC463__201__2015W2.ipynb</a><br>"
      ],
      "text/plain": [
       "/home/justinleong/Desktop/CTLT_MOOC_analysis/metric/assets/testauto-out_UBC__ELEC463__201__2015W2.ipynb"
      ]
     },
     "metadata": {},
     "output_type": "display_data"
    },
    {
     "name": "stdout",
     "output_type": "stream",
     "text": [
      "ayy\n"
     ]
    },
    {
     "data": {
      "text/html": [
       "<a href='testauto.ipynb' target='_blank'>testauto.ipynb</a><br>"
      ],
      "text/plain": [
       "/home/justinleong/Desktop/CTLT_MOOC_analysis/metric/testauto.ipynb"
      ]
     },
     "metadata": {},
     "output_type": "display_data"
    },
    {
     "name": "stdout",
     "output_type": "stream",
     "text": [
      "Error executing the notebook \"testauto\".\n",
      "\n",
      "See notebook \"./assets/testauto-out_UBC__FSP_01__2015W2.ipynb\" for the traceback.\n"
     ]
    },
    {
     "data": {
      "text/html": [
       "<a href='./assets/testauto-out_UBC__FSP_01__2015W2.ipynb' target='_blank'>./assets/testauto-out_UBC__FSP_01__2015W2.ipynb</a><br>"
      ],
      "text/plain": [
       "/home/justinleong/Desktop/CTLT_MOOC_analysis/metric/assets/testauto-out_UBC__FSP_01__2015W2.ipynb"
      ]
     },
     "metadata": {},
     "output_type": "display_data"
    },
    {
     "name": "stdout",
     "output_type": "stream",
     "text": [
      "ayy\n"
     ]
    },
    {
     "data": {
      "text/html": [
       "<a href='testauto.ipynb' target='_blank'>testauto.ipynb</a><br>"
      ],
      "text/plain": [
       "/home/justinleong/Desktop/CTLT_MOOC_analysis/metric/testauto.ipynb"
      ]
     },
     "metadata": {},
     "output_type": "display_data"
    },
    {
     "name": "stdout",
     "output_type": "stream",
     "text": [
      "Error executing the notebook \"testauto\".\n",
      "\n",
      "See notebook \"./assets/testauto-out_UBC__APFN0001__2015W2.ipynb\" for the traceback.\n"
     ]
    },
    {
     "data": {
      "text/html": [
       "<a href='./assets/testauto-out_UBC__APFN0001__2015W2.ipynb' target='_blank'>./assets/testauto-out_UBC__APFN0001__2015W2.ipynb</a><br>"
      ],
      "text/plain": [
       "/home/justinleong/Desktop/CTLT_MOOC_analysis/metric/assets/testauto-out_UBC__APFN0001__2015W2.ipynb"
      ]
     },
     "metadata": {},
     "output_type": "display_data"
    },
    {
     "name": "stdout",
     "output_type": "stream",
     "text": [
      "ayy\n"
     ]
    },
    {
     "data": {
      "text/html": [
       "<a href='testauto.ipynb' target='_blank'>testauto.ipynb</a><br>"
      ],
      "text/plain": [
       "/home/justinleong/Desktop/CTLT_MOOC_analysis/metric/testauto.ipynb"
      ]
     },
     "metadata": {},
     "output_type": "display_data"
    },
    {
     "name": "stdout",
     "output_type": "stream",
     "text": [
      "Error executing the notebook \"testauto\".\n",
      "\n",
      "See notebook \"./assets/testauto-out_UBC__APFN0002__2015W2.ipynb\" for the traceback.\n"
     ]
    },
    {
     "data": {
      "text/html": [
       "<a href='./assets/testauto-out_UBC__APFN0002__2015W2.ipynb' target='_blank'>./assets/testauto-out_UBC__APFN0002__2015W2.ipynb</a><br>"
      ],
      "text/plain": [
       "/home/justinleong/Desktop/CTLT_MOOC_analysis/metric/assets/testauto-out_UBC__APFN0002__2015W2.ipynb"
      ]
     },
     "metadata": {},
     "output_type": "display_data"
    },
    {
     "name": "stdout",
     "output_type": "stream",
     "text": [
      "ayy\n"
     ]
    },
    {
     "data": {
      "text/html": [
       "<a href='testauto.ipynb' target='_blank'>testauto.ipynb</a><br>"
      ],
      "text/plain": [
       "/home/justinleong/Desktop/CTLT_MOOC_analysis/metric/testauto.ipynb"
      ]
     },
     "metadata": {},
     "output_type": "display_data"
    },
    {
     "name": "stdout",
     "output_type": "stream",
     "text": [
      "Error executing the notebook \"testauto\".\n",
      "\n",
      "See notebook \"./assets/testauto-out_UBC__APFN0003__2015W2.ipynb\" for the traceback.\n"
     ]
    },
    {
     "data": {
      "text/html": [
       "<a href='./assets/testauto-out_UBC__APFN0003__2015W2.ipynb' target='_blank'>./assets/testauto-out_UBC__APFN0003__2015W2.ipynb</a><br>"
      ],
      "text/plain": [
       "/home/justinleong/Desktop/CTLT_MOOC_analysis/metric/assets/testauto-out_UBC__APFN0003__2015W2.ipynb"
      ]
     },
     "metadata": {},
     "output_type": "display_data"
    },
    {
     "name": "stdout",
     "output_type": "stream",
     "text": [
      "ayy\n"
     ]
    },
    {
     "data": {
      "text/html": [
       "<a href='testauto.ipynb' target='_blank'>testauto.ipynb</a><br>"
      ],
      "text/plain": [
       "/home/justinleong/Desktop/CTLT_MOOC_analysis/metric/testauto.ipynb"
      ]
     },
     "metadata": {},
     "output_type": "display_data"
    },
    {
     "name": "stdout",
     "output_type": "stream",
     "text": [
      "Error executing the notebook \"testauto\".\n",
      "\n",
      "See notebook \"./assets/testauto-out_UBC__APFN0004__2015W2.ipynb\" for the traceback.\n"
     ]
    },
    {
     "data": {
      "text/html": [
       "<a href='./assets/testauto-out_UBC__APFN0004__2015W2.ipynb' target='_blank'>./assets/testauto-out_UBC__APFN0004__2015W2.ipynb</a><br>"
      ],
      "text/plain": [
       "/home/justinleong/Desktop/CTLT_MOOC_analysis/metric/assets/testauto-out_UBC__APFN0004__2015W2.ipynb"
      ]
     },
     "metadata": {},
     "output_type": "display_data"
    },
    {
     "name": "stdout",
     "output_type": "stream",
     "text": [
      "ayy\n"
     ]
    },
    {
     "data": {
      "text/html": [
       "<a href='testauto.ipynb' target='_blank'>testauto.ipynb</a><br>"
      ],
      "text/plain": [
       "/home/justinleong/Desktop/CTLT_MOOC_analysis/metric/testauto.ipynb"
      ]
     },
     "metadata": {},
     "output_type": "display_data"
    },
    {
     "name": "stdout",
     "output_type": "stream",
     "text": [
      "Error executing the notebook \"testauto\".\n",
      "\n",
      "See notebook \"./assets/testauto-out_UBC__APFN0005__2015W2.ipynb\" for the traceback.\n"
     ]
    },
    {
     "data": {
      "text/html": [
       "<a href='./assets/testauto-out_UBC__APFN0005__2015W2.ipynb' target='_blank'>./assets/testauto-out_UBC__APFN0005__2015W2.ipynb</a><br>"
      ],
      "text/plain": [
       "/home/justinleong/Desktop/CTLT_MOOC_analysis/metric/assets/testauto-out_UBC__APFN0005__2015W2.ipynb"
      ]
     },
     "metadata": {},
     "output_type": "display_data"
    },
    {
     "name": "stdout",
     "output_type": "stream",
     "text": [
      "ayy\n"
     ]
    },
    {
     "data": {
      "text/html": [
       "<a href='testauto.ipynb' target='_blank'>testauto.ipynb</a><br>"
      ],
      "text/plain": [
       "/home/justinleong/Desktop/CTLT_MOOC_analysis/metric/testauto.ipynb"
      ]
     },
     "metadata": {},
     "output_type": "display_data"
    },
    {
     "name": "stdout",
     "output_type": "stream",
     "text": [
      "Error executing the notebook \"testauto\".\n",
      "\n",
      "See notebook \"./assets/testauto-out_UBC__APFN0006__2015W2.ipynb\" for the traceback.\n"
     ]
    },
    {
     "data": {
      "text/html": [
       "<a href='./assets/testauto-out_UBC__APFN0006__2015W2.ipynb' target='_blank'>./assets/testauto-out_UBC__APFN0006__2015W2.ipynb</a><br>"
      ],
      "text/plain": [
       "/home/justinleong/Desktop/CTLT_MOOC_analysis/metric/assets/testauto-out_UBC__APFN0006__2015W2.ipynb"
      ]
     },
     "metadata": {},
     "output_type": "display_data"
    },
    {
     "name": "stdout",
     "output_type": "stream",
     "text": [
      "ayy\n"
     ]
    },
    {
     "data": {
      "text/html": [
       "<a href='testauto.ipynb' target='_blank'>testauto.ipynb</a><br>"
      ],
      "text/plain": [
       "/home/justinleong/Desktop/CTLT_MOOC_analysis/metric/testauto.ipynb"
      ]
     },
     "metadata": {},
     "output_type": "display_data"
    },
    {
     "name": "stdout",
     "output_type": "stream",
     "text": [
      "Error executing the notebook \"testauto\".\n",
      "\n",
      "See notebook \"./assets/testauto-out_UBC__APFN_Cafe__2015W2.ipynb\" for the traceback.\n"
     ]
    },
    {
     "data": {
      "text/html": [
       "<a href='./assets/testauto-out_UBC__APFN_Cafe__2015W2.ipynb' target='_blank'>./assets/testauto-out_UBC__APFN_Cafe__2015W2.ipynb</a><br>"
      ],
      "text/plain": [
       "/home/justinleong/Desktop/CTLT_MOOC_analysis/metric/assets/testauto-out_UBC__APFN_Cafe__2015W2.ipynb"
      ]
     },
     "metadata": {},
     "output_type": "display_data"
    },
    {
     "name": "stdout",
     "output_type": "stream",
     "text": [
      "ayy\n"
     ]
    }
   ],
   "source": [
    "for data_id in ('UBCx__China300_1x__1T2016', 'UBCx__IndEdu200x__3T2015', #'UBCx__BIOB01__2015W2',\n",
    "    'UBC__CIVL200__2015WA',\n",
    "    'UBC__CPEN211__1T2015',\n",
    "    'UBC__CPEN411__2015W1',\n",
    "    'UBC__CPSC110__2015W1',\n",
    "    'UBC__IndEduSI1__2015_S1',\n",
    "    'UBC__LAW281__2015W1',\n",
    "    'UBC__PHYS546__2015W1',\n",
    "    'UBCx__BlendedLearning101__2015',\n",
    "    'UBCx__CIVL498A__2015W1',\n",
    "    'UBCx__CLSx__2015',\n",
    "    'UBCx__EECE259__2015',\n",
    "    'UBCx__EECE311Sec001__2015W1',\n",
    "    'UBCx__ETEC565a_b__2015',\n",
    "    'UBCx__ISB1__2015',\n",
    "    'UBCx__ITSx__2015',\n",
    "    'UBCx__LIBR_ITL__2015',\n",
    "    'UBCx__MS101__2015_T1',\n",
    "    'UBCx__NJR101__2015W2',\n",
    "    'UBCx__PHYS100__2015W1',\n",
    "    'UBCx__POLI360A_003__2015W1',\n",
    "    'UBCx__POLI369T__2015W1',\n",
    "    'UBCx__POLI377APSC377__2015W1',\n",
    "    'UBCx__PSYC101__2015W1',\n",
    "    'UBCx__PSYCx__2015',\n",
    "    'UBCx__URO__2015',\n",
    "    'UBCx__UsefulGeneticsx__2015W1',\n",
    "    'UBCx__CPEN221__2015W1',    \n",
    "    'UBC__CPSC210__2015W2',\n",
    "    'UBCx__TOC01__2015W2',\n",
    "    'UBC__ELEC413__201__2015W2',\n",
    "    'UBC__ELEC463__201__2015W2',\n",
    "    'UBC__FSP_01__2015W2',\n",
    "    'UBC__APFN0001__2015W2',\n",
    "    'UBC__APFN0002__2015W2',\n",
    "    'UBC__APFN0003__2015W2',\n",
    "    'UBC__APFN0004__2015W2',\n",
    "    'UBC__APFN0005__2015W2',\n",
    "    'UBC__APFN0006__2015W2',\n",
    "    'UBC__APFN_Cafe__2015W2',\n",
    "               ):\n",
    "    nb_kwargs = {'course_id': data_id}\n",
    "    #execute_kwargs = {'ExecutePreprocessor.kernel_name' : 'python'}\n",
    "    try:\n",
    "        run_notebook(nb_name, nb_suffix='-out_%s' % (data_id), nb_kwargs=nb_kwargs)\n",
    "    except:\n",
    "        print('ayy')"
   ]
  },
  {
   "cell_type": "code",
   "execution_count": null,
   "metadata": {
    "collapsed": true
   },
   "outputs": [],
   "source": []
  }
 ],
 "metadata": {
  "kernelspec": {
   "display_name": "Python [Root]",
   "language": "python",
   "name": "Python [Root]"
  },
  "language_info": {
   "codemirror_mode": {
    "name": "ipython",
    "version": 2
   },
   "file_extension": ".py",
   "mimetype": "text/x-python",
   "name": "python",
   "nbconvert_exporter": "python",
   "pygments_lexer": "ipython2",
   "version": "2.7.12"
  }
 },
 "nbformat": 4,
 "nbformat_minor": 0
}
