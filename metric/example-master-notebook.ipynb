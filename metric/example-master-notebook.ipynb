{
 "cells": [
  {
   "cell_type": "markdown",
   "metadata": {},
   "source": [
    "# Master Notebook\n",
    "\n",
    "<p class=lead>This notebook executes the [template notebook](example-template-notebook.ipynb) passing different arguments.\n",
    "<p>\n",
    "\n",
    "## Boilerplate\n",
    "\n",
    "The module `nbrun.py` needs to be in the current folder (or otherwise importable):"
   ]
  },
  {
   "cell_type": "code",
   "execution_count": 1,
   "metadata": {
    "collapsed": false
   },
   "outputs": [],
   "source": [
    "from nbrun import run_notebook"
   ]
  },
  {
   "cell_type": "markdown",
   "metadata": {
    "collapsed": true
   },
   "source": [
    "## Execute notebooks"
   ]
  },
  {
   "cell_type": "code",
   "execution_count": 2,
   "metadata": {
    "collapsed": true
   },
   "outputs": [],
   "source": [
    "nb_name = 'testauto'"
   ]
  },
  {
   "cell_type": "code",
   "execution_count": 3,
   "metadata": {
    "collapsed": false
   },
   "outputs": [
    {
     "data": {
      "text/html": [
       "<a href='testauto.ipynb' target='_blank'>testauto.ipynb</a><br>"
      ],
      "text/plain": [
       "/home/justinleong/Desktop/CTLT_MOOC_analysis/metric/testauto.ipynb"
      ]
     },
     "metadata": {},
     "output_type": "display_data"
    },
    {
     "name": "stdout",
     "output_type": "stream",
     "text": [
      "Error executing the notebook \"testauto\".\n",
      "\n",
      "See notebook \"./assets/UBC__ADRR_01__2017.ipynb\" for the traceback.\n"
     ]
    },
    {
     "data": {
      "text/html": [
       "<a href='./assets/UBC__ADRR_01__2017.ipynb' target='_blank'>./assets/UBC__ADRR_01__2017.ipynb</a><br>"
      ],
      "text/plain": [
       "/home/justinleong/Desktop/CTLT_MOOC_analysis/metric/assets/UBC__ADRR_01__2017.ipynb"
      ]
     },
     "metadata": {},
     "output_type": "display_data"
    },
    {
     "name": "stdout",
     "output_type": "stream",
     "text": [
      "ayy\n"
     ]
    },
    {
     "data": {
      "text/html": [
       "<a href='testauto.ipynb' target='_blank'>testauto.ipynb</a><br>"
      ],
      "text/plain": [
       "/home/justinleong/Desktop/CTLT_MOOC_analysis/metric/testauto.ipynb"
      ]
     },
     "metadata": {},
     "output_type": "display_data"
    },
    {
     "name": "stdout",
     "output_type": "stream",
     "text": [
      "Error executing the notebook \"testauto\".\n",
      "\n",
      "See notebook \"./assets/UBC__ADRR_01__2017.ipynb\" for the traceback.\n"
     ]
    },
    {
     "data": {
      "text/html": [
       "<a href='./assets/UBC__ADRR_01__2017.ipynb' target='_blank'>./assets/UBC__ADRR_01__2017.ipynb</a><br>"
      ],
      "text/plain": [
       "/home/justinleong/Desktop/CTLT_MOOC_analysis/metric/assets/UBC__ADRR_01__2017.ipynb"
      ]
     },
     "metadata": {},
     "output_type": "display_data"
    },
    {
     "name": "stdout",
     "output_type": "stream",
     "text": [
      "ayy\n"
     ]
    },
    {
     "data": {
      "text/html": [
       "<a href='testauto.ipynb' target='_blank'>testauto.ipynb</a><br>"
      ],
      "text/plain": [
       "/home/justinleong/Desktop/CTLT_MOOC_analysis/metric/testauto.ipynb"
      ]
     },
     "metadata": {},
     "output_type": "display_data"
    },
    {
     "name": "stdout",
     "output_type": "stream",
     "text": [
      "Error executing the notebook \"testauto\".\n",
      "\n",
      "See notebook \"./assets/UBC__ANABDGHANI01__2016.ipynb\" for the traceback.\n"
     ]
    },
    {
     "data": {
      "text/html": [
       "<a href='./assets/UBC__ANABDGHANI01__2016.ipynb' target='_blank'>./assets/UBC__ANABDGHANI01__2016.ipynb</a><br>"
      ],
      "text/plain": [
       "/home/justinleong/Desktop/CTLT_MOOC_analysis/metric/assets/UBC__ANABDGHANI01__2016.ipynb"
      ]
     },
     "metadata": {},
     "output_type": "display_data"
    },
    {
     "name": "stdout",
     "output_type": "stream",
     "text": [
      "ayy\n"
     ]
    },
    {
     "data": {
      "text/html": [
       "<a href='testauto.ipynb' target='_blank'>testauto.ipynb</a><br>"
      ],
      "text/plain": [
       "/home/justinleong/Desktop/CTLT_MOOC_analysis/metric/testauto.ipynb"
      ]
     },
     "metadata": {},
     "output_type": "display_data"
    },
    {
     "name": "stdout",
     "output_type": "stream",
     "text": [
      "Error executing the notebook \"testauto\".\n",
      "\n",
      "See notebook \"./assets/UBC__APFN0001__2015W2.ipynb\" for the traceback.\n"
     ]
    },
    {
     "data": {
      "text/html": [
       "<a href='./assets/UBC__APFN0001__2015W2.ipynb' target='_blank'>./assets/UBC__APFN0001__2015W2.ipynb</a><br>"
      ],
      "text/plain": [
       "/home/justinleong/Desktop/CTLT_MOOC_analysis/metric/assets/UBC__APFN0001__2015W2.ipynb"
      ]
     },
     "metadata": {},
     "output_type": "display_data"
    },
    {
     "name": "stdout",
     "output_type": "stream",
     "text": [
      "ayy\n"
     ]
    },
    {
     "data": {
      "text/html": [
       "<a href='testauto.ipynb' target='_blank'>testauto.ipynb</a><br>"
      ],
      "text/plain": [
       "/home/justinleong/Desktop/CTLT_MOOC_analysis/metric/testauto.ipynb"
      ]
     },
     "metadata": {},
     "output_type": "display_data"
    },
    {
     "name": "stdout",
     "output_type": "stream",
     "text": [
      "Error executing the notebook \"testauto\".\n",
      "\n",
      "See notebook \"./assets/UBC__APFN0002__2015W2.ipynb\" for the traceback.\n"
     ]
    },
    {
     "data": {
      "text/html": [
       "<a href='./assets/UBC__APFN0002__2015W2.ipynb' target='_blank'>./assets/UBC__APFN0002__2015W2.ipynb</a><br>"
      ],
      "text/plain": [
       "/home/justinleong/Desktop/CTLT_MOOC_analysis/metric/assets/UBC__APFN0002__2015W2.ipynb"
      ]
     },
     "metadata": {},
     "output_type": "display_data"
    },
    {
     "name": "stdout",
     "output_type": "stream",
     "text": [
      "ayy\n"
     ]
    },
    {
     "data": {
      "text/html": [
       "<a href='testauto.ipynb' target='_blank'>testauto.ipynb</a><br>"
      ],
      "text/plain": [
       "/home/justinleong/Desktop/CTLT_MOOC_analysis/metric/testauto.ipynb"
      ]
     },
     "metadata": {},
     "output_type": "display_data"
    },
    {
     "name": "stdout",
     "output_type": "stream",
     "text": [
      "Error executing the notebook \"testauto\".\n",
      "\n",
      "See notebook \"./assets/UBC__APFN0003__2015W2.ipynb\" for the traceback.\n"
     ]
    },
    {
     "data": {
      "text/html": [
       "<a href='./assets/UBC__APFN0003__2015W2.ipynb' target='_blank'>./assets/UBC__APFN0003__2015W2.ipynb</a><br>"
      ],
      "text/plain": [
       "/home/justinleong/Desktop/CTLT_MOOC_analysis/metric/assets/UBC__APFN0003__2015W2.ipynb"
      ]
     },
     "metadata": {},
     "output_type": "display_data"
    },
    {
     "name": "stdout",
     "output_type": "stream",
     "text": [
      "ayy\n"
     ]
    },
    {
     "data": {
      "text/html": [
       "<a href='testauto.ipynb' target='_blank'>testauto.ipynb</a><br>"
      ],
      "text/plain": [
       "/home/justinleong/Desktop/CTLT_MOOC_analysis/metric/testauto.ipynb"
      ]
     },
     "metadata": {},
     "output_type": "display_data"
    },
    {
     "name": "stdout",
     "output_type": "stream",
     "text": [
      "Error executing the notebook \"testauto\".\n",
      "\n",
      "See notebook \"./assets/UBC__APFN0004__2015W2.ipynb\" for the traceback.\n"
     ]
    },
    {
     "data": {
      "text/html": [
       "<a href='./assets/UBC__APFN0004__2015W2.ipynb' target='_blank'>./assets/UBC__APFN0004__2015W2.ipynb</a><br>"
      ],
      "text/plain": [
       "/home/justinleong/Desktop/CTLT_MOOC_analysis/metric/assets/UBC__APFN0004__2015W2.ipynb"
      ]
     },
     "metadata": {},
     "output_type": "display_data"
    },
    {
     "name": "stdout",
     "output_type": "stream",
     "text": [
      "ayy\n"
     ]
    },
    {
     "data": {
      "text/html": [
       "<a href='testauto.ipynb' target='_blank'>testauto.ipynb</a><br>"
      ],
      "text/plain": [
       "/home/justinleong/Desktop/CTLT_MOOC_analysis/metric/testauto.ipynb"
      ]
     },
     "metadata": {},
     "output_type": "display_data"
    },
    {
     "name": "stdout",
     "output_type": "stream",
     "text": [
      "Error executing the notebook \"testauto\".\n",
      "\n",
      "See notebook \"./assets/UBC__APFN0005__2015W2.ipynb\" for the traceback.\n"
     ]
    },
    {
     "data": {
      "text/html": [
       "<a href='./assets/UBC__APFN0005__2015W2.ipynb' target='_blank'>./assets/UBC__APFN0005__2015W2.ipynb</a><br>"
      ],
      "text/plain": [
       "/home/justinleong/Desktop/CTLT_MOOC_analysis/metric/assets/UBC__APFN0005__2015W2.ipynb"
      ]
     },
     "metadata": {},
     "output_type": "display_data"
    },
    {
     "name": "stdout",
     "output_type": "stream",
     "text": [
      "ayy\n"
     ]
    },
    {
     "data": {
      "text/html": [
       "<a href='testauto.ipynb' target='_blank'>testauto.ipynb</a><br>"
      ],
      "text/plain": [
       "/home/justinleong/Desktop/CTLT_MOOC_analysis/metric/testauto.ipynb"
      ]
     },
     "metadata": {},
     "output_type": "display_data"
    },
    {
     "name": "stdout",
     "output_type": "stream",
     "text": [
      "Error executing the notebook \"testauto\".\n",
      "\n",
      "See notebook \"./assets/UBC__APFN0006__2015W2.ipynb\" for the traceback.\n"
     ]
    },
    {
     "data": {
      "text/html": [
       "<a href='./assets/UBC__APFN0006__2015W2.ipynb' target='_blank'>./assets/UBC__APFN0006__2015W2.ipynb</a><br>"
      ],
      "text/plain": [
       "/home/justinleong/Desktop/CTLT_MOOC_analysis/metric/assets/UBC__APFN0006__2015W2.ipynb"
      ]
     },
     "metadata": {},
     "output_type": "display_data"
    },
    {
     "name": "stdout",
     "output_type": "stream",
     "text": [
      "ayy\n"
     ]
    },
    {
     "data": {
      "text/html": [
       "<a href='testauto.ipynb' target='_blank'>testauto.ipynb</a><br>"
      ],
      "text/plain": [
       "/home/justinleong/Desktop/CTLT_MOOC_analysis/metric/testauto.ipynb"
      ]
     },
     "metadata": {},
     "output_type": "display_data"
    },
    {
     "name": "stdout",
     "output_type": "stream",
     "text": [
      "Error executing the notebook \"testauto\".\n",
      "\n",
      "See notebook \"./assets/UBC__APFN_Cafe__2015W2.ipynb\" for the traceback.\n"
     ]
    },
    {
     "data": {
      "text/html": [
       "<a href='./assets/UBC__APFN_Cafe__2015W2.ipynb' target='_blank'>./assets/UBC__APFN_Cafe__2015W2.ipynb</a><br>"
      ],
      "text/plain": [
       "/home/justinleong/Desktop/CTLT_MOOC_analysis/metric/assets/UBC__APFN_Cafe__2015W2.ipynb"
      ]
     },
     "metadata": {},
     "output_type": "display_data"
    },
    {
     "name": "stdout",
     "output_type": "stream",
     "text": [
      "ayy\n"
     ]
    },
    {
     "data": {
      "text/html": [
       "<a href='testauto.ipynb' target='_blank'>testauto.ipynb</a><br>"
      ],
      "text/plain": [
       "/home/justinleong/Desktop/CTLT_MOOC_analysis/metric/testauto.ipynb"
      ]
     },
     "metadata": {},
     "output_type": "display_data"
    },
    {
     "name": "stdout",
     "output_type": "stream",
     "text": [
      "Error executing the notebook \"testauto\".\n",
      "\n",
      "See notebook \"./assets/UBC__ASTR311_98A__2017SA.ipynb\" for the traceback.\n"
     ]
    },
    {
     "data": {
      "text/html": [
       "<a href='./assets/UBC__ASTR311_98A__2017SA.ipynb' target='_blank'>./assets/UBC__ASTR311_98A__2017SA.ipynb</a><br>"
      ],
      "text/plain": [
       "/home/justinleong/Desktop/CTLT_MOOC_analysis/metric/assets/UBC__ASTR311_98A__2017SA.ipynb"
      ]
     },
     "metadata": {},
     "output_type": "display_data"
    },
    {
     "name": "stdout",
     "output_type": "stream",
     "text": [
      "ayy\n"
     ]
    },
    {
     "data": {
      "text/html": [
       "<a href='testauto.ipynb' target='_blank'>testauto.ipynb</a><br>"
      ],
      "text/plain": [
       "/home/justinleong/Desktop/CTLT_MOOC_analysis/metric/testauto.ipynb"
      ]
     },
     "metadata": {},
     "output_type": "display_data"
    },
    {
     "name": "stdout",
     "output_type": "stream",
     "text": [
      "Error executing the notebook \"testauto\".\n",
      "\n",
      "See notebook \"./assets/UBC__ASTR311_98S__2016S.ipynb\" for the traceback.\n"
     ]
    },
    {
     "data": {
      "text/html": [
       "<a href='./assets/UBC__ASTR311_98S__2016S.ipynb' target='_blank'>./assets/UBC__ASTR311_98S__2016S.ipynb</a><br>"
      ],
      "text/plain": [
       "/home/justinleong/Desktop/CTLT_MOOC_analysis/metric/assets/UBC__ASTR311_98S__2016S.ipynb"
      ]
     },
     "metadata": {},
     "output_type": "display_data"
    },
    {
     "name": "stdout",
     "output_type": "stream",
     "text": [
      "ayy\n"
     ]
    },
    {
     "data": {
      "text/html": [
       "<a href='testauto.ipynb' target='_blank'>testauto.ipynb</a><br>"
      ],
      "text/plain": [
       "/home/justinleong/Desktop/CTLT_MOOC_analysis/metric/testauto.ipynb"
      ]
     },
     "metadata": {},
     "output_type": "display_data"
    },
    {
     "name": "stdout",
     "output_type": "stream",
     "text": [
      "Error executing the notebook \"testauto\".\n",
      "\n",
      "See notebook \"./assets/UBC__BGolland01__2014W2.ipynb\" for the traceback.\n"
     ]
    },
    {
     "data": {
      "text/html": [
       "<a href='./assets/UBC__BGolland01__2014W2.ipynb' target='_blank'>./assets/UBC__BGolland01__2014W2.ipynb</a><br>"
      ],
      "text/plain": [
       "/home/justinleong/Desktop/CTLT_MOOC_analysis/metric/assets/UBC__BGolland01__2014W2.ipynb"
      ]
     },
     "metadata": {},
     "output_type": "display_data"
    },
    {
     "name": "stdout",
     "output_type": "stream",
     "text": [
      "ayy\n"
     ]
    },
    {
     "data": {
      "text/html": [
       "<a href='testauto.ipynb' target='_blank'>testauto.ipynb</a><br>"
      ],
      "text/plain": [
       "/home/justinleong/Desktop/CTLT_MOOC_analysis/metric/testauto.ipynb"
      ]
     },
     "metadata": {},
     "output_type": "display_data"
    },
    {
     "name": "stdout",
     "output_type": "stream",
     "text": [
      "Error executing the notebook \"testauto\".\n",
      "\n",
      "See notebook \"./assets/UBC__BL__2015_T1.ipynb\" for the traceback.\n"
     ]
    },
    {
     "data": {
      "text/html": [
       "<a href='./assets/UBC__BL__2015_T1.ipynb' target='_blank'>./assets/UBC__BL__2015_T1.ipynb</a><br>"
      ],
      "text/plain": [
       "/home/justinleong/Desktop/CTLT_MOOC_analysis/metric/assets/UBC__BL__2015_T1.ipynb"
      ]
     },
     "metadata": {},
     "output_type": "display_data"
    },
    {
     "name": "stdout",
     "output_type": "stream",
     "text": [
      "ayy\n"
     ]
    },
    {
     "data": {
      "text/html": [
       "<a href='testauto.ipynb' target='_blank'>testauto.ipynb</a><br>"
      ],
      "text/plain": [
       "/home/justinleong/Desktop/CTLT_MOOC_analysis/metric/testauto.ipynb"
      ]
     },
     "metadata": {},
     "output_type": "display_data"
    },
    {
     "name": "stdout",
     "output_type": "stream",
     "text": [
      "Error executing the notebook \"testauto\".\n",
      "\n",
      "See notebook \"./assets/UBC__BPOWELL_01__2016S.ipynb\" for the traceback.\n"
     ]
    },
    {
     "data": {
      "text/html": [
       "<a href='./assets/UBC__BPOWELL_01__2016S.ipynb' target='_blank'>./assets/UBC__BPOWELL_01__2016S.ipynb</a><br>"
      ],
      "text/plain": [
       "/home/justinleong/Desktop/CTLT_MOOC_analysis/metric/assets/UBC__BPOWELL_01__2016S.ipynb"
      ]
     },
     "metadata": {},
     "output_type": "display_data"
    },
    {
     "name": "stdout",
     "output_type": "stream",
     "text": [
      "ayy\n"
     ]
    },
    {
     "data": {
      "text/html": [
       "<a href='testauto.ipynb' target='_blank'>testauto.ipynb</a><br>"
      ],
      "text/plain": [
       "/home/justinleong/Desktop/CTLT_MOOC_analysis/metric/testauto.ipynb"
      ]
     },
     "metadata": {},
     "output_type": "display_data"
    },
    {
     "name": "stdout",
     "output_type": "stream",
     "text": [
      "Error executing the notebook \"testauto\".\n",
      "\n",
      "See notebook \"./assets/UBC__CANDERSON_01__2017.ipynb\" for the traceback.\n"
     ]
    },
    {
     "data": {
      "text/html": [
       "<a href='./assets/UBC__CANDERSON_01__2017.ipynb' target='_blank'>./assets/UBC__CANDERSON_01__2017.ipynb</a><br>"
      ],
      "text/plain": [
       "/home/justinleong/Desktop/CTLT_MOOC_analysis/metric/assets/UBC__CANDERSON_01__2017.ipynb"
      ]
     },
     "metadata": {},
     "output_type": "display_data"
    },
    {
     "name": "stdout",
     "output_type": "stream",
     "text": [
      "ayy\n"
     ]
    },
    {
     "data": {
      "text/html": [
       "<a href='testauto.ipynb' target='_blank'>testauto.ipynb</a><br>"
      ],
      "text/plain": [
       "/home/justinleong/Desktop/CTLT_MOOC_analysis/metric/testauto.ipynb"
      ]
     },
     "metadata": {},
     "output_type": "display_data"
    },
    {
     "name": "stdout",
     "output_type": "stream",
     "text": [
      "Error executing the notebook \"testauto\".\n",
      "\n",
      "See notebook \"./assets/UBC__CCROWLEY01__2016.ipynb\" for the traceback.\n"
     ]
    },
    {
     "data": {
      "text/html": [
       "<a href='./assets/UBC__CCROWLEY01__2016.ipynb' target='_blank'>./assets/UBC__CCROWLEY01__2016.ipynb</a><br>"
      ],
      "text/plain": [
       "/home/justinleong/Desktop/CTLT_MOOC_analysis/metric/assets/UBC__CCROWLEY01__2016.ipynb"
      ]
     },
     "metadata": {},
     "output_type": "display_data"
    },
    {
     "name": "stdout",
     "output_type": "stream",
     "text": [
      "ayy\n"
     ]
    },
    {
     "data": {
      "text/html": [
       "<a href='testauto.ipynb' target='_blank'>testauto.ipynb</a><br>"
      ],
      "text/plain": [
       "/home/justinleong/Desktop/CTLT_MOOC_analysis/metric/testauto.ipynb"
      ]
     },
     "metadata": {},
     "output_type": "display_data"
    },
    {
     "name": "stdout",
     "output_type": "stream",
     "text": [
      "Error executing the notebook \"testauto\".\n",
      "\n",
      "See notebook \"./assets/UBC__CIVL200__2015WA.ipynb\" for the traceback.\n"
     ]
    },
    {
     "data": {
      "text/html": [
       "<a href='./assets/UBC__CIVL200__2015WA.ipynb' target='_blank'>./assets/UBC__CIVL200__2015WA.ipynb</a><br>"
      ],
      "text/plain": [
       "/home/justinleong/Desktop/CTLT_MOOC_analysis/metric/assets/UBC__CIVL200__2015WA.ipynb"
      ]
     },
     "metadata": {},
     "output_type": "display_data"
    },
    {
     "name": "stdout",
     "output_type": "stream",
     "text": [
      "ayy\n"
     ]
    },
    {
     "data": {
      "text/html": [
       "<a href='testauto.ipynb' target='_blank'>testauto.ipynb</a><br>"
      ],
      "text/plain": [
       "/home/justinleong/Desktop/CTLT_MOOC_analysis/metric/testauto.ipynb"
      ]
     },
     "metadata": {},
     "output_type": "display_data"
    },
    {
     "name": "stdout",
     "output_type": "stream",
     "text": [
      "Error executing the notebook \"testauto\".\n",
      "\n",
      "See notebook \"./assets/UBC__CIVL200__2017_SA.ipynb\" for the traceback.\n"
     ]
    },
    {
     "data": {
      "text/html": [
       "<a href='./assets/UBC__CIVL200__2017_SA.ipynb' target='_blank'>./assets/UBC__CIVL200__2017_SA.ipynb</a><br>"
      ],
      "text/plain": [
       "/home/justinleong/Desktop/CTLT_MOOC_analysis/metric/assets/UBC__CIVL200__2017_SA.ipynb"
      ]
     },
     "metadata": {},
     "output_type": "display_data"
    },
    {
     "name": "stdout",
     "output_type": "stream",
     "text": [
      "ayy\n"
     ]
    },
    {
     "data": {
      "text/html": [
       "<a href='testauto.ipynb' target='_blank'>testauto.ipynb</a><br>"
      ],
      "text/plain": [
       "/home/justinleong/Desktop/CTLT_MOOC_analysis/metric/testauto.ipynb"
      ]
     },
     "metadata": {},
     "output_type": "display_data"
    },
    {
     "name": "stdout",
     "output_type": "stream",
     "text": [
      "Error executing the notebook \"testauto\".\n",
      "\n",
      "See notebook \"./assets/UBC__CIVL200_98A__2016SA.ipynb\" for the traceback.\n"
     ]
    },
    {
     "data": {
      "text/html": [
       "<a href='./assets/UBC__CIVL200_98A__2016SA.ipynb' target='_blank'>./assets/UBC__CIVL200_98A__2016SA.ipynb</a><br>"
      ],
      "text/plain": [
       "/home/justinleong/Desktop/CTLT_MOOC_analysis/metric/assets/UBC__CIVL200_98A__2016SA.ipynb"
      ]
     },
     "metadata": {},
     "output_type": "display_data"
    },
    {
     "name": "stdout",
     "output_type": "stream",
     "text": [
      "ayy\n"
     ]
    },
    {
     "data": {
      "text/html": [
       "<a href='testauto.ipynb' target='_blank'>testauto.ipynb</a><br>"
      ],
      "text/plain": [
       "/home/justinleong/Desktop/CTLT_MOOC_analysis/metric/testauto.ipynb"
      ]
     },
     "metadata": {},
     "output_type": "display_data"
    },
    {
     "name": "stdout",
     "output_type": "stream",
     "text": [
      "Error executing the notebook \"testauto\".\n",
      "\n",
      "See notebook \"./assets/UBC__CIVL202__2016W.ipynb\" for the traceback.\n"
     ]
    },
    {
     "data": {
      "text/html": [
       "<a href='./assets/UBC__CIVL202__2016W.ipynb' target='_blank'>./assets/UBC__CIVL202__2016W.ipynb</a><br>"
      ],
      "text/plain": [
       "/home/justinleong/Desktop/CTLT_MOOC_analysis/metric/assets/UBC__CIVL202__2016W.ipynb"
      ]
     },
     "metadata": {},
     "output_type": "display_data"
    },
    {
     "name": "stdout",
     "output_type": "stream",
     "text": [
      "ayy\n"
     ]
    },
    {
     "data": {
      "text/html": [
       "<a href='testauto.ipynb' target='_blank'>testauto.ipynb</a><br>"
      ],
      "text/plain": [
       "/home/justinleong/Desktop/CTLT_MOOC_analysis/metric/testauto.ipynb"
      ]
     },
     "metadata": {},
     "output_type": "display_data"
    },
    {
     "name": "stdout",
     "output_type": "stream",
     "text": [
      "Error executing the notebook \"testauto\".\n",
      "\n",
      "See notebook \"./assets/UBC__CIVL498_598__2016W.ipynb\" for the traceback.\n"
     ]
    },
    {
     "data": {
      "text/html": [
       "<a href='./assets/UBC__CIVL498_598__2016W.ipynb' target='_blank'>./assets/UBC__CIVL498_598__2016W.ipynb</a><br>"
      ],
      "text/plain": [
       "/home/justinleong/Desktop/CTLT_MOOC_analysis/metric/assets/UBC__CIVL498_598__2016W.ipynb"
      ]
     },
     "metadata": {},
     "output_type": "display_data"
    },
    {
     "name": "stdout",
     "output_type": "stream",
     "text": [
      "ayy\n"
     ]
    },
    {
     "data": {
      "text/html": [
       "<a href='testauto.ipynb' target='_blank'>testauto.ipynb</a><br>"
      ],
      "text/plain": [
       "/home/justinleong/Desktop/CTLT_MOOC_analysis/metric/testauto.ipynb"
      ]
     },
     "metadata": {},
     "output_type": "display_data"
    },
    {
     "name": "stdout",
     "output_type": "stream",
     "text": [
      "Error executing the notebook \"testauto\".\n",
      "\n",
      "See notebook \"./assets/UBC__CMACKAY01__2016.ipynb\" for the traceback.\n"
     ]
    },
    {
     "data": {
      "text/html": [
       "<a href='./assets/UBC__CMACKAY01__2016.ipynb' target='_blank'>./assets/UBC__CMACKAY01__2016.ipynb</a><br>"
      ],
      "text/plain": [
       "/home/justinleong/Desktop/CTLT_MOOC_analysis/metric/assets/UBC__CMACKAY01__2016.ipynb"
      ]
     },
     "metadata": {},
     "output_type": "display_data"
    },
    {
     "name": "stdout",
     "output_type": "stream",
     "text": [
      "ayy\n"
     ]
    },
    {
     "data": {
      "text/html": [
       "<a href='testauto.ipynb' target='_blank'>testauto.ipynb</a><br>"
      ],
      "text/plain": [
       "/home/justinleong/Desktop/CTLT_MOOC_analysis/metric/testauto.ipynb"
      ]
     },
     "metadata": {},
     "output_type": "display_data"
    },
    {
     "name": "stdout",
     "output_type": "stream",
     "text": [
      "Error executing the notebook \"testauto\".\n",
      "\n",
      "See notebook \"./assets/UBC__CMURANO01__2016.ipynb\" for the traceback.\n"
     ]
    },
    {
     "data": {
      "text/html": [
       "<a href='./assets/UBC__CMURANO01__2016.ipynb' target='_blank'>./assets/UBC__CMURANO01__2016.ipynb</a><br>"
      ],
      "text/plain": [
       "/home/justinleong/Desktop/CTLT_MOOC_analysis/metric/assets/UBC__CMURANO01__2016.ipynb"
      ]
     },
     "metadata": {},
     "output_type": "display_data"
    },
    {
     "name": "stdout",
     "output_type": "stream",
     "text": [
      "ayy\n"
     ]
    },
    {
     "data": {
      "text/html": [
       "<a href='testauto.ipynb' target='_blank'>testauto.ipynb</a><br>"
      ],
      "text/plain": [
       "/home/justinleong/Desktop/CTLT_MOOC_analysis/metric/testauto.ipynb"
      ]
     },
     "metadata": {},
     "output_type": "display_data"
    },
    {
     "name": "stdout",
     "output_type": "stream",
     "text": [
      "Error executing the notebook \"testauto\".\n",
      "\n",
      "See notebook \"./assets/UBC__COMM465_102__2016W1.ipynb\" for the traceback.\n"
     ]
    },
    {
     "data": {
      "text/html": [
       "<a href='./assets/UBC__COMM465_102__2016W1.ipynb' target='_blank'>./assets/UBC__COMM465_102__2016W1.ipynb</a><br>"
      ],
      "text/plain": [
       "/home/justinleong/Desktop/CTLT_MOOC_analysis/metric/assets/UBC__COMM465_102__2016W1.ipynb"
      ]
     },
     "metadata": {},
     "output_type": "display_data"
    },
    {
     "name": "stdout",
     "output_type": "stream",
     "text": [
      "ayy\n"
     ]
    },
    {
     "data": {
      "text/html": [
       "<a href='testauto.ipynb' target='_blank'>testauto.ipynb</a><br>"
      ],
      "text/plain": [
       "/home/justinleong/Desktop/CTLT_MOOC_analysis/metric/testauto.ipynb"
      ]
     },
     "metadata": {},
     "output_type": "display_data"
    },
    {
     "name": "stdout",
     "output_type": "stream",
     "text": [
      "Error executing the notebook \"testauto\".\n",
      "\n",
      "See notebook \"./assets/UBC__CPEN211__2015T1.ipynb\" for the traceback.\n"
     ]
    },
    {
     "data": {
      "text/html": [
       "<a href='./assets/UBC__CPEN211__2015T1.ipynb' target='_blank'>./assets/UBC__CPEN211__2015T1.ipynb</a><br>"
      ],
      "text/plain": [
       "/home/justinleong/Desktop/CTLT_MOOC_analysis/metric/assets/UBC__CPEN211__2015T1.ipynb"
      ]
     },
     "metadata": {},
     "output_type": "display_data"
    },
    {
     "name": "stdout",
     "output_type": "stream",
     "text": [
      "ayy\n"
     ]
    },
    {
     "data": {
      "text/html": [
       "<a href='testauto.ipynb' target='_blank'>testauto.ipynb</a><br>"
      ],
      "text/plain": [
       "/home/justinleong/Desktop/CTLT_MOOC_analysis/metric/testauto.ipynb"
      ]
     },
     "metadata": {},
     "output_type": "display_data"
    },
    {
     "name": "stdout",
     "output_type": "stream",
     "text": [
      "Error executing the notebook \"testauto\".\n",
      "\n",
      "See notebook \"./assets/UBC__CPEN211__2016W1.ipynb\" for the traceback.\n"
     ]
    },
    {
     "data": {
      "text/html": [
       "<a href='./assets/UBC__CPEN211__2016W1.ipynb' target='_blank'>./assets/UBC__CPEN211__2016W1.ipynb</a><br>"
      ],
      "text/plain": [
       "/home/justinleong/Desktop/CTLT_MOOC_analysis/metric/assets/UBC__CPEN211__2016W1.ipynb"
      ]
     },
     "metadata": {},
     "output_type": "display_data"
    },
    {
     "name": "stdout",
     "output_type": "stream",
     "text": [
      "ayy\n"
     ]
    },
    {
     "data": {
      "text/html": [
       "<a href='testauto.ipynb' target='_blank'>testauto.ipynb</a><br>"
      ],
      "text/plain": [
       "/home/justinleong/Desktop/CTLT_MOOC_analysis/metric/testauto.ipynb"
      ]
     },
     "metadata": {},
     "output_type": "display_data"
    },
    {
     "name": "stdout",
     "output_type": "stream",
     "text": [
      "Error executing the notebook \"testauto\".\n",
      "\n",
      "See notebook \"./assets/UBC__CPEN221__2016W1.ipynb\" for the traceback.\n"
     ]
    },
    {
     "data": {
      "text/html": [
       "<a href='./assets/UBC__CPEN221__2016W1.ipynb' target='_blank'>./assets/UBC__CPEN221__2016W1.ipynb</a><br>"
      ],
      "text/plain": [
       "/home/justinleong/Desktop/CTLT_MOOC_analysis/metric/assets/UBC__CPEN221__2016W1.ipynb"
      ]
     },
     "metadata": {},
     "output_type": "display_data"
    },
    {
     "name": "stdout",
     "output_type": "stream",
     "text": [
      "ayy\n"
     ]
    },
    {
     "data": {
      "text/html": [
       "<a href='testauto.ipynb' target='_blank'>testauto.ipynb</a><br>"
      ],
      "text/plain": [
       "/home/justinleong/Desktop/CTLT_MOOC_analysis/metric/testauto.ipynb"
      ]
     },
     "metadata": {},
     "output_type": "display_data"
    },
    {
     "name": "stdout",
     "output_type": "stream",
     "text": [
      "Error executing the notebook \"testauto\".\n",
      "\n",
      "See notebook \"./assets/UBC__CPEN411__2015W1.ipynb\" for the traceback.\n"
     ]
    },
    {
     "data": {
      "text/html": [
       "<a href='./assets/UBC__CPEN411__2015W1.ipynb' target='_blank'>./assets/UBC__CPEN411__2015W1.ipynb</a><br>"
      ],
      "text/plain": [
       "/home/justinleong/Desktop/CTLT_MOOC_analysis/metric/assets/UBC__CPEN411__2015W1.ipynb"
      ]
     },
     "metadata": {},
     "output_type": "display_data"
    },
    {
     "name": "stdout",
     "output_type": "stream",
     "text": [
      "ayy\n"
     ]
    },
    {
     "data": {
      "text/html": [
       "<a href='testauto.ipynb' target='_blank'>testauto.ipynb</a><br>"
      ],
      "text/plain": [
       "/home/justinleong/Desktop/CTLT_MOOC_analysis/metric/testauto.ipynb"
      ]
     },
     "metadata": {},
     "output_type": "display_data"
    },
    {
     "name": "stdout",
     "output_type": "stream",
     "text": [
      "Error executing the notebook \"testauto\".\n",
      "\n",
      "See notebook \"./assets/UBC__CPINTRO__2016S.ipynb\" for the traceback.\n"
     ]
    },
    {
     "data": {
      "text/html": [
       "<a href='./assets/UBC__CPINTRO__2016S.ipynb' target='_blank'>./assets/UBC__CPINTRO__2016S.ipynb</a><br>"
      ],
      "text/plain": [
       "/home/justinleong/Desktop/CTLT_MOOC_analysis/metric/assets/UBC__CPINTRO__2016S.ipynb"
      ]
     },
     "metadata": {},
     "output_type": "display_data"
    },
    {
     "name": "stdout",
     "output_type": "stream",
     "text": [
      "ayy\n"
     ]
    },
    {
     "data": {
      "text/html": [
       "<a href='testauto.ipynb' target='_blank'>testauto.ipynb</a><br>"
      ],
      "text/plain": [
       "/home/justinleong/Desktop/CTLT_MOOC_analysis/metric/testauto.ipynb"
      ]
     },
     "metadata": {},
     "output_type": "display_data"
    },
    {
     "name": "stdout",
     "output_type": "stream",
     "text": [
      "Error executing the notebook \"testauto\".\n",
      "\n",
      "See notebook \"./assets/UBC__CPSC100__2016W1.ipynb\" for the traceback.\n"
     ]
    },
    {
     "data": {
      "text/html": [
       "<a href='./assets/UBC__CPSC100__2016W1.ipynb' target='_blank'>./assets/UBC__CPSC100__2016W1.ipynb</a><br>"
      ],
      "text/plain": [
       "/home/justinleong/Desktop/CTLT_MOOC_analysis/metric/assets/UBC__CPSC100__2016W1.ipynb"
      ]
     },
     "metadata": {},
     "output_type": "display_data"
    },
    {
     "name": "stdout",
     "output_type": "stream",
     "text": [
      "ayy\n"
     ]
    },
    {
     "data": {
      "text/html": [
       "<a href='testauto.ipynb' target='_blank'>testauto.ipynb</a><br>"
      ],
      "text/plain": [
       "/home/justinleong/Desktop/CTLT_MOOC_analysis/metric/testauto.ipynb"
      ]
     },
     "metadata": {},
     "output_type": "display_data"
    },
    {
     "name": "stdout",
     "output_type": "stream",
     "text": [
      "Error executing the notebook \"testauto\".\n",
      "\n",
      "See notebook \"./assets/UBC__CPSC103_101__2016W1.ipynb\" for the traceback.\n"
     ]
    },
    {
     "data": {
      "text/html": [
       "<a href='./assets/UBC__CPSC103_101__2016W1.ipynb' target='_blank'>./assets/UBC__CPSC103_101__2016W1.ipynb</a><br>"
      ],
      "text/plain": [
       "/home/justinleong/Desktop/CTLT_MOOC_analysis/metric/assets/UBC__CPSC103_101__2016W1.ipynb"
      ]
     },
     "metadata": {},
     "output_type": "display_data"
    },
    {
     "name": "stdout",
     "output_type": "stream",
     "text": [
      "ayy\n"
     ]
    },
    {
     "data": {
      "text/html": [
       "<a href='testauto.ipynb' target='_blank'>testauto.ipynb</a><br>"
      ],
      "text/plain": [
       "/home/justinleong/Desktop/CTLT_MOOC_analysis/metric/testauto.ipynb"
      ]
     },
     "metadata": {},
     "output_type": "display_data"
    },
    {
     "name": "stdout",
     "output_type": "stream",
     "text": [
      "Error executing the notebook \"testauto\".\n",
      "\n",
      "See notebook \"./assets/UBC__CPSC103_201__2016W2.ipynb\" for the traceback.\n"
     ]
    },
    {
     "data": {
      "text/html": [
       "<a href='./assets/UBC__CPSC103_201__2016W2.ipynb' target='_blank'>./assets/UBC__CPSC103_201__2016W2.ipynb</a><br>"
      ],
      "text/plain": [
       "/home/justinleong/Desktop/CTLT_MOOC_analysis/metric/assets/UBC__CPSC103_201__2016W2.ipynb"
      ]
     },
     "metadata": {},
     "output_type": "display_data"
    },
    {
     "name": "stdout",
     "output_type": "stream",
     "text": [
      "ayy\n"
     ]
    },
    {
     "data": {
      "text/html": [
       "<a href='testauto.ipynb' target='_blank'>testauto.ipynb</a><br>"
      ],
      "text/plain": [
       "/home/justinleong/Desktop/CTLT_MOOC_analysis/metric/testauto.ipynb"
      ]
     },
     "metadata": {},
     "output_type": "display_data"
    },
    {
     "name": "stdout",
     "output_type": "stream",
     "text": [
      "Error executing the notebook \"testauto\".\n",
      "\n",
      "See notebook \"./assets/UBC__CPSC103_V01__2017S.ipynb\" for the traceback.\n"
     ]
    },
    {
     "data": {
      "text/html": [
       "<a href='./assets/UBC__CPSC103_V01__2017S.ipynb' target='_blank'>./assets/UBC__CPSC103_V01__2017S.ipynb</a><br>"
      ],
      "text/plain": [
       "/home/justinleong/Desktop/CTLT_MOOC_analysis/metric/assets/UBC__CPSC103_V01__2017S.ipynb"
      ]
     },
     "metadata": {},
     "output_type": "display_data"
    },
    {
     "name": "stdout",
     "output_type": "stream",
     "text": [
      "ayy\n"
     ]
    },
    {
     "data": {
      "text/html": [
       "<a href='testauto.ipynb' target='_blank'>testauto.ipynb</a><br>"
      ],
      "text/plain": [
       "/home/justinleong/Desktop/CTLT_MOOC_analysis/metric/testauto.ipynb"
      ]
     },
     "metadata": {},
     "output_type": "display_data"
    },
    {
     "name": "stdout",
     "output_type": "stream",
     "text": [
      "Error executing the notebook \"testauto\".\n",
      "\n",
      "See notebook \"./assets/UBC__CPSC110_101__2016W2.ipynb\" for the traceback.\n"
     ]
    },
    {
     "data": {
      "text/html": [
       "<a href='./assets/UBC__CPSC110_101__2016W2.ipynb' target='_blank'>./assets/UBC__CPSC110_101__2016W2.ipynb</a><br>"
      ],
      "text/plain": [
       "/home/justinleong/Desktop/CTLT_MOOC_analysis/metric/assets/UBC__CPSC110_101__2016W2.ipynb"
      ]
     },
     "metadata": {},
     "output_type": "display_data"
    },
    {
     "name": "stdout",
     "output_type": "stream",
     "text": [
      "ayy\n"
     ]
    },
    {
     "data": {
      "text/html": [
       "<a href='testauto.ipynb' target='_blank'>testauto.ipynb</a><br>"
      ],
      "text/plain": [
       "/home/justinleong/Desktop/CTLT_MOOC_analysis/metric/testauto.ipynb"
      ]
     },
     "metadata": {},
     "output_type": "display_data"
    },
    {
     "data": {
      "text/html": [
       "<a href='./assets/UBC__CPSC110__2015W1.ipynb' target='_blank'>./assets/UBC__CPSC110__2015W1.ipynb</a><br>"
      ],
      "text/plain": [
       "/home/justinleong/Desktop/CTLT_MOOC_analysis/metric/assets/UBC__CPSC110__2015W1.ipynb"
      ]
     },
     "metadata": {},
     "output_type": "display_data"
    },
    {
     "data": {
      "text/html": [
       "<a href='testauto.ipynb' target='_blank'>testauto.ipynb</a><br>"
      ],
      "text/plain": [
       "/home/justinleong/Desktop/CTLT_MOOC_analysis/metric/testauto.ipynb"
      ]
     },
     "metadata": {},
     "output_type": "display_data"
    },
    {
     "name": "stdout",
     "output_type": "stream",
     "text": [
      "Error executing the notebook \"testauto\".\n",
      "\n",
      "See notebook \"./assets/UBC__CPSC110__2015W2.ipynb\" for the traceback.\n"
     ]
    },
    {
     "data": {
      "text/html": [
       "<a href='./assets/UBC__CPSC110__2015W2.ipynb' target='_blank'>./assets/UBC__CPSC110__2015W2.ipynb</a><br>"
      ],
      "text/plain": [
       "/home/justinleong/Desktop/CTLT_MOOC_analysis/metric/assets/UBC__CPSC110__2015W2.ipynb"
      ]
     },
     "metadata": {},
     "output_type": "display_data"
    },
    {
     "name": "stdout",
     "output_type": "stream",
     "text": [
      "ayy\n"
     ]
    },
    {
     "data": {
      "text/html": [
       "<a href='testauto.ipynb' target='_blank'>testauto.ipynb</a><br>"
      ],
      "text/plain": [
       "/home/justinleong/Desktop/CTLT_MOOC_analysis/metric/testauto.ipynb"
      ]
     },
     "metadata": {},
     "output_type": "display_data"
    },
    {
     "data": {
      "text/html": [
       "<a href='./assets/UBC__CPSC110__2016S.ipynb' target='_blank'>./assets/UBC__CPSC110__2016S.ipynb</a><br>"
      ],
      "text/plain": [
       "/home/justinleong/Desktop/CTLT_MOOC_analysis/metric/assets/UBC__CPSC110__2016S.ipynb"
      ]
     },
     "metadata": {},
     "output_type": "display_data"
    },
    {
     "data": {
      "text/html": [
       "<a href='testauto.ipynb' target='_blank'>testauto.ipynb</a><br>"
      ],
      "text/plain": [
       "/home/justinleong/Desktop/CTLT_MOOC_analysis/metric/testauto.ipynb"
      ]
     },
     "metadata": {},
     "output_type": "display_data"
    },
    {
     "data": {
      "text/html": [
       "<a href='./assets/UBC__CPSC110__2016W1.ipynb' target='_blank'>./assets/UBC__CPSC110__2016W1.ipynb</a><br>"
      ],
      "text/plain": [
       "/home/justinleong/Desktop/CTLT_MOOC_analysis/metric/assets/UBC__CPSC110__2016W1.ipynb"
      ]
     },
     "metadata": {},
     "output_type": "display_data"
    },
    {
     "data": {
      "text/html": [
       "<a href='testauto.ipynb' target='_blank'>testauto.ipynb</a><br>"
      ],
      "text/plain": [
       "/home/justinleong/Desktop/CTLT_MOOC_analysis/metric/testauto.ipynb"
      ]
     },
     "metadata": {},
     "output_type": "display_data"
    },
    {
     "name": "stdout",
     "output_type": "stream",
     "text": [
      "Error executing the notebook \"testauto\".\n",
      "\n",
      "See notebook \"./assets/UBC__CPSC210_101__2016W1.ipynb\" for the traceback.\n"
     ]
    },
    {
     "data": {
      "text/html": [
       "<a href='./assets/UBC__CPSC210_101__2016W1.ipynb' target='_blank'>./assets/UBC__CPSC210_101__2016W1.ipynb</a><br>"
      ],
      "text/plain": [
       "/home/justinleong/Desktop/CTLT_MOOC_analysis/metric/assets/UBC__CPSC210_101__2016W1.ipynb"
      ]
     },
     "metadata": {},
     "output_type": "display_data"
    },
    {
     "name": "stdout",
     "output_type": "stream",
     "text": [
      "ayy\n"
     ]
    },
    {
     "data": {
      "text/html": [
       "<a href='testauto.ipynb' target='_blank'>testauto.ipynb</a><br>"
      ],
      "text/plain": [
       "/home/justinleong/Desktop/CTLT_MOOC_analysis/metric/testauto.ipynb"
      ]
     },
     "metadata": {},
     "output_type": "display_data"
    },
    {
     "name": "stdout",
     "output_type": "stream",
     "text": [
      "Error executing the notebook \"testauto\".\n",
      "\n",
      "See notebook \"./assets/UBC__CPSC210__2015W2.ipynb\" for the traceback.\n"
     ]
    },
    {
     "data": {
      "text/html": [
       "<a href='./assets/UBC__CPSC210__2015W2.ipynb' target='_blank'>./assets/UBC__CPSC210__2015W2.ipynb</a><br>"
      ],
      "text/plain": [
       "/home/justinleong/Desktop/CTLT_MOOC_analysis/metric/assets/UBC__CPSC210__2015W2.ipynb"
      ]
     },
     "metadata": {},
     "output_type": "display_data"
    },
    {
     "name": "stdout",
     "output_type": "stream",
     "text": [
      "ayy\n"
     ]
    },
    {
     "data": {
      "text/html": [
       "<a href='testauto.ipynb' target='_blank'>testauto.ipynb</a><br>"
      ],
      "text/plain": [
       "/home/justinleong/Desktop/CTLT_MOOC_analysis/metric/testauto.ipynb"
      ]
     },
     "metadata": {},
     "output_type": "display_data"
    },
    {
     "name": "stdout",
     "output_type": "stream",
     "text": [
      "Error executing the notebook \"testauto\".\n",
      "\n",
      "See notebook \"./assets/UBC__CPSC210__2016_S2.ipynb\" for the traceback.\n"
     ]
    },
    {
     "data": {
      "text/html": [
       "<a href='./assets/UBC__CPSC210__2016_S2.ipynb' target='_blank'>./assets/UBC__CPSC210__2016_S2.ipynb</a><br>"
      ],
      "text/plain": [
       "/home/justinleong/Desktop/CTLT_MOOC_analysis/metric/assets/UBC__CPSC210__2016_S2.ipynb"
      ]
     },
     "metadata": {},
     "output_type": "display_data"
    },
    {
     "name": "stdout",
     "output_type": "stream",
     "text": [
      "ayy\n"
     ]
    },
    {
     "data": {
      "text/html": [
       "<a href='testauto.ipynb' target='_blank'>testauto.ipynb</a><br>"
      ],
      "text/plain": [
       "/home/justinleong/Desktop/CTLT_MOOC_analysis/metric/testauto.ipynb"
      ]
     },
     "metadata": {},
     "output_type": "display_data"
    },
    {
     "name": "stdout",
     "output_type": "stream",
     "text": [
      "Error executing the notebook \"testauto\".\n",
      "\n",
      "See notebook \"./assets/UBC__CPSC210__2016W1.ipynb\" for the traceback.\n"
     ]
    },
    {
     "data": {
      "text/html": [
       "<a href='./assets/UBC__CPSC210__2016W1.ipynb' target='_blank'>./assets/UBC__CPSC210__2016W1.ipynb</a><br>"
      ],
      "text/plain": [
       "/home/justinleong/Desktop/CTLT_MOOC_analysis/metric/assets/UBC__CPSC210__2016W1.ipynb"
      ]
     },
     "metadata": {},
     "output_type": "display_data"
    },
    {
     "name": "stdout",
     "output_type": "stream",
     "text": [
      "ayy\n"
     ]
    },
    {
     "data": {
      "text/html": [
       "<a href='testauto.ipynb' target='_blank'>testauto.ipynb</a><br>"
      ],
      "text/plain": [
       "/home/justinleong/Desktop/CTLT_MOOC_analysis/metric/testauto.ipynb"
      ]
     },
     "metadata": {},
     "output_type": "display_data"
    },
    {
     "name": "stdout",
     "output_type": "stream",
     "text": [
      "Error executing the notebook \"testauto\".\n",
      "\n",
      "See notebook \"./assets/UBC__CPSC210__2016W2.ipynb\" for the traceback.\n"
     ]
    },
    {
     "data": {
      "text/html": [
       "<a href='./assets/UBC__CPSC210__2016W2.ipynb' target='_blank'>./assets/UBC__CPSC210__2016W2.ipynb</a><br>"
      ],
      "text/plain": [
       "/home/justinleong/Desktop/CTLT_MOOC_analysis/metric/assets/UBC__CPSC210__2016W2.ipynb"
      ]
     },
     "metadata": {},
     "output_type": "display_data"
    },
    {
     "name": "stdout",
     "output_type": "stream",
     "text": [
      "ayy\n"
     ]
    },
    {
     "data": {
      "text/html": [
       "<a href='testauto.ipynb' target='_blank'>testauto.ipynb</a><br>"
      ],
      "text/plain": [
       "/home/justinleong/Desktop/CTLT_MOOC_analysis/metric/testauto.ipynb"
      ]
     },
     "metadata": {},
     "output_type": "display_data"
    },
    {
     "name": "stdout",
     "output_type": "stream",
     "text": [
      "Error executing the notebook \"testauto\".\n",
      "\n",
      "See notebook \"./assets/UBC__CPSC213__2016W2.ipynb\" for the traceback.\n"
     ]
    },
    {
     "data": {
      "text/html": [
       "<a href='./assets/UBC__CPSC213__2016W2.ipynb' target='_blank'>./assets/UBC__CPSC213__2016W2.ipynb</a><br>"
      ],
      "text/plain": [
       "/home/justinleong/Desktop/CTLT_MOOC_analysis/metric/assets/UBC__CPSC213__2016W2.ipynb"
      ]
     },
     "metadata": {},
     "output_type": "display_data"
    },
    {
     "name": "stdout",
     "output_type": "stream",
     "text": [
      "ayy\n"
     ]
    },
    {
     "data": {
      "text/html": [
       "<a href='testauto.ipynb' target='_blank'>testauto.ipynb</a><br>"
      ],
      "text/plain": [
       "/home/justinleong/Desktop/CTLT_MOOC_analysis/metric/testauto.ipynb"
      ]
     },
     "metadata": {},
     "output_type": "display_data"
    },
    {
     "name": "stdout",
     "output_type": "stream",
     "text": [
      "Error executing the notebook \"testauto\".\n",
      "\n",
      "See notebook \"./assets/UBC__CPSC313_202__2016W2.ipynb\" for the traceback.\n"
     ]
    },
    {
     "data": {
      "text/html": [
       "<a href='./assets/UBC__CPSC313_202__2016W2.ipynb' target='_blank'>./assets/UBC__CPSC313_202__2016W2.ipynb</a><br>"
      ],
      "text/plain": [
       "/home/justinleong/Desktop/CTLT_MOOC_analysis/metric/assets/UBC__CPSC313_202__2016W2.ipynb"
      ]
     },
     "metadata": {},
     "output_type": "display_data"
    },
    {
     "name": "stdout",
     "output_type": "stream",
     "text": [
      "ayy\n"
     ]
    },
    {
     "data": {
      "text/html": [
       "<a href='testauto.ipynb' target='_blank'>testauto.ipynb</a><br>"
      ],
      "text/plain": [
       "/home/justinleong/Desktop/CTLT_MOOC_analysis/metric/testauto.ipynb"
      ]
     },
     "metadata": {},
     "output_type": "display_data"
    },
    {
     "name": "stdout",
     "output_type": "stream",
     "text": [
      "Error executing the notebook \"testauto\".\n",
      "\n",
      "See notebook \"./assets/UBC__CPSC314_101__2016W1.ipynb\" for the traceback.\n"
     ]
    },
    {
     "data": {
      "text/html": [
       "<a href='./assets/UBC__CPSC314_101__2016W1.ipynb' target='_blank'>./assets/UBC__CPSC314_101__2016W1.ipynb</a><br>"
      ],
      "text/plain": [
       "/home/justinleong/Desktop/CTLT_MOOC_analysis/metric/assets/UBC__CPSC314_101__2016W1.ipynb"
      ]
     },
     "metadata": {},
     "output_type": "display_data"
    },
    {
     "name": "stdout",
     "output_type": "stream",
     "text": [
      "ayy\n"
     ]
    },
    {
     "data": {
      "text/html": [
       "<a href='testauto.ipynb' target='_blank'>testauto.ipynb</a><br>"
      ],
      "text/plain": [
       "/home/justinleong/Desktop/CTLT_MOOC_analysis/metric/testauto.ipynb"
      ]
     },
     "metadata": {},
     "output_type": "display_data"
    },
    {
     "name": "stdout",
     "output_type": "stream",
     "text": [
      "Error executing the notebook \"testauto\".\n",
      "\n",
      "See notebook \"./assets/UBC__CPSC317_001__2016W1.ipynb\" for the traceback.\n"
     ]
    },
    {
     "data": {
      "text/html": [
       "<a href='./assets/UBC__CPSC317_001__2016W1.ipynb' target='_blank'>./assets/UBC__CPSC317_001__2016W1.ipynb</a><br>"
      ],
      "text/plain": [
       "/home/justinleong/Desktop/CTLT_MOOC_analysis/metric/assets/UBC__CPSC317_001__2016W1.ipynb"
      ]
     },
     "metadata": {},
     "output_type": "display_data"
    },
    {
     "name": "stdout",
     "output_type": "stream",
     "text": [
      "ayy\n"
     ]
    },
    {
     "data": {
      "text/html": [
       "<a href='testauto.ipynb' target='_blank'>testauto.ipynb</a><br>"
      ],
      "text/plain": [
       "/home/justinleong/Desktop/CTLT_MOOC_analysis/metric/testauto.ipynb"
      ]
     },
     "metadata": {},
     "output_type": "display_data"
    },
    {
     "name": "stdout",
     "output_type": "stream",
     "text": [
      "Error executing the notebook \"testauto\".\n",
      "\n",
      "See notebook \"./assets/UBC__CPSC317_201__2016W2.ipynb\" for the traceback.\n"
     ]
    },
    {
     "data": {
      "text/html": [
       "<a href='./assets/UBC__CPSC317_201__2016W2.ipynb' target='_blank'>./assets/UBC__CPSC317_201__2016W2.ipynb</a><br>"
      ],
      "text/plain": [
       "/home/justinleong/Desktop/CTLT_MOOC_analysis/metric/assets/UBC__CPSC317_201__2016W2.ipynb"
      ]
     },
     "metadata": {},
     "output_type": "display_data"
    },
    {
     "name": "stdout",
     "output_type": "stream",
     "text": [
      "ayy\n"
     ]
    },
    {
     "data": {
      "text/html": [
       "<a href='testauto.ipynb' target='_blank'>testauto.ipynb</a><br>"
      ],
      "text/plain": [
       "/home/justinleong/Desktop/CTLT_MOOC_analysis/metric/testauto.ipynb"
      ]
     },
     "metadata": {},
     "output_type": "display_data"
    },
    {
     "name": "stdout",
     "output_type": "stream",
     "text": [
      "Error executing the notebook \"testauto\".\n",
      "\n",
      "See notebook \"./assets/UBC__CPSC421__2016.ipynb\" for the traceback.\n"
     ]
    },
    {
     "data": {
      "text/html": [
       "<a href='./assets/UBC__CPSC421__2016.ipynb' target='_blank'>./assets/UBC__CPSC421__2016.ipynb</a><br>"
      ],
      "text/plain": [
       "/home/justinleong/Desktop/CTLT_MOOC_analysis/metric/assets/UBC__CPSC421__2016.ipynb"
      ]
     },
     "metadata": {},
     "output_type": "display_data"
    },
    {
     "name": "stdout",
     "output_type": "stream",
     "text": [
      "ayy\n"
     ]
    },
    {
     "data": {
      "text/html": [
       "<a href='testauto.ipynb' target='_blank'>testauto.ipynb</a><br>"
      ],
      "text/plain": [
       "/home/justinleong/Desktop/CTLT_MOOC_analysis/metric/testauto.ipynb"
      ]
     },
     "metadata": {},
     "output_type": "display_data"
    },
    {
     "name": "stdout",
     "output_type": "stream",
     "text": [
      "Error executing the notebook \"testauto\".\n",
      "\n",
      "See notebook \"./assets/UBC__CRWR200__2017.ipynb\" for the traceback.\n"
     ]
    },
    {
     "data": {
      "text/html": [
       "<a href='./assets/UBC__CRWR200__2017.ipynb' target='_blank'>./assets/UBC__CRWR200__2017.ipynb</a><br>"
      ],
      "text/plain": [
       "/home/justinleong/Desktop/CTLT_MOOC_analysis/metric/assets/UBC__CRWR200__2017.ipynb"
      ]
     },
     "metadata": {},
     "output_type": "display_data"
    },
    {
     "name": "stdout",
     "output_type": "stream",
     "text": [
      "ayy\n"
     ]
    },
    {
     "data": {
      "text/html": [
       "<a href='testauto.ipynb' target='_blank'>testauto.ipynb</a><br>"
      ],
      "text/plain": [
       "/home/justinleong/Desktop/CTLT_MOOC_analysis/metric/testauto.ipynb"
      ]
     },
     "metadata": {},
     "output_type": "display_data"
    },
    {
     "name": "stdout",
     "output_type": "stream",
     "text": [
      "Error executing the notebook \"testauto\".\n",
      "\n",
      "See notebook \"./assets/UBC__CRWR509K_003__2016W1.ipynb\" for the traceback.\n"
     ]
    },
    {
     "data": {
      "text/html": [
       "<a href='./assets/UBC__CRWR509K_003__2016W1.ipynb' target='_blank'>./assets/UBC__CRWR509K_003__2016W1.ipynb</a><br>"
      ],
      "text/plain": [
       "/home/justinleong/Desktop/CTLT_MOOC_analysis/metric/assets/UBC__CRWR509K_003__2016W1.ipynb"
      ]
     },
     "metadata": {},
     "output_type": "display_data"
    },
    {
     "name": "stdout",
     "output_type": "stream",
     "text": [
      "ayy\n"
     ]
    },
    {
     "data": {
      "text/html": [
       "<a href='testauto.ipynb' target='_blank'>testauto.ipynb</a><br>"
      ],
      "text/plain": [
       "/home/justinleong/Desktop/CTLT_MOOC_analysis/metric/testauto.ipynb"
      ]
     },
     "metadata": {},
     "output_type": "display_data"
    },
    {
     "name": "stdout",
     "output_type": "stream",
     "text": [
      "Error executing the notebook \"testauto\".\n",
      "\n",
      "See notebook \"./assets/UBC__CS_HCI_101__2015_T2.ipynb\" for the traceback.\n"
     ]
    },
    {
     "data": {
      "text/html": [
       "<a href='./assets/UBC__CS_HCI_101__2015_T2.ipynb' target='_blank'>./assets/UBC__CS_HCI_101__2015_T2.ipynb</a><br>"
      ],
      "text/plain": [
       "/home/justinleong/Desktop/CTLT_MOOC_analysis/metric/assets/UBC__CS_HCI_101__2015_T2.ipynb"
      ]
     },
     "metadata": {},
     "output_type": "display_data"
    },
    {
     "name": "stdout",
     "output_type": "stream",
     "text": [
      "ayy\n"
     ]
    },
    {
     "data": {
      "text/html": [
       "<a href='testauto.ipynb' target='_blank'>testauto.ipynb</a><br>"
      ],
      "text/plain": [
       "/home/justinleong/Desktop/CTLT_MOOC_analysis/metric/testauto.ipynb"
      ]
     },
     "metadata": {},
     "output_type": "display_data"
    },
    {
     "name": "stdout",
     "output_type": "stream",
     "text": [
      "Error executing the notebook \"testauto\".\n",
      "\n",
      "See notebook \"./assets/UBC__DHRMC101__2015W2.ipynb\" for the traceback.\n"
     ]
    },
    {
     "data": {
      "text/html": [
       "<a href='./assets/UBC__DHRMC101__2015W2.ipynb' target='_blank'>./assets/UBC__DHRMC101__2015W2.ipynb</a><br>"
      ],
      "text/plain": [
       "/home/justinleong/Desktop/CTLT_MOOC_analysis/metric/assets/UBC__DHRMC101__2015W2.ipynb"
      ]
     },
     "metadata": {},
     "output_type": "display_data"
    },
    {
     "name": "stdout",
     "output_type": "stream",
     "text": [
      "ayy\n"
     ]
    },
    {
     "data": {
      "text/html": [
       "<a href='testauto.ipynb' target='_blank'>testauto.ipynb</a><br>"
      ],
      "text/plain": [
       "/home/justinleong/Desktop/CTLT_MOOC_analysis/metric/testauto.ipynb"
      ]
     },
     "metadata": {},
     "output_type": "display_data"
    },
    {
     "name": "stdout",
     "output_type": "stream",
     "text": [
      "Error executing the notebook \"testauto\".\n",
      "\n",
      "See notebook \"./assets/UBC__DHRMC101__2016W1.ipynb\" for the traceback.\n"
     ]
    },
    {
     "data": {
      "text/html": [
       "<a href='./assets/UBC__DHRMC101__2016W1.ipynb' target='_blank'>./assets/UBC__DHRMC101__2016W1.ipynb</a><br>"
      ],
      "text/plain": [
       "/home/justinleong/Desktop/CTLT_MOOC_analysis/metric/assets/UBC__DHRMC101__2016W1.ipynb"
      ]
     },
     "metadata": {},
     "output_type": "display_data"
    },
    {
     "name": "stdout",
     "output_type": "stream",
     "text": [
      "ayy\n"
     ]
    },
    {
     "data": {
      "text/html": [
       "<a href='testauto.ipynb' target='_blank'>testauto.ipynb</a><br>"
      ],
      "text/plain": [
       "/home/justinleong/Desktop/CTLT_MOOC_analysis/metric/testauto.ipynb"
      ]
     },
     "metadata": {},
     "output_type": "display_data"
    },
    {
     "name": "stdout",
     "output_type": "stream",
     "text": [
      "Error executing the notebook \"testauto\".\n",
      "\n",
      "See notebook \"./assets/UBC__DHRMC101_DFP__2016_W1.ipynb\" for the traceback.\n"
     ]
    },
    {
     "data": {
      "text/html": [
       "<a href='./assets/UBC__DHRMC101_DFP__2016_W1.ipynb' target='_blank'>./assets/UBC__DHRMC101_DFP__2016_W1.ipynb</a><br>"
      ],
      "text/plain": [
       "/home/justinleong/Desktop/CTLT_MOOC_analysis/metric/assets/UBC__DHRMC101_DFP__2016_W1.ipynb"
      ]
     },
     "metadata": {},
     "output_type": "display_data"
    },
    {
     "name": "stdout",
     "output_type": "stream",
     "text": [
      "ayy\n"
     ]
    },
    {
     "data": {
      "text/html": [
       "<a href='testauto.ipynb' target='_blank'>testauto.ipynb</a><br>"
      ],
      "text/plain": [
       "/home/justinleong/Desktop/CTLT_MOOC_analysis/metric/testauto.ipynb"
      ]
     },
     "metadata": {},
     "output_type": "display_data"
    },
    {
     "name": "stdout",
     "output_type": "stream",
     "text": [
      "Error executing the notebook \"testauto\".\n",
      "\n",
      "See notebook \"./assets/UBC__EECE476__2014_T2.ipynb\" for the traceback.\n"
     ]
    },
    {
     "data": {
      "text/html": [
       "<a href='./assets/UBC__EECE476__2014_T2.ipynb' target='_blank'>./assets/UBC__EECE476__2014_T2.ipynb</a><br>"
      ],
      "text/plain": [
       "/home/justinleong/Desktop/CTLT_MOOC_analysis/metric/assets/UBC__EECE476__2014_T2.ipynb"
      ]
     },
     "metadata": {},
     "output_type": "display_data"
    },
    {
     "name": "stdout",
     "output_type": "stream",
     "text": [
      "ayy\n"
     ]
    },
    {
     "data": {
      "text/html": [
       "<a href='testauto.ipynb' target='_blank'>testauto.ipynb</a><br>"
      ],
      "text/plain": [
       "/home/justinleong/Desktop/CTLT_MOOC_analysis/metric/testauto.ipynb"
      ]
     },
     "metadata": {},
     "output_type": "display_data"
    },
    {
     "name": "stdout",
     "output_type": "stream",
     "text": [
      "Error executing the notebook \"testauto\".\n",
      "\n",
      "See notebook \"./assets/UBC__EHILL01__2016.ipynb\" for the traceback.\n"
     ]
    },
    {
     "data": {
      "text/html": [
       "<a href='./assets/UBC__EHILL01__2016.ipynb' target='_blank'>./assets/UBC__EHILL01__2016.ipynb</a><br>"
      ],
      "text/plain": [
       "/home/justinleong/Desktop/CTLT_MOOC_analysis/metric/assets/UBC__EHILL01__2016.ipynb"
      ]
     },
     "metadata": {},
     "output_type": "display_data"
    },
    {
     "name": "stdout",
     "output_type": "stream",
     "text": [
      "ayy\n"
     ]
    },
    {
     "data": {
      "text/html": [
       "<a href='testauto.ipynb' target='_blank'>testauto.ipynb</a><br>"
      ],
      "text/plain": [
       "/home/justinleong/Desktop/CTLT_MOOC_analysis/metric/testauto.ipynb"
      ]
     },
     "metadata": {},
     "output_type": "display_data"
    },
    {
     "name": "stdout",
     "output_type": "stream",
     "text": [
      "Error executing the notebook \"testauto\".\n",
      "\n",
      "See notebook \"./assets/UBC__ELEC311_101__2016W1.ipynb\" for the traceback.\n"
     ]
    },
    {
     "data": {
      "text/html": [
       "<a href='./assets/UBC__ELEC311_101__2016W1.ipynb' target='_blank'>./assets/UBC__ELEC311_101__2016W1.ipynb</a><br>"
      ],
      "text/plain": [
       "/home/justinleong/Desktop/CTLT_MOOC_analysis/metric/assets/UBC__ELEC311_101__2016W1.ipynb"
      ]
     },
     "metadata": {},
     "output_type": "display_data"
    },
    {
     "name": "stdout",
     "output_type": "stream",
     "text": [
      "ayy\n"
     ]
    },
    {
     "data": {
      "text/html": [
       "<a href='testauto.ipynb' target='_blank'>testauto.ipynb</a><br>"
      ],
      "text/plain": [
       "/home/justinleong/Desktop/CTLT_MOOC_analysis/metric/testauto.ipynb"
      ]
     },
     "metadata": {},
     "output_type": "display_data"
    },
    {
     "name": "stdout",
     "output_type": "stream",
     "text": [
      "Error executing the notebook \"testauto\".\n",
      "\n",
      "See notebook \"./assets/UBC__ELEC413_201__2015W2.ipynb\" for the traceback.\n"
     ]
    },
    {
     "data": {
      "text/html": [
       "<a href='./assets/UBC__ELEC413_201__2015W2.ipynb' target='_blank'>./assets/UBC__ELEC413_201__2015W2.ipynb</a><br>"
      ],
      "text/plain": [
       "/home/justinleong/Desktop/CTLT_MOOC_analysis/metric/assets/UBC__ELEC413_201__2015W2.ipynb"
      ]
     },
     "metadata": {},
     "output_type": "display_data"
    },
    {
     "name": "stdout",
     "output_type": "stream",
     "text": [
      "ayy\n"
     ]
    },
    {
     "data": {
      "text/html": [
       "<a href='testauto.ipynb' target='_blank'>testauto.ipynb</a><br>"
      ],
      "text/plain": [
       "/home/justinleong/Desktop/CTLT_MOOC_analysis/metric/testauto.ipynb"
      ]
     },
     "metadata": {},
     "output_type": "display_data"
    },
    {
     "name": "stdout",
     "output_type": "stream",
     "text": [
      "Error executing the notebook \"testauto\".\n",
      "\n",
      "See notebook \"./assets/UBC__ELEC463_101__2016W1.ipynb\" for the traceback.\n"
     ]
    },
    {
     "data": {
      "text/html": [
       "<a href='./assets/UBC__ELEC463_101__2016W1.ipynb' target='_blank'>./assets/UBC__ELEC463_101__2016W1.ipynb</a><br>"
      ],
      "text/plain": [
       "/home/justinleong/Desktop/CTLT_MOOC_analysis/metric/assets/UBC__ELEC463_101__2016W1.ipynb"
      ]
     },
     "metadata": {},
     "output_type": "display_data"
    },
    {
     "name": "stdout",
     "output_type": "stream",
     "text": [
      "ayy\n"
     ]
    },
    {
     "data": {
      "text/html": [
       "<a href='testauto.ipynb' target='_blank'>testauto.ipynb</a><br>"
      ],
      "text/plain": [
       "/home/justinleong/Desktop/CTLT_MOOC_analysis/metric/testauto.ipynb"
      ]
     },
     "metadata": {},
     "output_type": "display_data"
    },
    {
     "name": "stdout",
     "output_type": "stream",
     "text": [
      "Error executing the notebook \"testauto\".\n",
      "\n",
      "See notebook \"./assets/UBC__ELEC463_201__2015W2.ipynb\" for the traceback.\n"
     ]
    },
    {
     "data": {
      "text/html": [
       "<a href='./assets/UBC__ELEC463_201__2015W2.ipynb' target='_blank'>./assets/UBC__ELEC463_201__2015W2.ipynb</a><br>"
      ],
      "text/plain": [
       "/home/justinleong/Desktop/CTLT_MOOC_analysis/metric/assets/UBC__ELEC463_201__2015W2.ipynb"
      ]
     },
     "metadata": {},
     "output_type": "display_data"
    },
    {
     "name": "stdout",
     "output_type": "stream",
     "text": [
      "ayy\n"
     ]
    },
    {
     "data": {
      "text/html": [
       "<a href='testauto.ipynb' target='_blank'>testauto.ipynb</a><br>"
      ],
      "text/plain": [
       "/home/justinleong/Desktop/CTLT_MOOC_analysis/metric/testauto.ipynb"
      ]
     },
     "metadata": {},
     "output_type": "display_data"
    },
    {
     "name": "stdout",
     "output_type": "stream",
     "text": [
      "Error executing the notebook \"testauto\".\n",
      "\n",
      "See notebook \"./assets/UBC__EOSC329_101__2016_W1.ipynb\" for the traceback.\n"
     ]
    },
    {
     "data": {
      "text/html": [
       "<a href='./assets/UBC__EOSC329_101__2016_W1.ipynb' target='_blank'>./assets/UBC__EOSC329_101__2016_W1.ipynb</a><br>"
      ],
      "text/plain": [
       "/home/justinleong/Desktop/CTLT_MOOC_analysis/metric/assets/UBC__EOSC329_101__2016_W1.ipynb"
      ]
     },
     "metadata": {},
     "output_type": "display_data"
    },
    {
     "name": "stdout",
     "output_type": "stream",
     "text": [
      "ayy\n"
     ]
    },
    {
     "data": {
      "text/html": [
       "<a href='testauto.ipynb' target='_blank'>testauto.ipynb</a><br>"
      ],
      "text/plain": [
       "/home/justinleong/Desktop/CTLT_MOOC_analysis/metric/testauto.ipynb"
      ]
     },
     "metadata": {},
     "output_type": "display_data"
    },
    {
     "name": "stdout",
     "output_type": "stream",
     "text": [
      "Error executing the notebook \"testauto\".\n",
      "\n",
      "See notebook \"./assets/UBC__ESEOW01__2016.ipynb\" for the traceback.\n"
     ]
    },
    {
     "data": {
      "text/html": [
       "<a href='./assets/UBC__ESEOW01__2016.ipynb' target='_blank'>./assets/UBC__ESEOW01__2016.ipynb</a><br>"
      ],
      "text/plain": [
       "/home/justinleong/Desktop/CTLT_MOOC_analysis/metric/assets/UBC__ESEOW01__2016.ipynb"
      ]
     },
     "metadata": {},
     "output_type": "display_data"
    },
    {
     "name": "stdout",
     "output_type": "stream",
     "text": [
      "ayy\n"
     ]
    },
    {
     "data": {
      "text/html": [
       "<a href='testauto.ipynb' target='_blank'>testauto.ipynb</a><br>"
      ],
      "text/plain": [
       "/home/justinleong/Desktop/CTLT_MOOC_analysis/metric/testauto.ipynb"
      ]
     },
     "metadata": {},
     "output_type": "display_data"
    },
    {
     "name": "stdout",
     "output_type": "stream",
     "text": [
      "Error executing the notebook \"testauto\".\n",
      "\n",
      "See notebook \"./assets/UBC__ET101__2017T1.ipynb\" for the traceback.\n"
     ]
    },
    {
     "data": {
      "text/html": [
       "<a href='./assets/UBC__ET101__2017T1.ipynb' target='_blank'>./assets/UBC__ET101__2017T1.ipynb</a><br>"
      ],
      "text/plain": [
       "/home/justinleong/Desktop/CTLT_MOOC_analysis/metric/assets/UBC__ET101__2017T1.ipynb"
      ]
     },
     "metadata": {},
     "output_type": "display_data"
    },
    {
     "name": "stdout",
     "output_type": "stream",
     "text": [
      "ayy\n"
     ]
    },
    {
     "data": {
      "text/html": [
       "<a href='testauto.ipynb' target='_blank'>testauto.ipynb</a><br>"
      ],
      "text/plain": [
       "/home/justinleong/Desktop/CTLT_MOOC_analysis/metric/testauto.ipynb"
      ]
     },
     "metadata": {},
     "output_type": "display_data"
    },
    {
     "name": "stdout",
     "output_type": "stream",
     "text": [
      "Error executing the notebook \"testauto\".\n",
      "\n",
      "See notebook \"./assets/UBC__ETEC533__2016W2.ipynb\" for the traceback.\n"
     ]
    },
    {
     "data": {
      "text/html": [
       "<a href='./assets/UBC__ETEC533__2016W2.ipynb' target='_blank'>./assets/UBC__ETEC533__2016W2.ipynb</a><br>"
      ],
      "text/plain": [
       "/home/justinleong/Desktop/CTLT_MOOC_analysis/metric/assets/UBC__ETEC533__2016W2.ipynb"
      ]
     },
     "metadata": {},
     "output_type": "display_data"
    },
    {
     "name": "stdout",
     "output_type": "stream",
     "text": [
      "ayy\n"
     ]
    },
    {
     "data": {
      "text/html": [
       "<a href='testauto.ipynb' target='_blank'>testauto.ipynb</a><br>"
      ],
      "text/plain": [
       "/home/justinleong/Desktop/CTLT_MOOC_analysis/metric/testauto.ipynb"
      ]
     },
     "metadata": {},
     "output_type": "display_data"
    },
    {
     "name": "stdout",
     "output_type": "stream",
     "text": [
      "Error executing the notebook \"testauto\".\n",
      "\n",
      "See notebook \"./assets/UBC__ETEC565__2016.ipynb\" for the traceback.\n"
     ]
    },
    {
     "data": {
      "text/html": [
       "<a href='./assets/UBC__ETEC565__2016.ipynb' target='_blank'>./assets/UBC__ETEC565__2016.ipynb</a><br>"
      ],
      "text/plain": [
       "/home/justinleong/Desktop/CTLT_MOOC_analysis/metric/assets/UBC__ETEC565__2016.ipynb"
      ]
     },
     "metadata": {},
     "output_type": "display_data"
    },
    {
     "name": "stdout",
     "output_type": "stream",
     "text": [
      "ayy\n"
     ]
    },
    {
     "data": {
      "text/html": [
       "<a href='testauto.ipynb' target='_blank'>testauto.ipynb</a><br>"
      ],
      "text/plain": [
       "/home/justinleong/Desktop/CTLT_MOOC_analysis/metric/testauto.ipynb"
      ]
     },
     "metadata": {},
     "output_type": "display_data"
    },
    {
     "name": "stdout",
     "output_type": "stream",
     "text": [
      "Error executing the notebook \"testauto\".\n",
      "\n",
      "See notebook \"./assets/UBC__ETEC565A1__2016W.ipynb\" for the traceback.\n"
     ]
    },
    {
     "data": {
      "text/html": [
       "<a href='./assets/UBC__ETEC565A1__2016W.ipynb' target='_blank'>./assets/UBC__ETEC565A1__2016W.ipynb</a><br>"
      ],
      "text/plain": [
       "/home/justinleong/Desktop/CTLT_MOOC_analysis/metric/assets/UBC__ETEC565A1__2016W.ipynb"
      ]
     },
     "metadata": {},
     "output_type": "display_data"
    },
    {
     "name": "stdout",
     "output_type": "stream",
     "text": [
      "ayy\n"
     ]
    },
    {
     "data": {
      "text/html": [
       "<a href='testauto.ipynb' target='_blank'>testauto.ipynb</a><br>"
      ],
      "text/plain": [
       "/home/justinleong/Desktop/CTLT_MOOC_analysis/metric/testauto.ipynb"
      ]
     },
     "metadata": {},
     "output_type": "display_data"
    },
    {
     "name": "stdout",
     "output_type": "stream",
     "text": [
      "Error executing the notebook \"testauto\".\n",
      "\n",
      "See notebook \"./assets/UBC__ETEC565A2__2016.ipynb\" for the traceback.\n"
     ]
    },
    {
     "data": {
      "text/html": [
       "<a href='./assets/UBC__ETEC565A2__2016.ipynb' target='_blank'>./assets/UBC__ETEC565A2__2016.ipynb</a><br>"
      ],
      "text/plain": [
       "/home/justinleong/Desktop/CTLT_MOOC_analysis/metric/assets/UBC__ETEC565A2__2016.ipynb"
      ]
     },
     "metadata": {},
     "output_type": "display_data"
    },
    {
     "name": "stdout",
     "output_type": "stream",
     "text": [
      "ayy\n"
     ]
    },
    {
     "data": {
      "text/html": [
       "<a href='testauto.ipynb' target='_blank'>testauto.ipynb</a><br>"
      ],
      "text/plain": [
       "/home/justinleong/Desktop/CTLT_MOOC_analysis/metric/testauto.ipynb"
      ]
     },
     "metadata": {},
     "output_type": "display_data"
    },
    {
     "name": "stdout",
     "output_type": "stream",
     "text": [
      "Error executing the notebook \"testauto\".\n",
      "\n",
      "See notebook \"./assets/UBC__ETEC565A_64B__2016.ipynb\" for the traceback.\n"
     ]
    },
    {
     "data": {
      "text/html": [
       "<a href='./assets/UBC__ETEC565A_64B__2016.ipynb' target='_blank'>./assets/UBC__ETEC565A_64B__2016.ipynb</a><br>"
      ],
      "text/plain": [
       "/home/justinleong/Desktop/CTLT_MOOC_analysis/metric/assets/UBC__ETEC565A_64B__2016.ipynb"
      ]
     },
     "metadata": {},
     "output_type": "display_data"
    },
    {
     "name": "stdout",
     "output_type": "stream",
     "text": [
      "ayy\n"
     ]
    },
    {
     "data": {
      "text/html": [
       "<a href='testauto.ipynb' target='_blank'>testauto.ipynb</a><br>"
      ],
      "text/plain": [
       "/home/justinleong/Desktop/CTLT_MOOC_analysis/metric/testauto.ipynb"
      ]
     },
     "metadata": {},
     "output_type": "display_data"
    },
    {
     "name": "stdout",
     "output_type": "stream",
     "text": [
      "Error executing the notebook \"testauto\".\n",
      "\n",
      "See notebook \"./assets/UBC__FGL9__2016_S2.ipynb\" for the traceback.\n"
     ]
    },
    {
     "data": {
      "text/html": [
       "<a href='./assets/UBC__FGL9__2016_S2.ipynb' target='_blank'>./assets/UBC__FGL9__2016_S2.ipynb</a><br>"
      ],
      "text/plain": [
       "/home/justinleong/Desktop/CTLT_MOOC_analysis/metric/assets/UBC__FGL9__2016_S2.ipynb"
      ]
     },
     "metadata": {},
     "output_type": "display_data"
    },
    {
     "name": "stdout",
     "output_type": "stream",
     "text": [
      "ayy\n"
     ]
    },
    {
     "data": {
      "text/html": [
       "<a href='testauto.ipynb' target='_blank'>testauto.ipynb</a><br>"
      ],
      "text/plain": [
       "/home/justinleong/Desktop/CTLT_MOOC_analysis/metric/testauto.ipynb"
      ]
     },
     "metadata": {},
     "output_type": "display_data"
    },
    {
     "name": "stdout",
     "output_type": "stream",
     "text": [
      "Error executing the notebook \"testauto\".\n",
      "\n",
      "See notebook \"./assets/UBC__FIPR101_001__2016W1.ipynb\" for the traceback.\n"
     ]
    },
    {
     "data": {
      "text/html": [
       "<a href='./assets/UBC__FIPR101_001__2016W1.ipynb' target='_blank'>./assets/UBC__FIPR101_001__2016W1.ipynb</a><br>"
      ],
      "text/plain": [
       "/home/justinleong/Desktop/CTLT_MOOC_analysis/metric/assets/UBC__FIPR101_001__2016W1.ipynb"
      ]
     },
     "metadata": {},
     "output_type": "display_data"
    },
    {
     "name": "stdout",
     "output_type": "stream",
     "text": [
      "ayy\n"
     ]
    },
    {
     "data": {
      "text/html": [
       "<a href='testauto.ipynb' target='_blank'>testauto.ipynb</a><br>"
      ],
      "text/plain": [
       "/home/justinleong/Desktop/CTLT_MOOC_analysis/metric/testauto.ipynb"
      ]
     },
     "metadata": {},
     "output_type": "display_data"
    },
    {
     "name": "stdout",
     "output_type": "stream",
     "text": [
      "Error executing the notebook \"testauto\".\n",
      "\n",
      "See notebook \"./assets/UBC__FIPR233_001__2016W1.ipynb\" for the traceback.\n"
     ]
    },
    {
     "data": {
      "text/html": [
       "<a href='./assets/UBC__FIPR233_001__2016W1.ipynb' target='_blank'>./assets/UBC__FIPR233_001__2016W1.ipynb</a><br>"
      ],
      "text/plain": [
       "/home/justinleong/Desktop/CTLT_MOOC_analysis/metric/assets/UBC__FIPR233_001__2016W1.ipynb"
      ]
     },
     "metadata": {},
     "output_type": "display_data"
    },
    {
     "name": "stdout",
     "output_type": "stream",
     "text": [
      "ayy\n"
     ]
    },
    {
     "data": {
      "text/html": [
       "<a href='testauto.ipynb' target='_blank'>testauto.ipynb</a><br>"
      ],
      "text/plain": [
       "/home/justinleong/Desktop/CTLT_MOOC_analysis/metric/testauto.ipynb"
      ]
     },
     "metadata": {},
     "output_type": "display_data"
    },
    {
     "name": "stdout",
     "output_type": "stream",
     "text": [
      "Error executing the notebook \"testauto\".\n",
      "\n",
      "See notebook \"./assets/UBC__FIPR436A_001__2016W1.ipynb\" for the traceback.\n"
     ]
    },
    {
     "data": {
      "text/html": [
       "<a href='./assets/UBC__FIPR436A_001__2016W1.ipynb' target='_blank'>./assets/UBC__FIPR436A_001__2016W1.ipynb</a><br>"
      ],
      "text/plain": [
       "/home/justinleong/Desktop/CTLT_MOOC_analysis/metric/assets/UBC__FIPR436A_001__2016W1.ipynb"
      ]
     },
     "metadata": {},
     "output_type": "display_data"
    },
    {
     "name": "stdout",
     "output_type": "stream",
     "text": [
      "ayy\n"
     ]
    },
    {
     "data": {
      "text/html": [
       "<a href='testauto.ipynb' target='_blank'>testauto.ipynb</a><br>"
      ],
      "text/plain": [
       "/home/justinleong/Desktop/CTLT_MOOC_analysis/metric/testauto.ipynb"
      ]
     },
     "metadata": {},
     "output_type": "display_data"
    },
    {
     "name": "stdout",
     "output_type": "stream",
     "text": [
      "Error executing the notebook \"testauto\".\n",
      "\n",
      "See notebook \"./assets/UBC__FNH300_001__2016W1.ipynb\" for the traceback.\n"
     ]
    },
    {
     "data": {
      "text/html": [
       "<a href='./assets/UBC__FNH300_001__2016W1.ipynb' target='_blank'>./assets/UBC__FNH300_001__2016W1.ipynb</a><br>"
      ],
      "text/plain": [
       "/home/justinleong/Desktop/CTLT_MOOC_analysis/metric/assets/UBC__FNH300_001__2016W1.ipynb"
      ]
     },
     "metadata": {},
     "output_type": "display_data"
    },
    {
     "name": "stdout",
     "output_type": "stream",
     "text": [
      "ayy\n"
     ]
    },
    {
     "data": {
      "text/html": [
       "<a href='testauto.ipynb' target='_blank'>testauto.ipynb</a><br>"
      ],
      "text/plain": [
       "/home/justinleong/Desktop/CTLT_MOOC_analysis/metric/testauto.ipynb"
      ]
     },
     "metadata": {},
     "output_type": "display_data"
    },
    {
     "name": "stdout",
     "output_type": "stream",
     "text": [
      "Error executing the notebook \"testauto\".\n",
      "\n",
      "See notebook \"./assets/UBC__FSP_01__2015W2.ipynb\" for the traceback.\n"
     ]
    },
    {
     "data": {
      "text/html": [
       "<a href='./assets/UBC__FSP_01__2015W2.ipynb' target='_blank'>./assets/UBC__FSP_01__2015W2.ipynb</a><br>"
      ],
      "text/plain": [
       "/home/justinleong/Desktop/CTLT_MOOC_analysis/metric/assets/UBC__FSP_01__2015W2.ipynb"
      ]
     },
     "metadata": {},
     "output_type": "display_data"
    },
    {
     "name": "stdout",
     "output_type": "stream",
     "text": [
      "ayy\n"
     ]
    },
    {
     "data": {
      "text/html": [
       "<a href='testauto.ipynb' target='_blank'>testauto.ipynb</a><br>"
      ],
      "text/plain": [
       "/home/justinleong/Desktop/CTLT_MOOC_analysis/metric/testauto.ipynb"
      ]
     },
     "metadata": {},
     "output_type": "display_data"
    },
    {
     "name": "stdout",
     "output_type": "stream",
     "text": [
      "Error executing the notebook \"testauto\".\n",
      "\n",
      "See notebook \"./assets/UBC__FSP02__2015W2.ipynb\" for the traceback.\n"
     ]
    },
    {
     "data": {
      "text/html": [
       "<a href='./assets/UBC__FSP02__2015W2.ipynb' target='_blank'>./assets/UBC__FSP02__2015W2.ipynb</a><br>"
      ],
      "text/plain": [
       "/home/justinleong/Desktop/CTLT_MOOC_analysis/metric/assets/UBC__FSP02__2015W2.ipynb"
      ]
     },
     "metadata": {},
     "output_type": "display_data"
    },
    {
     "name": "stdout",
     "output_type": "stream",
     "text": [
      "ayy\n"
     ]
    },
    {
     "data": {
      "text/html": [
       "<a href='testauto.ipynb' target='_blank'>testauto.ipynb</a><br>"
      ],
      "text/plain": [
       "/home/justinleong/Desktop/CTLT_MOOC_analysis/metric/testauto.ipynb"
      ]
     },
     "metadata": {},
     "output_type": "display_data"
    },
    {
     "name": "stdout",
     "output_type": "stream",
     "text": [
      "Error executing the notebook \"testauto\".\n",
      "\n",
      "See notebook \"./assets/UBC__FSP03__2015W2.ipynb\" for the traceback.\n"
     ]
    },
    {
     "data": {
      "text/html": [
       "<a href='./assets/UBC__FSP03__2015W2.ipynb' target='_blank'>./assets/UBC__FSP03__2015W2.ipynb</a><br>"
      ],
      "text/plain": [
       "/home/justinleong/Desktop/CTLT_MOOC_analysis/metric/assets/UBC__FSP03__2015W2.ipynb"
      ]
     },
     "metadata": {},
     "output_type": "display_data"
    },
    {
     "name": "stdout",
     "output_type": "stream",
     "text": [
      "ayy\n"
     ]
    },
    {
     "data": {
      "text/html": [
       "<a href='testauto.ipynb' target='_blank'>testauto.ipynb</a><br>"
      ],
      "text/plain": [
       "/home/justinleong/Desktop/CTLT_MOOC_analysis/metric/testauto.ipynb"
      ]
     },
     "metadata": {},
     "output_type": "display_data"
    },
    {
     "name": "stdout",
     "output_type": "stream",
     "text": [
      "Error executing the notebook \"testauto\".\n",
      "\n",
      "See notebook \"./assets/UBC__FSP04__2015W2.ipynb\" for the traceback.\n"
     ]
    },
    {
     "data": {
      "text/html": [
       "<a href='./assets/UBC__FSP04__2015W2.ipynb' target='_blank'>./assets/UBC__FSP04__2015W2.ipynb</a><br>"
      ],
      "text/plain": [
       "/home/justinleong/Desktop/CTLT_MOOC_analysis/metric/assets/UBC__FSP04__2015W2.ipynb"
      ]
     },
     "metadata": {},
     "output_type": "display_data"
    },
    {
     "name": "stdout",
     "output_type": "stream",
     "text": [
      "ayy\n"
     ]
    },
    {
     "data": {
      "text/html": [
       "<a href='testauto.ipynb' target='_blank'>testauto.ipynb</a><br>"
      ],
      "text/plain": [
       "/home/justinleong/Desktop/CTLT_MOOC_analysis/metric/testauto.ipynb"
      ]
     },
     "metadata": {},
     "output_type": "display_data"
    },
    {
     "name": "stdout",
     "output_type": "stream",
     "text": [
      "Error executing the notebook \"testauto\".\n",
      "\n",
      "See notebook \"./assets/UBC__FSP05__2015W2.ipynb\" for the traceback.\n"
     ]
    },
    {
     "data": {
      "text/html": [
       "<a href='./assets/UBC__FSP05__2015W2.ipynb' target='_blank'>./assets/UBC__FSP05__2015W2.ipynb</a><br>"
      ],
      "text/plain": [
       "/home/justinleong/Desktop/CTLT_MOOC_analysis/metric/assets/UBC__FSP05__2015W2.ipynb"
      ]
     },
     "metadata": {},
     "output_type": "display_data"
    },
    {
     "name": "stdout",
     "output_type": "stream",
     "text": [
      "ayy\n"
     ]
    },
    {
     "data": {
      "text/html": [
       "<a href='testauto.ipynb' target='_blank'>testauto.ipynb</a><br>"
      ],
      "text/plain": [
       "/home/justinleong/Desktop/CTLT_MOOC_analysis/metric/testauto.ipynb"
      ]
     },
     "metadata": {},
     "output_type": "display_data"
    },
    {
     "name": "stdout",
     "output_type": "stream",
     "text": [
      "Error executing the notebook \"testauto\".\n",
      "\n",
      "See notebook \"./assets/UBC__FSP06__2015W2.ipynb\" for the traceback.\n"
     ]
    },
    {
     "data": {
      "text/html": [
       "<a href='./assets/UBC__FSP06__2015W2.ipynb' target='_blank'>./assets/UBC__FSP06__2015W2.ipynb</a><br>"
      ],
      "text/plain": [
       "/home/justinleong/Desktop/CTLT_MOOC_analysis/metric/assets/UBC__FSP06__2015W2.ipynb"
      ]
     },
     "metadata": {},
     "output_type": "display_data"
    },
    {
     "name": "stdout",
     "output_type": "stream",
     "text": [
      "ayy\n"
     ]
    },
    {
     "data": {
      "text/html": [
       "<a href='testauto.ipynb' target='_blank'>testauto.ipynb</a><br>"
      ],
      "text/plain": [
       "/home/justinleong/Desktop/CTLT_MOOC_analysis/metric/testauto.ipynb"
      ]
     },
     "metadata": {},
     "output_type": "display_data"
    },
    {
     "name": "stdout",
     "output_type": "stream",
     "text": [
      "Error executing the notebook \"testauto\".\n",
      "\n",
      "See notebook \"./assets/UBC__FSP07__2016.ipynb\" for the traceback.\n"
     ]
    },
    {
     "data": {
      "text/html": [
       "<a href='./assets/UBC__FSP07__2016.ipynb' target='_blank'>./assets/UBC__FSP07__2016.ipynb</a><br>"
      ],
      "text/plain": [
       "/home/justinleong/Desktop/CTLT_MOOC_analysis/metric/assets/UBC__FSP07__2016.ipynb"
      ]
     },
     "metadata": {},
     "output_type": "display_data"
    },
    {
     "name": "stdout",
     "output_type": "stream",
     "text": [
      "ayy\n"
     ]
    },
    {
     "data": {
      "text/html": [
       "<a href='testauto.ipynb' target='_blank'>testauto.ipynb</a><br>"
      ],
      "text/plain": [
       "/home/justinleong/Desktop/CTLT_MOOC_analysis/metric/testauto.ipynb"
      ]
     },
     "metadata": {},
     "output_type": "display_data"
    },
    {
     "name": "stdout",
     "output_type": "stream",
     "text": [
      "Error executing the notebook \"testauto\".\n",
      "\n",
      "See notebook \"./assets/UBC__FSP08__2016.ipynb\" for the traceback.\n"
     ]
    },
    {
     "data": {
      "text/html": [
       "<a href='./assets/UBC__FSP08__2016.ipynb' target='_blank'>./assets/UBC__FSP08__2016.ipynb</a><br>"
      ],
      "text/plain": [
       "/home/justinleong/Desktop/CTLT_MOOC_analysis/metric/assets/UBC__FSP08__2016.ipynb"
      ]
     },
     "metadata": {},
     "output_type": "display_data"
    },
    {
     "name": "stdout",
     "output_type": "stream",
     "text": [
      "ayy\n"
     ]
    },
    {
     "data": {
      "text/html": [
       "<a href='testauto.ipynb' target='_blank'>testauto.ipynb</a><br>"
      ],
      "text/plain": [
       "/home/justinleong/Desktop/CTLT_MOOC_analysis/metric/testauto.ipynb"
      ]
     },
     "metadata": {},
     "output_type": "display_data"
    },
    {
     "name": "stdout",
     "output_type": "stream",
     "text": [
      "Error executing the notebook \"testauto\".\n",
      "\n",
      "See notebook \"./assets/UBC__FSP09__2016W1.ipynb\" for the traceback.\n"
     ]
    },
    {
     "data": {
      "text/html": [
       "<a href='./assets/UBC__FSP09__2016W1.ipynb' target='_blank'>./assets/UBC__FSP09__2016W1.ipynb</a><br>"
      ],
      "text/plain": [
       "/home/justinleong/Desktop/CTLT_MOOC_analysis/metric/assets/UBC__FSP09__2016W1.ipynb"
      ]
     },
     "metadata": {},
     "output_type": "display_data"
    },
    {
     "name": "stdout",
     "output_type": "stream",
     "text": [
      "ayy\n"
     ]
    },
    {
     "data": {
      "text/html": [
       "<a href='testauto.ipynb' target='_blank'>testauto.ipynb</a><br>"
      ],
      "text/plain": [
       "/home/justinleong/Desktop/CTLT_MOOC_analysis/metric/testauto.ipynb"
      ]
     },
     "metadata": {},
     "output_type": "display_data"
    },
    {
     "name": "stdout",
     "output_type": "stream",
     "text": [
      "Error executing the notebook \"testauto\".\n",
      "\n",
      "See notebook \"./assets/UBC__FSP10__2016.ipynb\" for the traceback.\n"
     ]
    },
    {
     "data": {
      "text/html": [
       "<a href='./assets/UBC__FSP10__2016.ipynb' target='_blank'>./assets/UBC__FSP10__2016.ipynb</a><br>"
      ],
      "text/plain": [
       "/home/justinleong/Desktop/CTLT_MOOC_analysis/metric/assets/UBC__FSP10__2016.ipynb"
      ]
     },
     "metadata": {},
     "output_type": "display_data"
    },
    {
     "name": "stdout",
     "output_type": "stream",
     "text": [
      "ayy\n"
     ]
    },
    {
     "data": {
      "text/html": [
       "<a href='testauto.ipynb' target='_blank'>testauto.ipynb</a><br>"
      ],
      "text/plain": [
       "/home/justinleong/Desktop/CTLT_MOOC_analysis/metric/testauto.ipynb"
      ]
     },
     "metadata": {},
     "output_type": "display_data"
    },
    {
     "name": "stdout",
     "output_type": "stream",
     "text": [
      "Error executing the notebook \"testauto\".\n",
      "\n",
      "See notebook \"./assets/UBC__FSP11__2016W2.ipynb\" for the traceback.\n"
     ]
    },
    {
     "data": {
      "text/html": [
       "<a href='./assets/UBC__FSP11__2016W2.ipynb' target='_blank'>./assets/UBC__FSP11__2016W2.ipynb</a><br>"
      ],
      "text/plain": [
       "/home/justinleong/Desktop/CTLT_MOOC_analysis/metric/assets/UBC__FSP11__2016W2.ipynb"
      ]
     },
     "metadata": {},
     "output_type": "display_data"
    },
    {
     "name": "stdout",
     "output_type": "stream",
     "text": [
      "ayy\n"
     ]
    },
    {
     "data": {
      "text/html": [
       "<a href='testauto.ipynb' target='_blank'>testauto.ipynb</a><br>"
      ],
      "text/plain": [
       "/home/justinleong/Desktop/CTLT_MOOC_analysis/metric/testauto.ipynb"
      ]
     },
     "metadata": {},
     "output_type": "display_data"
    },
    {
     "name": "stdout",
     "output_type": "stream",
     "text": [
      "Error executing the notebook \"testauto\".\n",
      "\n",
      "See notebook \"./assets/UBC__FTEJA01__2016S.ipynb\" for the traceback.\n"
     ]
    },
    {
     "data": {
      "text/html": [
       "<a href='./assets/UBC__FTEJA01__2016S.ipynb' target='_blank'>./assets/UBC__FTEJA01__2016S.ipynb</a><br>"
      ],
      "text/plain": [
       "/home/justinleong/Desktop/CTLT_MOOC_analysis/metric/assets/UBC__FTEJA01__2016S.ipynb"
      ]
     },
     "metadata": {},
     "output_type": "display_data"
    },
    {
     "name": "stdout",
     "output_type": "stream",
     "text": [
      "ayy\n"
     ]
    },
    {
     "data": {
      "text/html": [
       "<a href='testauto.ipynb' target='_blank'>testauto.ipynb</a><br>"
      ],
      "text/plain": [
       "/home/justinleong/Desktop/CTLT_MOOC_analysis/metric/testauto.ipynb"
      ]
     },
     "metadata": {},
     "output_type": "display_data"
    },
    {
     "name": "stdout",
     "output_type": "stream",
     "text": [
      "Error executing the notebook \"testauto\".\n",
      "\n",
      "See notebook \"./assets/UBC__HELLAKANY01__2016.ipynb\" for the traceback.\n"
     ]
    },
    {
     "data": {
      "text/html": [
       "<a href='./assets/UBC__HELLAKANY01__2016.ipynb' target='_blank'>./assets/UBC__HELLAKANY01__2016.ipynb</a><br>"
      ],
      "text/plain": [
       "/home/justinleong/Desktop/CTLT_MOOC_analysis/metric/assets/UBC__HELLAKANY01__2016.ipynb"
      ]
     },
     "metadata": {},
     "output_type": "display_data"
    },
    {
     "name": "stdout",
     "output_type": "stream",
     "text": [
      "ayy\n"
     ]
    },
    {
     "data": {
      "text/html": [
       "<a href='testauto.ipynb' target='_blank'>testauto.ipynb</a><br>"
      ],
      "text/plain": [
       "/home/justinleong/Desktop/CTLT_MOOC_analysis/metric/testauto.ipynb"
      ]
     },
     "metadata": {},
     "output_type": "display_data"
    },
    {
     "name": "stdout",
     "output_type": "stream",
     "text": [
      "Error executing the notebook \"testauto\".\n",
      "\n",
      "See notebook \"./assets/UBC__HIST346_001__2016W1_2.ipynb\" for the traceback.\n"
     ]
    },
    {
     "data": {
      "text/html": [
       "<a href='./assets/UBC__HIST346_001__2016W1_2.ipynb' target='_blank'>./assets/UBC__HIST346_001__2016W1_2.ipynb</a><br>"
      ],
      "text/plain": [
       "/home/justinleong/Desktop/CTLT_MOOC_analysis/metric/assets/UBC__HIST346_001__2016W1_2.ipynb"
      ]
     },
     "metadata": {},
     "output_type": "display_data"
    },
    {
     "name": "stdout",
     "output_type": "stream",
     "text": [
      "ayy\n"
     ]
    },
    {
     "data": {
      "text/html": [
       "<a href='testauto.ipynb' target='_blank'>testauto.ipynb</a><br>"
      ],
      "text/plain": [
       "/home/justinleong/Desktop/CTLT_MOOC_analysis/metric/testauto.ipynb"
      ]
     },
     "metadata": {},
     "output_type": "display_data"
    },
    {
     "name": "stdout",
     "output_type": "stream",
     "text": [
      "Error executing the notebook \"testauto\".\n",
      "\n",
      "See notebook \"./assets/UBC__HIST388_201__2016W2.ipynb\" for the traceback.\n"
     ]
    },
    {
     "data": {
      "text/html": [
       "<a href='./assets/UBC__HIST388_201__2016W2.ipynb' target='_blank'>./assets/UBC__HIST388_201__2016W2.ipynb</a><br>"
      ],
      "text/plain": [
       "/home/justinleong/Desktop/CTLT_MOOC_analysis/metric/assets/UBC__HIST388_201__2016W2.ipynb"
      ]
     },
     "metadata": {},
     "output_type": "display_data"
    },
    {
     "name": "stdout",
     "output_type": "stream",
     "text": [
      "ayy\n"
     ]
    },
    {
     "data": {
      "text/html": [
       "<a href='testauto.ipynb' target='_blank'>testauto.ipynb</a><br>"
      ],
      "text/plain": [
       "/home/justinleong/Desktop/CTLT_MOOC_analysis/metric/testauto.ipynb"
      ]
     },
     "metadata": {},
     "output_type": "display_data"
    },
    {
     "name": "stdout",
     "output_type": "stream",
     "text": [
      "Error executing the notebook \"testauto\".\n",
      "\n",
      "See notebook \"./assets/UBC__hub001__2016.ipynb\" for the traceback.\n"
     ]
    },
    {
     "data": {
      "text/html": [
       "<a href='./assets/UBC__hub001__2016.ipynb' target='_blank'>./assets/UBC__hub001__2016.ipynb</a><br>"
      ],
      "text/plain": [
       "/home/justinleong/Desktop/CTLT_MOOC_analysis/metric/assets/UBC__hub001__2016.ipynb"
      ]
     },
     "metadata": {},
     "output_type": "display_data"
    },
    {
     "name": "stdout",
     "output_type": "stream",
     "text": [
      "ayy\n"
     ]
    },
    {
     "data": {
      "text/html": [
       "<a href='testauto.ipynb' target='_blank'>testauto.ipynb</a><br>"
      ],
      "text/plain": [
       "/home/justinleong/Desktop/CTLT_MOOC_analysis/metric/testauto.ipynb"
      ]
     },
     "metadata": {},
     "output_type": "display_data"
    },
    {
     "name": "stdout",
     "output_type": "stream",
     "text": [
      "Error executing the notebook \"testauto\".\n",
      "\n",
      "See notebook \"./assets/UBC__HUB002__2016.ipynb\" for the traceback.\n"
     ]
    },
    {
     "data": {
      "text/html": [
       "<a href='./assets/UBC__HUB002__2016.ipynb' target='_blank'>./assets/UBC__HUB002__2016.ipynb</a><br>"
      ],
      "text/plain": [
       "/home/justinleong/Desktop/CTLT_MOOC_analysis/metric/assets/UBC__HUB002__2016.ipynb"
      ]
     },
     "metadata": {},
     "output_type": "display_data"
    },
    {
     "name": "stdout",
     "output_type": "stream",
     "text": [
      "ayy\n"
     ]
    },
    {
     "data": {
      "text/html": [
       "<a href='testauto.ipynb' target='_blank'>testauto.ipynb</a><br>"
      ],
      "text/plain": [
       "/home/justinleong/Desktop/CTLT_MOOC_analysis/metric/testauto.ipynb"
      ]
     },
     "metadata": {},
     "output_type": "display_data"
    },
    {
     "name": "stdout",
     "output_type": "stream",
     "text": [
      "Error executing the notebook \"testauto\".\n",
      "\n",
      "See notebook \"./assets/UBC__HUB003__2016.ipynb\" for the traceback.\n"
     ]
    },
    {
     "data": {
      "text/html": [
       "<a href='./assets/UBC__HUB003__2016.ipynb' target='_blank'>./assets/UBC__HUB003__2016.ipynb</a><br>"
      ],
      "text/plain": [
       "/home/justinleong/Desktop/CTLT_MOOC_analysis/metric/assets/UBC__HUB003__2016.ipynb"
      ]
     },
     "metadata": {},
     "output_type": "display_data"
    },
    {
     "name": "stdout",
     "output_type": "stream",
     "text": [
      "ayy\n"
     ]
    },
    {
     "data": {
      "text/html": [
       "<a href='testauto.ipynb' target='_blank'>testauto.ipynb</a><br>"
      ],
      "text/plain": [
       "/home/justinleong/Desktop/CTLT_MOOC_analysis/metric/testauto.ipynb"
      ]
     },
     "metadata": {},
     "output_type": "display_data"
    },
    {
     "name": "stdout",
     "output_type": "stream",
     "text": [
      "Error executing the notebook \"testauto\".\n",
      "\n",
      "See notebook \"./assets/UBC__HUB004__2016.ipynb\" for the traceback.\n"
     ]
    },
    {
     "data": {
      "text/html": [
       "<a href='./assets/UBC__HUB004__2016.ipynb' target='_blank'>./assets/UBC__HUB004__2016.ipynb</a><br>"
      ],
      "text/plain": [
       "/home/justinleong/Desktop/CTLT_MOOC_analysis/metric/assets/UBC__HUB004__2016.ipynb"
      ]
     },
     "metadata": {},
     "output_type": "display_data"
    },
    {
     "name": "stdout",
     "output_type": "stream",
     "text": [
      "ayy\n"
     ]
    },
    {
     "data": {
      "text/html": [
       "<a href='testauto.ipynb' target='_blank'>testauto.ipynb</a><br>"
      ],
      "text/plain": [
       "/home/justinleong/Desktop/CTLT_MOOC_analysis/metric/testauto.ipynb"
      ]
     },
     "metadata": {},
     "output_type": "display_data"
    },
    {
     "name": "stdout",
     "output_type": "stream",
     "text": [
      "Error executing the notebook \"testauto\".\n",
      "\n",
      "See notebook \"./assets/UBC__HUB005__2016.ipynb\" for the traceback.\n"
     ]
    },
    {
     "data": {
      "text/html": [
       "<a href='./assets/UBC__HUB005__2016.ipynb' target='_blank'>./assets/UBC__HUB005__2016.ipynb</a><br>"
      ],
      "text/plain": [
       "/home/justinleong/Desktop/CTLT_MOOC_analysis/metric/assets/UBC__HUB005__2016.ipynb"
      ]
     },
     "metadata": {},
     "output_type": "display_data"
    },
    {
     "name": "stdout",
     "output_type": "stream",
     "text": [
      "ayy\n"
     ]
    },
    {
     "data": {
      "text/html": [
       "<a href='testauto.ipynb' target='_blank'>testauto.ipynb</a><br>"
      ],
      "text/plain": [
       "/home/justinleong/Desktop/CTLT_MOOC_analysis/metric/testauto.ipynb"
      ]
     },
     "metadata": {},
     "output_type": "display_data"
    },
    {
     "name": "stdout",
     "output_type": "stream",
     "text": [
      "Error executing the notebook \"testauto\".\n",
      "\n",
      "See notebook \"./assets/UBC__IHHS101__2016.ipynb\" for the traceback.\n"
     ]
    },
    {
     "data": {
      "text/html": [
       "<a href='./assets/UBC__IHHS101__2016.ipynb' target='_blank'>./assets/UBC__IHHS101__2016.ipynb</a><br>"
      ],
      "text/plain": [
       "/home/justinleong/Desktop/CTLT_MOOC_analysis/metric/assets/UBC__IHHS101__2016.ipynb"
      ]
     },
     "metadata": {},
     "output_type": "display_data"
    },
    {
     "name": "stdout",
     "output_type": "stream",
     "text": [
      "ayy\n"
     ]
    },
    {
     "data": {
      "text/html": [
       "<a href='testauto.ipynb' target='_blank'>testauto.ipynb</a><br>"
      ],
      "text/plain": [
       "/home/justinleong/Desktop/CTLT_MOOC_analysis/metric/testauto.ipynb"
      ]
     },
     "metadata": {},
     "output_type": "display_data"
    },
    {
     "name": "stdout",
     "output_type": "stream",
     "text": [
      "Error executing the notebook \"testauto\".\n",
      "\n",
      "See notebook \"./assets/UBC__IHHS101__2016W2.ipynb\" for the traceback.\n"
     ]
    },
    {
     "data": {
      "text/html": [
       "<a href='./assets/UBC__IHHS101__2016W2.ipynb' target='_blank'>./assets/UBC__IHHS101__2016W2.ipynb</a><br>"
      ],
      "text/plain": [
       "/home/justinleong/Desktop/CTLT_MOOC_analysis/metric/assets/UBC__IHHS101__2016W2.ipynb"
      ]
     },
     "metadata": {},
     "output_type": "display_data"
    },
    {
     "name": "stdout",
     "output_type": "stream",
     "text": [
      "ayy\n"
     ]
    },
    {
     "data": {
      "text/html": [
       "<a href='testauto.ipynb' target='_blank'>testauto.ipynb</a><br>"
      ],
      "text/plain": [
       "/home/justinleong/Desktop/CTLT_MOOC_analysis/metric/testauto.ipynb"
      ]
     },
     "metadata": {},
     "output_type": "display_data"
    },
    {
     "name": "stdout",
     "output_type": "stream",
     "text": [
      "Error executing the notebook \"testauto\".\n",
      "\n",
      "See notebook \"./assets/UBC__IHHS101__2017W.ipynb\" for the traceback.\n"
     ]
    },
    {
     "data": {
      "text/html": [
       "<a href='./assets/UBC__IHHS101__2017W.ipynb' target='_blank'>./assets/UBC__IHHS101__2017W.ipynb</a><br>"
      ],
      "text/plain": [
       "/home/justinleong/Desktop/CTLT_MOOC_analysis/metric/assets/UBC__IHHS101__2017W.ipynb"
      ]
     },
     "metadata": {},
     "output_type": "display_data"
    },
    {
     "name": "stdout",
     "output_type": "stream",
     "text": [
      "ayy\n"
     ]
    },
    {
     "data": {
      "text/html": [
       "<a href='testauto.ipynb' target='_blank'>testauto.ipynb</a><br>"
      ],
      "text/plain": [
       "/home/justinleong/Desktop/CTLT_MOOC_analysis/metric/testauto.ipynb"
      ]
     },
     "metadata": {},
     "output_type": "display_data"
    },
    {
     "name": "stdout",
     "output_type": "stream",
     "text": [
      "Error executing the notebook \"testauto\".\n",
      "\n",
      "See notebook \"./assets/UBC__IL101__2016.ipynb\" for the traceback.\n"
     ]
    },
    {
     "data": {
      "text/html": [
       "<a href='./assets/UBC__IL101__2016.ipynb' target='_blank'>./assets/UBC__IL101__2016.ipynb</a><br>"
      ],
      "text/plain": [
       "/home/justinleong/Desktop/CTLT_MOOC_analysis/metric/assets/UBC__IL101__2016.ipynb"
      ]
     },
     "metadata": {},
     "output_type": "display_data"
    },
    {
     "name": "stdout",
     "output_type": "stream",
     "text": [
      "ayy\n"
     ]
    },
    {
     "data": {
      "text/html": [
       "<a href='testauto.ipynb' target='_blank'>testauto.ipynb</a><br>"
      ],
      "text/plain": [
       "/home/justinleong/Desktop/CTLT_MOOC_analysis/metric/testauto.ipynb"
      ]
     },
     "metadata": {},
     "output_type": "display_data"
    },
    {
     "data": {
      "text/html": [
       "<a href='./assets/UBC__IndEduSI1__2015_S1.ipynb' target='_blank'>./assets/UBC__IndEduSI1__2015_S1.ipynb</a><br>"
      ],
      "text/plain": [
       "/home/justinleong/Desktop/CTLT_MOOC_analysis/metric/assets/UBC__IndEduSI1__2015_S1.ipynb"
      ]
     },
     "metadata": {},
     "output_type": "display_data"
    },
    {
     "data": {
      "text/html": [
       "<a href='testauto.ipynb' target='_blank'>testauto.ipynb</a><br>"
      ],
      "text/plain": [
       "/home/justinleong/Desktop/CTLT_MOOC_analysis/metric/testauto.ipynb"
      ]
     },
     "metadata": {},
     "output_type": "display_data"
    },
    {
     "name": "stdout",
     "output_type": "stream",
     "text": [
      "Error executing the notebook \"testauto\".\n",
      "\n",
      "See notebook \"./assets/UBC__INMR101_001__2016W2.ipynb\" for the traceback.\n"
     ]
    },
    {
     "data": {
      "text/html": [
       "<a href='./assets/UBC__INMR101_001__2016W2.ipynb' target='_blank'>./assets/UBC__INMR101_001__2016W2.ipynb</a><br>"
      ],
      "text/plain": [
       "/home/justinleong/Desktop/CTLT_MOOC_analysis/metric/assets/UBC__INMR101_001__2016W2.ipynb"
      ]
     },
     "metadata": {},
     "output_type": "display_data"
    },
    {
     "name": "stdout",
     "output_type": "stream",
     "text": [
      "ayy\n"
     ]
    },
    {
     "data": {
      "text/html": [
       "<a href='testauto.ipynb' target='_blank'>testauto.ipynb</a><br>"
      ],
      "text/plain": [
       "/home/justinleong/Desktop/CTLT_MOOC_analysis/metric/testauto.ipynb"
      ]
     },
     "metadata": {},
     "output_type": "display_data"
    },
    {
     "name": "stdout",
     "output_type": "stream",
     "text": [
      "Error executing the notebook \"testauto\".\n",
      "\n",
      "See notebook \"./assets/UBC__INMR101_001_2__2016W2.ipynb\" for the traceback.\n"
     ]
    },
    {
     "data": {
      "text/html": [
       "<a href='./assets/UBC__INMR101_001_2__2016W2.ipynb' target='_blank'>./assets/UBC__INMR101_001_2__2016W2.ipynb</a><br>"
      ],
      "text/plain": [
       "/home/justinleong/Desktop/CTLT_MOOC_analysis/metric/assets/UBC__INMR101_001_2__2016W2.ipynb"
      ]
     },
     "metadata": {},
     "output_type": "display_data"
    },
    {
     "name": "stdout",
     "output_type": "stream",
     "text": [
      "ayy\n"
     ]
    },
    {
     "data": {
      "text/html": [
       "<a href='testauto.ipynb' target='_blank'>testauto.ipynb</a><br>"
      ],
      "text/plain": [
       "/home/justinleong/Desktop/CTLT_MOOC_analysis/metric/testauto.ipynb"
      ]
     },
     "metadata": {},
     "output_type": "display_data"
    },
    {
     "name": "stdout",
     "output_type": "stream",
     "text": [
      "Error executing the notebook \"testauto\".\n",
      "\n",
      "See notebook \"./assets/UBC__KNI01__2016.ipynb\" for the traceback.\n"
     ]
    },
    {
     "data": {
      "text/html": [
       "<a href='./assets/UBC__KNI01__2016.ipynb' target='_blank'>./assets/UBC__KNI01__2016.ipynb</a><br>"
      ],
      "text/plain": [
       "/home/justinleong/Desktop/CTLT_MOOC_analysis/metric/assets/UBC__KNI01__2016.ipynb"
      ]
     },
     "metadata": {},
     "output_type": "display_data"
    },
    {
     "name": "stdout",
     "output_type": "stream",
     "text": [
      "ayy\n"
     ]
    },
    {
     "data": {
      "text/html": [
       "<a href='testauto.ipynb' target='_blank'>testauto.ipynb</a><br>"
      ],
      "text/plain": [
       "/home/justinleong/Desktop/CTLT_MOOC_analysis/metric/testauto.ipynb"
      ]
     },
     "metadata": {},
     "output_type": "display_data"
    },
    {
     "name": "stdout",
     "output_type": "stream",
     "text": [
      "Error executing the notebook \"testauto\".\n",
      "\n",
      "See notebook \"./assets/UBC__LAW281_001__2016_T1.ipynb\" for the traceback.\n"
     ]
    },
    {
     "data": {
      "text/html": [
       "<a href='./assets/UBC__LAW281_001__2016_T1.ipynb' target='_blank'>./assets/UBC__LAW281_001__2016_T1.ipynb</a><br>"
      ],
      "text/plain": [
       "/home/justinleong/Desktop/CTLT_MOOC_analysis/metric/assets/UBC__LAW281_001__2016_T1.ipynb"
      ]
     },
     "metadata": {},
     "output_type": "display_data"
    },
    {
     "name": "stdout",
     "output_type": "stream",
     "text": [
      "ayy\n"
     ]
    },
    {
     "data": {
      "text/html": [
       "<a href='testauto.ipynb' target='_blank'>testauto.ipynb</a><br>"
      ],
      "text/plain": [
       "/home/justinleong/Desktop/CTLT_MOOC_analysis/metric/testauto.ipynb"
      ]
     },
     "metadata": {},
     "output_type": "display_data"
    },
    {
     "name": "stdout",
     "output_type": "stream",
     "text": [
      "Error executing the notebook \"testauto\".\n",
      "\n",
      "See notebook \"./assets/UBC__LAW281_002__2016_T1.ipynb\" for the traceback.\n"
     ]
    },
    {
     "data": {
      "text/html": [
       "<a href='./assets/UBC__LAW281_002__2016_T1.ipynb' target='_blank'>./assets/UBC__LAW281_002__2016_T1.ipynb</a><br>"
      ],
      "text/plain": [
       "/home/justinleong/Desktop/CTLT_MOOC_analysis/metric/assets/UBC__LAW281_002__2016_T1.ipynb"
      ]
     },
     "metadata": {},
     "output_type": "display_data"
    },
    {
     "name": "stdout",
     "output_type": "stream",
     "text": [
      "ayy\n"
     ]
    },
    {
     "data": {
      "text/html": [
       "<a href='testauto.ipynb' target='_blank'>testauto.ipynb</a><br>"
      ],
      "text/plain": [
       "/home/justinleong/Desktop/CTLT_MOOC_analysis/metric/testauto.ipynb"
      ]
     },
     "metadata": {},
     "output_type": "display_data"
    },
    {
     "name": "stdout",
     "output_type": "stream",
     "text": [
      "Error executing the notebook \"testauto\".\n",
      "\n",
      "See notebook \"./assets/UBC__Law281__2015_T1.ipynb\" for the traceback.\n"
     ]
    },
    {
     "data": {
      "text/html": [
       "<a href='./assets/UBC__Law281__2015_T1.ipynb' target='_blank'>./assets/UBC__Law281__2015_T1.ipynb</a><br>"
      ],
      "text/plain": [
       "/home/justinleong/Desktop/CTLT_MOOC_analysis/metric/assets/UBC__Law281__2015_T1.ipynb"
      ]
     },
     "metadata": {},
     "output_type": "display_data"
    },
    {
     "name": "stdout",
     "output_type": "stream",
     "text": [
      "ayy\n"
     ]
    },
    {
     "data": {
      "text/html": [
       "<a href='testauto.ipynb' target='_blank'>testauto.ipynb</a><br>"
      ],
      "text/plain": [
       "/home/justinleong/Desktop/CTLT_MOOC_analysis/metric/testauto.ipynb"
      ]
     },
     "metadata": {},
     "output_type": "display_data"
    },
    {
     "name": "stdout",
     "output_type": "stream",
     "text": [
      "Error executing the notebook \"testauto\".\n",
      "\n",
      "See notebook \"./assets/UBC__LAW281__2016_W1.ipynb\" for the traceback.\n"
     ]
    },
    {
     "data": {
      "text/html": [
       "<a href='./assets/UBC__LAW281__2016_W1.ipynb' target='_blank'>./assets/UBC__LAW281__2016_W1.ipynb</a><br>"
      ],
      "text/plain": [
       "/home/justinleong/Desktop/CTLT_MOOC_analysis/metric/assets/UBC__LAW281__2016_W1.ipynb"
      ]
     },
     "metadata": {},
     "output_type": "display_data"
    },
    {
     "name": "stdout",
     "output_type": "stream",
     "text": [
      "ayy\n"
     ]
    },
    {
     "data": {
      "text/html": [
       "<a href='testauto.ipynb' target='_blank'>testauto.ipynb</a><br>"
      ],
      "text/plain": [
       "/home/justinleong/Desktop/CTLT_MOOC_analysis/metric/testauto.ipynb"
      ]
     },
     "metadata": {},
     "output_type": "display_data"
    },
    {
     "name": "stdout",
     "output_type": "stream",
     "text": [
      "Error executing the notebook \"testauto\".\n",
      "\n",
      "See notebook \"./assets/UBC__LAW430_001__2016_T2.ipynb\" for the traceback.\n"
     ]
    },
    {
     "data": {
      "text/html": [
       "<a href='./assets/UBC__LAW430_001__2016_T2.ipynb' target='_blank'>./assets/UBC__LAW430_001__2016_T2.ipynb</a><br>"
      ],
      "text/plain": [
       "/home/justinleong/Desktop/CTLT_MOOC_analysis/metric/assets/UBC__LAW430_001__2016_T2.ipynb"
      ]
     },
     "metadata": {},
     "output_type": "display_data"
    },
    {
     "name": "stdout",
     "output_type": "stream",
     "text": [
      "ayy\n"
     ]
    },
    {
     "data": {
      "text/html": [
       "<a href='testauto.ipynb' target='_blank'>testauto.ipynb</a><br>"
      ],
      "text/plain": [
       "/home/justinleong/Desktop/CTLT_MOOC_analysis/metric/testauto.ipynb"
      ]
     },
     "metadata": {},
     "output_type": "display_data"
    },
    {
     "name": "stdout",
     "output_type": "stream",
     "text": [
      "Error executing the notebook \"testauto\".\n",
      "\n",
      "See notebook \"./assets/UBC__LAW430_001__2016W2.ipynb\" for the traceback.\n"
     ]
    },
    {
     "data": {
      "text/html": [
       "<a href='./assets/UBC__LAW430_001__2016W2.ipynb' target='_blank'>./assets/UBC__LAW430_001__2016W2.ipynb</a><br>"
      ],
      "text/plain": [
       "/home/justinleong/Desktop/CTLT_MOOC_analysis/metric/assets/UBC__LAW430_001__2016W2.ipynb"
      ]
     },
     "metadata": {},
     "output_type": "display_data"
    },
    {
     "name": "stdout",
     "output_type": "stream",
     "text": [
      "ayy\n"
     ]
    },
    {
     "data": {
      "text/html": [
       "<a href='testauto.ipynb' target='_blank'>testauto.ipynb</a><br>"
      ],
      "text/plain": [
       "/home/justinleong/Desktop/CTLT_MOOC_analysis/metric/testauto.ipynb"
      ]
     },
     "metadata": {},
     "output_type": "display_data"
    },
    {
     "name": "stdout",
     "output_type": "stream",
     "text": [
      "Error executing the notebook \"testauto\".\n",
      "\n",
      "See notebook \"./assets/UBC__LAW503d__2016_W2.ipynb\" for the traceback.\n"
     ]
    },
    {
     "data": {
      "text/html": [
       "<a href='./assets/UBC__LAW503d__2016_W2.ipynb' target='_blank'>./assets/UBC__LAW503d__2016_W2.ipynb</a><br>"
      ],
      "text/plain": [
       "/home/justinleong/Desktop/CTLT_MOOC_analysis/metric/assets/UBC__LAW503d__2016_W2.ipynb"
      ]
     },
     "metadata": {},
     "output_type": "display_data"
    },
    {
     "name": "stdout",
     "output_type": "stream",
     "text": [
      "ayy\n"
     ]
    },
    {
     "data": {
      "text/html": [
       "<a href='testauto.ipynb' target='_blank'>testauto.ipynb</a><br>"
      ],
      "text/plain": [
       "/home/justinleong/Desktop/CTLT_MOOC_analysis/metric/testauto.ipynb"
      ]
     },
     "metadata": {},
     "output_type": "display_data"
    },
    {
     "name": "stdout",
     "output_type": "stream",
     "text": [
      "Error executing the notebook \"testauto\".\n",
      "\n",
      "See notebook \"./assets/UBC__LING201_001__2016W2.ipynb\" for the traceback.\n"
     ]
    },
    {
     "data": {
      "text/html": [
       "<a href='./assets/UBC__LING201_001__2016W2.ipynb' target='_blank'>./assets/UBC__LING201_001__2016W2.ipynb</a><br>"
      ],
      "text/plain": [
       "/home/justinleong/Desktop/CTLT_MOOC_analysis/metric/assets/UBC__LING201_001__2016W2.ipynb"
      ]
     },
     "metadata": {},
     "output_type": "display_data"
    },
    {
     "name": "stdout",
     "output_type": "stream",
     "text": [
      "ayy\n"
     ]
    },
    {
     "data": {
      "text/html": [
       "<a href='testauto.ipynb' target='_blank'>testauto.ipynb</a><br>"
      ],
      "text/plain": [
       "/home/justinleong/Desktop/CTLT_MOOC_analysis/metric/testauto.ipynb"
      ]
     },
     "metadata": {},
     "output_type": "display_data"
    },
    {
     "name": "stdout",
     "output_type": "stream",
     "text": [
      "Error executing the notebook \"testauto\".\n",
      "\n",
      "See notebook \"./assets/UBC__LING300__2016W.ipynb\" for the traceback.\n"
     ]
    },
    {
     "data": {
      "text/html": [
       "<a href='./assets/UBC__LING300__2016W.ipynb' target='_blank'>./assets/UBC__LING300__2016W.ipynb</a><br>"
      ],
      "text/plain": [
       "/home/justinleong/Desktop/CTLT_MOOC_analysis/metric/assets/UBC__LING300__2016W.ipynb"
      ]
     },
     "metadata": {},
     "output_type": "display_data"
    },
    {
     "name": "stdout",
     "output_type": "stream",
     "text": [
      "ayy\n"
     ]
    },
    {
     "data": {
      "text/html": [
       "<a href='testauto.ipynb' target='_blank'>testauto.ipynb</a><br>"
      ],
      "text/plain": [
       "/home/justinleong/Desktop/CTLT_MOOC_analysis/metric/testauto.ipynb"
      ]
     },
     "metadata": {},
     "output_type": "display_data"
    },
    {
     "name": "stdout",
     "output_type": "stream",
     "text": [
      "Error executing the notebook \"testauto\".\n",
      "\n",
      "See notebook \"./assets/UBC__LLED200__2016.ipynb\" for the traceback.\n"
     ]
    },
    {
     "data": {
      "text/html": [
       "<a href='./assets/UBC__LLED200__2016.ipynb' target='_blank'>./assets/UBC__LLED200__2016.ipynb</a><br>"
      ],
      "text/plain": [
       "/home/justinleong/Desktop/CTLT_MOOC_analysis/metric/assets/UBC__LLED200__2016.ipynb"
      ]
     },
     "metadata": {},
     "output_type": "display_data"
    },
    {
     "name": "stdout",
     "output_type": "stream",
     "text": [
      "ayy\n"
     ]
    },
    {
     "data": {
      "text/html": [
       "<a href='testauto.ipynb' target='_blank'>testauto.ipynb</a><br>"
      ],
      "text/plain": [
       "/home/justinleong/Desktop/CTLT_MOOC_analysis/metric/testauto.ipynb"
      ]
     },
     "metadata": {},
     "output_type": "display_data"
    },
    {
     "name": "stdout",
     "output_type": "stream",
     "text": [
      "Error executing the notebook \"testauto\".\n",
      "\n",
      "See notebook \"./assets/UBC__LLED200__2016W1.ipynb\" for the traceback.\n"
     ]
    },
    {
     "data": {
      "text/html": [
       "<a href='./assets/UBC__LLED200__2016W1.ipynb' target='_blank'>./assets/UBC__LLED200__2016W1.ipynb</a><br>"
      ],
      "text/plain": [
       "/home/justinleong/Desktop/CTLT_MOOC_analysis/metric/assets/UBC__LLED200__2016W1.ipynb"
      ]
     },
     "metadata": {},
     "output_type": "display_data"
    },
    {
     "name": "stdout",
     "output_type": "stream",
     "text": [
      "ayy\n"
     ]
    },
    {
     "data": {
      "text/html": [
       "<a href='testauto.ipynb' target='_blank'>testauto.ipynb</a><br>"
      ],
      "text/plain": [
       "/home/justinleong/Desktop/CTLT_MOOC_analysis/metric/testauto.ipynb"
      ]
     },
     "metadata": {},
     "output_type": "display_data"
    },
    {
     "name": "stdout",
     "output_type": "stream",
     "text": [
      "Error executing the notebook \"testauto\".\n",
      "\n",
      "See notebook \"./assets/UBC__LLED200W1__2016W1.ipynb\" for the traceback.\n"
     ]
    },
    {
     "data": {
      "text/html": [
       "<a href='./assets/UBC__LLED200W1__2016W1.ipynb' target='_blank'>./assets/UBC__LLED200W1__2016W1.ipynb</a><br>"
      ],
      "text/plain": [
       "/home/justinleong/Desktop/CTLT_MOOC_analysis/metric/assets/UBC__LLED200W1__2016W1.ipynb"
      ]
     },
     "metadata": {},
     "output_type": "display_data"
    },
    {
     "name": "stdout",
     "output_type": "stream",
     "text": [
      "ayy\n"
     ]
    },
    {
     "data": {
      "text/html": [
       "<a href='testauto.ipynb' target='_blank'>testauto.ipynb</a><br>"
      ],
      "text/plain": [
       "/home/justinleong/Desktop/CTLT_MOOC_analysis/metric/testauto.ipynb"
      ]
     },
     "metadata": {},
     "output_type": "display_data"
    },
    {
     "name": "stdout",
     "output_type": "stream",
     "text": [
      "Error executing the notebook \"testauto\".\n",
      "\n",
      "See notebook \"./assets/UBC__LLED220__2016W1.ipynb\" for the traceback.\n"
     ]
    },
    {
     "data": {
      "text/html": [
       "<a href='./assets/UBC__LLED220__2016W1.ipynb' target='_blank'>./assets/UBC__LLED220__2016W1.ipynb</a><br>"
      ],
      "text/plain": [
       "/home/justinleong/Desktop/CTLT_MOOC_analysis/metric/assets/UBC__LLED220__2016W1.ipynb"
      ]
     },
     "metadata": {},
     "output_type": "display_data"
    },
    {
     "name": "stdout",
     "output_type": "stream",
     "text": [
      "ayy\n"
     ]
    },
    {
     "data": {
      "text/html": [
       "<a href='testauto.ipynb' target='_blank'>testauto.ipynb</a><br>"
      ],
      "text/plain": [
       "/home/justinleong/Desktop/CTLT_MOOC_analysis/metric/testauto.ipynb"
      ]
     },
     "metadata": {},
     "output_type": "display_data"
    },
    {
     "name": "stdout",
     "output_type": "stream",
     "text": [
      "Error executing the notebook \"testauto\".\n",
      "\n",
      "See notebook \"./assets/UBC__LVCT__2016W.ipynb\" for the traceback.\n"
     ]
    },
    {
     "data": {
      "text/html": [
       "<a href='./assets/UBC__LVCT__2016W.ipynb' target='_blank'>./assets/UBC__LVCT__2016W.ipynb</a><br>"
      ],
      "text/plain": [
       "/home/justinleong/Desktop/CTLT_MOOC_analysis/metric/assets/UBC__LVCT__2016W.ipynb"
      ]
     },
     "metadata": {},
     "output_type": "display_data"
    },
    {
     "name": "stdout",
     "output_type": "stream",
     "text": [
      "ayy\n"
     ]
    },
    {
     "data": {
      "text/html": [
       "<a href='testauto.ipynb' target='_blank'>testauto.ipynb</a><br>"
      ],
      "text/plain": [
       "/home/justinleong/Desktop/CTLT_MOOC_analysis/metric/testauto.ipynb"
      ]
     },
     "metadata": {},
     "output_type": "display_data"
    },
    {
     "name": "stdout",
     "output_type": "stream",
     "text": [
      "Error executing the notebook \"testauto\".\n",
      "\n",
      "See notebook \"./assets/UBC__MATH210__2015W2.ipynb\" for the traceback.\n"
     ]
    },
    {
     "data": {
      "text/html": [
       "<a href='./assets/UBC__MATH210__2015W2.ipynb' target='_blank'>./assets/UBC__MATH210__2015W2.ipynb</a><br>"
      ],
      "text/plain": [
       "/home/justinleong/Desktop/CTLT_MOOC_analysis/metric/assets/UBC__MATH210__2015W2.ipynb"
      ]
     },
     "metadata": {},
     "output_type": "display_data"
    },
    {
     "name": "stdout",
     "output_type": "stream",
     "text": [
      "ayy\n"
     ]
    },
    {
     "data": {
      "text/html": [
       "<a href='testauto.ipynb' target='_blank'>testauto.ipynb</a><br>"
      ],
      "text/plain": [
       "/home/justinleong/Desktop/CTLT_MOOC_analysis/metric/testauto.ipynb"
      ]
     },
     "metadata": {},
     "output_type": "display_data"
    },
    {
     "name": "stdout",
     "output_type": "stream",
     "text": [
      "Error executing the notebook \"testauto\".\n",
      "\n",
      "See notebook \"./assets/UBC__MD101__2016_W1.ipynb\" for the traceback.\n"
     ]
    },
    {
     "data": {
      "text/html": [
       "<a href='./assets/UBC__MD101__2016_W1.ipynb' target='_blank'>./assets/UBC__MD101__2016_W1.ipynb</a><br>"
      ],
      "text/plain": [
       "/home/justinleong/Desktop/CTLT_MOOC_analysis/metric/assets/UBC__MD101__2016_W1.ipynb"
      ]
     },
     "metadata": {},
     "output_type": "display_data"
    },
    {
     "name": "stdout",
     "output_type": "stream",
     "text": [
      "ayy\n"
     ]
    },
    {
     "data": {
      "text/html": [
       "<a href='testauto.ipynb' target='_blank'>testauto.ipynb</a><br>"
      ],
      "text/plain": [
       "/home/justinleong/Desktop/CTLT_MOOC_analysis/metric/testauto.ipynb"
      ]
     },
     "metadata": {},
     "output_type": "display_data"
    },
    {
     "name": "stdout",
     "output_type": "stream",
     "text": [
      "Error executing the notebook \"testauto\".\n",
      "\n",
      "See notebook \"./assets/UBC__MET565A__2015S.ipynb\" for the traceback.\n"
     ]
    },
    {
     "data": {
      "text/html": [
       "<a href='./assets/UBC__MET565A__2015S.ipynb' target='_blank'>./assets/UBC__MET565A__2015S.ipynb</a><br>"
      ],
      "text/plain": [
       "/home/justinleong/Desktop/CTLT_MOOC_analysis/metric/assets/UBC__MET565A__2015S.ipynb"
      ]
     },
     "metadata": {},
     "output_type": "display_data"
    },
    {
     "name": "stdout",
     "output_type": "stream",
     "text": [
      "ayy\n"
     ]
    },
    {
     "data": {
      "text/html": [
       "<a href='testauto.ipynb' target='_blank'>testauto.ipynb</a><br>"
      ],
      "text/plain": [
       "/home/justinleong/Desktop/CTLT_MOOC_analysis/metric/testauto.ipynb"
      ]
     },
     "metadata": {},
     "output_type": "display_data"
    },
    {
     "name": "stdout",
     "output_type": "stream",
     "text": [
      "Error executing the notebook \"testauto\".\n",
      "\n",
      "See notebook \"./assets/UBC__MIDW325_001__2016W2.ipynb\" for the traceback.\n"
     ]
    },
    {
     "data": {
      "text/html": [
       "<a href='./assets/UBC__MIDW325_001__2016W2.ipynb' target='_blank'>./assets/UBC__MIDW325_001__2016W2.ipynb</a><br>"
      ],
      "text/plain": [
       "/home/justinleong/Desktop/CTLT_MOOC_analysis/metric/assets/UBC__MIDW325_001__2016W2.ipynb"
      ]
     },
     "metadata": {},
     "output_type": "display_data"
    },
    {
     "name": "stdout",
     "output_type": "stream",
     "text": [
      "ayy\n"
     ]
    },
    {
     "data": {
      "text/html": [
       "<a href='testauto.ipynb' target='_blank'>testauto.ipynb</a><br>"
      ],
      "text/plain": [
       "/home/justinleong/Desktop/CTLT_MOOC_analysis/metric/testauto.ipynb"
      ]
     },
     "metadata": {},
     "output_type": "display_data"
    },
    {
     "name": "stdout",
     "output_type": "stream",
     "text": [
      "Error executing the notebook \"testauto\".\n",
      "\n",
      "See notebook \"./assets/UBC__MINE480__2016_W2.ipynb\" for the traceback.\n"
     ]
    },
    {
     "data": {
      "text/html": [
       "<a href='./assets/UBC__MINE480__2016_W2.ipynb' target='_blank'>./assets/UBC__MINE480__2016_W2.ipynb</a><br>"
      ],
      "text/plain": [
       "/home/justinleong/Desktop/CTLT_MOOC_analysis/metric/assets/UBC__MINE480__2016_W2.ipynb"
      ]
     },
     "metadata": {},
     "output_type": "display_data"
    },
    {
     "name": "stdout",
     "output_type": "stream",
     "text": [
      "ayy\n"
     ]
    },
    {
     "data": {
      "text/html": [
       "<a href='testauto.ipynb' target='_blank'>testauto.ipynb</a><br>"
      ],
      "text/plain": [
       "/home/justinleong/Desktop/CTLT_MOOC_analysis/metric/testauto.ipynb"
      ]
     },
     "metadata": {},
     "output_type": "display_data"
    },
    {
     "name": "stdout",
     "output_type": "stream",
     "text": [
      "Error executing the notebook \"testauto\".\n",
      "\n",
      "See notebook \"./assets/UBC__MRDP__2016.ipynb\" for the traceback.\n"
     ]
    },
    {
     "data": {
      "text/html": [
       "<a href='./assets/UBC__MRDP__2016.ipynb' target='_blank'>./assets/UBC__MRDP__2016.ipynb</a><br>"
      ],
      "text/plain": [
       "/home/justinleong/Desktop/CTLT_MOOC_analysis/metric/assets/UBC__MRDP__2016.ipynb"
      ]
     },
     "metadata": {},
     "output_type": "display_data"
    },
    {
     "name": "stdout",
     "output_type": "stream",
     "text": [
      "ayy\n"
     ]
    },
    {
     "data": {
      "text/html": [
       "<a href='testauto.ipynb' target='_blank'>testauto.ipynb</a><br>"
      ],
      "text/plain": [
       "/home/justinleong/Desktop/CTLT_MOOC_analysis/metric/testauto.ipynb"
      ]
     },
     "metadata": {},
     "output_type": "display_data"
    },
    {
     "name": "stdout",
     "output_type": "stream",
     "text": [
      "Error executing the notebook \"testauto\".\n",
      "\n",
      "See notebook \"./assets/UBC__MZENG01__2016.ipynb\" for the traceback.\n"
     ]
    },
    {
     "data": {
      "text/html": [
       "<a href='./assets/UBC__MZENG01__2016.ipynb' target='_blank'>./assets/UBC__MZENG01__2016.ipynb</a><br>"
      ],
      "text/plain": [
       "/home/justinleong/Desktop/CTLT_MOOC_analysis/metric/assets/UBC__MZENG01__2016.ipynb"
      ]
     },
     "metadata": {},
     "output_type": "display_data"
    },
    {
     "name": "stdout",
     "output_type": "stream",
     "text": [
      "ayy\n"
     ]
    },
    {
     "data": {
      "text/html": [
       "<a href='testauto.ipynb' target='_blank'>testauto.ipynb</a><br>"
      ],
      "text/plain": [
       "/home/justinleong/Desktop/CTLT_MOOC_analysis/metric/testauto.ipynb"
      ]
     },
     "metadata": {},
     "output_type": "display_data"
    },
    {
     "name": "stdout",
     "output_type": "stream",
     "text": [
      "Error executing the notebook \"testauto\".\n",
      "\n",
      "See notebook \"./assets/UBC__PAT2_0__2017.ipynb\" for the traceback.\n"
     ]
    },
    {
     "data": {
      "text/html": [
       "<a href='./assets/UBC__PAT2_0__2017.ipynb' target='_blank'>./assets/UBC__PAT2_0__2017.ipynb</a><br>"
      ],
      "text/plain": [
       "/home/justinleong/Desktop/CTLT_MOOC_analysis/metric/assets/UBC__PAT2_0__2017.ipynb"
      ]
     },
     "metadata": {},
     "output_type": "display_data"
    },
    {
     "name": "stdout",
     "output_type": "stream",
     "text": [
      "ayy\n"
     ]
    },
    {
     "data": {
      "text/html": [
       "<a href='testauto.ipynb' target='_blank'>testauto.ipynb</a><br>"
      ],
      "text/plain": [
       "/home/justinleong/Desktop/CTLT_MOOC_analysis/metric/testauto.ipynb"
      ]
     },
     "metadata": {},
     "output_type": "display_data"
    },
    {
     "name": "stdout",
     "output_type": "stream",
     "text": [
      "Error executing the notebook \"testauto\".\n",
      "\n",
      "See notebook \"./assets/UBC__PHRM100_001__2016W1.ipynb\" for the traceback.\n"
     ]
    },
    {
     "data": {
      "text/html": [
       "<a href='./assets/UBC__PHRM100_001__2016W1.ipynb' target='_blank'>./assets/UBC__PHRM100_001__2016W1.ipynb</a><br>"
      ],
      "text/plain": [
       "/home/justinleong/Desktop/CTLT_MOOC_analysis/metric/assets/UBC__PHRM100_001__2016W1.ipynb"
      ]
     },
     "metadata": {},
     "output_type": "display_data"
    },
    {
     "name": "stdout",
     "output_type": "stream",
     "text": [
      "ayy\n"
     ]
    },
    {
     "data": {
      "text/html": [
       "<a href='testauto.ipynb' target='_blank'>testauto.ipynb</a><br>"
      ],
      "text/plain": [
       "/home/justinleong/Desktop/CTLT_MOOC_analysis/metric/testauto.ipynb"
      ]
     },
     "metadata": {},
     "output_type": "display_data"
    },
    {
     "name": "stdout",
     "output_type": "stream",
     "text": [
      "Error executing the notebook \"testauto\".\n",
      "\n",
      "See notebook \"./assets/UBC__PHTH545_001__2016W1.ipynb\" for the traceback.\n"
     ]
    },
    {
     "data": {
      "text/html": [
       "<a href='./assets/UBC__PHTH545_001__2016W1.ipynb' target='_blank'>./assets/UBC__PHTH545_001__2016W1.ipynb</a><br>"
      ],
      "text/plain": [
       "/home/justinleong/Desktop/CTLT_MOOC_analysis/metric/assets/UBC__PHTH545_001__2016W1.ipynb"
      ]
     },
     "metadata": {},
     "output_type": "display_data"
    },
    {
     "name": "stdout",
     "output_type": "stream",
     "text": [
      "ayy\n"
     ]
    },
    {
     "data": {
      "text/html": [
       "<a href='testauto.ipynb' target='_blank'>testauto.ipynb</a><br>"
      ],
      "text/plain": [
       "/home/justinleong/Desktop/CTLT_MOOC_analysis/metric/testauto.ipynb"
      ]
     },
     "metadata": {},
     "output_type": "display_data"
    },
    {
     "name": "stdout",
     "output_type": "stream",
     "text": [
      "Error executing the notebook \"testauto\".\n",
      "\n",
      "See notebook \"./assets/UBC__Phv3__2015.ipynb\" for the traceback.\n"
     ]
    },
    {
     "data": {
      "text/html": [
       "<a href='./assets/UBC__Phv3__2015.ipynb' target='_blank'>./assets/UBC__Phv3__2015.ipynb</a><br>"
      ],
      "text/plain": [
       "/home/justinleong/Desktop/CTLT_MOOC_analysis/metric/assets/UBC__Phv3__2015.ipynb"
      ]
     },
     "metadata": {},
     "output_type": "display_data"
    },
    {
     "name": "stdout",
     "output_type": "stream",
     "text": [
      "ayy\n"
     ]
    },
    {
     "data": {
      "text/html": [
       "<a href='testauto.ipynb' target='_blank'>testauto.ipynb</a><br>"
      ],
      "text/plain": [
       "/home/justinleong/Desktop/CTLT_MOOC_analysis/metric/testauto.ipynb"
      ]
     },
     "metadata": {},
     "output_type": "display_data"
    },
    {
     "name": "stdout",
     "output_type": "stream",
     "text": [
      "Error executing the notebook \"testauto\".\n",
      "\n",
      "See notebook \"./assets/UBC__PHYS100_103__2016W1.ipynb\" for the traceback.\n"
     ]
    },
    {
     "data": {
      "text/html": [
       "<a href='./assets/UBC__PHYS100_103__2016W1.ipynb' target='_blank'>./assets/UBC__PHYS100_103__2016W1.ipynb</a><br>"
      ],
      "text/plain": [
       "/home/justinleong/Desktop/CTLT_MOOC_analysis/metric/assets/UBC__PHYS100_103__2016W1.ipynb"
      ]
     },
     "metadata": {},
     "output_type": "display_data"
    },
    {
     "name": "stdout",
     "output_type": "stream",
     "text": [
      "ayy\n"
     ]
    },
    {
     "data": {
      "text/html": [
       "<a href='testauto.ipynb' target='_blank'>testauto.ipynb</a><br>"
      ],
      "text/plain": [
       "/home/justinleong/Desktop/CTLT_MOOC_analysis/metric/testauto.ipynb"
      ]
     },
     "metadata": {},
     "output_type": "display_data"
    },
    {
     "name": "stdout",
     "output_type": "stream",
     "text": [
      "Error executing the notebook \"testauto\".\n",
      "\n",
      "See notebook \"./assets/UBC__PHYS1002016W1__2016W1.ipynb\" for the traceback.\n"
     ]
    },
    {
     "data": {
      "text/html": [
       "<a href='./assets/UBC__PHYS1002016W1__2016W1.ipynb' target='_blank'>./assets/UBC__PHYS1002016W1__2016W1.ipynb</a><br>"
      ],
      "text/plain": [
       "/home/justinleong/Desktop/CTLT_MOOC_analysis/metric/assets/UBC__PHYS1002016W1__2016W1.ipynb"
      ]
     },
     "metadata": {},
     "output_type": "display_data"
    },
    {
     "name": "stdout",
     "output_type": "stream",
     "text": [
      "ayy\n"
     ]
    },
    {
     "data": {
      "text/html": [
       "<a href='testauto.ipynb' target='_blank'>testauto.ipynb</a><br>"
      ],
      "text/plain": [
       "/home/justinleong/Desktop/CTLT_MOOC_analysis/metric/testauto.ipynb"
      ]
     },
     "metadata": {},
     "output_type": "display_data"
    },
    {
     "data": {
      "text/html": [
       "<a href='./assets/UBC__PHYS100_98A__2016SA.ipynb' target='_blank'>./assets/UBC__PHYS100_98A__2016SA.ipynb</a><br>"
      ],
      "text/plain": [
       "/home/justinleong/Desktop/CTLT_MOOC_analysis/metric/assets/UBC__PHYS100_98A__2016SA.ipynb"
      ]
     },
     "metadata": {},
     "output_type": "display_data"
    },
    {
     "data": {
      "text/html": [
       "<a href='testauto.ipynb' target='_blank'>testauto.ipynb</a><br>"
      ],
      "text/plain": [
       "/home/justinleong/Desktop/CTLT_MOOC_analysis/metric/testauto.ipynb"
      ]
     },
     "metadata": {},
     "output_type": "display_data"
    },
    {
     "name": "stdout",
     "output_type": "stream",
     "text": [
      "Error executing the notebook \"testauto\".\n",
      "\n",
      "See notebook \"./assets/UBC__PHYS100_98C__2016.ipynb\" for the traceback.\n"
     ]
    },
    {
     "data": {
      "text/html": [
       "<a href='./assets/UBC__PHYS100_98C__2016.ipynb' target='_blank'>./assets/UBC__PHYS100_98C__2016.ipynb</a><br>"
      ],
      "text/plain": [
       "/home/justinleong/Desktop/CTLT_MOOC_analysis/metric/assets/UBC__PHYS100_98C__2016.ipynb"
      ]
     },
     "metadata": {},
     "output_type": "display_data"
    },
    {
     "name": "stdout",
     "output_type": "stream",
     "text": [
      "ayy\n"
     ]
    },
    {
     "data": {
      "text/html": [
       "<a href='testauto.ipynb' target='_blank'>testauto.ipynb</a><br>"
      ],
      "text/plain": [
       "/home/justinleong/Desktop/CTLT_MOOC_analysis/metric/testauto.ipynb"
      ]
     },
     "metadata": {},
     "output_type": "display_data"
    },
    {
     "name": "stdout",
     "output_type": "stream",
     "text": [
      "Error executing the notebook \"testauto\".\n",
      "\n",
      "See notebook \"./assets/UBC__Phys_100v3__2015.ipynb\" for the traceback.\n"
     ]
    },
    {
     "data": {
      "text/html": [
       "<a href='./assets/UBC__Phys_100v3__2015.ipynb' target='_blank'>./assets/UBC__Phys_100v3__2015.ipynb</a><br>"
      ],
      "text/plain": [
       "/home/justinleong/Desktop/CTLT_MOOC_analysis/metric/assets/UBC__Phys_100v3__2015.ipynb"
      ]
     },
     "metadata": {},
     "output_type": "display_data"
    },
    {
     "name": "stdout",
     "output_type": "stream",
     "text": [
      "ayy\n"
     ]
    },
    {
     "data": {
      "text/html": [
       "<a href='testauto.ipynb' target='_blank'>testauto.ipynb</a><br>"
      ],
      "text/plain": [
       "/home/justinleong/Desktop/CTLT_MOOC_analysis/metric/testauto.ipynb"
      ]
     },
     "metadata": {},
     "output_type": "display_data"
    },
    {
     "name": "stdout",
     "output_type": "stream",
     "text": [
      "Error executing the notebook \"testauto\".\n",
      "\n",
      "See notebook \"./assets/UBC__PHYS546__2015W1.ipynb\" for the traceback.\n"
     ]
    },
    {
     "data": {
      "text/html": [
       "<a href='./assets/UBC__PHYS546__2015W1.ipynb' target='_blank'>./assets/UBC__PHYS546__2015W1.ipynb</a><br>"
      ],
      "text/plain": [
       "/home/justinleong/Desktop/CTLT_MOOC_analysis/metric/assets/UBC__PHYS546__2015W1.ipynb"
      ]
     },
     "metadata": {},
     "output_type": "display_data"
    },
    {
     "name": "stdout",
     "output_type": "stream",
     "text": [
      "ayy\n"
     ]
    },
    {
     "data": {
      "text/html": [
       "<a href='testauto.ipynb' target='_blank'>testauto.ipynb</a><br>"
      ],
      "text/plain": [
       "/home/justinleong/Desktop/CTLT_MOOC_analysis/metric/testauto.ipynb"
      ]
     },
     "metadata": {},
     "output_type": "display_data"
    },
    {
     "name": "stdout",
     "output_type": "stream",
     "text": [
      "Error executing the notebook \"testauto\".\n",
      "\n",
      "See notebook \"./assets/UBC__POLI377__2016W1.ipynb\" for the traceback.\n"
     ]
    },
    {
     "data": {
      "text/html": [
       "<a href='./assets/UBC__POLI377__2016W1.ipynb' target='_blank'>./assets/UBC__POLI377__2016W1.ipynb</a><br>"
      ],
      "text/plain": [
       "/home/justinleong/Desktop/CTLT_MOOC_analysis/metric/assets/UBC__POLI377__2016W1.ipynb"
      ]
     },
     "metadata": {},
     "output_type": "display_data"
    },
    {
     "name": "stdout",
     "output_type": "stream",
     "text": [
      "ayy\n"
     ]
    },
    {
     "data": {
      "text/html": [
       "<a href='testauto.ipynb' target='_blank'>testauto.ipynb</a><br>"
      ],
      "text/plain": [
       "/home/justinleong/Desktop/CTLT_MOOC_analysis/metric/testauto.ipynb"
      ]
     },
     "metadata": {},
     "output_type": "display_data"
    },
    {
     "data": {
      "text/html": [
       "<a href='./assets/UBC__POLI377APSC377__2016W1.ipynb' target='_blank'>./assets/UBC__POLI377APSC377__2016W1.ipynb</a><br>"
      ],
      "text/plain": [
       "/home/justinleong/Desktop/CTLT_MOOC_analysis/metric/assets/UBC__POLI377APSC377__2016W1.ipynb"
      ]
     },
     "metadata": {},
     "output_type": "display_data"
    },
    {
     "data": {
      "text/html": [
       "<a href='testauto.ipynb' target='_blank'>testauto.ipynb</a><br>"
      ],
      "text/plain": [
       "/home/justinleong/Desktop/CTLT_MOOC_analysis/metric/testauto.ipynb"
      ]
     },
     "metadata": {},
     "output_type": "display_data"
    },
    {
     "name": "stdout",
     "output_type": "stream",
     "text": [
      "Error executing the notebook \"testauto\".\n",
      "\n",
      "See notebook \"./assets/UBC__PSYC101_003__2016W1.ipynb\" for the traceback.\n"
     ]
    },
    {
     "data": {
      "text/html": [
       "<a href='./assets/UBC__PSYC101_003__2016W1.ipynb' target='_blank'>./assets/UBC__PSYC101_003__2016W1.ipynb</a><br>"
      ],
      "text/plain": [
       "/home/justinleong/Desktop/CTLT_MOOC_analysis/metric/assets/UBC__PSYC101_003__2016W1.ipynb"
      ]
     },
     "metadata": {},
     "output_type": "display_data"
    },
    {
     "name": "stdout",
     "output_type": "stream",
     "text": [
      "ayy\n"
     ]
    },
    {
     "data": {
      "text/html": [
       "<a href='testauto.ipynb' target='_blank'>testauto.ipynb</a><br>"
      ],
      "text/plain": [
       "/home/justinleong/Desktop/CTLT_MOOC_analysis/metric/testauto.ipynb"
      ]
     },
     "metadata": {},
     "output_type": "display_data"
    },
    {
     "name": "stdout",
     "output_type": "stream",
     "text": [
      "Error executing the notebook \"testauto\".\n",
      "\n",
      "See notebook \"./assets/UBC__PSYC101_004__2016W1.ipynb\" for the traceback.\n"
     ]
    },
    {
     "data": {
      "text/html": [
       "<a href='./assets/UBC__PSYC101_004__2016W1.ipynb' target='_blank'>./assets/UBC__PSYC101_004__2016W1.ipynb</a><br>"
      ],
      "text/plain": [
       "/home/justinleong/Desktop/CTLT_MOOC_analysis/metric/assets/UBC__PSYC101_004__2016W1.ipynb"
      ]
     },
     "metadata": {},
     "output_type": "display_data"
    },
    {
     "name": "stdout",
     "output_type": "stream",
     "text": [
      "ayy\n"
     ]
    },
    {
     "data": {
      "text/html": [
       "<a href='testauto.ipynb' target='_blank'>testauto.ipynb</a><br>"
      ],
      "text/plain": [
       "/home/justinleong/Desktop/CTLT_MOOC_analysis/metric/testauto.ipynb"
      ]
     },
     "metadata": {},
     "output_type": "display_data"
    },
    {
     "name": "stdout",
     "output_type": "stream",
     "text": [
      "Error executing the notebook \"testauto\".\n",
      "\n",
      "See notebook \"./assets/UBC__PSYC_2x__2016_2017.ipynb\" for the traceback.\n"
     ]
    },
    {
     "data": {
      "text/html": [
       "<a href='./assets/UBC__PSYC_2x__2016_2017.ipynb' target='_blank'>./assets/UBC__PSYC_2x__2016_2017.ipynb</a><br>"
      ],
      "text/plain": [
       "/home/justinleong/Desktop/CTLT_MOOC_analysis/metric/assets/UBC__PSYC_2x__2016_2017.ipynb"
      ]
     },
     "metadata": {},
     "output_type": "display_data"
    },
    {
     "name": "stdout",
     "output_type": "stream",
     "text": [
      "ayy\n"
     ]
    },
    {
     "data": {
      "text/html": [
       "<a href='testauto.ipynb' target='_blank'>testauto.ipynb</a><br>"
      ],
      "text/plain": [
       "/home/justinleong/Desktop/CTLT_MOOC_analysis/metric/testauto.ipynb"
      ]
     },
     "metadata": {},
     "output_type": "display_data"
    },
    {
     "name": "stdout",
     "output_type": "stream",
     "text": [
      "Error executing the notebook \"testauto\".\n",
      "\n",
      "See notebook \"./assets/UBC__R101__2014W2.ipynb\" for the traceback.\n"
     ]
    },
    {
     "data": {
      "text/html": [
       "<a href='./assets/UBC__R101__2014W2.ipynb' target='_blank'>./assets/UBC__R101__2014W2.ipynb</a><br>"
      ],
      "text/plain": [
       "/home/justinleong/Desktop/CTLT_MOOC_analysis/metric/assets/UBC__R101__2014W2.ipynb"
      ]
     },
     "metadata": {},
     "output_type": "display_data"
    },
    {
     "name": "stdout",
     "output_type": "stream",
     "text": [
      "ayy\n"
     ]
    },
    {
     "data": {
      "text/html": [
       "<a href='testauto.ipynb' target='_blank'>testauto.ipynb</a><br>"
      ],
      "text/plain": [
       "/home/justinleong/Desktop/CTLT_MOOC_analysis/metric/testauto.ipynb"
      ]
     },
     "metadata": {},
     "output_type": "display_data"
    },
    {
     "name": "stdout",
     "output_type": "stream",
     "text": [
      "Error executing the notebook \"testauto\".\n",
      "\n",
      "See notebook \"./assets/UBC__RCG01__2016W1.ipynb\" for the traceback.\n"
     ]
    },
    {
     "data": {
      "text/html": [
       "<a href='./assets/UBC__RCG01__2016W1.ipynb' target='_blank'>./assets/UBC__RCG01__2016W1.ipynb</a><br>"
      ],
      "text/plain": [
       "/home/justinleong/Desktop/CTLT_MOOC_analysis/metric/assets/UBC__RCG01__2016W1.ipynb"
      ]
     },
     "metadata": {},
     "output_type": "display_data"
    },
    {
     "name": "stdout",
     "output_type": "stream",
     "text": [
      "ayy\n"
     ]
    },
    {
     "data": {
      "text/html": [
       "<a href='testauto.ipynb' target='_blank'>testauto.ipynb</a><br>"
      ],
      "text/plain": [
       "/home/justinleong/Desktop/CTLT_MOOC_analysis/metric/testauto.ipynb"
      ]
     },
     "metadata": {},
     "output_type": "display_data"
    },
    {
     "name": "stdout",
     "output_type": "stream",
     "text": [
      "Error executing the notebook \"testauto\".\n",
      "\n",
      "See notebook \"./assets/UBC__RDP__2016W.ipynb\" for the traceback.\n"
     ]
    },
    {
     "data": {
      "text/html": [
       "<a href='./assets/UBC__RDP__2016W.ipynb' target='_blank'>./assets/UBC__RDP__2016W.ipynb</a><br>"
      ],
      "text/plain": [
       "/home/justinleong/Desktop/CTLT_MOOC_analysis/metric/assets/UBC__RDP__2016W.ipynb"
      ]
     },
     "metadata": {},
     "output_type": "display_data"
    },
    {
     "name": "stdout",
     "output_type": "stream",
     "text": [
      "ayy\n"
     ]
    },
    {
     "data": {
      "text/html": [
       "<a href='testauto.ipynb' target='_blank'>testauto.ipynb</a><br>"
      ],
      "text/plain": [
       "/home/justinleong/Desktop/CTLT_MOOC_analysis/metric/testauto.ipynb"
      ]
     },
     "metadata": {},
     "output_type": "display_data"
    },
    {
     "name": "stdout",
     "output_type": "stream",
     "text": [
      "Error executing the notebook \"testauto\".\n",
      "\n",
      "See notebook \"./assets/UBC__RSOT545_001__2016W1_2.ipynb\" for the traceback.\n"
     ]
    },
    {
     "data": {
      "text/html": [
       "<a href='./assets/UBC__RSOT545_001__2016W1_2.ipynb' target='_blank'>./assets/UBC__RSOT545_001__2016W1_2.ipynb</a><br>"
      ],
      "text/plain": [
       "/home/justinleong/Desktop/CTLT_MOOC_analysis/metric/assets/UBC__RSOT545_001__2016W1_2.ipynb"
      ]
     },
     "metadata": {},
     "output_type": "display_data"
    },
    {
     "name": "stdout",
     "output_type": "stream",
     "text": [
      "ayy\n"
     ]
    },
    {
     "data": {
      "text/html": [
       "<a href='testauto.ipynb' target='_blank'>testauto.ipynb</a><br>"
      ],
      "text/plain": [
       "/home/justinleong/Desktop/CTLT_MOOC_analysis/metric/testauto.ipynb"
      ]
     },
     "metadata": {},
     "output_type": "display_data"
    },
    {
     "name": "stdout",
     "output_type": "stream",
     "text": [
      "Error executing the notebook \"testauto\".\n",
      "\n",
      "See notebook \"./assets/UBC__SB101__2014S2.ipynb\" for the traceback.\n"
     ]
    },
    {
     "data": {
      "text/html": [
       "<a href='./assets/UBC__SB101__2014S2.ipynb' target='_blank'>./assets/UBC__SB101__2014S2.ipynb</a><br>"
      ],
      "text/plain": [
       "/home/justinleong/Desktop/CTLT_MOOC_analysis/metric/assets/UBC__SB101__2014S2.ipynb"
      ]
     },
     "metadata": {},
     "output_type": "display_data"
    },
    {
     "name": "stdout",
     "output_type": "stream",
     "text": [
      "ayy\n"
     ]
    },
    {
     "data": {
      "text/html": [
       "<a href='testauto.ipynb' target='_blank'>testauto.ipynb</a><br>"
      ],
      "text/plain": [
       "/home/justinleong/Desktop/CTLT_MOOC_analysis/metric/testauto.ipynb"
      ]
     },
     "metadata": {},
     "output_type": "display_data"
    },
    {
     "name": "stdout",
     "output_type": "stream",
     "text": [
      "Error executing the notebook \"testauto\".\n",
      "\n",
      "See notebook \"./assets/UBC__SCOOK01__2016.ipynb\" for the traceback.\n"
     ]
    },
    {
     "data": {
      "text/html": [
       "<a href='./assets/UBC__SCOOK01__2016.ipynb' target='_blank'>./assets/UBC__SCOOK01__2016.ipynb</a><br>"
      ],
      "text/plain": [
       "/home/justinleong/Desktop/CTLT_MOOC_analysis/metric/assets/UBC__SCOOK01__2016.ipynb"
      ]
     },
     "metadata": {},
     "output_type": "display_data"
    },
    {
     "name": "stdout",
     "output_type": "stream",
     "text": [
      "ayy\n"
     ]
    },
    {
     "data": {
      "text/html": [
       "<a href='testauto.ipynb' target='_blank'>testauto.ipynb</a><br>"
      ],
      "text/plain": [
       "/home/justinleong/Desktop/CTLT_MOOC_analysis/metric/testauto.ipynb"
      ]
     },
     "metadata": {},
     "output_type": "display_data"
    },
    {
     "name": "stdout",
     "output_type": "stream",
     "text": [
      "Error executing the notebook \"testauto\".\n",
      "\n",
      "See notebook \"./assets/UBC__SFL_Workshop__2016W1.ipynb\" for the traceback.\n"
     ]
    },
    {
     "data": {
      "text/html": [
       "<a href='./assets/UBC__SFL_Workshop__2016W1.ipynb' target='_blank'>./assets/UBC__SFL_Workshop__2016W1.ipynb</a><br>"
      ],
      "text/plain": [
       "/home/justinleong/Desktop/CTLT_MOOC_analysis/metric/assets/UBC__SFL_Workshop__2016W1.ipynb"
      ]
     },
     "metadata": {},
     "output_type": "display_data"
    },
    {
     "name": "stdout",
     "output_type": "stream",
     "text": [
      "ayy\n"
     ]
    },
    {
     "data": {
      "text/html": [
       "<a href='testauto.ipynb' target='_blank'>testauto.ipynb</a><br>"
      ],
      "text/plain": [
       "/home/justinleong/Desktop/CTLT_MOOC_analysis/metric/testauto.ipynb"
      ]
     },
     "metadata": {},
     "output_type": "display_data"
    },
    {
     "name": "stdout",
     "output_type": "stream",
     "text": [
      "Error executing the notebook \"testauto\".\n",
      "\n",
      "See notebook \"./assets/UBC__SGOMES01__2016.ipynb\" for the traceback.\n"
     ]
    },
    {
     "data": {
      "text/html": [
       "<a href='./assets/UBC__SGOMES01__2016.ipynb' target='_blank'>./assets/UBC__SGOMES01__2016.ipynb</a><br>"
      ],
      "text/plain": [
       "/home/justinleong/Desktop/CTLT_MOOC_analysis/metric/assets/UBC__SGOMES01__2016.ipynb"
      ]
     },
     "metadata": {},
     "output_type": "display_data"
    },
    {
     "name": "stdout",
     "output_type": "stream",
     "text": [
      "ayy\n"
     ]
    },
    {
     "data": {
      "text/html": [
       "<a href='testauto.ipynb' target='_blank'>testauto.ipynb</a><br>"
      ],
      "text/plain": [
       "/home/justinleong/Desktop/CTLT_MOOC_analysis/metric/testauto.ipynb"
      ]
     },
     "metadata": {},
     "output_type": "display_data"
    },
    {
     "name": "stdout",
     "output_type": "stream",
     "text": [
      "Error executing the notebook \"testauto\".\n",
      "\n",
      "See notebook \"./assets/UBC__SLS01__2015.ipynb\" for the traceback.\n"
     ]
    },
    {
     "data": {
      "text/html": [
       "<a href='./assets/UBC__SLS01__2015.ipynb' target='_blank'>./assets/UBC__SLS01__2015.ipynb</a><br>"
      ],
      "text/plain": [
       "/home/justinleong/Desktop/CTLT_MOOC_analysis/metric/assets/UBC__SLS01__2015.ipynb"
      ]
     },
     "metadata": {},
     "output_type": "display_data"
    },
    {
     "name": "stdout",
     "output_type": "stream",
     "text": [
      "ayy\n"
     ]
    },
    {
     "data": {
      "text/html": [
       "<a href='testauto.ipynb' target='_blank'>testauto.ipynb</a><br>"
      ],
      "text/plain": [
       "/home/justinleong/Desktop/CTLT_MOOC_analysis/metric/testauto.ipynb"
      ]
     },
     "metadata": {},
     "output_type": "display_data"
    },
    {
     "name": "stdout",
     "output_type": "stream",
     "text": [
      "Error executing the notebook \"testauto\".\n",
      "\n",
      "See notebook \"./assets/UBC__SMCGINNIS01__2016.ipynb\" for the traceback.\n"
     ]
    },
    {
     "data": {
      "text/html": [
       "<a href='./assets/UBC__SMCGINNIS01__2016.ipynb' target='_blank'>./assets/UBC__SMCGINNIS01__2016.ipynb</a><br>"
      ],
      "text/plain": [
       "/home/justinleong/Desktop/CTLT_MOOC_analysis/metric/assets/UBC__SMCGINNIS01__2016.ipynb"
      ]
     },
     "metadata": {},
     "output_type": "display_data"
    },
    {
     "name": "stdout",
     "output_type": "stream",
     "text": [
      "ayy\n"
     ]
    },
    {
     "data": {
      "text/html": [
       "<a href='testauto.ipynb' target='_blank'>testauto.ipynb</a><br>"
      ],
      "text/plain": [
       "/home/justinleong/Desktop/CTLT_MOOC_analysis/metric/testauto.ipynb"
      ]
     },
     "metadata": {},
     "output_type": "display_data"
    },
    {
     "name": "stdout",
     "output_type": "stream",
     "text": [
      "Error executing the notebook \"testauto\".\n",
      "\n",
      "See notebook \"./assets/UBC__SOIL515_001__2016_W1.ipynb\" for the traceback.\n"
     ]
    },
    {
     "data": {
      "text/html": [
       "<a href='./assets/UBC__SOIL515_001__2016_W1.ipynb' target='_blank'>./assets/UBC__SOIL515_001__2016_W1.ipynb</a><br>"
      ],
      "text/plain": [
       "/home/justinleong/Desktop/CTLT_MOOC_analysis/metric/assets/UBC__SOIL515_001__2016_W1.ipynb"
      ]
     },
     "metadata": {},
     "output_type": "display_data"
    },
    {
     "name": "stdout",
     "output_type": "stream",
     "text": [
      "ayy\n"
     ]
    },
    {
     "data": {
      "text/html": [
       "<a href='testauto.ipynb' target='_blank'>testauto.ipynb</a><br>"
      ],
      "text/plain": [
       "/home/justinleong/Desktop/CTLT_MOOC_analysis/metric/testauto.ipynb"
      ]
     },
     "metadata": {},
     "output_type": "display_data"
    },
    {
     "name": "stdout",
     "output_type": "stream",
     "text": [
      "Error executing the notebook \"testauto\".\n",
      "\n",
      "See notebook \"./assets/UBC__SPD2__2016T1.ipynb\" for the traceback.\n"
     ]
    },
    {
     "data": {
      "text/html": [
       "<a href='./assets/UBC__SPD2__2016T1.ipynb' target='_blank'>./assets/UBC__SPD2__2016T1.ipynb</a><br>"
      ],
      "text/plain": [
       "/home/justinleong/Desktop/CTLT_MOOC_analysis/metric/assets/UBC__SPD2__2016T1.ipynb"
      ]
     },
     "metadata": {},
     "output_type": "display_data"
    },
    {
     "name": "stdout",
     "output_type": "stream",
     "text": [
      "ayy\n"
     ]
    },
    {
     "data": {
      "text/html": [
       "<a href='testauto.ipynb' target='_blank'>testauto.ipynb</a><br>"
      ],
      "text/plain": [
       "/home/justinleong/Desktop/CTLT_MOOC_analysis/metric/testauto.ipynb"
      ]
     },
     "metadata": {},
     "output_type": "display_data"
    },
    {
     "name": "stdout",
     "output_type": "stream",
     "text": [
      "Error executing the notebook \"testauto\".\n",
      "\n",
      "See notebook \"./assets/UBC__SPPH409__2017W.ipynb\" for the traceback.\n"
     ]
    },
    {
     "data": {
      "text/html": [
       "<a href='./assets/UBC__SPPH409__2017W.ipynb' target='_blank'>./assets/UBC__SPPH409__2017W.ipynb</a><br>"
      ],
      "text/plain": [
       "/home/justinleong/Desktop/CTLT_MOOC_analysis/metric/assets/UBC__SPPH409__2017W.ipynb"
      ]
     },
     "metadata": {},
     "output_type": "display_data"
    },
    {
     "name": "stdout",
     "output_type": "stream",
     "text": [
      "ayy\n"
     ]
    },
    {
     "data": {
      "text/html": [
       "<a href='testauto.ipynb' target='_blank'>testauto.ipynb</a><br>"
      ],
      "text/plain": [
       "/home/justinleong/Desktop/CTLT_MOOC_analysis/metric/testauto.ipynb"
      ]
     },
     "metadata": {},
     "output_type": "display_data"
    },
    {
     "name": "stdout",
     "output_type": "stream",
     "text": [
      "Error executing the notebook \"testauto\".\n",
      "\n",
      "See notebook \"./assets/UBC__SPPH481A__2016Summer.ipynb\" for the traceback.\n"
     ]
    },
    {
     "data": {
      "text/html": [
       "<a href='./assets/UBC__SPPH481A__2016Summer.ipynb' target='_blank'>./assets/UBC__SPPH481A__2016Summer.ipynb</a><br>"
      ],
      "text/plain": [
       "/home/justinleong/Desktop/CTLT_MOOC_analysis/metric/assets/UBC__SPPH481A__2016Summer.ipynb"
      ]
     },
     "metadata": {},
     "output_type": "display_data"
    },
    {
     "name": "stdout",
     "output_type": "stream",
     "text": [
      "ayy\n"
     ]
    },
    {
     "data": {
      "text/html": [
       "<a href='testauto.ipynb' target='_blank'>testauto.ipynb</a><br>"
      ],
      "text/plain": [
       "/home/justinleong/Desktop/CTLT_MOOC_analysis/metric/testauto.ipynb"
      ]
     },
     "metadata": {},
     "output_type": "display_data"
    },
    {
     "name": "stdout",
     "output_type": "stream",
     "text": [
      "Error executing the notebook \"testauto\".\n",
      "\n",
      "See notebook \"./assets/UBC__SWE__2017.ipynb\" for the traceback.\n"
     ]
    },
    {
     "data": {
      "text/html": [
       "<a href='./assets/UBC__SWE__2017.ipynb' target='_blank'>./assets/UBC__SWE__2017.ipynb</a><br>"
      ],
      "text/plain": [
       "/home/justinleong/Desktop/CTLT_MOOC_analysis/metric/assets/UBC__SWE__2017.ipynb"
      ]
     },
     "metadata": {},
     "output_type": "display_data"
    },
    {
     "name": "stdout",
     "output_type": "stream",
     "text": [
      "ayy\n"
     ]
    },
    {
     "data": {
      "text/html": [
       "<a href='testauto.ipynb' target='_blank'>testauto.ipynb</a><br>"
      ],
      "text/plain": [
       "/home/justinleong/Desktop/CTLT_MOOC_analysis/metric/testauto.ipynb"
      ]
     },
     "metadata": {},
     "output_type": "display_data"
    },
    {
     "name": "stdout",
     "output_type": "stream",
     "text": [
      "Error executing the notebook \"testauto\".\n",
      "\n",
      "See notebook \"./assets/UBC__TBLE101__2016W2.ipynb\" for the traceback.\n"
     ]
    },
    {
     "data": {
      "text/html": [
       "<a href='./assets/UBC__TBLE101__2016W2.ipynb' target='_blank'>./assets/UBC__TBLE101__2016W2.ipynb</a><br>"
      ],
      "text/plain": [
       "/home/justinleong/Desktop/CTLT_MOOC_analysis/metric/assets/UBC__TBLE101__2016W2.ipynb"
      ]
     },
     "metadata": {},
     "output_type": "display_data"
    },
    {
     "name": "stdout",
     "output_type": "stream",
     "text": [
      "ayy\n"
     ]
    },
    {
     "data": {
      "text/html": [
       "<a href='testauto.ipynb' target='_blank'>testauto.ipynb</a><br>"
      ],
      "text/plain": [
       "/home/justinleong/Desktop/CTLT_MOOC_analysis/metric/testauto.ipynb"
      ]
     },
     "metadata": {},
     "output_type": "display_data"
    },
    {
     "name": "stdout",
     "output_type": "stream",
     "text": [
      "Error executing the notebook \"testauto\".\n",
      "\n",
      "See notebook \"./assets/UBC__TLEFVanLibInstructors__2016W1.ipynb\" for the traceback.\n"
     ]
    },
    {
     "data": {
      "text/html": [
       "<a href='./assets/UBC__TLEFVanLibInstructors__2016W1.ipynb' target='_blank'>./assets/UBC__TLEFVanLibInstructors__2016W1.ipynb</a><br>"
      ],
      "text/plain": [
       "/home/justinleong/Desktop/CTLT_MOOC_analysis/metric/assets/UBC__TLEFVanLibInstructors__2016W1.ipynb"
      ]
     },
     "metadata": {},
     "output_type": "display_data"
    },
    {
     "name": "stdout",
     "output_type": "stream",
     "text": [
      "ayy\n"
     ]
    },
    {
     "data": {
      "text/html": [
       "<a href='testauto.ipynb' target='_blank'>testauto.ipynb</a><br>"
      ],
      "text/plain": [
       "/home/justinleong/Desktop/CTLT_MOOC_analysis/metric/testauto.ipynb"
      ]
     },
     "metadata": {},
     "output_type": "display_data"
    },
    {
     "name": "stdout",
     "output_type": "stream",
     "text": [
      "Error executing the notebook \"testauto\".\n",
      "\n",
      "See notebook \"./assets/UBC__TLEFVanLibLibrarians__2016W1.ipynb\" for the traceback.\n"
     ]
    },
    {
     "data": {
      "text/html": [
       "<a href='./assets/UBC__TLEFVanLibLibrarians__2016W1.ipynb' target='_blank'>./assets/UBC__TLEFVanLibLibrarians__2016W1.ipynb</a><br>"
      ],
      "text/plain": [
       "/home/justinleong/Desktop/CTLT_MOOC_analysis/metric/assets/UBC__TLEFVanLibLibrarians__2016W1.ipynb"
      ]
     },
     "metadata": {},
     "output_type": "display_data"
    },
    {
     "name": "stdout",
     "output_type": "stream",
     "text": [
      "ayy\n"
     ]
    },
    {
     "data": {
      "text/html": [
       "<a href='testauto.ipynb' target='_blank'>testauto.ipynb</a><br>"
      ],
      "text/plain": [
       "/home/justinleong/Desktop/CTLT_MOOC_analysis/metric/testauto.ipynb"
      ]
     },
     "metadata": {},
     "output_type": "display_data"
    },
    {
     "name": "stdout",
     "output_type": "stream",
     "text": [
      "Error executing the notebook \"testauto\".\n",
      "\n",
      "See notebook \"./assets/UBC__PHYS1002015W2__2015W2.ipynb\" for the traceback.\n"
     ]
    },
    {
     "data": {
      "text/html": [
       "<a href='./assets/UBC__PHYS1002015W2__2015W2.ipynb' target='_blank'>./assets/UBC__PHYS1002015W2__2015W2.ipynb</a><br>"
      ],
      "text/plain": [
       "/home/justinleong/Desktop/CTLT_MOOC_analysis/metric/assets/UBC__PHYS1002015W2__2015W2.ipynb"
      ]
     },
     "metadata": {},
     "output_type": "display_data"
    },
    {
     "name": "stdout",
     "output_type": "stream",
     "text": [
      "ayy\n"
     ]
    },
    {
     "data": {
      "text/html": [
       "<a href='testauto.ipynb' target='_blank'>testauto.ipynb</a><br>"
      ],
      "text/plain": [
       "/home/justinleong/Desktop/CTLT_MOOC_analysis/metric/testauto.ipynb"
      ]
     },
     "metadata": {},
     "output_type": "display_data"
    },
    {
     "name": "stdout",
     "output_type": "stream",
     "text": [
      "Error executing the notebook \"testauto\".\n",
      "\n",
      "See notebook \"./assets/UBC__V01__2016W1.ipynb\" for the traceback.\n"
     ]
    },
    {
     "data": {
      "text/html": [
       "<a href='./assets/UBC__V01__2016W1.ipynb' target='_blank'>./assets/UBC__V01__2016W1.ipynb</a><br>"
      ],
      "text/plain": [
       "/home/justinleong/Desktop/CTLT_MOOC_analysis/metric/assets/UBC__V01__2016W1.ipynb"
      ]
     },
     "metadata": {},
     "output_type": "display_data"
    },
    {
     "name": "stdout",
     "output_type": "stream",
     "text": [
      "ayy\n"
     ]
    },
    {
     "data": {
      "text/html": [
       "<a href='testauto.ipynb' target='_blank'>testauto.ipynb</a><br>"
      ],
      "text/plain": [
       "/home/justinleong/Desktop/CTLT_MOOC_analysis/metric/testauto.ipynb"
      ]
     },
     "metadata": {},
     "output_type": "display_data"
    },
    {
     "name": "stdout",
     "output_type": "stream",
     "text": [
      "Error executing the notebook \"testauto\".\n",
      "\n",
      "See notebook \"./assets/UBC__version3__2015_t1.ipynb\" for the traceback.\n"
     ]
    },
    {
     "data": {
      "text/html": [
       "<a href='./assets/UBC__version3__2015_t1.ipynb' target='_blank'>./assets/UBC__version3__2015_t1.ipynb</a><br>"
      ],
      "text/plain": [
       "/home/justinleong/Desktop/CTLT_MOOC_analysis/metric/assets/UBC__version3__2015_t1.ipynb"
      ]
     },
     "metadata": {},
     "output_type": "display_data"
    },
    {
     "name": "stdout",
     "output_type": "stream",
     "text": [
      "ayy\n"
     ]
    },
    {
     "data": {
      "text/html": [
       "<a href='testauto.ipynb' target='_blank'>testauto.ipynb</a><br>"
      ],
      "text/plain": [
       "/home/justinleong/Desktop/CTLT_MOOC_analysis/metric/testauto.ipynb"
      ]
     },
     "metadata": {},
     "output_type": "display_data"
    },
    {
     "name": "stdout",
     "output_type": "stream",
     "text": [
      "Error executing the notebook \"testauto\".\n",
      "\n",
      "See notebook \"./assets/UBC__VISA_110_002__2015W2.ipynb\" for the traceback.\n"
     ]
    },
    {
     "data": {
      "text/html": [
       "<a href='./assets/UBC__VISA_110_002__2015W2.ipynb' target='_blank'>./assets/UBC__VISA_110_002__2015W2.ipynb</a><br>"
      ],
      "text/plain": [
       "/home/justinleong/Desktop/CTLT_MOOC_analysis/metric/assets/UBC__VISA_110_002__2015W2.ipynb"
      ]
     },
     "metadata": {},
     "output_type": "display_data"
    },
    {
     "name": "stdout",
     "output_type": "stream",
     "text": [
      "ayy\n"
     ]
    },
    {
     "data": {
      "text/html": [
       "<a href='testauto.ipynb' target='_blank'>testauto.ipynb</a><br>"
      ],
      "text/plain": [
       "/home/justinleong/Desktop/CTLT_MOOC_analysis/metric/testauto.ipynb"
      ]
     },
     "metadata": {},
     "output_type": "display_data"
    },
    {
     "name": "stdout",
     "output_type": "stream",
     "text": [
      "Error executing the notebook \"testauto\".\n",
      "\n",
      "See notebook \"./assets/UBC__VMonga__2016.ipynb\" for the traceback.\n"
     ]
    },
    {
     "data": {
      "text/html": [
       "<a href='./assets/UBC__VMonga__2016.ipynb' target='_blank'>./assets/UBC__VMonga__2016.ipynb</a><br>"
      ],
      "text/plain": [
       "/home/justinleong/Desktop/CTLT_MOOC_analysis/metric/assets/UBC__VMonga__2016.ipynb"
      ]
     },
     "metadata": {},
     "output_type": "display_data"
    },
    {
     "name": "stdout",
     "output_type": "stream",
     "text": [
      "ayy\n"
     ]
    },
    {
     "data": {
      "text/html": [
       "<a href='testauto.ipynb' target='_blank'>testauto.ipynb</a><br>"
      ],
      "text/plain": [
       "/home/justinleong/Desktop/CTLT_MOOC_analysis/metric/testauto.ipynb"
      ]
     },
     "metadata": {},
     "output_type": "display_data"
    },
    {
     "name": "stdout",
     "output_type": "stream",
     "text": [
      "Error executing the notebook \"testauto\".\n",
      "\n",
      "See notebook \"./assets/UBC__WCode__2016.ipynb\" for the traceback.\n"
     ]
    },
    {
     "data": {
      "text/html": [
       "<a href='./assets/UBC__WCode__2016.ipynb' target='_blank'>./assets/UBC__WCode__2016.ipynb</a><br>"
      ],
      "text/plain": [
       "/home/justinleong/Desktop/CTLT_MOOC_analysis/metric/assets/UBC__WCode__2016.ipynb"
      ]
     },
     "metadata": {},
     "output_type": "display_data"
    },
    {
     "name": "stdout",
     "output_type": "stream",
     "text": [
      "ayy\n"
     ]
    },
    {
     "data": {
      "text/html": [
       "<a href='testauto.ipynb' target='_blank'>testauto.ipynb</a><br>"
      ],
      "text/plain": [
       "/home/justinleong/Desktop/CTLT_MOOC_analysis/metric/testauto.ipynb"
      ]
     },
     "metadata": {},
     "output_type": "display_data"
    },
    {
     "name": "stdout",
     "output_type": "stream",
     "text": [
      "Error executing the notebook \"testauto\".\n",
      "\n",
      "See notebook \"./assets/UBC__WMILLER01__2016W2.ipynb\" for the traceback.\n"
     ]
    },
    {
     "data": {
      "text/html": [
       "<a href='./assets/UBC__WMILLER01__2016W2.ipynb' target='_blank'>./assets/UBC__WMILLER01__2016W2.ipynb</a><br>"
      ],
      "text/plain": [
       "/home/justinleong/Desktop/CTLT_MOOC_analysis/metric/assets/UBC__WMILLER01__2016W2.ipynb"
      ]
     },
     "metadata": {},
     "output_type": "display_data"
    },
    {
     "name": "stdout",
     "output_type": "stream",
     "text": [
      "ayy\n"
     ]
    },
    {
     "data": {
      "text/html": [
       "<a href='testauto.ipynb' target='_blank'>testauto.ipynb</a><br>"
      ],
      "text/plain": [
       "/home/justinleong/Desktop/CTLT_MOOC_analysis/metric/testauto.ipynb"
      ]
     },
     "metadata": {},
     "output_type": "display_data"
    },
    {
     "name": "stdout",
     "output_type": "stream",
     "text": [
      "Error executing the notebook \"testauto\".\n",
      "\n",
      "See notebook \"./assets/UBC__WOOD491_201__2016W2.ipynb\" for the traceback.\n"
     ]
    },
    {
     "data": {
      "text/html": [
       "<a href='./assets/UBC__WOOD491_201__2016W2.ipynb' target='_blank'>./assets/UBC__WOOD491_201__2016W2.ipynb</a><br>"
      ],
      "text/plain": [
       "/home/justinleong/Desktop/CTLT_MOOC_analysis/metric/assets/UBC__WOOD491_201__2016W2.ipynb"
      ]
     },
     "metadata": {},
     "output_type": "display_data"
    },
    {
     "name": "stdout",
     "output_type": "stream",
     "text": [
      "ayy\n"
     ]
    },
    {
     "data": {
      "text/html": [
       "<a href='testauto.ipynb' target='_blank'>testauto.ipynb</a><br>"
      ],
      "text/plain": [
       "/home/justinleong/Desktop/CTLT_MOOC_analysis/metric/testauto.ipynb"
      ]
     },
     "metadata": {},
     "output_type": "display_data"
    },
    {
     "name": "stdout",
     "output_type": "stream",
     "text": [
      "Error executing the notebook \"testauto\".\n",
      "\n",
      "See notebook \"./assets/UBCx__Angus01__2015.ipynb\" for the traceback.\n"
     ]
    },
    {
     "data": {
      "text/html": [
       "<a href='./assets/UBCx__Angus01__2015.ipynb' target='_blank'>./assets/UBCx__Angus01__2015.ipynb</a><br>"
      ],
      "text/plain": [
       "/home/justinleong/Desktop/CTLT_MOOC_analysis/metric/assets/UBCx__Angus01__2015.ipynb"
      ]
     },
     "metadata": {},
     "output_type": "display_data"
    },
    {
     "name": "stdout",
     "output_type": "stream",
     "text": [
      "ayy\n"
     ]
    },
    {
     "data": {
      "text/html": [
       "<a href='testauto.ipynb' target='_blank'>testauto.ipynb</a><br>"
      ],
      "text/plain": [
       "/home/justinleong/Desktop/CTLT_MOOC_analysis/metric/testauto.ipynb"
      ]
     },
     "metadata": {},
     "output_type": "display_data"
    },
    {
     "name": "stdout",
     "output_type": "stream",
     "text": [
      "Error executing the notebook \"testauto\".\n",
      "\n",
      "See notebook \"./assets/UBCx__AS1__2014_W1.ipynb\" for the traceback.\n"
     ]
    },
    {
     "data": {
      "text/html": [
       "<a href='./assets/UBCx__AS1__2014_W1.ipynb' target='_blank'>./assets/UBCx__AS1__2014_W1.ipynb</a><br>"
      ],
      "text/plain": [
       "/home/justinleong/Desktop/CTLT_MOOC_analysis/metric/assets/UBCx__AS1__2014_W1.ipynb"
      ]
     },
     "metadata": {},
     "output_type": "display_data"
    },
    {
     "name": "stdout",
     "output_type": "stream",
     "text": [
      "ayy\n"
     ]
    },
    {
     "data": {
      "text/html": [
       "<a href='testauto.ipynb' target='_blank'>testauto.ipynb</a><br>"
      ],
      "text/plain": [
       "/home/justinleong/Desktop/CTLT_MOOC_analysis/metric/testauto.ipynb"
      ]
     },
     "metadata": {},
     "output_type": "display_data"
    },
    {
     "name": "stdout",
     "output_type": "stream",
     "text": [
      "Error executing the notebook \"testauto\".\n",
      "\n",
      "See notebook \"./assets/UBCx__ASTR310__2016_W1.ipynb\" for the traceback.\n"
     ]
    },
    {
     "data": {
      "text/html": [
       "<a href='./assets/UBCx__ASTR310__2016_W1.ipynb' target='_blank'>./assets/UBCx__ASTR310__2016_W1.ipynb</a><br>"
      ],
      "text/plain": [
       "/home/justinleong/Desktop/CTLT_MOOC_analysis/metric/assets/UBCx__ASTR310__2016_W1.ipynb"
      ]
     },
     "metadata": {},
     "output_type": "display_data"
    },
    {
     "name": "stdout",
     "output_type": "stream",
     "text": [
      "ayy\n"
     ]
    },
    {
     "data": {
      "text/html": [
       "<a href='testauto.ipynb' target='_blank'>testauto.ipynb</a><br>"
      ],
      "text/plain": [
       "/home/justinleong/Desktop/CTLT_MOOC_analysis/metric/testauto.ipynb"
      ]
     },
     "metadata": {},
     "output_type": "display_data"
    },
    {
     "name": "stdout",
     "output_type": "stream",
     "text": [
      "Error executing the notebook \"testauto\".\n",
      "\n",
      "See notebook \"./assets/UBCx__ASTR311__2016_W1_99A.ipynb\" for the traceback.\n"
     ]
    },
    {
     "data": {
      "text/html": [
       "<a href='./assets/UBCx__ASTR311__2016_W1_99A.ipynb' target='_blank'>./assets/UBCx__ASTR311__2016_W1_99A.ipynb</a><br>"
      ],
      "text/plain": [
       "/home/justinleong/Desktop/CTLT_MOOC_analysis/metric/assets/UBCx__ASTR311__2016_W1_99A.ipynb"
      ]
     },
     "metadata": {},
     "output_type": "display_data"
    },
    {
     "name": "stdout",
     "output_type": "stream",
     "text": [
      "ayy\n"
     ]
    },
    {
     "data": {
      "text/html": [
       "<a href='testauto.ipynb' target='_blank'>testauto.ipynb</a><br>"
      ],
      "text/plain": [
       "/home/justinleong/Desktop/CTLT_MOOC_analysis/metric/testauto.ipynb"
      ]
     },
     "metadata": {},
     "output_type": "display_data"
    },
    {
     "name": "stdout",
     "output_type": "stream",
     "text": [
      "Error executing the notebook \"testauto\".\n",
      "\n",
      "See notebook \"./assets/UBCx__ASTR311__2016_W1_99C.ipynb\" for the traceback.\n"
     ]
    },
    {
     "data": {
      "text/html": [
       "<a href='./assets/UBCx__ASTR311__2016_W1_99C.ipynb' target='_blank'>./assets/UBCx__ASTR311__2016_W1_99C.ipynb</a><br>"
      ],
      "text/plain": [
       "/home/justinleong/Desktop/CTLT_MOOC_analysis/metric/assets/UBCx__ASTR311__2016_W1_99C.ipynb"
      ]
     },
     "metadata": {},
     "output_type": "display_data"
    },
    {
     "name": "stdout",
     "output_type": "stream",
     "text": [
      "ayy\n"
     ]
    },
    {
     "data": {
      "text/html": [
       "<a href='testauto.ipynb' target='_blank'>testauto.ipynb</a><br>"
      ],
      "text/plain": [
       "/home/justinleong/Desktop/CTLT_MOOC_analysis/metric/testauto.ipynb"
      ]
     },
     "metadata": {},
     "output_type": "display_data"
    },
    {
     "name": "stdout",
     "output_type": "stream",
     "text": [
      "Error executing the notebook \"testauto\".\n",
      "\n",
      "See notebook \"./assets/UBCx__ASTR333__2016_W1.ipynb\" for the traceback.\n"
     ]
    },
    {
     "data": {
      "text/html": [
       "<a href='./assets/UBCx__ASTR333__2016_W1.ipynb' target='_blank'>./assets/UBCx__ASTR333__2016_W1.ipynb</a><br>"
      ],
      "text/plain": [
       "/home/justinleong/Desktop/CTLT_MOOC_analysis/metric/assets/UBCx__ASTR333__2016_W1.ipynb"
      ]
     },
     "metadata": {},
     "output_type": "display_data"
    },
    {
     "name": "stdout",
     "output_type": "stream",
     "text": [
      "ayy\n"
     ]
    },
    {
     "data": {
      "text/html": [
       "<a href='testauto.ipynb' target='_blank'>testauto.ipynb</a><br>"
      ],
      "text/plain": [
       "/home/justinleong/Desktop/CTLT_MOOC_analysis/metric/testauto.ipynb"
      ]
     },
     "metadata": {},
     "output_type": "display_data"
    },
    {
     "name": "stdout",
     "output_type": "stream",
     "text": [
      "Error executing the notebook \"testauto\".\n",
      "\n",
      "See notebook \"./assets/UBCx__BIOB01__2015W2.ipynb\" for the traceback.\n"
     ]
    },
    {
     "data": {
      "text/html": [
       "<a href='./assets/UBCx__BIOB01__2015W2.ipynb' target='_blank'>./assets/UBCx__BIOB01__2015W2.ipynb</a><br>"
      ],
      "text/plain": [
       "/home/justinleong/Desktop/CTLT_MOOC_analysis/metric/assets/UBCx__BIOB01__2015W2.ipynb"
      ]
     },
     "metadata": {},
     "output_type": "display_data"
    },
    {
     "name": "stdout",
     "output_type": "stream",
     "text": [
      "ayy\n"
     ]
    },
    {
     "data": {
      "text/html": [
       "<a href='testauto.ipynb' target='_blank'>testauto.ipynb</a><br>"
      ],
      "text/plain": [
       "/home/justinleong/Desktop/CTLT_MOOC_analysis/metric/testauto.ipynb"
      ]
     },
     "metadata": {},
     "output_type": "display_data"
    },
    {
     "data": {
      "text/html": [
       "<a href='./assets/UBCx__Biobank1x__1T2017.ipynb' target='_blank'>./assets/UBCx__Biobank1x__1T2017.ipynb</a><br>"
      ],
      "text/plain": [
       "/home/justinleong/Desktop/CTLT_MOOC_analysis/metric/assets/UBCx__Biobank1x__1T2017.ipynb"
      ]
     },
     "metadata": {},
     "output_type": "display_data"
    },
    {
     "data": {
      "text/html": [
       "<a href='testauto.ipynb' target='_blank'>testauto.ipynb</a><br>"
      ],
      "text/plain": [
       "/home/justinleong/Desktop/CTLT_MOOC_analysis/metric/testauto.ipynb"
      ]
     },
     "metadata": {},
     "output_type": "display_data"
    },
    {
     "name": "stdout",
     "output_type": "stream",
     "text": [
      "Error executing the notebook \"testauto\".\n",
      "\n",
      "See notebook \"./assets/UBCx__BlendedLearning101__2015.ipynb\" for the traceback.\n"
     ]
    },
    {
     "data": {
      "text/html": [
       "<a href='./assets/UBCx__BlendedLearning101__2015.ipynb' target='_blank'>./assets/UBCx__BlendedLearning101__2015.ipynb</a><br>"
      ],
      "text/plain": [
       "/home/justinleong/Desktop/CTLT_MOOC_analysis/metric/assets/UBCx__BlendedLearning101__2015.ipynb"
      ]
     },
     "metadata": {},
     "output_type": "display_data"
    },
    {
     "name": "stdout",
     "output_type": "stream",
     "text": [
      "ayy\n"
     ]
    },
    {
     "data": {
      "text/html": [
       "<a href='testauto.ipynb' target='_blank'>testauto.ipynb</a><br>"
      ],
      "text/plain": [
       "/home/justinleong/Desktop/CTLT_MOOC_analysis/metric/testauto.ipynb"
      ]
     },
     "metadata": {},
     "output_type": "display_data"
    },
    {
     "data": {
      "text/html": [
       "<a href='./assets/UBCx__China300_1x__1T2016.ipynb' target='_blank'>./assets/UBCx__China300_1x__1T2016.ipynb</a><br>"
      ],
      "text/plain": [
       "/home/justinleong/Desktop/CTLT_MOOC_analysis/metric/assets/UBCx__China300_1x__1T2016.ipynb"
      ]
     },
     "metadata": {},
     "output_type": "display_data"
    },
    {
     "data": {
      "text/html": [
       "<a href='testauto.ipynb' target='_blank'>testauto.ipynb</a><br>"
      ],
      "text/plain": [
       "/home/justinleong/Desktop/CTLT_MOOC_analysis/metric/testauto.ipynb"
      ]
     },
     "metadata": {},
     "output_type": "display_data"
    },
    {
     "data": {
      "text/html": [
       "<a href='./assets/UBCx__China300_1x__3T2015.ipynb' target='_blank'>./assets/UBCx__China300_1x__3T2015.ipynb</a><br>"
      ],
      "text/plain": [
       "/home/justinleong/Desktop/CTLT_MOOC_analysis/metric/assets/UBCx__China300_1x__3T2015.ipynb"
      ]
     },
     "metadata": {},
     "output_type": "display_data"
    },
    {
     "data": {
      "text/html": [
       "<a href='testauto.ipynb' target='_blank'>testauto.ipynb</a><br>"
      ],
      "text/plain": [
       "/home/justinleong/Desktop/CTLT_MOOC_analysis/metric/testauto.ipynb"
      ]
     },
     "metadata": {},
     "output_type": "display_data"
    },
    {
     "name": "stdout",
     "output_type": "stream",
     "text": [
      "Error executing the notebook \"testauto\".\n",
      "\n",
      "See notebook \"./assets/UBCx__China300_1x__3T2016.ipynb\" for the traceback.\n"
     ]
    },
    {
     "data": {
      "text/html": [
       "<a href='./assets/UBCx__China300_1x__3T2016.ipynb' target='_blank'>./assets/UBCx__China300_1x__3T2016.ipynb</a><br>"
      ],
      "text/plain": [
       "/home/justinleong/Desktop/CTLT_MOOC_analysis/metric/assets/UBCx__China300_1x__3T2016.ipynb"
      ]
     },
     "metadata": {},
     "output_type": "display_data"
    },
    {
     "name": "stdout",
     "output_type": "stream",
     "text": [
      "ayy\n"
     ]
    },
    {
     "data": {
      "text/html": [
       "<a href='testauto.ipynb' target='_blank'>testauto.ipynb</a><br>"
      ],
      "text/plain": [
       "/home/justinleong/Desktop/CTLT_MOOC_analysis/metric/testauto.ipynb"
      ]
     },
     "metadata": {},
     "output_type": "display_data"
    },
    {
     "data": {
      "text/html": [
       "<a href='./assets/UBCx__China300_2x__1T2016.ipynb' target='_blank'>./assets/UBCx__China300_2x__1T2016.ipynb</a><br>"
      ],
      "text/plain": [
       "/home/justinleong/Desktop/CTLT_MOOC_analysis/metric/assets/UBCx__China300_2x__1T2016.ipynb"
      ]
     },
     "metadata": {},
     "output_type": "display_data"
    },
    {
     "data": {
      "text/html": [
       "<a href='testauto.ipynb' target='_blank'>testauto.ipynb</a><br>"
      ],
      "text/plain": [
       "/home/justinleong/Desktop/CTLT_MOOC_analysis/metric/testauto.ipynb"
      ]
     },
     "metadata": {},
     "output_type": "display_data"
    },
    {
     "data": {
      "text/html": [
       "<a href='./assets/UBCx__China300_2x__3T2015.ipynb' target='_blank'>./assets/UBCx__China300_2x__3T2015.ipynb</a><br>"
      ],
      "text/plain": [
       "/home/justinleong/Desktop/CTLT_MOOC_analysis/metric/assets/UBCx__China300_2x__3T2015.ipynb"
      ]
     },
     "metadata": {},
     "output_type": "display_data"
    },
    {
     "data": {
      "text/html": [
       "<a href='testauto.ipynb' target='_blank'>testauto.ipynb</a><br>"
      ],
      "text/plain": [
       "/home/justinleong/Desktop/CTLT_MOOC_analysis/metric/testauto.ipynb"
      ]
     },
     "metadata": {},
     "output_type": "display_data"
    },
    {
     "name": "stdout",
     "output_type": "stream",
     "text": [
      "Error executing the notebook \"testauto\".\n",
      "\n",
      "See notebook \"./assets/UBCx__China300_2x__3T2016.ipynb\" for the traceback.\n"
     ]
    },
    {
     "data": {
      "text/html": [
       "<a href='./assets/UBCx__China300_2x__3T2016.ipynb' target='_blank'>./assets/UBCx__China300_2x__3T2016.ipynb</a><br>"
      ],
      "text/plain": [
       "/home/justinleong/Desktop/CTLT_MOOC_analysis/metric/assets/UBCx__China300_2x__3T2016.ipynb"
      ]
     },
     "metadata": {},
     "output_type": "display_data"
    },
    {
     "name": "stdout",
     "output_type": "stream",
     "text": [
      "ayy\n"
     ]
    },
    {
     "data": {
      "text/html": [
       "<a href='testauto.ipynb' target='_blank'>testauto.ipynb</a><br>"
      ],
      "text/plain": [
       "/home/justinleong/Desktop/CTLT_MOOC_analysis/metric/testauto.ipynb"
      ]
     },
     "metadata": {},
     "output_type": "display_data"
    },
    {
     "data": {
      "text/html": [
       "<a href='./assets/UBCx__China300x__3T2014.ipynb' target='_blank'>./assets/UBCx__China300x__3T2014.ipynb</a><br>"
      ],
      "text/plain": [
       "/home/justinleong/Desktop/CTLT_MOOC_analysis/metric/assets/UBCx__China300x__3T2014.ipynb"
      ]
     },
     "metadata": {},
     "output_type": "display_data"
    },
    {
     "data": {
      "text/html": [
       "<a href='testauto.ipynb' target='_blank'>testauto.ipynb</a><br>"
      ],
      "text/plain": [
       "/home/justinleong/Desktop/CTLT_MOOC_analysis/metric/testauto.ipynb"
      ]
     },
     "metadata": {},
     "output_type": "display_data"
    },
    {
     "name": "stdout",
     "output_type": "stream",
     "text": [
      "Error executing the notebook \"testauto\".\n",
      "\n",
      "See notebook \"./assets/UBCx__CIVL498A__2015W1.ipynb\" for the traceback.\n"
     ]
    },
    {
     "data": {
      "text/html": [
       "<a href='./assets/UBCx__CIVL498A__2015W1.ipynb' target='_blank'>./assets/UBCx__CIVL498A__2015W1.ipynb</a><br>"
      ],
      "text/plain": [
       "/home/justinleong/Desktop/CTLT_MOOC_analysis/metric/assets/UBCx__CIVL498A__2015W1.ipynb"
      ]
     },
     "metadata": {},
     "output_type": "display_data"
    },
    {
     "name": "stdout",
     "output_type": "stream",
     "text": [
      "ayy\n"
     ]
    },
    {
     "data": {
      "text/html": [
       "<a href='testauto.ipynb' target='_blank'>testauto.ipynb</a><br>"
      ],
      "text/plain": [
       "/home/justinleong/Desktop/CTLT_MOOC_analysis/metric/testauto.ipynb"
      ]
     },
     "metadata": {},
     "output_type": "display_data"
    },
    {
     "data": {
      "text/html": [
       "<a href='./assets/UBCx__Climate101x__3T2015.ipynb' target='_blank'>./assets/UBCx__Climate101x__3T2015.ipynb</a><br>"
      ],
      "text/plain": [
       "/home/justinleong/Desktop/CTLT_MOOC_analysis/metric/assets/UBCx__Climate101x__3T2015.ipynb"
      ]
     },
     "metadata": {},
     "output_type": "display_data"
    },
    {
     "data": {
      "text/html": [
       "<a href='testauto.ipynb' target='_blank'>testauto.ipynb</a><br>"
      ],
      "text/plain": [
       "/home/justinleong/Desktop/CTLT_MOOC_analysis/metric/testauto.ipynb"
      ]
     },
     "metadata": {},
     "output_type": "display_data"
    },
    {
     "data": {
      "text/html": [
       "<a href='./assets/UBCx__Climate1x__1T2016.ipynb' target='_blank'>./assets/UBCx__Climate1x__1T2016.ipynb</a><br>"
      ],
      "text/plain": [
       "/home/justinleong/Desktop/CTLT_MOOC_analysis/metric/assets/UBCx__Climate1x__1T2016.ipynb"
      ]
     },
     "metadata": {},
     "output_type": "display_data"
    },
    {
     "data": {
      "text/html": [
       "<a href='testauto.ipynb' target='_blank'>testauto.ipynb</a><br>"
      ],
      "text/plain": [
       "/home/justinleong/Desktop/CTLT_MOOC_analysis/metric/testauto.ipynb"
      ]
     },
     "metadata": {},
     "output_type": "display_data"
    },
    {
     "data": {
      "text/html": [
       "<a href='./assets/UBCx__Climate1x__2T2016.ipynb' target='_blank'>./assets/UBCx__Climate1x__2T2016.ipynb</a><br>"
      ],
      "text/plain": [
       "/home/justinleong/Desktop/CTLT_MOOC_analysis/metric/assets/UBCx__Climate1x__2T2016.ipynb"
      ]
     },
     "metadata": {},
     "output_type": "display_data"
    },
    {
     "data": {
      "text/html": [
       "<a href='testauto.ipynb' target='_blank'>testauto.ipynb</a><br>"
      ],
      "text/plain": [
       "/home/justinleong/Desktop/CTLT_MOOC_analysis/metric/testauto.ipynb"
      ]
     },
     "metadata": {},
     "output_type": "display_data"
    },
    {
     "name": "stdout",
     "output_type": "stream",
     "text": [
      "Error executing the notebook \"testauto\".\n",
      "\n",
      "See notebook \"./assets/UBCx__Climate1x__2T2017.ipynb\" for the traceback.\n"
     ]
    },
    {
     "data": {
      "text/html": [
       "<a href='./assets/UBCx__Climate1x__2T2017.ipynb' target='_blank'>./assets/UBCx__Climate1x__2T2017.ipynb</a><br>"
      ],
      "text/plain": [
       "/home/justinleong/Desktop/CTLT_MOOC_analysis/metric/assets/UBCx__Climate1x__2T2017.ipynb"
      ]
     },
     "metadata": {},
     "output_type": "display_data"
    },
    {
     "name": "stdout",
     "output_type": "stream",
     "text": [
      "ayy\n"
     ]
    },
    {
     "data": {
      "text/html": [
       "<a href='testauto.ipynb' target='_blank'>testauto.ipynb</a><br>"
      ],
      "text/plain": [
       "/home/justinleong/Desktop/CTLT_MOOC_analysis/metric/testauto.ipynb"
      ]
     },
     "metadata": {},
     "output_type": "display_data"
    },
    {
     "name": "stdout",
     "output_type": "stream",
     "text": [
      "Error executing the notebook \"testauto\".\n",
      "\n",
      "See notebook \"./assets/UBCx__Climate1x__3T2016.ipynb\" for the traceback.\n"
     ]
    },
    {
     "data": {
      "text/html": [
       "<a href='./assets/UBCx__Climate1x__3T2016.ipynb' target='_blank'>./assets/UBCx__Climate1x__3T2016.ipynb</a><br>"
      ],
      "text/plain": [
       "/home/justinleong/Desktop/CTLT_MOOC_analysis/metric/assets/UBCx__Climate1x__3T2016.ipynb"
      ]
     },
     "metadata": {},
     "output_type": "display_data"
    },
    {
     "name": "stdout",
     "output_type": "stream",
     "text": [
      "ayy\n"
     ]
    },
    {
     "data": {
      "text/html": [
       "<a href='testauto.ipynb' target='_blank'>testauto.ipynb</a><br>"
      ],
      "text/plain": [
       "/home/justinleong/Desktop/CTLT_MOOC_analysis/metric/testauto.ipynb"
      ]
     },
     "metadata": {},
     "output_type": "display_data"
    },
    {
     "name": "stdout",
     "output_type": "stream",
     "text": [
      "Error executing the notebook \"testauto\".\n",
      "\n",
      "See notebook \"./assets/UBCx__CLSx__2015.ipynb\" for the traceback.\n"
     ]
    },
    {
     "data": {
      "text/html": [
       "<a href='./assets/UBCx__CLSx__2015.ipynb' target='_blank'>./assets/UBCx__CLSx__2015.ipynb</a><br>"
      ],
      "text/plain": [
       "/home/justinleong/Desktop/CTLT_MOOC_analysis/metric/assets/UBCx__CLSx__2015.ipynb"
      ]
     },
     "metadata": {},
     "output_type": "display_data"
    },
    {
     "name": "stdout",
     "output_type": "stream",
     "text": [
      "ayy\n"
     ]
    },
    {
     "data": {
      "text/html": [
       "<a href='testauto.ipynb' target='_blank'>testauto.ipynb</a><br>"
      ],
      "text/plain": [
       "/home/justinleong/Desktop/CTLT_MOOC_analysis/metric/testauto.ipynb"
      ]
     },
     "metadata": {},
     "output_type": "display_data"
    },
    {
     "name": "stdout",
     "output_type": "stream",
     "text": [
      "Error executing the notebook \"testauto\".\n",
      "\n",
      "See notebook \"./assets/UBCx__CPSC1101__2014W1.ipynb\" for the traceback.\n"
     ]
    },
    {
     "data": {
      "text/html": [
       "<a href='./assets/UBCx__CPSC1101__2014W1.ipynb' target='_blank'>./assets/UBCx__CPSC1101__2014W1.ipynb</a><br>"
      ],
      "text/plain": [
       "/home/justinleong/Desktop/CTLT_MOOC_analysis/metric/assets/UBCx__CPSC1101__2014W1.ipynb"
      ]
     },
     "metadata": {},
     "output_type": "display_data"
    },
    {
     "name": "stdout",
     "output_type": "stream",
     "text": [
      "ayy\n"
     ]
    },
    {
     "data": {
      "text/html": [
       "<a href='testauto.ipynb' target='_blank'>testauto.ipynb</a><br>"
      ],
      "text/plain": [
       "/home/justinleong/Desktop/CTLT_MOOC_analysis/metric/testauto.ipynb"
      ]
     },
     "metadata": {},
     "output_type": "display_data"
    },
    {
     "data": {
      "text/html": [
       "<a href='./assets/UBCx__CW1_1x__1T2016.ipynb' target='_blank'>./assets/UBCx__CW1_1x__1T2016.ipynb</a><br>"
      ],
      "text/plain": [
       "/home/justinleong/Desktop/CTLT_MOOC_analysis/metric/assets/UBCx__CW1_1x__1T2016.ipynb"
      ]
     },
     "metadata": {},
     "output_type": "display_data"
    },
    {
     "data": {
      "text/html": [
       "<a href='testauto.ipynb' target='_blank'>testauto.ipynb</a><br>"
      ],
      "text/plain": [
       "/home/justinleong/Desktop/CTLT_MOOC_analysis/metric/testauto.ipynb"
      ]
     },
     "metadata": {},
     "output_type": "display_data"
    },
    {
     "name": "stdout",
     "output_type": "stream",
     "text": [
      "Error executing the notebook \"testauto\".\n",
      "\n",
      "See notebook \"./assets/UBCx__CW1_1x__1T2017.ipynb\" for the traceback.\n"
     ]
    },
    {
     "data": {
      "text/html": [
       "<a href='./assets/UBCx__CW1_1x__1T2017.ipynb' target='_blank'>./assets/UBCx__CW1_1x__1T2017.ipynb</a><br>"
      ],
      "text/plain": [
       "/home/justinleong/Desktop/CTLT_MOOC_analysis/metric/assets/UBCx__CW1_1x__1T2017.ipynb"
      ]
     },
     "metadata": {},
     "output_type": "display_data"
    },
    {
     "name": "stdout",
     "output_type": "stream",
     "text": [
      "ayy\n"
     ]
    },
    {
     "data": {
      "text/html": [
       "<a href='testauto.ipynb' target='_blank'>testauto.ipynb</a><br>"
      ],
      "text/plain": [
       "/home/justinleong/Desktop/CTLT_MOOC_analysis/metric/testauto.ipynb"
      ]
     },
     "metadata": {},
     "output_type": "display_data"
    },
    {
     "data": {
      "text/html": [
       "<a href='./assets/UBCx__CW1_1x__3T2016.ipynb' target='_blank'>./assets/UBCx__CW1_1x__3T2016.ipynb</a><br>"
      ],
      "text/plain": [
       "/home/justinleong/Desktop/CTLT_MOOC_analysis/metric/assets/UBCx__CW1_1x__3T2016.ipynb"
      ]
     },
     "metadata": {},
     "output_type": "display_data"
    },
    {
     "data": {
      "text/html": [
       "<a href='testauto.ipynb' target='_blank'>testauto.ipynb</a><br>"
      ],
      "text/plain": [
       "/home/justinleong/Desktop/CTLT_MOOC_analysis/metric/testauto.ipynb"
      ]
     },
     "metadata": {},
     "output_type": "display_data"
    },
    {
     "data": {
      "text/html": [
       "<a href='./assets/UBCx__CW1_2x__1T2016.ipynb' target='_blank'>./assets/UBCx__CW1_2x__1T2016.ipynb</a><br>"
      ],
      "text/plain": [
       "/home/justinleong/Desktop/CTLT_MOOC_analysis/metric/assets/UBCx__CW1_2x__1T2016.ipynb"
      ]
     },
     "metadata": {},
     "output_type": "display_data"
    },
    {
     "data": {
      "text/html": [
       "<a href='testauto.ipynb' target='_blank'>testauto.ipynb</a><br>"
      ],
      "text/plain": [
       "/home/justinleong/Desktop/CTLT_MOOC_analysis/metric/testauto.ipynb"
      ]
     },
     "metadata": {},
     "output_type": "display_data"
    },
    {
     "name": "stdout",
     "output_type": "stream",
     "text": [
      "Error executing the notebook \"testauto\".\n",
      "\n",
      "See notebook \"./assets/UBCx__CW1_2x__1T2017.ipynb\" for the traceback.\n"
     ]
    },
    {
     "data": {
      "text/html": [
       "<a href='./assets/UBCx__CW1_2x__1T2017.ipynb' target='_blank'>./assets/UBCx__CW1_2x__1T2017.ipynb</a><br>"
      ],
      "text/plain": [
       "/home/justinleong/Desktop/CTLT_MOOC_analysis/metric/assets/UBCx__CW1_2x__1T2017.ipynb"
      ]
     },
     "metadata": {},
     "output_type": "display_data"
    },
    {
     "name": "stdout",
     "output_type": "stream",
     "text": [
      "ayy\n"
     ]
    },
    {
     "data": {
      "text/html": [
       "<a href='testauto.ipynb' target='_blank'>testauto.ipynb</a><br>"
      ],
      "text/plain": [
       "/home/justinleong/Desktop/CTLT_MOOC_analysis/metric/testauto.ipynb"
      ]
     },
     "metadata": {},
     "output_type": "display_data"
    },
    {
     "name": "stdout",
     "output_type": "stream",
     "text": [
      "Error executing the notebook \"testauto\".\n",
      "\n",
      "See notebook \"./assets/UBCx__CW1_2x__3T2016.ipynb\" for the traceback.\n"
     ]
    },
    {
     "data": {
      "text/html": [
       "<a href='./assets/UBCx__CW1_2x__3T2016.ipynb' target='_blank'>./assets/UBCx__CW1_2x__3T2016.ipynb</a><br>"
      ],
      "text/plain": [
       "/home/justinleong/Desktop/CTLT_MOOC_analysis/metric/assets/UBCx__CW1_2x__3T2016.ipynb"
      ]
     },
     "metadata": {},
     "output_type": "display_data"
    },
    {
     "name": "stdout",
     "output_type": "stream",
     "text": [
      "ayy\n"
     ]
    },
    {
     "data": {
      "text/html": [
       "<a href='testauto.ipynb' target='_blank'>testauto.ipynb</a><br>"
      ],
      "text/plain": [
       "/home/justinleong/Desktop/CTLT_MOOC_analysis/metric/testauto.ipynb"
      ]
     },
     "metadata": {},
     "output_type": "display_data"
    },
    {
     "name": "stdout",
     "output_type": "stream",
     "text": [
      "Error executing the notebook \"testauto\".\n",
      "\n",
      "See notebook \"./assets/UBCx__CW1_3x__1T2017.ipynb\" for the traceback.\n"
     ]
    },
    {
     "data": {
      "text/html": [
       "<a href='./assets/UBCx__CW1_3x__1T2017.ipynb' target='_blank'>./assets/UBCx__CW1_3x__1T2017.ipynb</a><br>"
      ],
      "text/plain": [
       "/home/justinleong/Desktop/CTLT_MOOC_analysis/metric/assets/UBCx__CW1_3x__1T2017.ipynb"
      ]
     },
     "metadata": {},
     "output_type": "display_data"
    },
    {
     "name": "stdout",
     "output_type": "stream",
     "text": [
      "ayy\n"
     ]
    },
    {
     "data": {
      "text/html": [
       "<a href='testauto.ipynb' target='_blank'>testauto.ipynb</a><br>"
      ],
      "text/plain": [
       "/home/justinleong/Desktop/CTLT_MOOC_analysis/metric/testauto.ipynb"
      ]
     },
     "metadata": {},
     "output_type": "display_data"
    },
    {
     "name": "stdout",
     "output_type": "stream",
     "text": [
      "Error executing the notebook \"testauto\".\n",
      "\n",
      "See notebook \"./assets/UBCx__DBSB1__2014.ipynb\" for the traceback.\n"
     ]
    },
    {
     "data": {
      "text/html": [
       "<a href='./assets/UBCx__DBSB1__2014.ipynb' target='_blank'>./assets/UBCx__DBSB1__2014.ipynb</a><br>"
      ],
      "text/plain": [
       "/home/justinleong/Desktop/CTLT_MOOC_analysis/metric/assets/UBCx__DBSB1__2014.ipynb"
      ]
     },
     "metadata": {},
     "output_type": "display_data"
    },
    {
     "name": "stdout",
     "output_type": "stream",
     "text": [
      "ayy\n"
     ]
    },
    {
     "data": {
      "text/html": [
       "<a href='testauto.ipynb' target='_blank'>testauto.ipynb</a><br>"
      ],
      "text/plain": [
       "/home/justinleong/Desktop/CTLT_MOOC_analysis/metric/testauto.ipynb"
      ]
     },
     "metadata": {},
     "output_type": "display_data"
    },
    {
     "name": "stdout",
     "output_type": "stream",
     "text": [
      "Error executing the notebook \"testauto\".\n",
      "\n",
      "See notebook \"./assets/UBCx__devtest__2015.ipynb\" for the traceback.\n"
     ]
    },
    {
     "data": {
      "text/html": [
       "<a href='./assets/UBCx__devtest__2015.ipynb' target='_blank'>./assets/UBCx__devtest__2015.ipynb</a><br>"
      ],
      "text/plain": [
       "/home/justinleong/Desktop/CTLT_MOOC_analysis/metric/assets/UBCx__devtest__2015.ipynb"
      ]
     },
     "metadata": {},
     "output_type": "display_data"
    },
    {
     "name": "stdout",
     "output_type": "stream",
     "text": [
      "ayy\n"
     ]
    },
    {
     "data": {
      "text/html": [
       "<a href='testauto.ipynb' target='_blank'>testauto.ipynb</a><br>"
      ],
      "text/plain": [
       "/home/justinleong/Desktop/CTLT_MOOC_analysis/metric/testauto.ipynb"
      ]
     },
     "metadata": {},
     "output_type": "display_data"
    },
    {
     "name": "stdout",
     "output_type": "stream",
     "text": [
      "Error executing the notebook \"testauto\".\n",
      "\n",
      "See notebook \"./assets/UBCx__DHRM100__2015_T1.ipynb\" for the traceback.\n"
     ]
    },
    {
     "data": {
      "text/html": [
       "<a href='./assets/UBCx__DHRM100__2015_T1.ipynb' target='_blank'>./assets/UBCx__DHRM100__2015_T1.ipynb</a><br>"
      ],
      "text/plain": [
       "/home/justinleong/Desktop/CTLT_MOOC_analysis/metric/assets/UBCx__DHRM100__2015_T1.ipynb"
      ]
     },
     "metadata": {},
     "output_type": "display_data"
    },
    {
     "name": "stdout",
     "output_type": "stream",
     "text": [
      "ayy\n"
     ]
    },
    {
     "data": {
      "text/html": [
       "<a href='testauto.ipynb' target='_blank'>testauto.ipynb</a><br>"
      ],
      "text/plain": [
       "/home/justinleong/Desktop/CTLT_MOOC_analysis/metric/testauto.ipynb"
      ]
     },
     "metadata": {},
     "output_type": "display_data"
    },
    {
     "name": "stdout",
     "output_type": "stream",
     "text": [
      "Error executing the notebook \"testauto\".\n",
      "\n",
      "See notebook \"./assets/UBCx__DodsonS_001__2015.ipynb\" for the traceback.\n"
     ]
    },
    {
     "data": {
      "text/html": [
       "<a href='./assets/UBCx__DodsonS_001__2015.ipynb' target='_blank'>./assets/UBCx__DodsonS_001__2015.ipynb</a><br>"
      ],
      "text/plain": [
       "/home/justinleong/Desktop/CTLT_MOOC_analysis/metric/assets/UBCx__DodsonS_001__2015.ipynb"
      ]
     },
     "metadata": {},
     "output_type": "display_data"
    },
    {
     "name": "stdout",
     "output_type": "stream",
     "text": [
      "ayy\n"
     ]
    },
    {
     "data": {
      "text/html": [
       "<a href='testauto.ipynb' target='_blank'>testauto.ipynb</a><br>"
      ],
      "text/plain": [
       "/home/justinleong/Desktop/CTLT_MOOC_analysis/metric/testauto.ipynb"
      ]
     },
     "metadata": {},
     "output_type": "display_data"
    },
    {
     "name": "stdout",
     "output_type": "stream",
     "text": [
      "Error executing the notebook \"testauto\".\n",
      "\n",
      "See notebook \"./assets/UBCx__DOnofrio01__2015.ipynb\" for the traceback.\n"
     ]
    },
    {
     "data": {
      "text/html": [
       "<a href='./assets/UBCx__DOnofrio01__2015.ipynb' target='_blank'>./assets/UBCx__DOnofrio01__2015.ipynb</a><br>"
      ],
      "text/plain": [
       "/home/justinleong/Desktop/CTLT_MOOC_analysis/metric/assets/UBCx__DOnofrio01__2015.ipynb"
      ]
     },
     "metadata": {},
     "output_type": "display_data"
    },
    {
     "name": "stdout",
     "output_type": "stream",
     "text": [
      "ayy\n"
     ]
    },
    {
     "data": {
      "text/html": [
       "<a href='testauto.ipynb' target='_blank'>testauto.ipynb</a><br>"
      ],
      "text/plain": [
       "/home/justinleong/Desktop/CTLT_MOOC_analysis/metric/testauto.ipynb"
      ]
     },
     "metadata": {},
     "output_type": "display_data"
    },
    {
     "name": "stdout",
     "output_type": "stream",
     "text": [
      "Error executing the notebook \"testauto\".\n",
      "\n",
      "See notebook \"./assets/UBCx__Ducharme01__2015.ipynb\" for the traceback.\n"
     ]
    },
    {
     "data": {
      "text/html": [
       "<a href='./assets/UBCx__Ducharme01__2015.ipynb' target='_blank'>./assets/UBCx__Ducharme01__2015.ipynb</a><br>"
      ],
      "text/plain": [
       "/home/justinleong/Desktop/CTLT_MOOC_analysis/metric/assets/UBCx__Ducharme01__2015.ipynb"
      ]
     },
     "metadata": {},
     "output_type": "display_data"
    },
    {
     "name": "stdout",
     "output_type": "stream",
     "text": [
      "ayy\n"
     ]
    },
    {
     "data": {
      "text/html": [
       "<a href='testauto.ipynb' target='_blank'>testauto.ipynb</a><br>"
      ],
      "text/plain": [
       "/home/justinleong/Desktop/CTLT_MOOC_analysis/metric/testauto.ipynb"
      ]
     },
     "metadata": {},
     "output_type": "display_data"
    },
    {
     "name": "stdout",
     "output_type": "stream",
     "text": [
      "Error executing the notebook \"testauto\".\n",
      "\n",
      "See notebook \"./assets/UBCx__EcodesignX__1T2017.ipynb\" for the traceback.\n"
     ]
    },
    {
     "data": {
      "text/html": [
       "<a href='./assets/UBCx__EcodesignX__1T2017.ipynb' target='_blank'>./assets/UBCx__EcodesignX__1T2017.ipynb</a><br>"
      ],
      "text/plain": [
       "/home/justinleong/Desktop/CTLT_MOOC_analysis/metric/assets/UBCx__EcodesignX__1T2017.ipynb"
      ]
     },
     "metadata": {},
     "output_type": "display_data"
    },
    {
     "name": "stdout",
     "output_type": "stream",
     "text": [
      "ayy\n"
     ]
    },
    {
     "data": {
      "text/html": [
       "<a href='testauto.ipynb' target='_blank'>testauto.ipynb</a><br>"
      ],
      "text/plain": [
       "/home/justinleong/Desktop/CTLT_MOOC_analysis/metric/testauto.ipynb"
      ]
     },
     "metadata": {},
     "output_type": "display_data"
    },
    {
     "name": "stdout",
     "output_type": "stream",
     "text": [
      "Error executing the notebook \"testauto\".\n",
      "\n",
      "See notebook \"./assets/UBCx__edx100__2014W2.ipynb\" for the traceback.\n"
     ]
    },
    {
     "data": {
      "text/html": [
       "<a href='./assets/UBCx__edx100__2014W2.ipynb' target='_blank'>./assets/UBCx__edx100__2014W2.ipynb</a><br>"
      ],
      "text/plain": [
       "/home/justinleong/Desktop/CTLT_MOOC_analysis/metric/assets/UBCx__edx100__2014W2.ipynb"
      ]
     },
     "metadata": {},
     "output_type": "display_data"
    },
    {
     "name": "stdout",
     "output_type": "stream",
     "text": [
      "ayy\n"
     ]
    },
    {
     "data": {
      "text/html": [
       "<a href='testauto.ipynb' target='_blank'>testauto.ipynb</a><br>"
      ],
      "text/plain": [
       "/home/justinleong/Desktop/CTLT_MOOC_analysis/metric/testauto.ipynb"
      ]
     },
     "metadata": {},
     "output_type": "display_data"
    },
    {
     "name": "stdout",
     "output_type": "stream",
     "text": [
      "Error executing the notebook \"testauto\".\n",
      "\n",
      "See notebook \"./assets/UBCx__EECE259__2015.ipynb\" for the traceback.\n"
     ]
    },
    {
     "data": {
      "text/html": [
       "<a href='./assets/UBCx__EECE259__2015.ipynb' target='_blank'>./assets/UBCx__EECE259__2015.ipynb</a><br>"
      ],
      "text/plain": [
       "/home/justinleong/Desktop/CTLT_MOOC_analysis/metric/assets/UBCx__EECE259__2015.ipynb"
      ]
     },
     "metadata": {},
     "output_type": "display_data"
    },
    {
     "name": "stdout",
     "output_type": "stream",
     "text": [
      "ayy\n"
     ]
    },
    {
     "data": {
      "text/html": [
       "<a href='testauto.ipynb' target='_blank'>testauto.ipynb</a><br>"
      ],
      "text/plain": [
       "/home/justinleong/Desktop/CTLT_MOOC_analysis/metric/testauto.ipynb"
      ]
     },
     "metadata": {},
     "output_type": "display_data"
    },
    {
     "name": "stdout",
     "output_type": "stream",
     "text": [
      "Error executing the notebook \"testauto\".\n",
      "\n",
      "See notebook \"./assets/UBCx__EECE311Sec001__2015W1.ipynb\" for the traceback.\n"
     ]
    },
    {
     "data": {
      "text/html": [
       "<a href='./assets/UBCx__EECE311Sec001__2015W1.ipynb' target='_blank'>./assets/UBCx__EECE311Sec001__2015W1.ipynb</a><br>"
      ],
      "text/plain": [
       "/home/justinleong/Desktop/CTLT_MOOC_analysis/metric/assets/UBCx__EECE311Sec001__2015W1.ipynb"
      ]
     },
     "metadata": {},
     "output_type": "display_data"
    },
    {
     "name": "stdout",
     "output_type": "stream",
     "text": [
      "ayy\n"
     ]
    },
    {
     "data": {
      "text/html": [
       "<a href='testauto.ipynb' target='_blank'>testauto.ipynb</a><br>"
      ],
      "text/plain": [
       "/home/justinleong/Desktop/CTLT_MOOC_analysis/metric/testauto.ipynb"
      ]
     },
     "metadata": {},
     "output_type": "display_data"
    },
    {
     "name": "stdout",
     "output_type": "stream",
     "text": [
      "Error executing the notebook \"testauto\".\n",
      "\n",
      "See notebook \"./assets/UBCx__EECE311Sec001__2015W1.ipynb\" for the traceback.\n"
     ]
    },
    {
     "data": {
      "text/html": [
       "<a href='./assets/UBCx__EECE311Sec001__2015W1.ipynb' target='_blank'>./assets/UBCx__EECE311Sec001__2015W1.ipynb</a><br>"
      ],
      "text/plain": [
       "/home/justinleong/Desktop/CTLT_MOOC_analysis/metric/assets/UBCx__EECE311Sec001__2015W1.ipynb"
      ]
     },
     "metadata": {},
     "output_type": "display_data"
    },
    {
     "name": "stdout",
     "output_type": "stream",
     "text": [
      "ayy\n"
     ]
    },
    {
     "data": {
      "text/html": [
       "<a href='testauto.ipynb' target='_blank'>testauto.ipynb</a><br>"
      ],
      "text/plain": [
       "/home/justinleong/Desktop/CTLT_MOOC_analysis/metric/testauto.ipynb"
      ]
     },
     "metadata": {},
     "output_type": "display_data"
    },
    {
     "name": "stdout",
     "output_type": "stream",
     "text": [
      "Error executing the notebook \"testauto\".\n",
      "\n",
      "See notebook \"./assets/UBCx__ELEC311_101__2015W1.ipynb\" for the traceback.\n"
     ]
    },
    {
     "data": {
      "text/html": [
       "<a href='./assets/UBCx__ELEC311_101__2015W1.ipynb' target='_blank'>./assets/UBCx__ELEC311_101__2015W1.ipynb</a><br>"
      ],
      "text/plain": [
       "/home/justinleong/Desktop/CTLT_MOOC_analysis/metric/assets/UBCx__ELEC311_101__2015W1.ipynb"
      ]
     },
     "metadata": {},
     "output_type": "display_data"
    },
    {
     "name": "stdout",
     "output_type": "stream",
     "text": [
      "ayy\n"
     ]
    },
    {
     "data": {
      "text/html": [
       "<a href='testauto.ipynb' target='_blank'>testauto.ipynb</a><br>"
      ],
      "text/plain": [
       "/home/justinleong/Desktop/CTLT_MOOC_analysis/metric/testauto.ipynb"
      ]
     },
     "metadata": {},
     "output_type": "display_data"
    },
    {
     "name": "stdout",
     "output_type": "stream",
     "text": [
      "Error executing the notebook \"testauto\".\n",
      "\n",
      "See notebook \"./assets/UBCx__Elouazizi01__2015.ipynb\" for the traceback.\n"
     ]
    },
    {
     "data": {
      "text/html": [
       "<a href='./assets/UBCx__Elouazizi01__2015.ipynb' target='_blank'>./assets/UBCx__Elouazizi01__2015.ipynb</a><br>"
      ],
      "text/plain": [
       "/home/justinleong/Desktop/CTLT_MOOC_analysis/metric/assets/UBCx__Elouazizi01__2015.ipynb"
      ]
     },
     "metadata": {},
     "output_type": "display_data"
    },
    {
     "name": "stdout",
     "output_type": "stream",
     "text": [
      "ayy\n"
     ]
    },
    {
     "data": {
      "text/html": [
       "<a href='testauto.ipynb' target='_blank'>testauto.ipynb</a><br>"
      ],
      "text/plain": [
       "/home/justinleong/Desktop/CTLT_MOOC_analysis/metric/testauto.ipynb"
      ]
     },
     "metadata": {},
     "output_type": "display_data"
    },
    {
     "name": "stdout",
     "output_type": "stream",
     "text": [
      "Error executing the notebook \"testauto\".\n",
      "\n",
      "See notebook \"./assets/UBCx__ETEC565a_b__2015.ipynb\" for the traceback.\n"
     ]
    },
    {
     "data": {
      "text/html": [
       "<a href='./assets/UBCx__ETEC565a_b__2015.ipynb' target='_blank'>./assets/UBCx__ETEC565a_b__2015.ipynb</a><br>"
      ],
      "text/plain": [
       "/home/justinleong/Desktop/CTLT_MOOC_analysis/metric/assets/UBCx__ETEC565a_b__2015.ipynb"
      ]
     },
     "metadata": {},
     "output_type": "display_data"
    },
    {
     "name": "stdout",
     "output_type": "stream",
     "text": [
      "ayy\n"
     ]
    },
    {
     "data": {
      "text/html": [
       "<a href='testauto.ipynb' target='_blank'>testauto.ipynb</a><br>"
      ],
      "text/plain": [
       "/home/justinleong/Desktop/CTLT_MOOC_analysis/metric/testauto.ipynb"
      ]
     },
     "metadata": {},
     "output_type": "display_data"
    },
    {
     "name": "stdout",
     "output_type": "stream",
     "text": [
      "Error executing the notebook \"testauto\".\n",
      "\n",
      "See notebook \"./assets/UBCx__ETEC565a_b_Donna_Marie__2015.ipynb\" for the traceback.\n"
     ]
    },
    {
     "data": {
      "text/html": [
       "<a href='./assets/UBCx__ETEC565a_b_Donna_Marie__2015.ipynb' target='_blank'>./assets/UBCx__ETEC565a_b_Donna_Marie__2015.ipynb</a><br>"
      ],
      "text/plain": [
       "/home/justinleong/Desktop/CTLT_MOOC_analysis/metric/assets/UBCx__ETEC565a_b_Donna_Marie__2015.ipynb"
      ]
     },
     "metadata": {},
     "output_type": "display_data"
    },
    {
     "name": "stdout",
     "output_type": "stream",
     "text": [
      "ayy\n"
     ]
    },
    {
     "data": {
      "text/html": [
       "<a href='testauto.ipynb' target='_blank'>testauto.ipynb</a><br>"
      ],
      "text/plain": [
       "/home/justinleong/Desktop/CTLT_MOOC_analysis/metric/testauto.ipynb"
      ]
     },
     "metadata": {},
     "output_type": "display_data"
    },
    {
     "name": "stdout",
     "output_type": "stream",
     "text": [
      "Error executing the notebook \"testauto\".\n",
      "\n",
      "See notebook \"./assets/UBCx__ETEC565a_b_Grant__2015.ipynb\" for the traceback.\n"
     ]
    },
    {
     "data": {
      "text/html": [
       "<a href='./assets/UBCx__ETEC565a_b_Grant__2015.ipynb' target='_blank'>./assets/UBCx__ETEC565a_b_Grant__2015.ipynb</a><br>"
      ],
      "text/plain": [
       "/home/justinleong/Desktop/CTLT_MOOC_analysis/metric/assets/UBCx__ETEC565a_b_Grant__2015.ipynb"
      ]
     },
     "metadata": {},
     "output_type": "display_data"
    },
    {
     "name": "stdout",
     "output_type": "stream",
     "text": [
      "ayy\n"
     ]
    },
    {
     "data": {
      "text/html": [
       "<a href='testauto.ipynb' target='_blank'>testauto.ipynb</a><br>"
      ],
      "text/plain": [
       "/home/justinleong/Desktop/CTLT_MOOC_analysis/metric/testauto.ipynb"
      ]
     },
     "metadata": {},
     "output_type": "display_data"
    },
    {
     "name": "stdout",
     "output_type": "stream",
     "text": [
      "Error executing the notebook \"testauto\".\n",
      "\n",
      "See notebook \"./assets/UBCx__ETEC565ab_Harbor__2015.ipynb\" for the traceback.\n"
     ]
    },
    {
     "data": {
      "text/html": [
       "<a href='./assets/UBCx__ETEC565ab_Harbor__2015.ipynb' target='_blank'>./assets/UBCx__ETEC565ab_Harbor__2015.ipynb</a><br>"
      ],
      "text/plain": [
       "/home/justinleong/Desktop/CTLT_MOOC_analysis/metric/assets/UBCx__ETEC565ab_Harbor__2015.ipynb"
      ]
     },
     "metadata": {},
     "output_type": "display_data"
    },
    {
     "name": "stdout",
     "output_type": "stream",
     "text": [
      "ayy\n"
     ]
    },
    {
     "data": {
      "text/html": [
       "<a href='testauto.ipynb' target='_blank'>testauto.ipynb</a><br>"
      ],
      "text/plain": [
       "/home/justinleong/Desktop/CTLT_MOOC_analysis/metric/testauto.ipynb"
      ]
     },
     "metadata": {},
     "output_type": "display_data"
    },
    {
     "name": "stdout",
     "output_type": "stream",
     "text": [
      "Error executing the notebook \"testauto\".\n",
      "\n",
      "See notebook \"./assets/UBCx__ETEC565a_b_Laurie__2015.ipynb\" for the traceback.\n"
     ]
    },
    {
     "data": {
      "text/html": [
       "<a href='./assets/UBCx__ETEC565a_b_Laurie__2015.ipynb' target='_blank'>./assets/UBCx__ETEC565a_b_Laurie__2015.ipynb</a><br>"
      ],
      "text/plain": [
       "/home/justinleong/Desktop/CTLT_MOOC_analysis/metric/assets/UBCx__ETEC565a_b_Laurie__2015.ipynb"
      ]
     },
     "metadata": {},
     "output_type": "display_data"
    },
    {
     "name": "stdout",
     "output_type": "stream",
     "text": [
      "ayy\n"
     ]
    },
    {
     "data": {
      "text/html": [
       "<a href='testauto.ipynb' target='_blank'>testauto.ipynb</a><br>"
      ],
      "text/plain": [
       "/home/justinleong/Desktop/CTLT_MOOC_analysis/metric/testauto.ipynb"
      ]
     },
     "metadata": {},
     "output_type": "display_data"
    },
    {
     "name": "stdout",
     "output_type": "stream",
     "text": [
      "Error executing the notebook \"testauto\".\n",
      "\n",
      "See notebook \"./assets/UBCx__ETEC565a_b_Sylvain__2015.ipynb\" for the traceback.\n"
     ]
    },
    {
     "data": {
      "text/html": [
       "<a href='./assets/UBCx__ETEC565a_b_Sylvain__2015.ipynb' target='_blank'>./assets/UBCx__ETEC565a_b_Sylvain__2015.ipynb</a><br>"
      ],
      "text/plain": [
       "/home/justinleong/Desktop/CTLT_MOOC_analysis/metric/assets/UBCx__ETEC565a_b_Sylvain__2015.ipynb"
      ]
     },
     "metadata": {},
     "output_type": "display_data"
    },
    {
     "name": "stdout",
     "output_type": "stream",
     "text": [
      "ayy\n"
     ]
    },
    {
     "data": {
      "text/html": [
       "<a href='testauto.ipynb' target='_blank'>testauto.ipynb</a><br>"
      ],
      "text/plain": [
       "/home/justinleong/Desktop/CTLT_MOOC_analysis/metric/testauto.ipynb"
      ]
     },
     "metadata": {},
     "output_type": "display_data"
    },
    {
     "name": "stdout",
     "output_type": "stream",
     "text": [
      "Error executing the notebook \"testauto\".\n",
      "\n",
      "See notebook \"./assets/UBCx__ETEC580stu__2015.ipynb\" for the traceback.\n"
     ]
    },
    {
     "data": {
      "text/html": [
       "<a href='./assets/UBCx__ETEC580stu__2015.ipynb' target='_blank'>./assets/UBCx__ETEC580stu__2015.ipynb</a><br>"
      ],
      "text/plain": [
       "/home/justinleong/Desktop/CTLT_MOOC_analysis/metric/assets/UBCx__ETEC580stu__2015.ipynb"
      ]
     },
     "metadata": {},
     "output_type": "display_data"
    },
    {
     "name": "stdout",
     "output_type": "stream",
     "text": [
      "ayy\n"
     ]
    },
    {
     "data": {
      "text/html": [
       "<a href='testauto.ipynb' target='_blank'>testauto.ipynb</a><br>"
      ],
      "text/plain": [
       "/home/justinleong/Desktop/CTLT_MOOC_analysis/metric/testauto.ipynb"
      ]
     },
     "metadata": {},
     "output_type": "display_data"
    },
    {
     "name": "stdout",
     "output_type": "stream",
     "text": [
      "Error executing the notebook \"testauto\".\n",
      "\n",
      "See notebook \"./assets/UBCx__FamBiz1x__1T2017.ipynb\" for the traceback.\n"
     ]
    },
    {
     "data": {
      "text/html": [
       "<a href='./assets/UBCx__FamBiz1x__1T2017.ipynb' target='_blank'>./assets/UBCx__FamBiz1x__1T2017.ipynb</a><br>"
      ],
      "text/plain": [
       "/home/justinleong/Desktop/CTLT_MOOC_analysis/metric/assets/UBCx__FamBiz1x__1T2017.ipynb"
      ]
     },
     "metadata": {},
     "output_type": "display_data"
    },
    {
     "name": "stdout",
     "output_type": "stream",
     "text": [
      "ayy\n"
     ]
    },
    {
     "data": {
      "text/html": [
       "<a href='testauto.ipynb' target='_blank'>testauto.ipynb</a><br>"
      ],
      "text/plain": [
       "/home/justinleong/Desktop/CTLT_MOOC_analysis/metric/testauto.ipynb"
      ]
     },
     "metadata": {},
     "output_type": "display_data"
    },
    {
     "name": "stdout",
     "output_type": "stream",
     "text": [
      "Error executing the notebook \"testauto\".\n",
      "\n",
      "See notebook \"./assets/UBCx__FamBiz1x__2016.ipynb\" for the traceback.\n"
     ]
    },
    {
     "data": {
      "text/html": [
       "<a href='./assets/UBCx__FamBiz1x__2016.ipynb' target='_blank'>./assets/UBCx__FamBiz1x__2016.ipynb</a><br>"
      ],
      "text/plain": [
       "/home/justinleong/Desktop/CTLT_MOOC_analysis/metric/assets/UBCx__FamBiz1x__2016.ipynb"
      ]
     },
     "metadata": {},
     "output_type": "display_data"
    },
    {
     "name": "stdout",
     "output_type": "stream",
     "text": [
      "ayy\n"
     ]
    },
    {
     "data": {
      "text/html": [
       "<a href='testauto.ipynb' target='_blank'>testauto.ipynb</a><br>"
      ],
      "text/plain": [
       "/home/justinleong/Desktop/CTLT_MOOC_analysis/metric/testauto.ipynb"
      ]
     },
     "metadata": {},
     "output_type": "display_data"
    },
    {
     "name": "stdout",
     "output_type": "stream",
     "text": [
      "Error executing the notebook \"testauto\".\n",
      "\n",
      "See notebook \"./assets/UBCx__FamEnter1x__2016.ipynb\" for the traceback.\n"
     ]
    },
    {
     "data": {
      "text/html": [
       "<a href='./assets/UBCx__FamEnter1x__2016.ipynb' target='_blank'>./assets/UBCx__FamEnter1x__2016.ipynb</a><br>"
      ],
      "text/plain": [
       "/home/justinleong/Desktop/CTLT_MOOC_analysis/metric/assets/UBCx__FamEnter1x__2016.ipynb"
      ]
     },
     "metadata": {},
     "output_type": "display_data"
    },
    {
     "name": "stdout",
     "output_type": "stream",
     "text": [
      "ayy\n"
     ]
    },
    {
     "data": {
      "text/html": [
       "<a href='testauto.ipynb' target='_blank'>testauto.ipynb</a><br>"
      ],
      "text/plain": [
       "/home/justinleong/Desktop/CTLT_MOOC_analysis/metric/testauto.ipynb"
      ]
     },
     "metadata": {},
     "output_type": "display_data"
    },
    {
     "data": {
      "text/html": [
       "<a href='./assets/UBCx__Forest222x__1T2015.ipynb' target='_blank'>./assets/UBCx__Forest222x__1T2015.ipynb</a><br>"
      ],
      "text/plain": [
       "/home/justinleong/Desktop/CTLT_MOOC_analysis/metric/assets/UBCx__Forest222x__1T2015.ipynb"
      ]
     },
     "metadata": {},
     "output_type": "display_data"
    },
    {
     "data": {
      "text/html": [
       "<a href='testauto.ipynb' target='_blank'>testauto.ipynb</a><br>"
      ],
      "text/plain": [
       "/home/justinleong/Desktop/CTLT_MOOC_analysis/metric/testauto.ipynb"
      ]
     },
     "metadata": {},
     "output_type": "display_data"
    },
    {
     "name": "stdout",
     "output_type": "stream",
     "text": [
      "Error executing the notebook \"testauto\".\n",
      "\n",
      "See notebook \"./assets/UBCx__Forest222x__2014_W2.ipynb\" for the traceback.\n"
     ]
    },
    {
     "data": {
      "text/html": [
       "<a href='./assets/UBCx__Forest222x__2014_W2.ipynb' target='_blank'>./assets/UBCx__Forest222x__2014_W2.ipynb</a><br>"
      ],
      "text/plain": [
       "/home/justinleong/Desktop/CTLT_MOOC_analysis/metric/assets/UBCx__Forest222x__2014_W2.ipynb"
      ]
     },
     "metadata": {},
     "output_type": "display_data"
    },
    {
     "name": "stdout",
     "output_type": "stream",
     "text": [
      "ayy\n"
     ]
    },
    {
     "data": {
      "text/html": [
       "<a href='testauto.ipynb' target='_blank'>testauto.ipynb</a><br>"
      ],
      "text/plain": [
       "/home/justinleong/Desktop/CTLT_MOOC_analysis/metric/testauto.ipynb"
      ]
     },
     "metadata": {},
     "output_type": "display_data"
    },
    {
     "name": "stdout",
     "output_type": "stream",
     "text": [
      "Error executing the notebook \"testauto\".\n",
      "\n",
      "See notebook \"./assets/UBCx__Forestx__2015.ipynb\" for the traceback.\n"
     ]
    },
    {
     "data": {
      "text/html": [
       "<a href='./assets/UBCx__Forestx__2015.ipynb' target='_blank'>./assets/UBCx__Forestx__2015.ipynb</a><br>"
      ],
      "text/plain": [
       "/home/justinleong/Desktop/CTLT_MOOC_analysis/metric/assets/UBCx__Forestx__2015.ipynb"
      ]
     },
     "metadata": {},
     "output_type": "display_data"
    },
    {
     "name": "stdout",
     "output_type": "stream",
     "text": [
      "ayy\n"
     ]
    },
    {
     "data": {
      "text/html": [
       "<a href='testauto.ipynb' target='_blank'>testauto.ipynb</a><br>"
      ],
      "text/plain": [
       "/home/justinleong/Desktop/CTLT_MOOC_analysis/metric/testauto.ipynb"
      ]
     },
     "metadata": {},
     "output_type": "display_data"
    },
    {
     "name": "stdout",
     "output_type": "stream",
     "text": [
      "Error executing the notebook \"testauto\".\n",
      "\n",
      "See notebook \"./assets/UBCx__Fucile01__2015_03.ipynb\" for the traceback.\n"
     ]
    },
    {
     "data": {
      "text/html": [
       "<a href='./assets/UBCx__Fucile01__2015_03.ipynb' target='_blank'>./assets/UBCx__Fucile01__2015_03.ipynb</a><br>"
      ],
      "text/plain": [
       "/home/justinleong/Desktop/CTLT_MOOC_analysis/metric/assets/UBCx__Fucile01__2015_03.ipynb"
      ]
     },
     "metadata": {},
     "output_type": "display_data"
    },
    {
     "name": "stdout",
     "output_type": "stream",
     "text": [
      "ayy\n"
     ]
    },
    {
     "data": {
      "text/html": [
       "<a href='testauto.ipynb' target='_blank'>testauto.ipynb</a><br>"
      ],
      "text/plain": [
       "/home/justinleong/Desktop/CTLT_MOOC_analysis/metric/testauto.ipynb"
      ]
     },
     "metadata": {},
     "output_type": "display_data"
    },
    {
     "name": "stdout",
     "output_type": "stream",
     "text": [
      "Error executing the notebook \"testauto\".\n",
      "\n",
      "See notebook \"./assets/UBCx__Genetics101x__SB1.ipynb\" for the traceback.\n"
     ]
    },
    {
     "data": {
      "text/html": [
       "<a href='./assets/UBCx__Genetics101x__SB1.ipynb' target='_blank'>./assets/UBCx__Genetics101x__SB1.ipynb</a><br>"
      ],
      "text/plain": [
       "/home/justinleong/Desktop/CTLT_MOOC_analysis/metric/assets/UBCx__Genetics101x__SB1.ipynb"
      ]
     },
     "metadata": {},
     "output_type": "display_data"
    },
    {
     "name": "stdout",
     "output_type": "stream",
     "text": [
      "ayy\n"
     ]
    },
    {
     "data": {
      "text/html": [
       "<a href='testauto.ipynb' target='_blank'>testauto.ipynb</a><br>"
      ],
      "text/plain": [
       "/home/justinleong/Desktop/CTLT_MOOC_analysis/metric/testauto.ipynb"
      ]
     },
     "metadata": {},
     "output_type": "display_data"
    },
    {
     "name": "stdout",
     "output_type": "stream",
     "text": [
      "Error executing the notebook \"testauto\".\n",
      "\n",
      "See notebook \"./assets/UBCx__Heyl01__2015.ipynb\" for the traceback.\n"
     ]
    },
    {
     "data": {
      "text/html": [
       "<a href='./assets/UBCx__Heyl01__2015.ipynb' target='_blank'>./assets/UBCx__Heyl01__2015.ipynb</a><br>"
      ],
      "text/plain": [
       "/home/justinleong/Desktop/CTLT_MOOC_analysis/metric/assets/UBCx__Heyl01__2015.ipynb"
      ]
     },
     "metadata": {},
     "output_type": "display_data"
    },
    {
     "name": "stdout",
     "output_type": "stream",
     "text": [
      "ayy\n"
     ]
    },
    {
     "data": {
      "text/html": [
       "<a href='testauto.ipynb' target='_blank'>testauto.ipynb</a><br>"
      ],
      "text/plain": [
       "/home/justinleong/Desktop/CTLT_MOOC_analysis/metric/testauto.ipynb"
      ]
     },
     "metadata": {},
     "output_type": "display_data"
    },
    {
     "name": "stdout",
     "output_type": "stream",
     "text": [
      "Error executing the notebook \"testauto\".\n",
      "\n",
      "See notebook \"./assets/UBCx__HtC1x__2T2017.ipynb\" for the traceback.\n"
     ]
    },
    {
     "data": {
      "text/html": [
       "<a href='./assets/UBCx__HtC1x__2T2017.ipynb' target='_blank'>./assets/UBCx__HtC1x__2T2017.ipynb</a><br>"
      ],
      "text/plain": [
       "/home/justinleong/Desktop/CTLT_MOOC_analysis/metric/assets/UBCx__HtC1x__2T2017.ipynb"
      ]
     },
     "metadata": {},
     "output_type": "display_data"
    },
    {
     "name": "stdout",
     "output_type": "stream",
     "text": [
      "ayy\n"
     ]
    },
    {
     "data": {
      "text/html": [
       "<a href='testauto.ipynb' target='_blank'>testauto.ipynb</a><br>"
      ],
      "text/plain": [
       "/home/justinleong/Desktop/CTLT_MOOC_analysis/metric/testauto.ipynb"
      ]
     },
     "metadata": {},
     "output_type": "display_data"
    },
    {
     "name": "stdout",
     "output_type": "stream",
     "text": [
      "Error executing the notebook \"testauto\".\n",
      "\n",
      "See notebook \"./assets/UBCx__HtC2x__2T2017.ipynb\" for the traceback.\n"
     ]
    },
    {
     "data": {
      "text/html": [
       "<a href='./assets/UBCx__HtC2x__2T2017.ipynb' target='_blank'>./assets/UBCx__HtC2x__2T2017.ipynb</a><br>"
      ],
      "text/plain": [
       "/home/justinleong/Desktop/CTLT_MOOC_analysis/metric/assets/UBCx__HtC2x__2T2017.ipynb"
      ]
     },
     "metadata": {},
     "output_type": "display_data"
    },
    {
     "name": "stdout",
     "output_type": "stream",
     "text": [
      "ayy\n"
     ]
    },
    {
     "data": {
      "text/html": [
       "<a href='testauto.ipynb' target='_blank'>testauto.ipynb</a><br>"
      ],
      "text/plain": [
       "/home/justinleong/Desktop/CTLT_MOOC_analysis/metric/testauto.ipynb"
      ]
     },
     "metadata": {},
     "output_type": "display_data"
    },
    {
     "name": "stdout",
     "output_type": "stream",
     "text": [
      "Error executing the notebook \"testauto\".\n",
      "\n",
      "See notebook \"./assets/UBCx__HtC_CDx__2T2017.ipynb\" for the traceback.\n"
     ]
    },
    {
     "data": {
      "text/html": [
       "<a href='./assets/UBCx__HtC_CDx__2T2017.ipynb' target='_blank'>./assets/UBCx__HtC_CDx__2T2017.ipynb</a><br>"
      ],
      "text/plain": [
       "/home/justinleong/Desktop/CTLT_MOOC_analysis/metric/assets/UBCx__HtC_CDx__2T2017.ipynb"
      ]
     },
     "metadata": {},
     "output_type": "display_data"
    },
    {
     "name": "stdout",
     "output_type": "stream",
     "text": [
      "ayy\n"
     ]
    },
    {
     "data": {
      "text/html": [
       "<a href='testauto.ipynb' target='_blank'>testauto.ipynb</a><br>"
      ],
      "text/plain": [
       "/home/justinleong/Desktop/CTLT_MOOC_analysis/metric/testauto.ipynb"
      ]
     },
     "metadata": {},
     "output_type": "display_data"
    },
    {
     "name": "stdout",
     "output_type": "stream",
     "text": [
      "Error executing the notebook \"testauto\".\n",
      "\n",
      "See notebook \"./assets/UBCx__HtC_SDx__2T2017.ipynb\" for the traceback.\n"
     ]
    },
    {
     "data": {
      "text/html": [
       "<a href='./assets/UBCx__HtC_SDx__2T2017.ipynb' target='_blank'>./assets/UBCx__HtC_SDx__2T2017.ipynb</a><br>"
      ],
      "text/plain": [
       "/home/justinleong/Desktop/CTLT_MOOC_analysis/metric/assets/UBCx__HtC_SDx__2T2017.ipynb"
      ]
     },
     "metadata": {},
     "output_type": "display_data"
    },
    {
     "name": "stdout",
     "output_type": "stream",
     "text": [
      "ayy\n"
     ]
    },
    {
     "data": {
      "text/html": [
       "<a href='testauto.ipynb' target='_blank'>testauto.ipynb</a><br>"
      ],
      "text/plain": [
       "/home/justinleong/Desktop/CTLT_MOOC_analysis/metric/testauto.ipynb"
      ]
     },
     "metadata": {},
     "output_type": "display_data"
    },
    {
     "data": {
      "text/html": [
       "<a href='./assets/UBCx__IndEdu200x__1T2015.ipynb' target='_blank'>./assets/UBCx__IndEdu200x__1T2015.ipynb</a><br>"
      ],
      "text/plain": [
       "/home/justinleong/Desktop/CTLT_MOOC_analysis/metric/assets/UBCx__IndEdu200x__1T2015.ipynb"
      ]
     },
     "metadata": {},
     "output_type": "display_data"
    },
    {
     "data": {
      "text/html": [
       "<a href='testauto.ipynb' target='_blank'>testauto.ipynb</a><br>"
      ],
      "text/plain": [
       "/home/justinleong/Desktop/CTLT_MOOC_analysis/metric/testauto.ipynb"
      ]
     },
     "metadata": {},
     "output_type": "display_data"
    },
    {
     "name": "stdout",
     "output_type": "stream",
     "text": [
      "Error executing the notebook \"testauto\".\n",
      "\n",
      "See notebook \"./assets/UBCx__IndEdu200x__1T2017.ipynb\" for the traceback.\n"
     ]
    },
    {
     "data": {
      "text/html": [
       "<a href='./assets/UBCx__IndEdu200x__1T2017.ipynb' target='_blank'>./assets/UBCx__IndEdu200x__1T2017.ipynb</a><br>"
      ],
      "text/plain": [
       "/home/justinleong/Desktop/CTLT_MOOC_analysis/metric/assets/UBCx__IndEdu200x__1T2017.ipynb"
      ]
     },
     "metadata": {},
     "output_type": "display_data"
    },
    {
     "name": "stdout",
     "output_type": "stream",
     "text": [
      "ayy\n"
     ]
    },
    {
     "data": {
      "text/html": [
       "<a href='testauto.ipynb' target='_blank'>testauto.ipynb</a><br>"
      ],
      "text/plain": [
       "/home/justinleong/Desktop/CTLT_MOOC_analysis/metric/testauto.ipynb"
      ]
     },
     "metadata": {},
     "output_type": "display_data"
    },
    {
     "data": {
      "text/html": [
       "<a href='./assets/UBCx__IndEdu200x__3T2015.ipynb' target='_blank'>./assets/UBCx__IndEdu200x__3T2015.ipynb</a><br>"
      ],
      "text/plain": [
       "/home/justinleong/Desktop/CTLT_MOOC_analysis/metric/assets/UBCx__IndEdu200x__3T2015.ipynb"
      ]
     },
     "metadata": {},
     "output_type": "display_data"
    },
    {
     "data": {
      "text/html": [
       "<a href='testauto.ipynb' target='_blank'>testauto.ipynb</a><br>"
      ],
      "text/plain": [
       "/home/justinleong/Desktop/CTLT_MOOC_analysis/metric/testauto.ipynb"
      ]
     },
     "metadata": {},
     "output_type": "display_data"
    },
    {
     "name": "stdout",
     "output_type": "stream",
     "text": [
      "Error executing the notebook \"testauto\".\n",
      "\n",
      "See notebook \"./assets/UBCx__IndEdu200x__3T2017.ipynb\" for the traceback.\n"
     ]
    },
    {
     "data": {
      "text/html": [
       "<a href='./assets/UBCx__IndEdu200x__3T2017.ipynb' target='_blank'>./assets/UBCx__IndEdu200x__3T2017.ipynb</a><br>"
      ],
      "text/plain": [
       "/home/justinleong/Desktop/CTLT_MOOC_analysis/metric/assets/UBCx__IndEdu200x__3T2017.ipynb"
      ]
     },
     "metadata": {},
     "output_type": "display_data"
    },
    {
     "name": "stdout",
     "output_type": "stream",
     "text": [
      "ayy\n"
     ]
    },
    {
     "data": {
      "text/html": [
       "<a href='testauto.ipynb' target='_blank'>testauto.ipynb</a><br>"
      ],
      "text/plain": [
       "/home/justinleong/Desktop/CTLT_MOOC_analysis/metric/testauto.ipynb"
      ]
     },
     "metadata": {},
     "output_type": "display_data"
    },
    {
     "name": "stdout",
     "output_type": "stream",
     "text": [
      "Error executing the notebook \"testauto\".\n",
      "\n",
      "See notebook \"./assets/UBCx__ISB1__2015.ipynb\" for the traceback.\n"
     ]
    },
    {
     "data": {
      "text/html": [
       "<a href='./assets/UBCx__ISB1__2015.ipynb' target='_blank'>./assets/UBCx__ISB1__2015.ipynb</a><br>"
      ],
      "text/plain": [
       "/home/justinleong/Desktop/CTLT_MOOC_analysis/metric/assets/UBCx__ISB1__2015.ipynb"
      ]
     },
     "metadata": {},
     "output_type": "display_data"
    },
    {
     "name": "stdout",
     "output_type": "stream",
     "text": [
      "ayy\n"
     ]
    },
    {
     "data": {
      "text/html": [
       "<a href='testauto.ipynb' target='_blank'>testauto.ipynb</a><br>"
      ],
      "text/plain": [
       "/home/justinleong/Desktop/CTLT_MOOC_analysis/metric/testauto.ipynb"
      ]
     },
     "metadata": {},
     "output_type": "display_data"
    },
    {
     "data": {
      "text/html": [
       "<a href='./assets/UBCx__ITSx__1T2016.ipynb' target='_blank'>./assets/UBCx__ITSx__1T2016.ipynb</a><br>"
      ],
      "text/plain": [
       "/home/justinleong/Desktop/CTLT_MOOC_analysis/metric/assets/UBCx__ITSx__1T2016.ipynb"
      ]
     },
     "metadata": {},
     "output_type": "display_data"
    },
    {
     "data": {
      "text/html": [
       "<a href='testauto.ipynb' target='_blank'>testauto.ipynb</a><br>"
      ],
      "text/plain": [
       "/home/justinleong/Desktop/CTLT_MOOC_analysis/metric/testauto.ipynb"
      ]
     },
     "metadata": {},
     "output_type": "display_data"
    },
    {
     "name": "stdout",
     "output_type": "stream",
     "text": [
      "Error executing the notebook \"testauto\".\n",
      "\n",
      "See notebook \"./assets/UBCx__ITSx__1T2017.ipynb\" for the traceback.\n"
     ]
    },
    {
     "data": {
      "text/html": [
       "<a href='./assets/UBCx__ITSx__1T2017.ipynb' target='_blank'>./assets/UBCx__ITSx__1T2017.ipynb</a><br>"
      ],
      "text/plain": [
       "/home/justinleong/Desktop/CTLT_MOOC_analysis/metric/assets/UBCx__ITSx__1T2017.ipynb"
      ]
     },
     "metadata": {},
     "output_type": "display_data"
    },
    {
     "name": "stdout",
     "output_type": "stream",
     "text": [
      "ayy\n"
     ]
    },
    {
     "data": {
      "text/html": [
       "<a href='testauto.ipynb' target='_blank'>testauto.ipynb</a><br>"
      ],
      "text/plain": [
       "/home/justinleong/Desktop/CTLT_MOOC_analysis/metric/testauto.ipynb"
      ]
     },
     "metadata": {},
     "output_type": "display_data"
    },
    {
     "name": "stdout",
     "output_type": "stream",
     "text": [
      "Error executing the notebook \"testauto\".\n",
      "\n",
      "See notebook \"./assets/UBCx__ITSx__2015.ipynb\" for the traceback.\n"
     ]
    },
    {
     "data": {
      "text/html": [
       "<a href='./assets/UBCx__ITSx__2015.ipynb' target='_blank'>./assets/UBCx__ITSx__2015.ipynb</a><br>"
      ],
      "text/plain": [
       "/home/justinleong/Desktop/CTLT_MOOC_analysis/metric/assets/UBCx__ITSx__2015.ipynb"
      ]
     },
     "metadata": {},
     "output_type": "display_data"
    },
    {
     "name": "stdout",
     "output_type": "stream",
     "text": [
      "ayy\n"
     ]
    },
    {
     "data": {
      "text/html": [
       "<a href='testauto.ipynb' target='_blank'>testauto.ipynb</a><br>"
      ],
      "text/plain": [
       "/home/justinleong/Desktop/CTLT_MOOC_analysis/metric/testauto.ipynb"
      ]
     },
     "metadata": {},
     "output_type": "display_data"
    },
    {
     "data": {
      "text/html": [
       "<a href='./assets/UBCx__ITSx__2T2015.ipynb' target='_blank'>./assets/UBCx__ITSx__2T2015.ipynb</a><br>"
      ],
      "text/plain": [
       "/home/justinleong/Desktop/CTLT_MOOC_analysis/metric/assets/UBCx__ITSx__2T2015.ipynb"
      ]
     },
     "metadata": {},
     "output_type": "display_data"
    },
    {
     "data": {
      "text/html": [
       "<a href='testauto.ipynb' target='_blank'>testauto.ipynb</a><br>"
      ],
      "text/plain": [
       "/home/justinleong/Desktop/CTLT_MOOC_analysis/metric/testauto.ipynb"
      ]
     },
     "metadata": {},
     "output_type": "display_data"
    },
    {
     "data": {
      "text/html": [
       "<a href='./assets/UBCx__ITSx__3T2016.ipynb' target='_blank'>./assets/UBCx__ITSx__3T2016.ipynb</a><br>"
      ],
      "text/plain": [
       "/home/justinleong/Desktop/CTLT_MOOC_analysis/metric/assets/UBCx__ITSx__3T2016.ipynb"
      ]
     },
     "metadata": {},
     "output_type": "display_data"
    },
    {
     "data": {
      "text/html": [
       "<a href='testauto.ipynb' target='_blank'>testauto.ipynb</a><br>"
      ],
      "text/plain": [
       "/home/justinleong/Desktop/CTLT_MOOC_analysis/metric/testauto.ipynb"
      ]
     },
     "metadata": {},
     "output_type": "display_data"
    },
    {
     "name": "stdout",
     "output_type": "stream",
     "text": [
      "Error executing the notebook \"testauto\".\n",
      "\n",
      "See notebook \"./assets/UBCx__J01__2015_03.ipynb\" for the traceback.\n"
     ]
    },
    {
     "data": {
      "text/html": [
       "<a href='./assets/UBCx__J01__2015_03.ipynb' target='_blank'>./assets/UBCx__J01__2015_03.ipynb</a><br>"
      ],
      "text/plain": [
       "/home/justinleong/Desktop/CTLT_MOOC_analysis/metric/assets/UBCx__J01__2015_03.ipynb"
      ]
     },
     "metadata": {},
     "output_type": "display_data"
    },
    {
     "name": "stdout",
     "output_type": "stream",
     "text": [
      "ayy\n"
     ]
    },
    {
     "data": {
      "text/html": [
       "<a href='testauto.ipynb' target='_blank'>testauto.ipynb</a><br>"
      ],
      "text/plain": [
       "/home/justinleong/Desktop/CTLT_MOOC_analysis/metric/testauto.ipynb"
      ]
     },
     "metadata": {},
     "output_type": "display_data"
    },
    {
     "name": "stdout",
     "output_type": "stream",
     "text": [
      "Error executing the notebook \"testauto\".\n",
      "\n",
      "See notebook \"./assets/UBCx__LFS1__2014_W1.ipynb\" for the traceback.\n"
     ]
    },
    {
     "data": {
      "text/html": [
       "<a href='./assets/UBCx__LFS1__2014_W1.ipynb' target='_blank'>./assets/UBCx__LFS1__2014_W1.ipynb</a><br>"
      ],
      "text/plain": [
       "/home/justinleong/Desktop/CTLT_MOOC_analysis/metric/assets/UBCx__LFS1__2014_W1.ipynb"
      ]
     },
     "metadata": {},
     "output_type": "display_data"
    },
    {
     "name": "stdout",
     "output_type": "stream",
     "text": [
      "ayy\n"
     ]
    },
    {
     "data": {
      "text/html": [
       "<a href='testauto.ipynb' target='_blank'>testauto.ipynb</a><br>"
      ],
      "text/plain": [
       "/home/justinleong/Desktop/CTLT_MOOC_analysis/metric/testauto.ipynb"
      ]
     },
     "metadata": {},
     "output_type": "display_data"
    },
    {
     "name": "stdout",
     "output_type": "stream",
     "text": [
      "Error executing the notebook \"testauto\".\n",
      "\n",
      "See notebook \"./assets/UBCx__LIBR_ITL__2015.ipynb\" for the traceback.\n"
     ]
    },
    {
     "data": {
      "text/html": [
       "<a href='./assets/UBCx__LIBR_ITL__2015.ipynb' target='_blank'>./assets/UBCx__LIBR_ITL__2015.ipynb</a><br>"
      ],
      "text/plain": [
       "/home/justinleong/Desktop/CTLT_MOOC_analysis/metric/assets/UBCx__LIBR_ITL__2015.ipynb"
      ]
     },
     "metadata": {},
     "output_type": "display_data"
    },
    {
     "name": "stdout",
     "output_type": "stream",
     "text": [
      "ayy\n"
     ]
    },
    {
     "data": {
      "text/html": [
       "<a href='testauto.ipynb' target='_blank'>testauto.ipynb</a><br>"
      ],
      "text/plain": [
       "/home/justinleong/Desktop/CTLT_MOOC_analysis/metric/testauto.ipynb"
      ]
     },
     "metadata": {},
     "output_type": "display_data"
    },
    {
     "name": "stdout",
     "output_type": "stream",
     "text": [
      "Error executing the notebook \"testauto\".\n",
      "\n",
      "See notebook \"./assets/UBCx__LRS1__2014WT1.ipynb\" for the traceback.\n"
     ]
    },
    {
     "data": {
      "text/html": [
       "<a href='./assets/UBCx__LRS1__2014WT1.ipynb' target='_blank'>./assets/UBCx__LRS1__2014WT1.ipynb</a><br>"
      ],
      "text/plain": [
       "/home/justinleong/Desktop/CTLT_MOOC_analysis/metric/assets/UBCx__LRS1__2014WT1.ipynb"
      ]
     },
     "metadata": {},
     "output_type": "display_data"
    },
    {
     "name": "stdout",
     "output_type": "stream",
     "text": [
      "ayy\n"
     ]
    },
    {
     "data": {
      "text/html": [
       "<a href='testauto.ipynb' target='_blank'>testauto.ipynb</a><br>"
      ],
      "text/plain": [
       "/home/justinleong/Desktop/CTLT_MOOC_analysis/metric/testauto.ipynb"
      ]
     },
     "metadata": {},
     "output_type": "display_data"
    },
    {
     "name": "stdout",
     "output_type": "stream",
     "text": [
      "Error executing the notebook \"testauto\".\n",
      "\n",
      "See notebook \"./assets/UBCx__LS2__2014.ipynb\" for the traceback.\n"
     ]
    },
    {
     "data": {
      "text/html": [
       "<a href='./assets/UBCx__LS2__2014.ipynb' target='_blank'>./assets/UBCx__LS2__2014.ipynb</a><br>"
      ],
      "text/plain": [
       "/home/justinleong/Desktop/CTLT_MOOC_analysis/metric/assets/UBCx__LS2__2014.ipynb"
      ]
     },
     "metadata": {},
     "output_type": "display_data"
    },
    {
     "name": "stdout",
     "output_type": "stream",
     "text": [
      "ayy\n"
     ]
    },
    {
     "data": {
      "text/html": [
       "<a href='testauto.ipynb' target='_blank'>testauto.ipynb</a><br>"
      ],
      "text/plain": [
       "/home/justinleong/Desktop/CTLT_MOOC_analysis/metric/testauto.ipynb"
      ]
     },
     "metadata": {},
     "output_type": "display_data"
    },
    {
     "name": "stdout",
     "output_type": "stream",
     "text": [
      "Error executing the notebook \"testauto\".\n",
      "\n",
      "See notebook \"./assets/UBCx__M01__2015_03.ipynb\" for the traceback.\n"
     ]
    },
    {
     "data": {
      "text/html": [
       "<a href='./assets/UBCx__M01__2015_03.ipynb' target='_blank'>./assets/UBCx__M01__2015_03.ipynb</a><br>"
      ],
      "text/plain": [
       "/home/justinleong/Desktop/CTLT_MOOC_analysis/metric/assets/UBCx__M01__2015_03.ipynb"
      ]
     },
     "metadata": {},
     "output_type": "display_data"
    },
    {
     "name": "stdout",
     "output_type": "stream",
     "text": [
      "ayy\n"
     ]
    },
    {
     "data": {
      "text/html": [
       "<a href='testauto.ipynb' target='_blank'>testauto.ipynb</a><br>"
      ],
      "text/plain": [
       "/home/justinleong/Desktop/CTLT_MOOC_analysis/metric/testauto.ipynb"
      ]
     },
     "metadata": {},
     "output_type": "display_data"
    },
    {
     "name": "stdout",
     "output_type": "stream",
     "text": [
      "Error executing the notebook \"testauto\".\n",
      "\n",
      "See notebook \"./assets/UBCx__MacBeth01__2015.ipynb\" for the traceback.\n"
     ]
    },
    {
     "data": {
      "text/html": [
       "<a href='./assets/UBCx__MacBeth01__2015.ipynb' target='_blank'>./assets/UBCx__MacBeth01__2015.ipynb</a><br>"
      ],
      "text/plain": [
       "/home/justinleong/Desktop/CTLT_MOOC_analysis/metric/assets/UBCx__MacBeth01__2015.ipynb"
      ]
     },
     "metadata": {},
     "output_type": "display_data"
    },
    {
     "name": "stdout",
     "output_type": "stream",
     "text": [
      "ayy\n"
     ]
    },
    {
     "data": {
      "text/html": [
       "<a href='testauto.ipynb' target='_blank'>testauto.ipynb</a><br>"
      ],
      "text/plain": [
       "/home/justinleong/Desktop/CTLT_MOOC_analysis/metric/testauto.ipynb"
      ]
     },
     "metadata": {},
     "output_type": "display_data"
    },
    {
     "data": {
      "text/html": [
       "<a href='./assets/UBCx__Marketing1x__3T2015.ipynb' target='_blank'>./assets/UBCx__Marketing1x__3T2015.ipynb</a><br>"
      ],
      "text/plain": [
       "/home/justinleong/Desktop/CTLT_MOOC_analysis/metric/assets/UBCx__Marketing1x__3T2015.ipynb"
      ]
     },
     "metadata": {},
     "output_type": "display_data"
    },
    {
     "data": {
      "text/html": [
       "<a href='testauto.ipynb' target='_blank'>testauto.ipynb</a><br>"
      ],
      "text/plain": [
       "/home/justinleong/Desktop/CTLT_MOOC_analysis/metric/testauto.ipynb"
      ]
     },
     "metadata": {},
     "output_type": "display_data"
    },
    {
     "name": "stdout",
     "output_type": "stream",
     "text": [
      "Error executing the notebook \"testauto\".\n",
      "\n",
      "See notebook \"./assets/UBCx__Marketing2x__June2015.ipynb\" for the traceback.\n"
     ]
    },
    {
     "data": {
      "text/html": [
       "<a href='./assets/UBCx__Marketing2x__June2015.ipynb' target='_blank'>./assets/UBCx__Marketing2x__June2015.ipynb</a><br>"
      ],
      "text/plain": [
       "/home/justinleong/Desktop/CTLT_MOOC_analysis/metric/assets/UBCx__Marketing2x__June2015.ipynb"
      ]
     },
     "metadata": {},
     "output_type": "display_data"
    },
    {
     "name": "stdout",
     "output_type": "stream",
     "text": [
      "ayy\n"
     ]
    },
    {
     "data": {
      "text/html": [
       "<a href='testauto.ipynb' target='_blank'>testauto.ipynb</a><br>"
      ],
      "text/plain": [
       "/home/justinleong/Desktop/CTLT_MOOC_analysis/metric/testauto.ipynb"
      ]
     },
     "metadata": {},
     "output_type": "display_data"
    },
    {
     "name": "stdout",
     "output_type": "stream",
     "text": [
      "Error executing the notebook \"testauto\".\n",
      "\n",
      "See notebook \"./assets/UBCx__Marketing5501x__2015preview.ipynb\" for the traceback.\n"
     ]
    },
    {
     "data": {
      "text/html": [
       "<a href='./assets/UBCx__Marketing5501x__2015preview.ipynb' target='_blank'>./assets/UBCx__Marketing5501x__2015preview.ipynb</a><br>"
      ],
      "text/plain": [
       "/home/justinleong/Desktop/CTLT_MOOC_analysis/metric/assets/UBCx__Marketing5501x__2015preview.ipynb"
      ]
     },
     "metadata": {},
     "output_type": "display_data"
    },
    {
     "name": "stdout",
     "output_type": "stream",
     "text": [
      "ayy\n"
     ]
    },
    {
     "data": {
      "text/html": [
       "<a href='testauto.ipynb' target='_blank'>testauto.ipynb</a><br>"
      ],
      "text/plain": [
       "/home/justinleong/Desktop/CTLT_MOOC_analysis/metric/testauto.ipynb"
      ]
     },
     "metadata": {},
     "output_type": "display_data"
    },
    {
     "data": {
      "text/html": [
       "<a href='./assets/UBCx__Marketing5501x__2T2015.ipynb' target='_blank'>./assets/UBCx__Marketing5501x__2T2015.ipynb</a><br>"
      ],
      "text/plain": [
       "/home/justinleong/Desktop/CTLT_MOOC_analysis/metric/assets/UBCx__Marketing5501x__2T2015.ipynb"
      ]
     },
     "metadata": {},
     "output_type": "display_data"
    },
    {
     "data": {
      "text/html": [
       "<a href='testauto.ipynb' target='_blank'>testauto.ipynb</a><br>"
      ],
      "text/plain": [
       "/home/justinleong/Desktop/CTLT_MOOC_analysis/metric/testauto.ipynb"
      ]
     },
     "metadata": {},
     "output_type": "display_data"
    },
    {
     "name": "stdout",
     "output_type": "stream",
     "text": [
      "Error executing the notebook \"testauto\".\n",
      "\n",
      "See notebook \"./assets/UBCx__Marketing5502x__3T2015.ipynb\" for the traceback.\n"
     ]
    },
    {
     "data": {
      "text/html": [
       "<a href='./assets/UBCx__Marketing5502x__3T2015.ipynb' target='_blank'>./assets/UBCx__Marketing5502x__3T2015.ipynb</a><br>"
      ],
      "text/plain": [
       "/home/justinleong/Desktop/CTLT_MOOC_analysis/metric/assets/UBCx__Marketing5502x__3T2015.ipynb"
      ]
     },
     "metadata": {},
     "output_type": "display_data"
    },
    {
     "name": "stdout",
     "output_type": "stream",
     "text": [
      "ayy\n"
     ]
    },
    {
     "data": {
      "text/html": [
       "<a href='testauto.ipynb' target='_blank'>testauto.ipynb</a><br>"
      ],
      "text/plain": [
       "/home/justinleong/Desktop/CTLT_MOOC_analysis/metric/testauto.ipynb"
      ]
     },
     "metadata": {},
     "output_type": "display_data"
    },
    {
     "name": "stdout",
     "output_type": "stream",
     "text": [
      "Error executing the notebook \"testauto\".\n",
      "\n",
      "See notebook \"./assets/UBCx__Marketing5503x__3T2015.ipynb\" for the traceback.\n"
     ]
    },
    {
     "data": {
      "text/html": [
       "<a href='./assets/UBCx__Marketing5503x__3T2015.ipynb' target='_blank'>./assets/UBCx__Marketing5503x__3T2015.ipynb</a><br>"
      ],
      "text/plain": [
       "/home/justinleong/Desktop/CTLT_MOOC_analysis/metric/assets/UBCx__Marketing5503x__3T2015.ipynb"
      ]
     },
     "metadata": {},
     "output_type": "display_data"
    },
    {
     "name": "stdout",
     "output_type": "stream",
     "text": [
      "ayy\n"
     ]
    },
    {
     "data": {
      "text/html": [
       "<a href='testauto.ipynb' target='_blank'>testauto.ipynb</a><br>"
      ],
      "text/plain": [
       "/home/justinleong/Desktop/CTLT_MOOC_analysis/metric/testauto.ipynb"
      ]
     },
     "metadata": {},
     "output_type": "display_data"
    },
    {
     "name": "stdout",
     "output_type": "stream",
     "text": [
      "Error executing the notebook \"testauto\".\n",
      "\n",
      "See notebook \"./assets/UBCx__Marketingx__1002015.ipynb\" for the traceback.\n"
     ]
    },
    {
     "data": {
      "text/html": [
       "<a href='./assets/UBCx__Marketingx__1002015.ipynb' target='_blank'>./assets/UBCx__Marketingx__1002015.ipynb</a><br>"
      ],
      "text/plain": [
       "/home/justinleong/Desktop/CTLT_MOOC_analysis/metric/assets/UBCx__Marketingx__1002015.ipynb"
      ]
     },
     "metadata": {},
     "output_type": "display_data"
    },
    {
     "name": "stdout",
     "output_type": "stream",
     "text": [
      "ayy\n"
     ]
    },
    {
     "data": {
      "text/html": [
       "<a href='testauto.ipynb' target='_blank'>testauto.ipynb</a><br>"
      ],
      "text/plain": [
       "/home/justinleong/Desktop/CTLT_MOOC_analysis/metric/testauto.ipynb"
      ]
     },
     "metadata": {},
     "output_type": "display_data"
    },
    {
     "name": "stdout",
     "output_type": "stream",
     "text": [
      "Error executing the notebook \"testauto\".\n",
      "\n",
      "See notebook \"./assets/UBCx__MINE101__2015_01.ipynb\" for the traceback.\n"
     ]
    },
    {
     "data": {
      "text/html": [
       "<a href='./assets/UBCx__MINE101__2015_01.ipynb' target='_blank'>./assets/UBCx__MINE101__2015_01.ipynb</a><br>"
      ],
      "text/plain": [
       "/home/justinleong/Desktop/CTLT_MOOC_analysis/metric/assets/UBCx__MINE101__2015_01.ipynb"
      ]
     },
     "metadata": {},
     "output_type": "display_data"
    },
    {
     "name": "stdout",
     "output_type": "stream",
     "text": [
      "ayy\n"
     ]
    },
    {
     "data": {
      "text/html": [
       "<a href='testauto.ipynb' target='_blank'>testauto.ipynb</a><br>"
      ],
      "text/plain": [
       "/home/justinleong/Desktop/CTLT_MOOC_analysis/metric/testauto.ipynb"
      ]
     },
     "metadata": {},
     "output_type": "display_data"
    },
    {
     "name": "stdout",
     "output_type": "stream",
     "text": [
      "Error executing the notebook \"testauto\".\n",
      "\n",
      "See notebook \"./assets/UBCx__MINE480__2016_W1.ipynb\" for the traceback.\n"
     ]
    },
    {
     "data": {
      "text/html": [
       "<a href='./assets/UBCx__MINE480__2016_W1.ipynb' target='_blank'>./assets/UBCx__MINE480__2016_W1.ipynb</a><br>"
      ],
      "text/plain": [
       "/home/justinleong/Desktop/CTLT_MOOC_analysis/metric/assets/UBCx__MINE480__2016_W1.ipynb"
      ]
     },
     "metadata": {},
     "output_type": "display_data"
    },
    {
     "name": "stdout",
     "output_type": "stream",
     "text": [
      "ayy\n"
     ]
    },
    {
     "data": {
      "text/html": [
       "<a href='testauto.ipynb' target='_blank'>testauto.ipynb</a><br>"
      ],
      "text/plain": [
       "/home/justinleong/Desktop/CTLT_MOOC_analysis/metric/testauto.ipynb"
      ]
     },
     "metadata": {},
     "output_type": "display_data"
    },
    {
     "name": "stdout",
     "output_type": "stream",
     "text": [
      "Error executing the notebook \"testauto\".\n",
      "\n",
      "See notebook \"./assets/UBCx__MS101__2015_T1.ipynb\" for the traceback.\n"
     ]
    },
    {
     "data": {
      "text/html": [
       "<a href='./assets/UBCx__MS101__2015_T1.ipynb' target='_blank'>./assets/UBCx__MS101__2015_T1.ipynb</a><br>"
      ],
      "text/plain": [
       "/home/justinleong/Desktop/CTLT_MOOC_analysis/metric/assets/UBCx__MS101__2015_T1.ipynb"
      ]
     },
     "metadata": {},
     "output_type": "display_data"
    },
    {
     "name": "stdout",
     "output_type": "stream",
     "text": [
      "ayy\n"
     ]
    },
    {
     "data": {
      "text/html": [
       "<a href='testauto.ipynb' target='_blank'>testauto.ipynb</a><br>"
      ],
      "text/plain": [
       "/home/justinleong/Desktop/CTLT_MOOC_analysis/metric/testauto.ipynb"
      ]
     },
     "metadata": {},
     "output_type": "display_data"
    },
    {
     "name": "stdout",
     "output_type": "stream",
     "text": [
      "Error executing the notebook \"testauto\".\n",
      "\n",
      "See notebook \"./assets/UBCx__MSB1__2014.ipynb\" for the traceback.\n"
     ]
    },
    {
     "data": {
      "text/html": [
       "<a href='./assets/UBCx__MSB1__2014.ipynb' target='_blank'>./assets/UBCx__MSB1__2014.ipynb</a><br>"
      ],
      "text/plain": [
       "/home/justinleong/Desktop/CTLT_MOOC_analysis/metric/assets/UBCx__MSB1__2014.ipynb"
      ]
     },
     "metadata": {},
     "output_type": "display_data"
    },
    {
     "name": "stdout",
     "output_type": "stream",
     "text": [
      "ayy\n"
     ]
    },
    {
     "data": {
      "text/html": [
       "<a href='testauto.ipynb' target='_blank'>testauto.ipynb</a><br>"
      ],
      "text/plain": [
       "/home/justinleong/Desktop/CTLT_MOOC_analysis/metric/testauto.ipynb"
      ]
     },
     "metadata": {},
     "output_type": "display_data"
    },
    {
     "name": "stdout",
     "output_type": "stream",
     "text": [
      "Error executing the notebook \"testauto\".\n",
      "\n",
      "See notebook \"./assets/UBCx__NJR101__2015W2.ipynb\" for the traceback.\n"
     ]
    },
    {
     "data": {
      "text/html": [
       "<a href='./assets/UBCx__NJR101__2015W2.ipynb' target='_blank'>./assets/UBCx__NJR101__2015W2.ipynb</a><br>"
      ],
      "text/plain": [
       "/home/justinleong/Desktop/CTLT_MOOC_analysis/metric/assets/UBCx__NJR101__2015W2.ipynb"
      ]
     },
     "metadata": {},
     "output_type": "display_data"
    },
    {
     "name": "stdout",
     "output_type": "stream",
     "text": [
      "ayy\n"
     ]
    },
    {
     "data": {
      "text/html": [
       "<a href='testauto.ipynb' target='_blank'>testauto.ipynb</a><br>"
      ],
      "text/plain": [
       "/home/justinleong/Desktop/CTLT_MOOC_analysis/metric/testauto.ipynb"
      ]
     },
     "metadata": {},
     "output_type": "display_data"
    },
    {
     "name": "stdout",
     "output_type": "stream",
     "text": [
      "Error executing the notebook \"testauto\".\n",
      "\n",
      "See notebook \"./assets/UBCx__PAW2_0__2016.ipynb\" for the traceback.\n"
     ]
    },
    {
     "data": {
      "text/html": [
       "<a href='./assets/UBCx__PAW2_0__2016.ipynb' target='_blank'>./assets/UBCx__PAW2_0__2016.ipynb</a><br>"
      ],
      "text/plain": [
       "/home/justinleong/Desktop/CTLT_MOOC_analysis/metric/assets/UBCx__PAW2_0__2016.ipynb"
      ]
     },
     "metadata": {},
     "output_type": "display_data"
    },
    {
     "name": "stdout",
     "output_type": "stream",
     "text": [
      "ayy\n"
     ]
    },
    {
     "data": {
      "text/html": [
       "<a href='testauto.ipynb' target='_blank'>testauto.ipynb</a><br>"
      ],
      "text/plain": [
       "/home/justinleong/Desktop/CTLT_MOOC_analysis/metric/testauto.ipynb"
      ]
     },
     "metadata": {},
     "output_type": "display_data"
    },
    {
     "name": "stdout",
     "output_type": "stream",
     "text": [
      "Error executing the notebook \"testauto\".\n",
      "\n",
      "See notebook \"./assets/UBCx__Ph100v3__2015.ipynb\" for the traceback.\n"
     ]
    },
    {
     "data": {
      "text/html": [
       "<a href='./assets/UBCx__Ph100v3__2015.ipynb' target='_blank'>./assets/UBCx__Ph100v3__2015.ipynb</a><br>"
      ],
      "text/plain": [
       "/home/justinleong/Desktop/CTLT_MOOC_analysis/metric/assets/UBCx__Ph100v3__2015.ipynb"
      ]
     },
     "metadata": {},
     "output_type": "display_data"
    },
    {
     "name": "stdout",
     "output_type": "stream",
     "text": [
      "ayy\n"
     ]
    },
    {
     "data": {
      "text/html": [
       "<a href='testauto.ipynb' target='_blank'>testauto.ipynb</a><br>"
      ],
      "text/plain": [
       "/home/justinleong/Desktop/CTLT_MOOC_analysis/metric/testauto.ipynb"
      ]
     },
     "metadata": {},
     "output_type": "display_data"
    },
    {
     "data": {
      "text/html": [
       "<a href='./assets/UBCx__Phot1x__1T2016.ipynb' target='_blank'>./assets/UBCx__Phot1x__1T2016.ipynb</a><br>"
      ],
      "text/plain": [
       "/home/justinleong/Desktop/CTLT_MOOC_analysis/metric/assets/UBCx__Phot1x__1T2016.ipynb"
      ]
     },
     "metadata": {},
     "output_type": "display_data"
    },
    {
     "data": {
      "text/html": [
       "<a href='testauto.ipynb' target='_blank'>testauto.ipynb</a><br>"
      ],
      "text/plain": [
       "/home/justinleong/Desktop/CTLT_MOOC_analysis/metric/testauto.ipynb"
      ]
     },
     "metadata": {},
     "output_type": "display_data"
    },
    {
     "name": "stdout",
     "output_type": "stream",
     "text": [
      "Error executing the notebook \"testauto\".\n",
      "\n",
      "See notebook \"./assets/UBCx__Phot1x__1T2017.ipynb\" for the traceback.\n"
     ]
    },
    {
     "data": {
      "text/html": [
       "<a href='./assets/UBCx__Phot1x__1T2017.ipynb' target='_blank'>./assets/UBCx__Phot1x__1T2017.ipynb</a><br>"
      ],
      "text/plain": [
       "/home/justinleong/Desktop/CTLT_MOOC_analysis/metric/assets/UBCx__Phot1x__1T2017.ipynb"
      ]
     },
     "metadata": {},
     "output_type": "display_data"
    },
    {
     "name": "stdout",
     "output_type": "stream",
     "text": [
      "ayy\n"
     ]
    },
    {
     "data": {
      "text/html": [
       "<a href='testauto.ipynb' target='_blank'>testauto.ipynb</a><br>"
      ],
      "text/plain": [
       "/home/justinleong/Desktop/CTLT_MOOC_analysis/metric/testauto.ipynb"
      ]
     },
     "metadata": {},
     "output_type": "display_data"
    },
    {
     "data": {
      "text/html": [
       "<a href='./assets/UBCx__Phot1x__2T2015.ipynb' target='_blank'>./assets/UBCx__Phot1x__2T2015.ipynb</a><br>"
      ],
      "text/plain": [
       "/home/justinleong/Desktop/CTLT_MOOC_analysis/metric/assets/UBCx__Phot1x__2T2015.ipynb"
      ]
     },
     "metadata": {},
     "output_type": "display_data"
    },
    {
     "data": {
      "text/html": [
       "<a href='testauto.ipynb' target='_blank'>testauto.ipynb</a><br>"
      ],
      "text/plain": [
       "/home/justinleong/Desktop/CTLT_MOOC_analysis/metric/testauto.ipynb"
      ]
     },
     "metadata": {},
     "output_type": "display_data"
    },
    {
     "name": "stdout",
     "output_type": "stream",
     "text": [
      "Error executing the notebook \"testauto\".\n",
      "\n",
      "See notebook \"./assets/UBCx__Phot1x__2T2017.ipynb\" for the traceback.\n"
     ]
    },
    {
     "data": {
      "text/html": [
       "<a href='./assets/UBCx__Phot1x__2T2017.ipynb' target='_blank'>./assets/UBCx__Phot1x__2T2017.ipynb</a><br>"
      ],
      "text/plain": [
       "/home/justinleong/Desktop/CTLT_MOOC_analysis/metric/assets/UBCx__Phot1x__2T2017.ipynb"
      ]
     },
     "metadata": {},
     "output_type": "display_data"
    },
    {
     "name": "stdout",
     "output_type": "stream",
     "text": [
      "ayy\n"
     ]
    },
    {
     "data": {
      "text/html": [
       "<a href='testauto.ipynb' target='_blank'>testauto.ipynb</a><br>"
      ],
      "text/plain": [
       "/home/justinleong/Desktop/CTLT_MOOC_analysis/metric/testauto.ipynb"
      ]
     },
     "metadata": {},
     "output_type": "display_data"
    },
    {
     "data": {
      "text/html": [
       "<a href='./assets/UBCx__Phot1x__3T2015.ipynb' target='_blank'>./assets/UBCx__Phot1x__3T2015.ipynb</a><br>"
      ],
      "text/plain": [
       "/home/justinleong/Desktop/CTLT_MOOC_analysis/metric/assets/UBCx__Phot1x__3T2015.ipynb"
      ]
     },
     "metadata": {},
     "output_type": "display_data"
    },
    {
     "data": {
      "text/html": [
       "<a href='testauto.ipynb' target='_blank'>testauto.ipynb</a><br>"
      ],
      "text/plain": [
       "/home/justinleong/Desktop/CTLT_MOOC_analysis/metric/testauto.ipynb"
      ]
     },
     "metadata": {},
     "output_type": "display_data"
    },
    {
     "name": "stdout",
     "output_type": "stream",
     "text": [
      "Error executing the notebook \"testauto\".\n",
      "\n",
      "See notebook \"./assets/UBCx__Phot1x__3T2016.ipynb\" for the traceback.\n"
     ]
    },
    {
     "data": {
      "text/html": [
       "<a href='./assets/UBCx__Phot1x__3T2016.ipynb' target='_blank'>./assets/UBCx__Phot1x__3T2016.ipynb</a><br>"
      ],
      "text/plain": [
       "/home/justinleong/Desktop/CTLT_MOOC_analysis/metric/assets/UBCx__Phot1x__3T2016.ipynb"
      ]
     },
     "metadata": {},
     "output_type": "display_data"
    },
    {
     "name": "stdout",
     "output_type": "stream",
     "text": [
      "ayy\n"
     ]
    },
    {
     "data": {
      "text/html": [
       "<a href='testauto.ipynb' target='_blank'>testauto.ipynb</a><br>"
      ],
      "text/plain": [
       "/home/justinleong/Desktop/CTLT_MOOC_analysis/metric/testauto.ipynb"
      ]
     },
     "metadata": {},
     "output_type": "display_data"
    },
    {
     "name": "stdout",
     "output_type": "stream",
     "text": [
      "Error executing the notebook \"testauto\".\n",
      "\n",
      "See notebook \"./assets/UBCx__Photonics100__2014T2.ipynb\" for the traceback.\n"
     ]
    },
    {
     "data": {
      "text/html": [
       "<a href='./assets/UBCx__Photonics100__2014T2.ipynb' target='_blank'>./assets/UBCx__Photonics100__2014T2.ipynb</a><br>"
      ],
      "text/plain": [
       "/home/justinleong/Desktop/CTLT_MOOC_analysis/metric/assets/UBCx__Photonics100__2014T2.ipynb"
      ]
     },
     "metadata": {},
     "output_type": "display_data"
    },
    {
     "name": "stdout",
     "output_type": "stream",
     "text": [
      "ayy\n"
     ]
    },
    {
     "data": {
      "text/html": [
       "<a href='testauto.ipynb' target='_blank'>testauto.ipynb</a><br>"
      ],
      "text/plain": [
       "/home/justinleong/Desktop/CTLT_MOOC_analysis/metric/testauto.ipynb"
      ]
     },
     "metadata": {},
     "output_type": "display_data"
    },
    {
     "name": "stdout",
     "output_type": "stream",
     "text": [
      "Error executing the notebook \"testauto\".\n",
      "\n",
      "See notebook \"./assets/UBCx__Photonics101__P1.ipynb\" for the traceback.\n"
     ]
    },
    {
     "data": {
      "text/html": [
       "<a href='./assets/UBCx__Photonics101__P1.ipynb' target='_blank'>./assets/UBCx__Photonics101__P1.ipynb</a><br>"
      ],
      "text/plain": [
       "/home/justinleong/Desktop/CTLT_MOOC_analysis/metric/assets/UBCx__Photonics101__P1.ipynb"
      ]
     },
     "metadata": {},
     "output_type": "display_data"
    },
    {
     "name": "stdout",
     "output_type": "stream",
     "text": [
      "ayy\n"
     ]
    },
    {
     "data": {
      "text/html": [
       "<a href='testauto.ipynb' target='_blank'>testauto.ipynb</a><br>"
      ],
      "text/plain": [
       "/home/justinleong/Desktop/CTLT_MOOC_analysis/metric/testauto.ipynb"
      ]
     },
     "metadata": {},
     "output_type": "display_data"
    },
    {
     "name": "stdout",
     "output_type": "stream",
     "text": [
      "Error executing the notebook \"testauto\".\n",
      "\n",
      "See notebook \"./assets/UBCx__Phv3__2015.ipynb\" for the traceback.\n"
     ]
    },
    {
     "data": {
      "text/html": [
       "<a href='./assets/UBCx__Phv3__2015.ipynb' target='_blank'>./assets/UBCx__Phv3__2015.ipynb</a><br>"
      ],
      "text/plain": [
       "/home/justinleong/Desktop/CTLT_MOOC_analysis/metric/assets/UBCx__Phv3__2015.ipynb"
      ]
     },
     "metadata": {},
     "output_type": "display_data"
    },
    {
     "name": "stdout",
     "output_type": "stream",
     "text": [
      "ayy\n"
     ]
    },
    {
     "data": {
      "text/html": [
       "<a href='testauto.ipynb' target='_blank'>testauto.ipynb</a><br>"
      ],
      "text/plain": [
       "/home/justinleong/Desktop/CTLT_MOOC_analysis/metric/testauto.ipynb"
      ]
     },
     "metadata": {},
     "output_type": "display_data"
    },
    {
     "data": {
      "text/html": [
       "<a href='./assets/UBCx__PHYS100__2015W1.ipynb' target='_blank'>./assets/UBCx__PHYS100__2015W1.ipynb</a><br>"
      ],
      "text/plain": [
       "/home/justinleong/Desktop/CTLT_MOOC_analysis/metric/assets/UBCx__PHYS100__2015W1.ipynb"
      ]
     },
     "metadata": {},
     "output_type": "display_data"
    },
    {
     "data": {
      "text/html": [
       "<a href='testauto.ipynb' target='_blank'>testauto.ipynb</a><br>"
      ],
      "text/plain": [
       "/home/justinleong/Desktop/CTLT_MOOC_analysis/metric/testauto.ipynb"
      ]
     },
     "metadata": {},
     "output_type": "display_data"
    },
    {
     "name": "stdout",
     "output_type": "stream",
     "text": [
      "Error executing the notebook \"testauto\".\n",
      "\n",
      "See notebook \"./assets/UBCx__Phys100v2__2015.ipynb\" for the traceback.\n"
     ]
    },
    {
     "data": {
      "text/html": [
       "<a href='./assets/UBCx__Phys100v2__2015.ipynb' target='_blank'>./assets/UBCx__Phys100v2__2015.ipynb</a><br>"
      ],
      "text/plain": [
       "/home/justinleong/Desktop/CTLT_MOOC_analysis/metric/assets/UBCx__Phys100v2__2015.ipynb"
      ]
     },
     "metadata": {},
     "output_type": "display_data"
    },
    {
     "name": "stdout",
     "output_type": "stream",
     "text": [
      "ayy\n"
     ]
    },
    {
     "data": {
      "text/html": [
       "<a href='testauto.ipynb' target='_blank'>testauto.ipynb</a><br>"
      ],
      "text/plain": [
       "/home/justinleong/Desktop/CTLT_MOOC_analysis/metric/testauto.ipynb"
      ]
     },
     "metadata": {},
     "output_type": "display_data"
    },
    {
     "name": "stdout",
     "output_type": "stream",
     "text": [
      "Error executing the notebook \"testauto\".\n",
      "\n",
      "See notebook \"./assets/UBCx__Phys100v3__2015.ipynb\" for the traceback.\n"
     ]
    },
    {
     "data": {
      "text/html": [
       "<a href='./assets/UBCx__Phys100v3__2015.ipynb' target='_blank'>./assets/UBCx__Phys100v3__2015.ipynb</a><br>"
      ],
      "text/plain": [
       "/home/justinleong/Desktop/CTLT_MOOC_analysis/metric/assets/UBCx__Phys100v3__2015.ipynb"
      ]
     },
     "metadata": {},
     "output_type": "display_data"
    },
    {
     "name": "stdout",
     "output_type": "stream",
     "text": [
      "ayy\n"
     ]
    },
    {
     "data": {
      "text/html": [
       "<a href='testauto.ipynb' target='_blank'>testauto.ipynb</a><br>"
      ],
      "text/plain": [
       "/home/justinleong/Desktop/CTLT_MOOC_analysis/metric/testauto.ipynb"
      ]
     },
     "metadata": {},
     "output_type": "display_data"
    },
    {
     "name": "stdout",
     "output_type": "stream",
     "text": [
      "Error executing the notebook \"testauto\".\n",
      "\n",
      "See notebook \"./assets/UBCx__Phys100v3__2015.ipynb\" for the traceback.\n"
     ]
    },
    {
     "data": {
      "text/html": [
       "<a href='./assets/UBCx__Phys100v3__2015.ipynb' target='_blank'>./assets/UBCx__Phys100v3__2015.ipynb</a><br>"
      ],
      "text/plain": [
       "/home/justinleong/Desktop/CTLT_MOOC_analysis/metric/assets/UBCx__Phys100v3__2015.ipynb"
      ]
     },
     "metadata": {},
     "output_type": "display_data"
    },
    {
     "name": "stdout",
     "output_type": "stream",
     "text": [
      "ayy\n"
     ]
    },
    {
     "data": {
      "text/html": [
       "<a href='testauto.ipynb' target='_blank'>testauto.ipynb</a><br>"
      ],
      "text/plain": [
       "/home/justinleong/Desktop/CTLT_MOOC_analysis/metric/testauto.ipynb"
      ]
     },
     "metadata": {},
     "output_type": "display_data"
    },
    {
     "name": "stdout",
     "output_type": "stream",
     "text": [
      "Error executing the notebook \"testauto\".\n",
      "\n",
      "See notebook \"./assets/UBCx__Phys3__2015_t1.ipynb\" for the traceback.\n"
     ]
    },
    {
     "data": {
      "text/html": [
       "<a href='./assets/UBCx__Phys3__2015_t1.ipynb' target='_blank'>./assets/UBCx__Phys3__2015_t1.ipynb</a><br>"
      ],
      "text/plain": [
       "/home/justinleong/Desktop/CTLT_MOOC_analysis/metric/assets/UBCx__Phys3__2015_t1.ipynb"
      ]
     },
     "metadata": {},
     "output_type": "display_data"
    },
    {
     "name": "stdout",
     "output_type": "stream",
     "text": [
      "ayy\n"
     ]
    },
    {
     "data": {
      "text/html": [
       "<a href='testauto.ipynb' target='_blank'>testauto.ipynb</a><br>"
      ],
      "text/plain": [
       "/home/justinleong/Desktop/CTLT_MOOC_analysis/metric/testauto.ipynb"
      ]
     },
     "metadata": {},
     "output_type": "display_data"
    },
    {
     "name": "stdout",
     "output_type": "stream",
     "text": [
      "Error executing the notebook \"testauto\".\n",
      "\n",
      "See notebook \"./assets/UBCx__Physics100v3__2015.ipynb\" for the traceback.\n"
     ]
    },
    {
     "data": {
      "text/html": [
       "<a href='./assets/UBCx__Physics100v3__2015.ipynb' target='_blank'>./assets/UBCx__Physics100v3__2015.ipynb</a><br>"
      ],
      "text/plain": [
       "/home/justinleong/Desktop/CTLT_MOOC_analysis/metric/assets/UBCx__Physics100v3__2015.ipynb"
      ]
     },
     "metadata": {},
     "output_type": "display_data"
    },
    {
     "name": "stdout",
     "output_type": "stream",
     "text": [
      "ayy\n"
     ]
    },
    {
     "data": {
      "text/html": [
       "<a href='testauto.ipynb' target='_blank'>testauto.ipynb</a><br>"
      ],
      "text/plain": [
       "/home/justinleong/Desktop/CTLT_MOOC_analysis/metric/testauto.ipynb"
      ]
     },
     "metadata": {},
     "output_type": "display_data"
    },
    {
     "name": "stdout",
     "output_type": "stream",
     "text": [
      "Error executing the notebook \"testauto\".\n",
      "\n",
      "See notebook \"./assets/UBCx__POLI360A_003__2015W1.ipynb\" for the traceback.\n"
     ]
    },
    {
     "data": {
      "text/html": [
       "<a href='./assets/UBCx__POLI360A_003__2015W1.ipynb' target='_blank'>./assets/UBCx__POLI360A_003__2015W1.ipynb</a><br>"
      ],
      "text/plain": [
       "/home/justinleong/Desktop/CTLT_MOOC_analysis/metric/assets/UBCx__POLI360A_003__2015W1.ipynb"
      ]
     },
     "metadata": {},
     "output_type": "display_data"
    },
    {
     "name": "stdout",
     "output_type": "stream",
     "text": [
      "ayy\n"
     ]
    },
    {
     "data": {
      "text/html": [
       "<a href='testauto.ipynb' target='_blank'>testauto.ipynb</a><br>"
      ],
      "text/plain": [
       "/home/justinleong/Desktop/CTLT_MOOC_analysis/metric/testauto.ipynb"
      ]
     },
     "metadata": {},
     "output_type": "display_data"
    },
    {
     "name": "stdout",
     "output_type": "stream",
     "text": [
      "Error executing the notebook \"testauto\".\n",
      "\n",
      "See notebook \"./assets/UBCx__POLI377APSC377__2015W1.ipynb\" for the traceback.\n"
     ]
    },
    {
     "data": {
      "text/html": [
       "<a href='./assets/UBCx__POLI377APSC377__2015W1.ipynb' target='_blank'>./assets/UBCx__POLI377APSC377__2015W1.ipynb</a><br>"
      ],
      "text/plain": [
       "/home/justinleong/Desktop/CTLT_MOOC_analysis/metric/assets/UBCx__POLI377APSC377__2015W1.ipynb"
      ]
     },
     "metadata": {},
     "output_type": "display_data"
    },
    {
     "name": "stdout",
     "output_type": "stream",
     "text": [
      "ayy\n"
     ]
    },
    {
     "data": {
      "text/html": [
       "<a href='testauto.ipynb' target='_blank'>testauto.ipynb</a><br>"
      ],
      "text/plain": [
       "/home/justinleong/Desktop/CTLT_MOOC_analysis/metric/testauto.ipynb"
      ]
     },
     "metadata": {},
     "output_type": "display_data"
    },
    {
     "name": "stdout",
     "output_type": "stream",
     "text": [
      "Error executing the notebook \"testauto\".\n",
      "\n",
      "See notebook \"./assets/UBCx__PS1x__2014_W1.ipynb\" for the traceback.\n"
     ]
    },
    {
     "data": {
      "text/html": [
       "<a href='./assets/UBCx__PS1x__2014_W1.ipynb' target='_blank'>./assets/UBCx__PS1x__2014_W1.ipynb</a><br>"
      ],
      "text/plain": [
       "/home/justinleong/Desktop/CTLT_MOOC_analysis/metric/assets/UBCx__PS1x__2014_W1.ipynb"
      ]
     },
     "metadata": {},
     "output_type": "display_data"
    },
    {
     "name": "stdout",
     "output_type": "stream",
     "text": [
      "ayy\n"
     ]
    },
    {
     "data": {
      "text/html": [
       "<a href='testauto.ipynb' target='_blank'>testauto.ipynb</a><br>"
      ],
      "text/plain": [
       "/home/justinleong/Desktop/CTLT_MOOC_analysis/metric/testauto.ipynb"
      ]
     },
     "metadata": {},
     "output_type": "display_data"
    },
    {
     "name": "stdout",
     "output_type": "stream",
     "text": [
      "Error executing the notebook \"testauto\".\n",
      "\n",
      "See notebook \"./assets/UBCx__PSYC101__2015W1.ipynb\" for the traceback.\n"
     ]
    },
    {
     "data": {
      "text/html": [
       "<a href='./assets/UBCx__PSYC101__2015W1.ipynb' target='_blank'>./assets/UBCx__PSYC101__2015W1.ipynb</a><br>"
      ],
      "text/plain": [
       "/home/justinleong/Desktop/CTLT_MOOC_analysis/metric/assets/UBCx__PSYC101__2015W1.ipynb"
      ]
     },
     "metadata": {},
     "output_type": "display_data"
    },
    {
     "name": "stdout",
     "output_type": "stream",
     "text": [
      "ayy\n"
     ]
    },
    {
     "data": {
      "text/html": [
       "<a href='testauto.ipynb' target='_blank'>testauto.ipynb</a><br>"
      ],
      "text/plain": [
       "/home/justinleong/Desktop/CTLT_MOOC_analysis/metric/testauto.ipynb"
      ]
     },
     "metadata": {},
     "output_type": "display_data"
    },
    {
     "name": "stdout",
     "output_type": "stream",
     "text": [
      "Error executing the notebook \"testauto\".\n",
      "\n",
      "See notebook \"./assets/UBCx__PSYC101Sec003__2015W1.ipynb\" for the traceback.\n"
     ]
    },
    {
     "data": {
      "text/html": [
       "<a href='./assets/UBCx__PSYC101Sec003__2015W1.ipynb' target='_blank'>./assets/UBCx__PSYC101Sec003__2015W1.ipynb</a><br>"
      ],
      "text/plain": [
       "/home/justinleong/Desktop/CTLT_MOOC_analysis/metric/assets/UBCx__PSYC101Sec003__2015W1.ipynb"
      ]
     },
     "metadata": {},
     "output_type": "display_data"
    },
    {
     "name": "stdout",
     "output_type": "stream",
     "text": [
      "ayy\n"
     ]
    },
    {
     "data": {
      "text/html": [
       "<a href='testauto.ipynb' target='_blank'>testauto.ipynb</a><br>"
      ],
      "text/plain": [
       "/home/justinleong/Desktop/CTLT_MOOC_analysis/metric/testauto.ipynb"
      ]
     },
     "metadata": {},
     "output_type": "display_data"
    },
    {
     "name": "stdout",
     "output_type": "stream",
     "text": [
      "Error executing the notebook \"testauto\".\n",
      "\n",
      "See notebook \"./assets/UBCx__PSYC101Sec003n__2015W1.ipynb\" for the traceback.\n"
     ]
    },
    {
     "data": {
      "text/html": [
       "<a href='./assets/UBCx__PSYC101Sec003n__2015W1.ipynb' target='_blank'>./assets/UBCx__PSYC101Sec003n__2015W1.ipynb</a><br>"
      ],
      "text/plain": [
       "/home/justinleong/Desktop/CTLT_MOOC_analysis/metric/assets/UBCx__PSYC101Sec003n__2015W1.ipynb"
      ]
     },
     "metadata": {},
     "output_type": "display_data"
    },
    {
     "name": "stdout",
     "output_type": "stream",
     "text": [
      "ayy\n"
     ]
    },
    {
     "data": {
      "text/html": [
       "<a href='testauto.ipynb' target='_blank'>testauto.ipynb</a><br>"
      ],
      "text/plain": [
       "/home/justinleong/Desktop/CTLT_MOOC_analysis/metric/testauto.ipynb"
      ]
     },
     "metadata": {},
     "output_type": "display_data"
    },
    {
     "name": "stdout",
     "output_type": "stream",
     "text": [
      "Error executing the notebook \"testauto\".\n",
      "\n",
      "See notebook \"./assets/UBCx__PSYC101Sec004__2015W1.ipynb\" for the traceback.\n"
     ]
    },
    {
     "data": {
      "text/html": [
       "<a href='./assets/UBCx__PSYC101Sec004__2015W1.ipynb' target='_blank'>./assets/UBCx__PSYC101Sec004__2015W1.ipynb</a><br>"
      ],
      "text/plain": [
       "/home/justinleong/Desktop/CTLT_MOOC_analysis/metric/assets/UBCx__PSYC101Sec004__2015W1.ipynb"
      ]
     },
     "metadata": {},
     "output_type": "display_data"
    },
    {
     "name": "stdout",
     "output_type": "stream",
     "text": [
      "ayy\n"
     ]
    },
    {
     "data": {
      "text/html": [
       "<a href='testauto.ipynb' target='_blank'>testauto.ipynb</a><br>"
      ],
      "text/plain": [
       "/home/justinleong/Desktop/CTLT_MOOC_analysis/metric/testauto.ipynb"
      ]
     },
     "metadata": {},
     "output_type": "display_data"
    },
    {
     "name": "stdout",
     "output_type": "stream",
     "text": [
      "Error executing the notebook \"testauto\".\n",
      "\n",
      "See notebook \"./assets/UBCx__PSYC101Sec004n__2015W1.ipynb\" for the traceback.\n"
     ]
    },
    {
     "data": {
      "text/html": [
       "<a href='./assets/UBCx__PSYC101Sec004n__2015W1.ipynb' target='_blank'>./assets/UBCx__PSYC101Sec004n__2015W1.ipynb</a><br>"
      ],
      "text/plain": [
       "/home/justinleong/Desktop/CTLT_MOOC_analysis/metric/assets/UBCx__PSYC101Sec004n__2015W1.ipynb"
      ]
     },
     "metadata": {},
     "output_type": "display_data"
    },
    {
     "name": "stdout",
     "output_type": "stream",
     "text": [
      "ayy\n"
     ]
    },
    {
     "data": {
      "text/html": [
       "<a href='testauto.ipynb' target='_blank'>testauto.ipynb</a><br>"
      ],
      "text/plain": [
       "/home/justinleong/Desktop/CTLT_MOOC_analysis/metric/testauto.ipynb"
      ]
     },
     "metadata": {},
     "output_type": "display_data"
    },
    {
     "name": "stdout",
     "output_type": "stream",
     "text": [
      "Error executing the notebook \"testauto\".\n",
      "\n",
      "See notebook \"./assets/UBCx__PSYC101Sec005__2015W1.ipynb\" for the traceback.\n"
     ]
    },
    {
     "data": {
      "text/html": [
       "<a href='./assets/UBCx__PSYC101Sec005__2015W1.ipynb' target='_blank'>./assets/UBCx__PSYC101Sec005__2015W1.ipynb</a><br>"
      ],
      "text/plain": [
       "/home/justinleong/Desktop/CTLT_MOOC_analysis/metric/assets/UBCx__PSYC101Sec005__2015W1.ipynb"
      ]
     },
     "metadata": {},
     "output_type": "display_data"
    },
    {
     "name": "stdout",
     "output_type": "stream",
     "text": [
      "ayy\n"
     ]
    },
    {
     "data": {
      "text/html": [
       "<a href='testauto.ipynb' target='_blank'>testauto.ipynb</a><br>"
      ],
      "text/plain": [
       "/home/justinleong/Desktop/CTLT_MOOC_analysis/metric/testauto.ipynb"
      ]
     },
     "metadata": {},
     "output_type": "display_data"
    },
    {
     "name": "stdout",
     "output_type": "stream",
     "text": [
      "Error executing the notebook \"testauto\".\n",
      "\n",
      "See notebook \"./assets/UBCx__PSYC101Sec005n__2015W1.ipynb\" for the traceback.\n"
     ]
    },
    {
     "data": {
      "text/html": [
       "<a href='./assets/UBCx__PSYC101Sec005n__2015W1.ipynb' target='_blank'>./assets/UBCx__PSYC101Sec005n__2015W1.ipynb</a><br>"
      ],
      "text/plain": [
       "/home/justinleong/Desktop/CTLT_MOOC_analysis/metric/assets/UBCx__PSYC101Sec005n__2015W1.ipynb"
      ]
     },
     "metadata": {},
     "output_type": "display_data"
    },
    {
     "name": "stdout",
     "output_type": "stream",
     "text": [
      "ayy\n"
     ]
    },
    {
     "data": {
      "text/html": [
       "<a href='testauto.ipynb' target='_blank'>testauto.ipynb</a><br>"
      ],
      "text/plain": [
       "/home/justinleong/Desktop/CTLT_MOOC_analysis/metric/testauto.ipynb"
      ]
     },
     "metadata": {},
     "output_type": "display_data"
    },
    {
     "name": "stdout",
     "output_type": "stream",
     "text": [
      "Error executing the notebook \"testauto\".\n",
      "\n",
      "See notebook \"./assets/UBCx__PSYC102Sec004__2015W2.ipynb\" for the traceback.\n"
     ]
    },
    {
     "data": {
      "text/html": [
       "<a href='./assets/UBCx__PSYC102Sec004__2015W2.ipynb' target='_blank'>./assets/UBCx__PSYC102Sec004__2015W2.ipynb</a><br>"
      ],
      "text/plain": [
       "/home/justinleong/Desktop/CTLT_MOOC_analysis/metric/assets/UBCx__PSYC102Sec004__2015W2.ipynb"
      ]
     },
     "metadata": {},
     "output_type": "display_data"
    },
    {
     "name": "stdout",
     "output_type": "stream",
     "text": [
      "ayy\n"
     ]
    },
    {
     "data": {
      "text/html": [
       "<a href='testauto.ipynb' target='_blank'>testauto.ipynb</a><br>"
      ],
      "text/plain": [
       "/home/justinleong/Desktop/CTLT_MOOC_analysis/metric/testauto.ipynb"
      ]
     },
     "metadata": {},
     "output_type": "display_data"
    },
    {
     "name": "stdout",
     "output_type": "stream",
     "text": [
      "Error executing the notebook \"testauto\".\n",
      "\n",
      "See notebook \"./assets/UBCx__PSYC102Sec004n__2015W2.ipynb\" for the traceback.\n"
     ]
    },
    {
     "data": {
      "text/html": [
       "<a href='./assets/UBCx__PSYC102Sec004n__2015W2.ipynb' target='_blank'>./assets/UBCx__PSYC102Sec004n__2015W2.ipynb</a><br>"
      ],
      "text/plain": [
       "/home/justinleong/Desktop/CTLT_MOOC_analysis/metric/assets/UBCx__PSYC102Sec004n__2015W2.ipynb"
      ]
     },
     "metadata": {},
     "output_type": "display_data"
    },
    {
     "name": "stdout",
     "output_type": "stream",
     "text": [
      "ayy\n"
     ]
    },
    {
     "data": {
      "text/html": [
       "<a href='testauto.ipynb' target='_blank'>testauto.ipynb</a><br>"
      ],
      "text/plain": [
       "/home/justinleong/Desktop/CTLT_MOOC_analysis/metric/testauto.ipynb"
      ]
     },
     "metadata": {},
     "output_type": "display_data"
    },
    {
     "data": {
      "text/html": [
       "<a href='./assets/UBCx__PSYC_1x__3T2016.ipynb' target='_blank'>./assets/UBCx__PSYC_1x__3T2016.ipynb</a><br>"
      ],
      "text/plain": [
       "/home/justinleong/Desktop/CTLT_MOOC_analysis/metric/assets/UBCx__PSYC_1x__3T2016.ipynb"
      ]
     },
     "metadata": {},
     "output_type": "display_data"
    },
    {
     "data": {
      "text/html": [
       "<a href='testauto.ipynb' target='_blank'>testauto.ipynb</a><br>"
      ],
      "text/plain": [
       "/home/justinleong/Desktop/CTLT_MOOC_analysis/metric/testauto.ipynb"
      ]
     },
     "metadata": {},
     "output_type": "display_data"
    },
    {
     "data": {
      "text/html": [
       "<a href='./assets/UBCx__PSYC_2x__3T2016.ipynb' target='_blank'>./assets/UBCx__PSYC_2x__3T2016.ipynb</a><br>"
      ],
      "text/plain": [
       "/home/justinleong/Desktop/CTLT_MOOC_analysis/metric/assets/UBCx__PSYC_2x__3T2016.ipynb"
      ]
     },
     "metadata": {},
     "output_type": "display_data"
    },
    {
     "data": {
      "text/html": [
       "<a href='testauto.ipynb' target='_blank'>testauto.ipynb</a><br>"
      ],
      "text/plain": [
       "/home/justinleong/Desktop/CTLT_MOOC_analysis/metric/testauto.ipynb"
      ]
     },
     "metadata": {},
     "output_type": "display_data"
    },
    {
     "data": {
      "text/html": [
       "<a href='./assets/UBCx__PSYC_3x__3T2016.ipynb' target='_blank'>./assets/UBCx__PSYC_3x__3T2016.ipynb</a><br>"
      ],
      "text/plain": [
       "/home/justinleong/Desktop/CTLT_MOOC_analysis/metric/assets/UBCx__PSYC_3x__3T2016.ipynb"
      ]
     },
     "metadata": {},
     "output_type": "display_data"
    },
    {
     "data": {
      "text/html": [
       "<a href='testauto.ipynb' target='_blank'>testauto.ipynb</a><br>"
      ],
      "text/plain": [
       "/home/justinleong/Desktop/CTLT_MOOC_analysis/metric/testauto.ipynb"
      ]
     },
     "metadata": {},
     "output_type": "display_data"
    },
    {
     "data": {
      "text/html": [
       "<a href='./assets/UBCx__PSYC_4x__1T2017.ipynb' target='_blank'>./assets/UBCx__PSYC_4x__1T2017.ipynb</a><br>"
      ],
      "text/plain": [
       "/home/justinleong/Desktop/CTLT_MOOC_analysis/metric/assets/UBCx__PSYC_4x__1T2017.ipynb"
      ]
     },
     "metadata": {},
     "output_type": "display_data"
    },
    {
     "data": {
      "text/html": [
       "<a href='testauto.ipynb' target='_blank'>testauto.ipynb</a><br>"
      ],
      "text/plain": [
       "/home/justinleong/Desktop/CTLT_MOOC_analysis/metric/testauto.ipynb"
      ]
     },
     "metadata": {},
     "output_type": "display_data"
    },
    {
     "data": {
      "text/html": [
       "<a href='./assets/UBCx__PSYC_5x__1T2017.ipynb' target='_blank'>./assets/UBCx__PSYC_5x__1T2017.ipynb</a><br>"
      ],
      "text/plain": [
       "/home/justinleong/Desktop/CTLT_MOOC_analysis/metric/assets/UBCx__PSYC_5x__1T2017.ipynb"
      ]
     },
     "metadata": {},
     "output_type": "display_data"
    },
    {
     "data": {
      "text/html": [
       "<a href='testauto.ipynb' target='_blank'>testauto.ipynb</a><br>"
      ],
      "text/plain": [
       "/home/justinleong/Desktop/CTLT_MOOC_analysis/metric/testauto.ipynb"
      ]
     },
     "metadata": {},
     "output_type": "display_data"
    },
    {
     "name": "stdout",
     "output_type": "stream",
     "text": [
      "Error executing the notebook \"testauto\".\n",
      "\n",
      "See notebook \"./assets/UBCx__PSYC_6x__1T2017.ipynb\" for the traceback.\n"
     ]
    },
    {
     "data": {
      "text/html": [
       "<a href='./assets/UBCx__PSYC_6x__1T2017.ipynb' target='_blank'>./assets/UBCx__PSYC_6x__1T2017.ipynb</a><br>"
      ],
      "text/plain": [
       "/home/justinleong/Desktop/CTLT_MOOC_analysis/metric/assets/UBCx__PSYC_6x__1T2017.ipynb"
      ]
     },
     "metadata": {},
     "output_type": "display_data"
    },
    {
     "name": "stdout",
     "output_type": "stream",
     "text": [
      "ayy\n"
     ]
    },
    {
     "data": {
      "text/html": [
       "<a href='testauto.ipynb' target='_blank'>testauto.ipynb</a><br>"
      ],
      "text/plain": [
       "/home/justinleong/Desktop/CTLT_MOOC_analysis/metric/testauto.ipynb"
      ]
     },
     "metadata": {},
     "output_type": "display_data"
    },
    {
     "name": "stdout",
     "output_type": "stream",
     "text": [
      "Error executing the notebook \"testauto\".\n",
      "\n",
      "See notebook \"./assets/UBCx__PsycTLEF__2015.ipynb\" for the traceback.\n"
     ]
    },
    {
     "data": {
      "text/html": [
       "<a href='./assets/UBCx__PsycTLEF__2015.ipynb' target='_blank'>./assets/UBCx__PsycTLEF__2015.ipynb</a><br>"
      ],
      "text/plain": [
       "/home/justinleong/Desktop/CTLT_MOOC_analysis/metric/assets/UBCx__PsycTLEF__2015.ipynb"
      ]
     },
     "metadata": {},
     "output_type": "display_data"
    },
    {
     "name": "stdout",
     "output_type": "stream",
     "text": [
      "ayy\n"
     ]
    },
    {
     "data": {
      "text/html": [
       "<a href='testauto.ipynb' target='_blank'>testauto.ipynb</a><br>"
      ],
      "text/plain": [
       "/home/justinleong/Desktop/CTLT_MOOC_analysis/metric/testauto.ipynb"
      ]
     },
     "metadata": {},
     "output_type": "display_data"
    },
    {
     "name": "stdout",
     "output_type": "stream",
     "text": [
      "Error executing the notebook \"testauto\".\n",
      "\n",
      "See notebook \"./assets/UBCx__PSYCx__2015.ipynb\" for the traceback.\n"
     ]
    },
    {
     "data": {
      "text/html": [
       "<a href='./assets/UBCx__PSYCx__2015.ipynb' target='_blank'>./assets/UBCx__PSYCx__2015.ipynb</a><br>"
      ],
      "text/plain": [
       "/home/justinleong/Desktop/CTLT_MOOC_analysis/metric/assets/UBCx__PSYCx__2015.ipynb"
      ]
     },
     "metadata": {},
     "output_type": "display_data"
    },
    {
     "name": "stdout",
     "output_type": "stream",
     "text": [
      "ayy\n"
     ]
    },
    {
     "data": {
      "text/html": [
       "<a href='testauto.ipynb' target='_blank'>testauto.ipynb</a><br>"
      ],
      "text/plain": [
       "/home/justinleong/Desktop/CTLT_MOOC_analysis/metric/testauto.ipynb"
      ]
     },
     "metadata": {},
     "output_type": "display_data"
    },
    {
     "name": "stdout",
     "output_type": "stream",
     "text": [
      "Error executing the notebook \"testauto\".\n",
      "\n",
      "See notebook \"./assets/UBCx__S01__2015_03.ipynb\" for the traceback.\n"
     ]
    },
    {
     "data": {
      "text/html": [
       "<a href='./assets/UBCx__S01__2015_03.ipynb' target='_blank'>./assets/UBCx__S01__2015_03.ipynb</a><br>"
      ],
      "text/plain": [
       "/home/justinleong/Desktop/CTLT_MOOC_analysis/metric/assets/UBCx__S01__2015_03.ipynb"
      ]
     },
     "metadata": {},
     "output_type": "display_data"
    },
    {
     "name": "stdout",
     "output_type": "stream",
     "text": [
      "ayy\n"
     ]
    },
    {
     "data": {
      "text/html": [
       "<a href='testauto.ipynb' target='_blank'>testauto.ipynb</a><br>"
      ],
      "text/plain": [
       "/home/justinleong/Desktop/CTLT_MOOC_analysis/metric/testauto.ipynb"
      ]
     },
     "metadata": {},
     "output_type": "display_data"
    },
    {
     "name": "stdout",
     "output_type": "stream",
     "text": [
      "Error executing the notebook \"testauto\".\n",
      "\n",
      "See notebook \"./assets/UBCx__Sens01__2015_03.ipynb\" for the traceback.\n"
     ]
    },
    {
     "data": {
      "text/html": [
       "<a href='./assets/UBCx__Sens01__2015_03.ipynb' target='_blank'>./assets/UBCx__Sens01__2015_03.ipynb</a><br>"
      ],
      "text/plain": [
       "/home/justinleong/Desktop/CTLT_MOOC_analysis/metric/assets/UBCx__Sens01__2015_03.ipynb"
      ]
     },
     "metadata": {},
     "output_type": "display_data"
    },
    {
     "name": "stdout",
     "output_type": "stream",
     "text": [
      "ayy\n"
     ]
    },
    {
     "data": {
      "text/html": [
       "<a href='testauto.ipynb' target='_blank'>testauto.ipynb</a><br>"
      ],
      "text/plain": [
       "/home/justinleong/Desktop/CTLT_MOOC_analysis/metric/testauto.ipynb"
      ]
     },
     "metadata": {},
     "output_type": "display_data"
    },
    {
     "name": "stdout",
     "output_type": "stream",
     "text": [
      "Error executing the notebook \"testauto\".\n",
      "\n",
      "See notebook \"./assets/UBCx__SoftConst1x__3T2017.ipynb\" for the traceback.\n"
     ]
    },
    {
     "data": {
      "text/html": [
       "<a href='./assets/UBCx__SoftConst1x__3T2017.ipynb' target='_blank'>./assets/UBCx__SoftConst1x__3T2017.ipynb</a><br>"
      ],
      "text/plain": [
       "/home/justinleong/Desktop/CTLT_MOOC_analysis/metric/assets/UBCx__SoftConst1x__3T2017.ipynb"
      ]
     },
     "metadata": {},
     "output_type": "display_data"
    },
    {
     "name": "stdout",
     "output_type": "stream",
     "text": [
      "ayy\n"
     ]
    },
    {
     "data": {
      "text/html": [
       "<a href='testauto.ipynb' target='_blank'>testauto.ipynb</a><br>"
      ],
      "text/plain": [
       "/home/justinleong/Desktop/CTLT_MOOC_analysis/metric/testauto.ipynb"
      ]
     },
     "metadata": {},
     "output_type": "display_data"
    },
    {
     "name": "stdout",
     "output_type": "stream",
     "text": [
      "Error executing the notebook \"testauto\".\n",
      "\n",
      "See notebook \"./assets/UBCx__SoftConst2x__3T2017.ipynb\" for the traceback.\n"
     ]
    },
    {
     "data": {
      "text/html": [
       "<a href='./assets/UBCx__SoftConst2x__3T2017.ipynb' target='_blank'>./assets/UBCx__SoftConst2x__3T2017.ipynb</a><br>"
      ],
      "text/plain": [
       "/home/justinleong/Desktop/CTLT_MOOC_analysis/metric/assets/UBCx__SoftConst2x__3T2017.ipynb"
      ]
     },
     "metadata": {},
     "output_type": "display_data"
    },
    {
     "name": "stdout",
     "output_type": "stream",
     "text": [
      "ayy\n"
     ]
    },
    {
     "data": {
      "text/html": [
       "<a href='testauto.ipynb' target='_blank'>testauto.ipynb</a><br>"
      ],
      "text/plain": [
       "/home/justinleong/Desktop/CTLT_MOOC_analysis/metric/testauto.ipynb"
      ]
     },
     "metadata": {},
     "output_type": "display_data"
    },
    {
     "name": "stdout",
     "output_type": "stream",
     "text": [
      "Error executing the notebook \"testauto\".\n",
      "\n",
      "See notebook \"./assets/UBCx__SoftEng1x__1T2018.ipynb\" for the traceback.\n"
     ]
    },
    {
     "data": {
      "text/html": [
       "<a href='./assets/UBCx__SoftEng1x__1T2018.ipynb' target='_blank'>./assets/UBCx__SoftEng1x__1T2018.ipynb</a><br>"
      ],
      "text/plain": [
       "/home/justinleong/Desktop/CTLT_MOOC_analysis/metric/assets/UBCx__SoftEng1x__1T2018.ipynb"
      ]
     },
     "metadata": {},
     "output_type": "display_data"
    },
    {
     "name": "stdout",
     "output_type": "stream",
     "text": [
      "ayy\n"
     ]
    },
    {
     "data": {
      "text/html": [
       "<a href='testauto.ipynb' target='_blank'>testauto.ipynb</a><br>"
      ],
      "text/plain": [
       "/home/justinleong/Desktop/CTLT_MOOC_analysis/metric/testauto.ipynb"
      ]
     },
     "metadata": {},
     "output_type": "display_data"
    },
    {
     "name": "stdout",
     "output_type": "stream",
     "text": [
      "Error executing the notebook \"testauto\".\n",
      "\n",
      "See notebook \"./assets/UBCx__SoftEngPrjx__1T2018.ipynb\" for the traceback.\n"
     ]
    },
    {
     "data": {
      "text/html": [
       "<a href='./assets/UBCx__SoftEngPrjx__1T2018.ipynb' target='_blank'>./assets/UBCx__SoftEngPrjx__1T2018.ipynb</a><br>"
      ],
      "text/plain": [
       "/home/justinleong/Desktop/CTLT_MOOC_analysis/metric/assets/UBCx__SoftEngPrjx__1T2018.ipynb"
      ]
     },
     "metadata": {},
     "output_type": "display_data"
    },
    {
     "name": "stdout",
     "output_type": "stream",
     "text": [
      "ayy\n"
     ]
    },
    {
     "data": {
      "text/html": [
       "<a href='testauto.ipynb' target='_blank'>testauto.ipynb</a><br>"
      ],
      "text/plain": [
       "/home/justinleong/Desktop/CTLT_MOOC_analysis/metric/testauto.ipynb"
      ]
     },
     "metadata": {},
     "output_type": "display_data"
    },
    {
     "name": "stdout",
     "output_type": "stream",
     "text": [
      "Error executing the notebook \"testauto\".\n",
      "\n",
      "See notebook \"./assets/UBCx__SPD1__2016T2.ipynb\" for the traceback.\n"
     ]
    },
    {
     "data": {
      "text/html": [
       "<a href='./assets/UBCx__SPD1__2016T2.ipynb' target='_blank'>./assets/UBCx__SPD1__2016T2.ipynb</a><br>"
      ],
      "text/plain": [
       "/home/justinleong/Desktop/CTLT_MOOC_analysis/metric/assets/UBCx__SPD1__2016T2.ipynb"
      ]
     },
     "metadata": {},
     "output_type": "display_data"
    },
    {
     "name": "stdout",
     "output_type": "stream",
     "text": [
      "ayy\n"
     ]
    },
    {
     "data": {
      "text/html": [
       "<a href='testauto.ipynb' target='_blank'>testauto.ipynb</a><br>"
      ],
      "text/plain": [
       "/home/justinleong/Desktop/CTLT_MOOC_analysis/metric/testauto.ipynb"
      ]
     },
     "metadata": {},
     "output_type": "display_data"
    },
    {
     "data": {
      "text/html": [
       "<a href='./assets/UBCx__SPD1x__1T2016.ipynb' target='_blank'>./assets/UBCx__SPD1x__1T2016.ipynb</a><br>"
      ],
      "text/plain": [
       "/home/justinleong/Desktop/CTLT_MOOC_analysis/metric/assets/UBCx__SPD1x__1T2016.ipynb"
      ]
     },
     "metadata": {},
     "output_type": "display_data"
    },
    {
     "data": {
      "text/html": [
       "<a href='testauto.ipynb' target='_blank'>testauto.ipynb</a><br>"
      ],
      "text/plain": [
       "/home/justinleong/Desktop/CTLT_MOOC_analysis/metric/testauto.ipynb"
      ]
     },
     "metadata": {},
     "output_type": "display_data"
    },
    {
     "data": {
      "text/html": [
       "<a href='./assets/UBCx__SPD1x__2T2015.ipynb' target='_blank'>./assets/UBCx__SPD1x__2T2015.ipynb</a><br>"
      ],
      "text/plain": [
       "/home/justinleong/Desktop/CTLT_MOOC_analysis/metric/assets/UBCx__SPD1x__2T2015.ipynb"
      ]
     },
     "metadata": {},
     "output_type": "display_data"
    },
    {
     "data": {
      "text/html": [
       "<a href='testauto.ipynb' target='_blank'>testauto.ipynb</a><br>"
      ],
      "text/plain": [
       "/home/justinleong/Desktop/CTLT_MOOC_analysis/metric/testauto.ipynb"
      ]
     },
     "metadata": {},
     "output_type": "display_data"
    },
    {
     "data": {
      "text/html": [
       "<a href='./assets/UBCx__SPD1x__2T2016.ipynb' target='_blank'>./assets/UBCx__SPD1x__2T2016.ipynb</a><br>"
      ],
      "text/plain": [
       "/home/justinleong/Desktop/CTLT_MOOC_analysis/metric/assets/UBCx__SPD1x__2T2016.ipynb"
      ]
     },
     "metadata": {},
     "output_type": "display_data"
    },
    {
     "data": {
      "text/html": [
       "<a href='testauto.ipynb' target='_blank'>testauto.ipynb</a><br>"
      ],
      "text/plain": [
       "/home/justinleong/Desktop/CTLT_MOOC_analysis/metric/testauto.ipynb"
      ]
     },
     "metadata": {},
     "output_type": "display_data"
    },
    {
     "data": {
      "text/html": [
       "<a href='./assets/UBCx__SPD2x__2T2015.ipynb' target='_blank'>./assets/UBCx__SPD2x__2T2015.ipynb</a><br>"
      ],
      "text/plain": [
       "/home/justinleong/Desktop/CTLT_MOOC_analysis/metric/assets/UBCx__SPD2x__2T2015.ipynb"
      ]
     },
     "metadata": {},
     "output_type": "display_data"
    },
    {
     "data": {
      "text/html": [
       "<a href='testauto.ipynb' target='_blank'>testauto.ipynb</a><br>"
      ],
      "text/plain": [
       "/home/justinleong/Desktop/CTLT_MOOC_analysis/metric/testauto.ipynb"
      ]
     },
     "metadata": {},
     "output_type": "display_data"
    },
    {
     "data": {
      "text/html": [
       "<a href='./assets/UBCx__SPD2x__2T2016.ipynb' target='_blank'>./assets/UBCx__SPD2x__2T2016.ipynb</a><br>"
      ],
      "text/plain": [
       "/home/justinleong/Desktop/CTLT_MOOC_analysis/metric/assets/UBCx__SPD2x__2T2016.ipynb"
      ]
     },
     "metadata": {},
     "output_type": "display_data"
    },
    {
     "data": {
      "text/html": [
       "<a href='testauto.ipynb' target='_blank'>testauto.ipynb</a><br>"
      ],
      "text/plain": [
       "/home/justinleong/Desktop/CTLT_MOOC_analysis/metric/testauto.ipynb"
      ]
     },
     "metadata": {},
     "output_type": "display_data"
    },
    {
     "data": {
      "text/html": [
       "<a href='./assets/UBCx__SPD3x__2T2016.ipynb' target='_blank'>./assets/UBCx__SPD3x__2T2016.ipynb</a><br>"
      ],
      "text/plain": [
       "/home/justinleong/Desktop/CTLT_MOOC_analysis/metric/assets/UBCx__SPD3x__2T2016.ipynb"
      ]
     },
     "metadata": {},
     "output_type": "display_data"
    },
    {
     "data": {
      "text/html": [
       "<a href='testauto.ipynb' target='_blank'>testauto.ipynb</a><br>"
      ],
      "text/plain": [
       "/home/justinleong/Desktop/CTLT_MOOC_analysis/metric/testauto.ipynb"
      ]
     },
     "metadata": {},
     "output_type": "display_data"
    },
    {
     "data": {
      "text/html": [
       "<a href='./assets/UBCx__SPD3x__3T2015.ipynb' target='_blank'>./assets/UBCx__SPD3x__3T2015.ipynb</a><br>"
      ],
      "text/plain": [
       "/home/justinleong/Desktop/CTLT_MOOC_analysis/metric/assets/UBCx__SPD3x__3T2015.ipynb"
      ]
     },
     "metadata": {},
     "output_type": "display_data"
    },
    {
     "data": {
      "text/html": [
       "<a href='testauto.ipynb' target='_blank'>testauto.ipynb</a><br>"
      ],
      "text/plain": [
       "/home/justinleong/Desktop/CTLT_MOOC_analysis/metric/testauto.ipynb"
      ]
     },
     "metadata": {},
     "output_type": "display_data"
    },
    {
     "name": "stdout",
     "output_type": "stream",
     "text": [
      "Error executing the notebook \"testauto\".\n",
      "\n",
      "See notebook \"./assets/UBCx__TOC01__2015W2.ipynb\" for the traceback.\n"
     ]
    },
    {
     "data": {
      "text/html": [
       "<a href='./assets/UBCx__TOC01__2015W2.ipynb' target='_blank'>./assets/UBCx__TOC01__2015W2.ipynb</a><br>"
      ],
      "text/plain": [
       "/home/justinleong/Desktop/CTLT_MOOC_analysis/metric/assets/UBCx__TOC01__2015W2.ipynb"
      ]
     },
     "metadata": {},
     "output_type": "display_data"
    },
    {
     "name": "stdout",
     "output_type": "stream",
     "text": [
      "ayy\n"
     ]
    },
    {
     "data": {
      "text/html": [
       "<a href='testauto.ipynb' target='_blank'>testauto.ipynb</a><br>"
      ],
      "text/plain": [
       "/home/justinleong/Desktop/CTLT_MOOC_analysis/metric/testauto.ipynb"
      ]
     },
     "metadata": {},
     "output_type": "display_data"
    },
    {
     "name": "stdout",
     "output_type": "stream",
     "text": [
      "Error executing the notebook \"testauto\".\n",
      "\n",
      "See notebook \"./assets/UBCx__CPEN221__2015W1.ipynb\" for the traceback.\n"
     ]
    },
    {
     "data": {
      "text/html": [
       "<a href='./assets/UBCx__CPEN221__2015W1.ipynb' target='_blank'>./assets/UBCx__CPEN221__2015W1.ipynb</a><br>"
      ],
      "text/plain": [
       "/home/justinleong/Desktop/CTLT_MOOC_analysis/metric/assets/UBCx__CPEN221__2015W1.ipynb"
      ]
     },
     "metadata": {},
     "output_type": "display_data"
    },
    {
     "name": "stdout",
     "output_type": "stream",
     "text": [
      "ayy\n"
     ]
    },
    {
     "data": {
      "text/html": [
       "<a href='testauto.ipynb' target='_blank'>testauto.ipynb</a><br>"
      ],
      "text/plain": [
       "/home/justinleong/Desktop/CTLT_MOOC_analysis/metric/testauto.ipynb"
      ]
     },
     "metadata": {},
     "output_type": "display_data"
    },
    {
     "name": "stdout",
     "output_type": "stream",
     "text": [
      "Error executing the notebook \"testauto\".\n",
      "\n",
      "See notebook \"./assets/UBCx__URO__2015.ipynb\" for the traceback.\n"
     ]
    },
    {
     "data": {
      "text/html": [
       "<a href='./assets/UBCx__URO__2015.ipynb' target='_blank'>./assets/UBCx__URO__2015.ipynb</a><br>"
      ],
      "text/plain": [
       "/home/justinleong/Desktop/CTLT_MOOC_analysis/metric/assets/UBCx__URO__2015.ipynb"
      ]
     },
     "metadata": {},
     "output_type": "display_data"
    },
    {
     "name": "stdout",
     "output_type": "stream",
     "text": [
      "ayy\n"
     ]
    },
    {
     "data": {
      "text/html": [
       "<a href='testauto.ipynb' target='_blank'>testauto.ipynb</a><br>"
      ],
      "text/plain": [
       "/home/justinleong/Desktop/CTLT_MOOC_analysis/metric/testauto.ipynb"
      ]
     },
     "metadata": {},
     "output_type": "display_data"
    },
    {
     "name": "stdout",
     "output_type": "stream",
     "text": [
      "Error executing the notebook \"testauto\".\n",
      "\n",
      "See notebook \"./assets/UBCx__UsefulGeneticsx__2015W1.ipynb\" for the traceback.\n"
     ]
    },
    {
     "data": {
      "text/html": [
       "<a href='./assets/UBCx__UsefulGeneticsx__2015W1.ipynb' target='_blank'>./assets/UBCx__UsefulGeneticsx__2015W1.ipynb</a><br>"
      ],
      "text/plain": [
       "/home/justinleong/Desktop/CTLT_MOOC_analysis/metric/assets/UBCx__UsefulGeneticsx__2015W1.ipynb"
      ]
     },
     "metadata": {},
     "output_type": "display_data"
    },
    {
     "name": "stdout",
     "output_type": "stream",
     "text": [
      "ayy\n"
     ]
    },
    {
     "data": {
      "text/html": [
       "<a href='testauto.ipynb' target='_blank'>testauto.ipynb</a><br>"
      ],
      "text/plain": [
       "/home/justinleong/Desktop/CTLT_MOOC_analysis/metric/testauto.ipynb"
      ]
     },
     "metadata": {},
     "output_type": "display_data"
    },
    {
     "data": {
      "text/html": [
       "<a href='./assets/UBCx__UseGen_1x__1T2016.ipynb' target='_blank'>./assets/UBCx__UseGen_1x__1T2016.ipynb</a><br>"
      ],
      "text/plain": [
       "/home/justinleong/Desktop/CTLT_MOOC_analysis/metric/assets/UBCx__UseGen_1x__1T2016.ipynb"
      ]
     },
     "metadata": {},
     "output_type": "display_data"
    },
    {
     "data": {
      "text/html": [
       "<a href='testauto.ipynb' target='_blank'>testauto.ipynb</a><br>"
      ],
      "text/plain": [
       "/home/justinleong/Desktop/CTLT_MOOC_analysis/metric/testauto.ipynb"
      ]
     },
     "metadata": {},
     "output_type": "display_data"
    },
    {
     "data": {
      "text/html": [
       "<a href='./assets/UBCx__UseGen_1x__3T2015.ipynb' target='_blank'>./assets/UBCx__UseGen_1x__3T2015.ipynb</a><br>"
      ],
      "text/plain": [
       "/home/justinleong/Desktop/CTLT_MOOC_analysis/metric/assets/UBCx__UseGen_1x__3T2015.ipynb"
      ]
     },
     "metadata": {},
     "output_type": "display_data"
    },
    {
     "data": {
      "text/html": [
       "<a href='testauto.ipynb' target='_blank'>testauto.ipynb</a><br>"
      ],
      "text/plain": [
       "/home/justinleong/Desktop/CTLT_MOOC_analysis/metric/testauto.ipynb"
      ]
     },
     "metadata": {},
     "output_type": "display_data"
    },
    {
     "data": {
      "text/html": [
       "<a href='./assets/UBCx__UseGen_2x__1T2016.ipynb' target='_blank'>./assets/UBCx__UseGen_2x__1T2016.ipynb</a><br>"
      ],
      "text/plain": [
       "/home/justinleong/Desktop/CTLT_MOOC_analysis/metric/assets/UBCx__UseGen_2x__1T2016.ipynb"
      ]
     },
     "metadata": {},
     "output_type": "display_data"
    },
    {
     "data": {
      "text/html": [
       "<a href='testauto.ipynb' target='_blank'>testauto.ipynb</a><br>"
      ],
      "text/plain": [
       "/home/justinleong/Desktop/CTLT_MOOC_analysis/metric/testauto.ipynb"
      ]
     },
     "metadata": {},
     "output_type": "display_data"
    },
    {
     "data": {
      "text/html": [
       "<a href='./assets/UBCx__UseGen_2x__3T2015.ipynb' target='_blank'>./assets/UBCx__UseGen_2x__3T2015.ipynb</a><br>"
      ],
      "text/plain": [
       "/home/justinleong/Desktop/CTLT_MOOC_analysis/metric/assets/UBCx__UseGen_2x__3T2015.ipynb"
      ]
     },
     "metadata": {},
     "output_type": "display_data"
    },
    {
     "data": {
      "text/html": [
       "<a href='testauto.ipynb' target='_blank'>testauto.ipynb</a><br>"
      ],
      "text/plain": [
       "/home/justinleong/Desktop/CTLT_MOOC_analysis/metric/testauto.ipynb"
      ]
     },
     "metadata": {},
     "output_type": "display_data"
    },
    {
     "data": {
      "text/html": [
       "<a href='./assets/UBCx__Water201x_2__2T2015.ipynb' target='_blank'>./assets/UBCx__Water201x_2__2T2015.ipynb</a><br>"
      ],
      "text/plain": [
       "/home/justinleong/Desktop/CTLT_MOOC_analysis/metric/assets/UBCx__Water201x_2__2T2015.ipynb"
      ]
     },
     "metadata": {},
     "output_type": "display_data"
    },
    {
     "data": {
      "text/html": [
       "<a href='testauto.ipynb' target='_blank'>testauto.ipynb</a><br>"
      ],
      "text/plain": [
       "/home/justinleong/Desktop/CTLT_MOOC_analysis/metric/testauto.ipynb"
      ]
     },
     "metadata": {},
     "output_type": "display_data"
    },
    {
     "data": {
      "text/html": [
       "<a href='./assets/UBCx__Water201x__3T2014.ipynb' target='_blank'>./assets/UBCx__Water201x__3T2014.ipynb</a><br>"
      ],
      "text/plain": [
       "/home/justinleong/Desktop/CTLT_MOOC_analysis/metric/assets/UBCx__Water201x__3T2014.ipynb"
      ]
     },
     "metadata": {},
     "output_type": "display_data"
    },
    {
     "data": {
      "text/html": [
       "<a href='testauto.ipynb' target='_blank'>testauto.ipynb</a><br>"
      ],
      "text/plain": [
       "/home/justinleong/Desktop/CTLT_MOOC_analysis/metric/testauto.ipynb"
      ]
     },
     "metadata": {},
     "output_type": "display_data"
    },
    {
     "data": {
      "text/html": [
       "<a href='./assets/UBCx__PSYC_1x__3T2016.ipynb' target='_blank'>./assets/UBCx__PSYC_1x__3T2016.ipynb</a><br>"
      ],
      "text/plain": [
       "/home/justinleong/Desktop/CTLT_MOOC_analysis/metric/assets/UBCx__PSYC_1x__3T2016.ipynb"
      ]
     },
     "metadata": {},
     "output_type": "display_data"
    },
    {
     "data": {
      "text/html": [
       "<a href='testauto.ipynb' target='_blank'>testauto.ipynb</a><br>"
      ],
      "text/plain": [
       "/home/justinleong/Desktop/CTLT_MOOC_analysis/metric/testauto.ipynb"
      ]
     },
     "metadata": {},
     "output_type": "display_data"
    },
    {
     "data": {
      "text/html": [
       "<a href='./assets/UBCx__China300_1x__3T2015.ipynb' target='_blank'>./assets/UBCx__China300_1x__3T2015.ipynb</a><br>"
      ],
      "text/plain": [
       "/home/justinleong/Desktop/CTLT_MOOC_analysis/metric/assets/UBCx__China300_1x__3T2015.ipynb"
      ]
     },
     "metadata": {},
     "output_type": "display_data"
    },
    {
     "data": {
      "text/html": [
       "<a href='testauto.ipynb' target='_blank'>testauto.ipynb</a><br>"
      ],
      "text/plain": [
       "/home/justinleong/Desktop/CTLT_MOOC_analysis/metric/testauto.ipynb"
      ]
     },
     "metadata": {},
     "output_type": "display_data"
    },
    {
     "data": {
      "text/html": [
       "<a href='./assets/UBCx__China300_1x__1T2016.ipynb' target='_blank'>./assets/UBCx__China300_1x__1T2016.ipynb</a><br>"
      ],
      "text/plain": [
       "/home/justinleong/Desktop/CTLT_MOOC_analysis/metric/assets/UBCx__China300_1x__1T2016.ipynb"
      ]
     },
     "metadata": {},
     "output_type": "display_data"
    },
    {
     "data": {
      "text/html": [
       "<a href='testauto.ipynb' target='_blank'>testauto.ipynb</a><br>"
      ],
      "text/plain": [
       "/home/justinleong/Desktop/CTLT_MOOC_analysis/metric/testauto.ipynb"
      ]
     },
     "metadata": {},
     "output_type": "display_data"
    },
    {
     "data": {
      "text/html": [
       "<a href='./assets/UBCx__China300_2x__3T2015.ipynb' target='_blank'>./assets/UBCx__China300_2x__3T2015.ipynb</a><br>"
      ],
      "text/plain": [
       "/home/justinleong/Desktop/CTLT_MOOC_analysis/metric/assets/UBCx__China300_2x__3T2015.ipynb"
      ]
     },
     "metadata": {},
     "output_type": "display_data"
    },
    {
     "data": {
      "text/html": [
       "<a href='testauto.ipynb' target='_blank'>testauto.ipynb</a><br>"
      ],
      "text/plain": [
       "/home/justinleong/Desktop/CTLT_MOOC_analysis/metric/testauto.ipynb"
      ]
     },
     "metadata": {},
     "output_type": "display_data"
    },
    {
     "data": {
      "text/html": [
       "<a href='./assets/UBCx__China300_2x__1T2016.ipynb' target='_blank'>./assets/UBCx__China300_2x__1T2016.ipynb</a><br>"
      ],
      "text/plain": [
       "/home/justinleong/Desktop/CTLT_MOOC_analysis/metric/assets/UBCx__China300_2x__1T2016.ipynb"
      ]
     },
     "metadata": {},
     "output_type": "display_data"
    },
    {
     "data": {
      "text/html": [
       "<a href='testauto.ipynb' target='_blank'>testauto.ipynb</a><br>"
      ],
      "text/plain": [
       "/home/justinleong/Desktop/CTLT_MOOC_analysis/metric/testauto.ipynb"
      ]
     },
     "metadata": {},
     "output_type": "display_data"
    },
    {
     "data": {
      "text/html": [
       "<a href='./assets/UBCx__Climate101x__3T2015.ipynb' target='_blank'>./assets/UBCx__Climate101x__3T2015.ipynb</a><br>"
      ],
      "text/plain": [
       "/home/justinleong/Desktop/CTLT_MOOC_analysis/metric/assets/UBCx__Climate101x__3T2015.ipynb"
      ]
     },
     "metadata": {},
     "output_type": "display_data"
    },
    {
     "data": {
      "text/html": [
       "<a href='testauto.ipynb' target='_blank'>testauto.ipynb</a><br>"
      ],
      "text/plain": [
       "/home/justinleong/Desktop/CTLT_MOOC_analysis/metric/testauto.ipynb"
      ]
     },
     "metadata": {},
     "output_type": "display_data"
    },
    {
     "data": {
      "text/html": [
       "<a href='./assets/UBCx__Climate1x__1T2016.ipynb' target='_blank'>./assets/UBCx__Climate1x__1T2016.ipynb</a><br>"
      ],
      "text/plain": [
       "/home/justinleong/Desktop/CTLT_MOOC_analysis/metric/assets/UBCx__Climate1x__1T2016.ipynb"
      ]
     },
     "metadata": {},
     "output_type": "display_data"
    },
    {
     "data": {
      "text/html": [
       "<a href='testauto.ipynb' target='_blank'>testauto.ipynb</a><br>"
      ],
      "text/plain": [
       "/home/justinleong/Desktop/CTLT_MOOC_analysis/metric/testauto.ipynb"
      ]
     },
     "metadata": {},
     "output_type": "display_data"
    },
    {
     "data": {
      "text/html": [
       "<a href='./assets/UBCx__Climate1x__2T2016.ipynb' target='_blank'>./assets/UBCx__Climate1x__2T2016.ipynb</a><br>"
      ],
      "text/plain": [
       "/home/justinleong/Desktop/CTLT_MOOC_analysis/metric/assets/UBCx__Climate1x__2T2016.ipynb"
      ]
     },
     "metadata": {},
     "output_type": "display_data"
    },
    {
     "data": {
      "text/html": [
       "<a href='testauto.ipynb' target='_blank'>testauto.ipynb</a><br>"
      ],
      "text/plain": [
       "/home/justinleong/Desktop/CTLT_MOOC_analysis/metric/testauto.ipynb"
      ]
     },
     "metadata": {},
     "output_type": "display_data"
    },
    {
     "data": {
      "text/html": [
       "<a href='./assets/UBCx__Forest222x__1T2015.ipynb' target='_blank'>./assets/UBCx__Forest222x__1T2015.ipynb</a><br>"
      ],
      "text/plain": [
       "/home/justinleong/Desktop/CTLT_MOOC_analysis/metric/assets/UBCx__Forest222x__1T2015.ipynb"
      ]
     },
     "metadata": {},
     "output_type": "display_data"
    },
    {
     "data": {
      "text/html": [
       "<a href='testauto.ipynb' target='_blank'>testauto.ipynb</a><br>"
      ],
      "text/plain": [
       "/home/justinleong/Desktop/CTLT_MOOC_analysis/metric/testauto.ipynb"
      ]
     },
     "metadata": {},
     "output_type": "display_data"
    },
    {
     "data": {
      "text/html": [
       "<a href='./assets/UBCx__CW1_1x__1T2016.ipynb' target='_blank'>./assets/UBCx__CW1_1x__1T2016.ipynb</a><br>"
      ],
      "text/plain": [
       "/home/justinleong/Desktop/CTLT_MOOC_analysis/metric/assets/UBCx__CW1_1x__1T2016.ipynb"
      ]
     },
     "metadata": {},
     "output_type": "display_data"
    },
    {
     "data": {
      "text/html": [
       "<a href='testauto.ipynb' target='_blank'>testauto.ipynb</a><br>"
      ],
      "text/plain": [
       "/home/justinleong/Desktop/CTLT_MOOC_analysis/metric/testauto.ipynb"
      ]
     },
     "metadata": {},
     "output_type": "display_data"
    },
    {
     "data": {
      "text/html": [
       "<a href='./assets/UBCx__Marketing1x__3T2015.ipynb' target='_blank'>./assets/UBCx__Marketing1x__3T2015.ipynb</a><br>"
      ],
      "text/plain": [
       "/home/justinleong/Desktop/CTLT_MOOC_analysis/metric/assets/UBCx__Marketing1x__3T2015.ipynb"
      ]
     },
     "metadata": {},
     "output_type": "display_data"
    },
    {
     "data": {
      "text/html": [
       "<a href='testauto.ipynb' target='_blank'>testauto.ipynb</a><br>"
      ],
      "text/plain": [
       "/home/justinleong/Desktop/CTLT_MOOC_analysis/metric/testauto.ipynb"
      ]
     },
     "metadata": {},
     "output_type": "display_data"
    },
    {
     "data": {
      "text/html": [
       "<a href='./assets/UBCx__Marketing5501x__2T2015.ipynb' target='_blank'>./assets/UBCx__Marketing5501x__2T2015.ipynb</a><br>"
      ],
      "text/plain": [
       "/home/justinleong/Desktop/CTLT_MOOC_analysis/metric/assets/UBCx__Marketing5501x__2T2015.ipynb"
      ]
     },
     "metadata": {},
     "output_type": "display_data"
    },
    {
     "data": {
      "text/html": [
       "<a href='testauto.ipynb' target='_blank'>testauto.ipynb</a><br>"
      ],
      "text/plain": [
       "/home/justinleong/Desktop/CTLT_MOOC_analysis/metric/testauto.ipynb"
      ]
     },
     "metadata": {},
     "output_type": "display_data"
    },
    {
     "data": {
      "text/html": [
       "<a href='./assets/UBCx__ITSx__2T2015.ipynb' target='_blank'>./assets/UBCx__ITSx__2T2015.ipynb</a><br>"
      ],
      "text/plain": [
       "/home/justinleong/Desktop/CTLT_MOOC_analysis/metric/assets/UBCx__ITSx__2T2015.ipynb"
      ]
     },
     "metadata": {},
     "output_type": "display_data"
    },
    {
     "data": {
      "text/html": [
       "<a href='testauto.ipynb' target='_blank'>testauto.ipynb</a><br>"
      ],
      "text/plain": [
       "/home/justinleong/Desktop/CTLT_MOOC_analysis/metric/testauto.ipynb"
      ]
     },
     "metadata": {},
     "output_type": "display_data"
    },
    {
     "data": {
      "text/html": [
       "<a href='./assets/UBCx__Phot1x__2T2015.ipynb' target='_blank'>./assets/UBCx__Phot1x__2T2015.ipynb</a><br>"
      ],
      "text/plain": [
       "/home/justinleong/Desktop/CTLT_MOOC_analysis/metric/assets/UBCx__Phot1x__2T2015.ipynb"
      ]
     },
     "metadata": {},
     "output_type": "display_data"
    },
    {
     "data": {
      "text/html": [
       "<a href='testauto.ipynb' target='_blank'>testauto.ipynb</a><br>"
      ],
      "text/plain": [
       "/home/justinleong/Desktop/CTLT_MOOC_analysis/metric/testauto.ipynb"
      ]
     },
     "metadata": {},
     "output_type": "display_data"
    },
    {
     "data": {
      "text/html": [
       "<a href='./assets/UBCx__Phot1x__3T2015.ipynb' target='_blank'>./assets/UBCx__Phot1x__3T2015.ipynb</a><br>"
      ],
      "text/plain": [
       "/home/justinleong/Desktop/CTLT_MOOC_analysis/metric/assets/UBCx__Phot1x__3T2015.ipynb"
      ]
     },
     "metadata": {},
     "output_type": "display_data"
    },
    {
     "data": {
      "text/html": [
       "<a href='testauto.ipynb' target='_blank'>testauto.ipynb</a><br>"
      ],
      "text/plain": [
       "/home/justinleong/Desktop/CTLT_MOOC_analysis/metric/testauto.ipynb"
      ]
     },
     "metadata": {},
     "output_type": "display_data"
    },
    {
     "data": {
      "text/html": [
       "<a href='./assets/UBCx__SPD1x__1T2016.ipynb' target='_blank'>./assets/UBCx__SPD1x__1T2016.ipynb</a><br>"
      ],
      "text/plain": [
       "/home/justinleong/Desktop/CTLT_MOOC_analysis/metric/assets/UBCx__SPD1x__1T2016.ipynb"
      ]
     },
     "metadata": {},
     "output_type": "display_data"
    },
    {
     "data": {
      "text/html": [
       "<a href='testauto.ipynb' target='_blank'>testauto.ipynb</a><br>"
      ],
      "text/plain": [
       "/home/justinleong/Desktop/CTLT_MOOC_analysis/metric/testauto.ipynb"
      ]
     },
     "metadata": {},
     "output_type": "display_data"
    },
    {
     "data": {
      "text/html": [
       "<a href='./assets/UBCx__SPD1x__2T2015.ipynb' target='_blank'>./assets/UBCx__SPD1x__2T2015.ipynb</a><br>"
      ],
      "text/plain": [
       "/home/justinleong/Desktop/CTLT_MOOC_analysis/metric/assets/UBCx__SPD1x__2T2015.ipynb"
      ]
     },
     "metadata": {},
     "output_type": "display_data"
    },
    {
     "data": {
      "text/html": [
       "<a href='testauto.ipynb' target='_blank'>testauto.ipynb</a><br>"
      ],
      "text/plain": [
       "/home/justinleong/Desktop/CTLT_MOOC_analysis/metric/testauto.ipynb"
      ]
     },
     "metadata": {},
     "output_type": "display_data"
    },
    {
     "data": {
      "text/html": [
       "<a href='./assets/UBCx__SPD2x__2T2015.ipynb' target='_blank'>./assets/UBCx__SPD2x__2T2015.ipynb</a><br>"
      ],
      "text/plain": [
       "/home/justinleong/Desktop/CTLT_MOOC_analysis/metric/assets/UBCx__SPD2x__2T2015.ipynb"
      ]
     },
     "metadata": {},
     "output_type": "display_data"
    },
    {
     "data": {
      "text/html": [
       "<a href='testauto.ipynb' target='_blank'>testauto.ipynb</a><br>"
      ],
      "text/plain": [
       "/home/justinleong/Desktop/CTLT_MOOC_analysis/metric/testauto.ipynb"
      ]
     },
     "metadata": {},
     "output_type": "display_data"
    },
    {
     "data": {
      "text/html": [
       "<a href='./assets/UBCx__SPD3x__3T2015.ipynb' target='_blank'>./assets/UBCx__SPD3x__3T2015.ipynb</a><br>"
      ],
      "text/plain": [
       "/home/justinleong/Desktop/CTLT_MOOC_analysis/metric/assets/UBCx__SPD3x__3T2015.ipynb"
      ]
     },
     "metadata": {},
     "output_type": "display_data"
    },
    {
     "data": {
      "text/html": [
       "<a href='testauto.ipynb' target='_blank'>testauto.ipynb</a><br>"
      ],
      "text/plain": [
       "/home/justinleong/Desktop/CTLT_MOOC_analysis/metric/testauto.ipynb"
      ]
     },
     "metadata": {},
     "output_type": "display_data"
    },
    {
     "name": "stdout",
     "output_type": "stream",
     "text": [
      "Error executing the notebook \"testauto\".\n",
      "\n",
      "See notebook \"./assets/UBCx__ReligionX__1T2017.ipynb\" for the traceback.\n"
     ]
    },
    {
     "data": {
      "text/html": [
       "<a href='./assets/UBCx__ReligionX__1T2017.ipynb' target='_blank'>./assets/UBCx__ReligionX__1T2017.ipynb</a><br>"
      ],
      "text/plain": [
       "/home/justinleong/Desktop/CTLT_MOOC_analysis/metric/assets/UBCx__ReligionX__1T2017.ipynb"
      ]
     },
     "metadata": {},
     "output_type": "display_data"
    },
    {
     "name": "stdout",
     "output_type": "stream",
     "text": [
      "ayy\n"
     ]
    },
    {
     "data": {
      "text/html": [
       "<a href='testauto.ipynb' target='_blank'>testauto.ipynb</a><br>"
      ],
      "text/plain": [
       "/home/justinleong/Desktop/CTLT_MOOC_analysis/metric/testauto.ipynb"
      ]
     },
     "metadata": {},
     "output_type": "display_data"
    },
    {
     "data": {
      "text/html": [
       "<a href='./assets/UBCx__Water201x_2__2T2015.ipynb' target='_blank'>./assets/UBCx__Water201x_2__2T2015.ipynb</a><br>"
      ],
      "text/plain": [
       "/home/justinleong/Desktop/CTLT_MOOC_analysis/metric/assets/UBCx__Water201x_2__2T2015.ipynb"
      ]
     },
     "metadata": {},
     "output_type": "display_data"
    },
    {
     "data": {
      "text/html": [
       "<a href='testauto.ipynb' target='_blank'>testauto.ipynb</a><br>"
      ],
      "text/plain": [
       "/home/justinleong/Desktop/CTLT_MOOC_analysis/metric/testauto.ipynb"
      ]
     },
     "metadata": {},
     "output_type": "display_data"
    },
    {
     "data": {
      "text/html": [
       "<a href='./assets/UBCx__UseGen_1x__1T2016.ipynb' target='_blank'>./assets/UBCx__UseGen_1x__1T2016.ipynb</a><br>"
      ],
      "text/plain": [
       "/home/justinleong/Desktop/CTLT_MOOC_analysis/metric/assets/UBCx__UseGen_1x__1T2016.ipynb"
      ]
     },
     "metadata": {},
     "output_type": "display_data"
    },
    {
     "data": {
      "text/html": [
       "<a href='testauto.ipynb' target='_blank'>testauto.ipynb</a><br>"
      ],
      "text/plain": [
       "/home/justinleong/Desktop/CTLT_MOOC_analysis/metric/testauto.ipynb"
      ]
     },
     "metadata": {},
     "output_type": "display_data"
    },
    {
     "name": "stdout",
     "output_type": "stream",
     "text": [
      "Error executing the notebook \"testauto\".\n",
      "\n",
      "See notebook \"./assets/UBCx__UseGen_1x__3T2015.ipynb\" for the traceback.\n"
     ]
    },
    {
     "data": {
      "text/html": [
       "<a href='./assets/UBCx__UseGen_1x__3T2015.ipynb' target='_blank'>./assets/UBCx__UseGen_1x__3T2015.ipynb</a><br>"
      ],
      "text/plain": [
       "/home/justinleong/Desktop/CTLT_MOOC_analysis/metric/assets/UBCx__UseGen_1x__3T2015.ipynb"
      ]
     },
     "metadata": {},
     "output_type": "display_data"
    },
    {
     "name": "stdout",
     "output_type": "stream",
     "text": [
      "ayy\n"
     ]
    },
    {
     "data": {
      "text/html": [
       "<a href='testauto.ipynb' target='_blank'>testauto.ipynb</a><br>"
      ],
      "text/plain": [
       "/home/justinleong/Desktop/CTLT_MOOC_analysis/metric/testauto.ipynb"
      ]
     },
     "metadata": {},
     "output_type": "display_data"
    },
    {
     "data": {
      "text/html": [
       "<a href='./assets/UBCx__UseGen_2x__1T2016.ipynb' target='_blank'>./assets/UBCx__UseGen_2x__1T2016.ipynb</a><br>"
      ],
      "text/plain": [
       "/home/justinleong/Desktop/CTLT_MOOC_analysis/metric/assets/UBCx__UseGen_2x__1T2016.ipynb"
      ]
     },
     "metadata": {},
     "output_type": "display_data"
    },
    {
     "data": {
      "text/html": [
       "<a href='testauto.ipynb' target='_blank'>testauto.ipynb</a><br>"
      ],
      "text/plain": [
       "/home/justinleong/Desktop/CTLT_MOOC_analysis/metric/testauto.ipynb"
      ]
     },
     "metadata": {},
     "output_type": "display_data"
    },
    {
     "data": {
      "text/html": [
       "<a href='./assets/UBCx__UseGen_2x__3T2015.ipynb' target='_blank'>./assets/UBCx__UseGen_2x__3T2015.ipynb</a><br>"
      ],
      "text/plain": [
       "/home/justinleong/Desktop/CTLT_MOOC_analysis/metric/assets/UBCx__UseGen_2x__3T2015.ipynb"
      ]
     },
     "metadata": {},
     "output_type": "display_data"
    },
    {
     "data": {
      "text/html": [
       "<a href='testauto.ipynb' target='_blank'>testauto.ipynb</a><br>"
      ],
      "text/plain": [
       "/home/justinleong/Desktop/CTLT_MOOC_analysis/metric/testauto.ipynb"
      ]
     },
     "metadata": {},
     "output_type": "display_data"
    },
    {
     "name": "stdout",
     "output_type": "stream",
     "text": [
      "Error executing the notebook \"testauto\".\n",
      "\n",
      "See notebook \"./assets/UBCx__China300_1x__1T2016', 'UBCx__IndEdu200x__3T2015', #'UBCx__BIOB01__2015W2',\n",
      "    'UBC__CIVL200__2015WA',\n",
      "    'UBC__CPEN211__1T2015',\n",
      "    'UBC__CPEN411__2015W1',\n",
      "    'UBC__CPSC110__2015W1',\n",
      "    'UBC__IndEduSI1__2015_S1',\n",
      "    'UBC__LAW281__2015W1',\n",
      "    'UBC__PHYS546__2015W1',\n",
      "    'UBCx__BlendedLearning101__2015',\n",
      "    'UBCx__CIVL498A__2015W1',\n",
      "    'UBCx__CLSx__2015',\n",
      "    'UBCx__EECE259__2015',\n",
      "    'UBCx__EECE311Sec001__2015W1',\n",
      "    'UBCx__ETEC565a_b__2015',\n",
      "    'UBCx__ISB1__2015',\n",
      "    'UBCx__ITSx__2015',\n",
      "    'UBCx__LIBR_ITL__2015',\n",
      "    'UBCx__MS101__2015_T1',\n",
      "    'UBCx__NJR101__2015W2',\n",
      "    'UBCx__PHYS100__2015W1',\n",
      "    'UBCx__POLI360A_003__2015W1',\n",
      "    'UBCx__POLI369T__2015W1',\n",
      "    'UBCx__POLI377APSC377__2015W1',\n",
      "    'UBCx__PSYC101__2015W1',\n",
      "    'UBCx__PSYCx__2015',\n",
      "    'UBCx__URO__2015',\n",
      "    'UBCx__UsefulGeneticsx__2015W1',\n",
      "    'UBCx__CPEN221__2015W1',    \n",
      "    'UBC__CPSC210__2015W2',\n",
      "    'UBCx__TOC01__2015W2',\n",
      "    'UBC__ELEC413__201__2015W2',\n",
      "    'UBC__ELEC463__201__2015W2',\n",
      "    'UBC__FSP_01__2015W2',\n",
      "    'UBC__APFN0001__2015W2',\n",
      "    'UBC__APFN0002__2015W2',\n",
      "    'UBC__APFN0003__2015W2',\n",
      "    'UBC__APFN0004__2015W2',\n",
      "    'UBC__APFN0005__2015W2',\n",
      "    'UBC__APFN0006__2015W2',\n",
      "    'UBC__APFN_Cafe__2015W2',.ipynb\" for the traceback.\n",
      "ayy\n"
     ]
    }
   ],
   "source": [
    "for data_id in (\n",
    "    \n",
    "    'UBC__CPEN221__2016W1',\n",
    "    'UBC__CPSC110__2015W1',\n",
    "    'UBC__CPSC110__2016S',\n",
    "    'UBC__CPSC110__2016W1',\n",
    "    'UBC__ELEC463_101__2016W1',\n",
    "    'UBC__IndEduSI1__2015_S1',\n",
    "    'UBC__PHYS100_98A__2016SA',\n",
    "    'UBC__POLI377APSC377__2016W1',\n",
    "    'UBC__WOOD491_201__2016W2',    \n",
    "    'UBCx__Biobank1x__1T2017',\n",
    "    'UBCx__China300_1x__1T2016',    \n",
    "    'UBCx__China300_1x__3T2015',    \n",
    "    'UBCx__China300_2x__1T2016',\n",
    "    'UBCx__China300_2x__3T2015',    \n",
    "    'UBCx__China300x__3T2014',    \n",
    "    'UBCx__Climate1x__1T2016',\n",
    "    'UBCx__Climate1x__2T2016',\n",
    "    'UBCx__Climate101x__3T2015',\n",
    "    'UBCx__CW1_1x__1T2016',    \n",
    "    'UBCx__CW1_1x__3T2016',    \n",
    "    'UBCx__CW1_2x__1T2016',\n",
    "    'UBCx__CW1_2x__3T2016',    \n",
    "    'UBCx__FamBiz1x__1T2017',\n",
    "    'UBCx__Forest222x__1T2015',    \n",
    "    'UBCx__IndEdu200x__1T2015',\n",
    "    'UBCx__IndEdu200x__3T2015',    \n",
    "    'UBCx__ITSx__1T2016',    \n",
    "    'UBCx__ITSx__2T2015',\n",
    "    'UBCx__ITSx__3T2016',    \n",
    "    'UBCx__Marketing1x__3T2015',    \n",
    "    'UBCx__Marketing5501x__2T2015',    \n",
    "    'UBCx__Phot1x__1T2016',    \n",
    "    'UBCx__Phot1x__2T2015',    \n",
    "    'UBCx__Phot1x__3T2015',    \n",
    "    'UBCx__Phot1x__3T2016',        \n",
    "    'UBCx__PHYS100__2015W1',        \n",
    "    'UBCx__PSYC_1x__3T2016',    \n",
    "    'UBCx__PSYC_2x__3T2016',    \n",
    "    'UBCx__PSYC_3x__3T2016',    \n",
    "    'UBCx__PSYC_4x__1T2017',    \n",
    "    'UBCx__PSYC_5x__1T2017',            \n",
    "    'UBCx__SPD1x__1T2016',    \n",
    "    'UBCx__SPD1x__2T2015',    \n",
    "    'UBCx__SPD1x__2T2016',    \n",
    "    'UBCx__SPD2x__2T2015',    \n",
    "    'UBCx__SPD2x__2T2016',        \n",
    "    'UBCx__SPD3x__2T2016',    \n",
    "    'UBCx__SPD3x__2T2015',    \n",
    "    'UBCx__UseGen_1x__1T2016',    \n",
    "    'UBCx__UseGen_1x__3T2015',    \n",
    "    'UBCx__UseGen_2x__1T2016',    \n",
    "    'UBCx__UseGen_2x__3T2015',    \n",
    "    'UBCx__Water201x_2__2T2015',    \n",
    "    'UBCx__Water201x__3T2014',\n",
    "                   ):\n",
    "    nb_kwargs = {'course_id': data_id}\n",
    "    #execute_kwargs = {'ExecutePreprocessor.kernel_name' : 'python'}\n",
    "    try:\n",
    "        run_notebook(nb_name, nb_suffix='%s' % (data_id), nb_kwargs=nb_kwargs)\n",
    "    except:\n",
    "        print('ayy')"
   ]
  },
  {
   "cell_type": "code",
   "execution_count": null,
   "metadata": {
    "collapsed": true
   },
   "outputs": [],
   "source": []
  }
 ],
 "metadata": {
  "kernelspec": {
   "display_name": "Python [Root]",
   "language": "python",
   "name": "Python [Root]"
  },
  "language_info": {
   "codemirror_mode": {
    "name": "ipython",
    "version": 2
   },
   "file_extension": ".py",
   "mimetype": "text/x-python",
   "name": "python",
   "nbconvert_exporter": "python",
   "pygments_lexer": "ipython2",
   "version": "2.7.12"
  }
 },
 "nbformat": 4,
 "nbformat_minor": 0
}
